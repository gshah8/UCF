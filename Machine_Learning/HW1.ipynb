{
  "nbformat": 4,
  "nbformat_minor": 0,
  "metadata": {
    "colab": {
      "name": "HW1.ipynb",
      "version": "0.3.2",
      "provenance": [],
      "include_colab_link": true
    },
    "kernelspec": {
      "name": "python3",
      "display_name": "Python 3"
    },
    "accelerator": "GPU"
  },
  "cells": [
    {
      "cell_type": "markdown",
      "metadata": {
        "id": "view-in-github",
        "colab_type": "text"
      },
      "source": [
        "<a href=\"https://colab.research.google.com/github/gshah8/UCF/blob/master/Machine_Learning/HW1.ipynb\" target=\"_parent\"><img src=\"https://colab.research.google.com/assets/colab-badge.svg\" alt=\"Open In Colab\"/></a>"
      ]
    },
    {
      "metadata": {
        "id": "KMwRoxS15IAB",
        "colab_type": "text"
      },
      "cell_type": "markdown",
      "source": [
        "# HW 1 \n",
        "\n",
        "This homework will get you up to speed with Python programming, numpy, matplotlib, Keras, gradients, partial derivatives, git, GitHub, Google's colaboratory etc. Have fun!\n",
        "\n",
        "For this homework, you will create neural networks with an input layer and an output layer without any hidden layers. The connections are dense: each input neuron is connected to each output neuron.\n",
        "\n",
        "Instructions for problems 1 and 2:\n",
        "- Load the training and test data using Keras, no validation set needed.\n",
        "- Train 10 classifiers that perform binary classification: *Is the input image the digit i or is it a digit different from i?* Each of the ten classifiers has an input layer consisting of 28 x 28 input neurons and an output layer consisting of a single output neuron.\n",
        "- Implement mini-batch stochastic gradient descent using only numpy, that is, you are not allowed to use TensorFlow/Keras for SGD.\n",
        "- Use ```argmax``` to determine the classifier with the strongest output and declare the corresponding digit as output.\n",
        "\n"
      ]
    },
    {
      "metadata": {
        "id": "NLvuXGliw477",
        "colab_type": "text"
      },
      "cell_type": "markdown",
      "source": [
        "\n",
        "###Loading data forall problems here"
      ]
    },
    {
      "metadata": {
        "id": "VAz7FzJqxSul",
        "colab_type": "code",
        "outputId": "72efd6af-afc4-4066-ee49-e3b29b5691c9",
        "colab": {
          "base_uri": "https://localhost:8080/",
          "height": 35
        }
      },
      "cell_type": "code",
      "source": [
        "from keras.datasets import mnist\n",
        "import numpy as np\n",
        "import matplotlib.pyplot as plt\n",
        "from keras.utils import to_categorical\n",
        "from keras import models\n",
        "from keras import layers\n",
        "\n",
        "(train_images_original, train_labels_original), (test_images_original, test_labels_original) = mnist.load_data()\n",
        "#print(train_labels_original.shape)"
      ],
      "execution_count": 0,
      "outputs": [
        {
          "output_type": "stream",
          "text": [
            "Using TensorFlow backend.\n"
          ],
          "name": "stderr"
        }
      ]
    },
    {
      "metadata": {
        "id": "t-MVyXrIq0De",
        "colab_type": "text"
      },
      "cell_type": "markdown",
      "source": [
        "###Functions and global variables to be used throughout the homework"
      ]
    },
    {
      "metadata": {
        "id": "oukl0-J44ebU",
        "colab_type": "code",
        "colab": {}
      },
      "cell_type": "code",
      "source": [
        "m = 60000\n",
        "n = 10000\n",
        "image_size = 28*28\n",
        "\n",
        "#Function for one-hot encoding\n",
        "def one_hot_encoding(train_labels, test_labels):\n",
        "  for i in range(m):\n",
        "    train_labels[i][train_labels_original[i]] = 1\n",
        "  for i in range(n):\n",
        "    test_labels[i][test_labels_original[i]] = 1\n",
        "  return train_labels, test_labels\n",
        "    \n",
        "\n",
        "#This function is called in Problems 1, 2 and 3\n",
        "#This function reshapes, normalizes and adds biases to images\n",
        "#it also performs one-hot encoding on labels\n",
        "def load_data_bias():\n",
        "  \n",
        "  #Reshape and normalize train and test images\n",
        "  train_images = train_images_original.reshape((m, image_size))\n",
        "  train_images = train_images.astype('float32') / 255\n",
        "  test_images = test_images_original.reshape((n, image_size))\n",
        "  test_images = test_images.astype('float32') / 255\n",
        "  \n",
        "  #for adding bias to train and test images\n",
        "  train_images_b = np.c_[np.ones((m, 1)), train_images]\n",
        "  test_images_b = np.c_[np.ones((n, 1)), test_images]\n",
        "  \n",
        "  train_labels = np.zeros((m,10))\n",
        "  test_labels = np.zeros((n,10))\n",
        "  \n",
        "  #one-hot encoding for labels\n",
        "  train_labels, test_labels = one_hot_encoding(train_labels, test_labels)\n",
        "  \n",
        "  return train_images_b, train_labels,test_images_b, test_labels\n",
        "\n",
        "\n",
        "def sigmoid(z):\n",
        "  ans = 1/(1+np.exp(-z))\n",
        "  return ans\n",
        "\n",
        "def softmax(z, batch_size):\n",
        "  max_func = np.max(z,axis=1).reshape((batch_size,1))\n",
        "  z_exp=np.exp(z-max_func)\n",
        "  total=np.sum(z_exp,axis=1)\n",
        "  return z_exp/total.reshape(batch_size,1)\n"
      ],
      "execution_count": 0,
      "outputs": []
    },
    {
      "metadata": {
        "id": "spr8mEbwxEIf",
        "colab_type": "text"
      },
      "cell_type": "markdown",
      "source": [
        "## Problem 1\n",
        "Use logistic regression with mean squared error loss."
      ]
    },
    {
      "metadata": {
        "id": "4XwQkWl55lCZ",
        "colab_type": "code",
        "colab": {}
      },
      "cell_type": "code",
      "source": [
        "train_images_b, train_labels,test_images_b, test_labels = load_data_bias()"
      ],
      "execution_count": 0,
      "outputs": []
    },
    {
      "metadata": {
        "id": "xAG0QHmp96qh",
        "colab_type": "code",
        "colab": {}
      },
      "cell_type": "code",
      "source": [
        "#Initialize weight and weight_10 for 10 classifiers\n",
        "np.random.seed(42)\n",
        "initial_weight=np.zeros((image_size+1,1))\n",
        "weight_10=np.zeros((image_size+1,10))   #weight_10 will store the weights of all 10 classifiers"
      ],
      "execution_count": 0,
      "outputs": []
    },
    {
      "metadata": {
        "id": "bmCLK_zjCxcY",
        "colab_type": "code",
        "colab": {}
      },
      "cell_type": "code",
      "source": [
        "epochs = 20\n",
        "lr = 0.01\n",
        "batch_size = 40\n",
        "classifiers = 10\n",
        "\n",
        "for j in range(classifiers):\n",
        "  weight = initial_weight\n",
        "  for epoch in range(epochs):\n",
        "    shuffled_indices = np.random.permutation(m)\n",
        "    train_images_b_shuffled = train_images_b[shuffled_indices]\n",
        "    train_labels_shuffled = train_labels[:,j][shuffled_indices]   \n",
        "    for i in range(0,m,batch_size):\n",
        "      x_i = train_images_b_shuffled[i:i+batch_size]\n",
        "      y_i = train_labels_shuffled[i:i+batch_size]\n",
        "      y_i = y_i.reshape((y_i.size,1))\n",
        "      z = x_i.dot(weight)\n",
        "      a = sigmoid(z)\n",
        "      dlda = a-y_i\n",
        "      dadz=a*(1-a)\n",
        "      dzdw = x_i\n",
        "      gradient = 1/batch_size * x_i.T.dot(dadz*dlda)  #gradient based on mean-squared error loss function\n",
        "      weight = weight - lr * gradient    #update weights\n",
        "  weight_10[:,j] = weight.reshape(image_size+1,)\n",
        "  "
      ],
      "execution_count": 0,
      "outputs": []
    },
    {
      "metadata": {
        "id": "3H-ED-RC5n5z",
        "colab_type": "code",
        "outputId": "2b403406-78fa-4763-a30b-5f6546065aa9",
        "colab": {
          "base_uri": "https://localhost:8080/",
          "height": 208
        }
      },
      "cell_type": "code",
      "source": [
        "#calculate accuracy of model on the entire training data\n",
        "z_train = train_images_b.dot(weight_10)\n",
        "a_train = sigmoid(z_train)\n",
        "\n",
        "mylabels=np.argmax(a_train,axis=1)\n",
        "print(\"Precision of the model (containing all classifers) on the Training Data\")\n",
        "for i in range(10):\n",
        "  label_i=train_labels_original==i\n",
        "  total_i=sum(label_i)\n",
        "  mytotal=mylabels[label_i]\n",
        "  mytotalok=sum(mytotal==i)\n",
        "  print(\"Digit \", i, \", Precision = \", mytotalok/total_i)"
      ],
      "execution_count": 0,
      "outputs": [
        {
          "output_type": "stream",
          "text": [
            "Precision of the model (containing all classifers) on the Training Data\n",
            "Digit  0 , Precision =  0.9643761607293602\n",
            "Digit  1 , Precision =  0.9669237614951053\n",
            "Digit  2 , Precision =  0.8575025176233635\n",
            "Digit  3 , Precision =  0.8556516065894634\n",
            "Digit  4 , Precision =  0.9024306744265662\n",
            "Digit  5 , Precision =  0.7760560782143516\n",
            "Digit  6 , Precision =  0.9467725582967219\n",
            "Digit  7 , Precision =  0.9037509976057462\n",
            "Digit  8 , Precision =  0.8160998119979491\n",
            "Digit  9 , Precision =  0.8561102706337199\n"
          ],
          "name": "stdout"
        }
      ]
    },
    {
      "metadata": {
        "id": "ZM8An2rSHcjj",
        "colab_type": "code",
        "outputId": "70943b3f-b3f2-4086-9cd9-b5bd3e6b705e",
        "colab": {
          "base_uri": "https://localhost:8080/",
          "height": 52
        }
      },
      "cell_type": "code",
      "source": [
        "#Calculate accuracy of model on the training data\n",
        "z_train = train_images_b.dot(weight_10)\n",
        "a_train = sigmoid(z_train)\n",
        "print(\"Total Accuracy of Model on the Training Data\")\n",
        "a_train_numb=np.argmax(a_train,axis=1)\n",
        "np.sum(a_train_numb==train_labels_original)/train_labels_original.shape[0]"
      ],
      "execution_count": 0,
      "outputs": [
        {
          "output_type": "stream",
          "text": [
            "Total Accuracy of Model on the Training Data\n"
          ],
          "name": "stdout"
        },
        {
          "output_type": "execute_result",
          "data": {
            "text/plain": [
              "0.8866333333333334"
            ]
          },
          "metadata": {
            "tags": []
          },
          "execution_count": 7
        }
      ]
    },
    {
      "metadata": {
        "id": "Qx8nkGTZomIX",
        "colab_type": "code",
        "outputId": "216de696-1630-4c44-ff2f-9163f9055bba",
        "colab": {
          "base_uri": "https://localhost:8080/",
          "height": 52
        }
      },
      "cell_type": "code",
      "source": [
        "#Calculate accuracy of model on the testing data\n",
        "z_test = test_images_b.dot(weight_10)\n",
        "a_test = sigmoid(z_test)\n",
        "print(\"Total Accuracy of Model on the Testing Data\")\n",
        "a_test_numb=np.argmax(a_test,axis=1)\n",
        "np.sum(a_test_numb==test_labels_original)/test_labels_original.shape[0]\n"
      ],
      "execution_count": 0,
      "outputs": [
        {
          "output_type": "stream",
          "text": [
            "Total Accuracy of Model on the Testing Data\n"
          ],
          "name": "stdout"
        },
        {
          "output_type": "execute_result",
          "data": {
            "text/plain": [
              "0.8943"
            ]
          },
          "metadata": {
            "tags": []
          },
          "execution_count": 8
        }
      ]
    },
    {
      "metadata": {
        "id": "bN-mUe3l9zOH",
        "colab_type": "text"
      },
      "cell_type": "markdown",
      "source": [
        "## Problem 2\n",
        "Use logistic regression with binary cross entropy loss."
      ]
    },
    {
      "metadata": {
        "id": "4q9XBuNV99LW",
        "colab_type": "code",
        "colab": {}
      },
      "cell_type": "code",
      "source": [
        "train_images_b, train_labels,test_images_b, test_labels = load_data_bias()"
      ],
      "execution_count": 0,
      "outputs": []
    },
    {
      "metadata": {
        "id": "itV4R78M71TF",
        "colab_type": "code",
        "colab": {}
      },
      "cell_type": "code",
      "source": [
        "#Initialize weight and weight_10 for 10 classifiers\n",
        "np.random.seed(42)\n",
        "initial_weight=np.zeros((image_size+1,1))\n",
        "weight_10=np.zeros((image_size+1,10))    #weight_10 will store the weights of all 10 classifiers"
      ],
      "execution_count": 0,
      "outputs": []
    },
    {
      "metadata": {
        "id": "mEJA8tTk75OG",
        "colab_type": "code",
        "colab": {}
      },
      "cell_type": "code",
      "source": [
        "epochs = 10\n",
        "lr = 0.01\n",
        "batch_size = 40\n",
        "classifiers = 10\n",
        "\n",
        "for j in range(classifiers):\n",
        "  weight = initial_weight\n",
        "  for epoch in range(epochs):\n",
        "    shuffled_indices = np.random.permutation(m)\n",
        "    train_images_b_shuffled = train_images_b[shuffled_indices]\n",
        "    train_labels_shuffled = train_labels[:,j][shuffled_indices]   \n",
        "    for i in range(0,m,batch_size):\n",
        "      x_i = train_images_b_shuffled[i:i+batch_size]\n",
        "      y_i = train_labels_shuffled[i:i+batch_size]\n",
        "      y_i = y_i.reshape((y_i.size,1))\n",
        "      z = x_i.dot(weight)\n",
        "      a = sigmoid(z)\n",
        "      dlda = a-y_i\n",
        "      dadz=a*(1-a)\n",
        "      dzdw = x_i\n",
        "      gradient = 1/batch_size * x_i.T.dot(a - y_i)   #gradient based on binary cross-entropy loss function\n",
        "      weight = weight - lr * gradient  #update weights\n",
        "  weight_10[:,j] = weight.reshape(image_size+1,)"
      ],
      "execution_count": 0,
      "outputs": []
    },
    {
      "metadata": {
        "id": "PfaoTj-_8DY-",
        "colab_type": "code",
        "outputId": "288a0474-6530-4ba4-f880-3a8448b1c27b",
        "colab": {
          "base_uri": "https://localhost:8080/",
          "height": 52
        }
      },
      "cell_type": "code",
      "source": [
        "#Calculate accuracy of model on the training data\n",
        "z_train = train_images_b.dot(weight_10)\n",
        "a_train = sigmoid(z_train)\n",
        "print(\"Total Accuracy of Model on the Training Data\")\n",
        "a_train_numb=np.argmax(a_train,axis=1)\n",
        "np.sum(a_train_numb==train_labels_original)/train_labels_original.shape[0]"
      ],
      "execution_count": 0,
      "outputs": [
        {
          "output_type": "stream",
          "text": [
            "Total Accuracy of Model on the Training Data\n"
          ],
          "name": "stdout"
        },
        {
          "output_type": "execute_result",
          "data": {
            "text/plain": [
              "0.8990833333333333"
            ]
          },
          "metadata": {
            "tags": []
          },
          "execution_count": 12
        }
      ]
    },
    {
      "metadata": {
        "id": "-POCx5xi8EH-",
        "colab_type": "code",
        "outputId": "001fd126-11eb-433a-b867-2ef41c213295",
        "colab": {
          "base_uri": "https://localhost:8080/",
          "height": 52
        }
      },
      "cell_type": "code",
      "source": [
        "#Calculate accuracy of model on the testing data\n",
        "z_test = test_images_b.dot(weight_10)\n",
        "a_test = sigmoid(z_test)\n",
        "print(\"Total Accuracy of Model on the Testing Data\")\n",
        "a_test_numb=np.argmax(a_test,axis=1)\n",
        "np.sum(a_test_numb==test_labels_original)/test_labels_original.shape[0]"
      ],
      "execution_count": 0,
      "outputs": [
        {
          "output_type": "stream",
          "text": [
            "Total Accuracy of Model on the Testing Data\n"
          ],
          "name": "stdout"
        },
        {
          "output_type": "execute_result",
          "data": {
            "text/plain": [
              "0.9061"
            ]
          },
          "metadata": {
            "tags": []
          },
          "execution_count": 13
        }
      ]
    },
    {
      "metadata": {
        "id": "7ctzMUL6-MZP",
        "colab_type": "text"
      },
      "cell_type": "markdown",
      "source": [
        "## Problem 3\n",
        "- Load the training and test data using Keras, no validation set needed.\n",
        "- Create network with an input layer consisting of 28 x 28 input neurons and an output layer consisting of 10 output neurons.\n",
        "- Use softmax and categorical cross entropy loss.\n",
        "- Implement mini-batch stochastic gradient descent using only numpy, that is, you are not allowed to use TensorFlow/Keras for SGD."
      ]
    },
    {
      "metadata": {
        "id": "Z8Ou1ZeEZpEj",
        "colab_type": "code",
        "colab": {}
      },
      "cell_type": "code",
      "source": [
        "train_images_b, train_labels,test_images_b, test_labels = load_data_bias()"
      ],
      "execution_count": 0,
      "outputs": []
    },
    {
      "metadata": {
        "id": "uw_DcCKeatQK",
        "colab_type": "code",
        "colab": {}
      },
      "cell_type": "code",
      "source": [
        "np.random.seed(42)\n",
        "initial_weight = np.zeros((image_size+1,10))\n",
        "weight_path_mgd = []"
      ],
      "execution_count": 0,
      "outputs": []
    },
    {
      "metadata": {
        "id": "Owj522VEOwHZ",
        "colab_type": "code",
        "colab": {}
      },
      "cell_type": "code",
      "source": [
        "epochs = 10\n",
        "lr = 0.01\n",
        "batch_size = 40\n",
        "weight = initial_weight\n",
        "weight_path_mgd.append(weight)\n",
        "for epoch in range(epochs):\n",
        "    shuffled_indices = np.random.permutation(m)\n",
        "    train_images_b_shuffled = train_images_b[shuffled_indices]\n",
        "    train_labels_shuffled = train_labels[shuffled_indices]\n",
        "    for i in range(0, m, batch_size):\n",
        "      x_i = train_images_b_shuffled[i:i+batch_size]\n",
        "      y_i = train_labels_shuffled[i:i+batch_size]\n",
        "      z = x_i.dot(weight)\n",
        "      a = softmax(z, batch_size)     #calling softmax activation function   \n",
        "      gradient = 1/batch_size * x_i.T.dot(a - y_i)  #gradient based on categorical cross-entropy loss function\n",
        "      weight = weight - lr * gradient   #updating weights\n",
        "      weight_path_mgd.append(weight) "
      ],
      "execution_count": 0,
      "outputs": []
    },
    {
      "metadata": {
        "id": "72LAURd9cK0s",
        "colab_type": "code",
        "outputId": "2004f48b-6eb8-4b43-96c5-198a1f8c4cf3",
        "colab": {
          "base_uri": "https://localhost:8080/",
          "height": 52
        }
      },
      "cell_type": "code",
      "source": [
        "#Calculate accuracy of model on the training data\n",
        "z_train = train_images_b.dot(weight)\n",
        "a_train = softmax(z_train, train_images_b.shape[0])\n",
        "print(\"Total Accuracy of Model on the Training Data\")\n",
        "a_train_numb=np.argmax(a_train,axis=1)\n",
        "np.sum(a_train_numb==train_labels_original)/train_labels_original.shape[0]"
      ],
      "execution_count": 0,
      "outputs": [
        {
          "output_type": "stream",
          "text": [
            "Total Accuracy of Model on the Training Data\n"
          ],
          "name": "stdout"
        },
        {
          "output_type": "execute_result",
          "data": {
            "text/plain": [
              "0.9095"
            ]
          },
          "metadata": {
            "tags": []
          },
          "execution_count": 17
        }
      ]
    },
    {
      "metadata": {
        "id": "VOFQaDoghG93",
        "colab_type": "code",
        "outputId": "187b9bed-b10f-4bc3-fdbc-dc1f92ff3f04",
        "colab": {
          "base_uri": "https://localhost:8080/",
          "height": 52
        }
      },
      "cell_type": "code",
      "source": [
        "#Calculate accuracy of model on the testing data\n",
        "z_test = test_images_b.dot(weight)\n",
        "a_test = softmax(z_test, test_images_b.shape[0])\n",
        "print(\"Total Accuracy of Model on the Testing Data\")\n",
        "a_test_numb=np.argmax(a_test,axis=1)\n",
        "np.sum(a_test_numb==test_labels_original)/test_labels_original.shape[0]"
      ],
      "execution_count": 0,
      "outputs": [
        {
          "output_type": "stream",
          "text": [
            "Total Accuracy of Model on the Testing Data\n"
          ],
          "name": "stdout"
        },
        {
          "output_type": "execute_result",
          "data": {
            "text/plain": [
              "0.9146"
            ]
          },
          "metadata": {
            "tags": []
          },
          "execution_count": 18
        }
      ]
    },
    {
      "metadata": {
        "id": "jM98Wwzi-QJG",
        "colab_type": "text"
      },
      "cell_type": "markdown",
      "source": [
        "## Problem 4\n",
        "Reimplement the network from Problem 3 entirely in Keras."
      ]
    },
    {
      "metadata": {
        "id": "W9ZAQlsWL7d_",
        "colab_type": "code",
        "colab": {}
      },
      "cell_type": "code",
      "source": [
        "train_images = train_images_original.reshape((60000, 28 * 28))\n",
        "train_images = train_images.astype('float32') / 255\n",
        "\n",
        "test_images = test_images_original.reshape((10000, 28 * 28))\n",
        "test_images = test_images.astype('float32') / 255"
      ],
      "execution_count": 0,
      "outputs": []
    },
    {
      "metadata": {
        "id": "domURlv2NjFu",
        "colab_type": "code",
        "colab": {}
      },
      "cell_type": "code",
      "source": [
        "train_labels = to_categorical(train_labels_original)\n",
        "test_labels = to_categorical(test_labels_original)"
      ],
      "execution_count": 0,
      "outputs": []
    },
    {
      "metadata": {
        "id": "8johAcgDOBlc",
        "colab_type": "code",
        "outputId": "19d65cd7-d920-42d9-d1c9-859e93f9e950",
        "colab": {
          "base_uri": "https://localhost:8080/",
          "height": 245
        }
      },
      "cell_type": "code",
      "source": [
        "network = models.Sequential()\n",
        "network.add(layers.Dense(10, activation='softmax',input_shape=(28 * 28,)))\n",
        "network.summary()"
      ],
      "execution_count": 0,
      "outputs": [
        {
          "output_type": "stream",
          "text": [
            "WARNING:tensorflow:From /usr/local/lib/python3.6/dist-packages/tensorflow/python/framework/op_def_library.py:263: colocate_with (from tensorflow.python.framework.ops) is deprecated and will be removed in a future version.\n",
            "Instructions for updating:\n",
            "Colocations handled automatically by placer.\n",
            "_________________________________________________________________\n",
            "Layer (type)                 Output Shape              Param #   \n",
            "=================================================================\n",
            "dense_1 (Dense)              (None, 10)                7850      \n",
            "=================================================================\n",
            "Total params: 7,850\n",
            "Trainable params: 7,850\n",
            "Non-trainable params: 0\n",
            "_________________________________________________________________\n"
          ],
          "name": "stdout"
        }
      ]
    },
    {
      "metadata": {
        "id": "HZT0zpBQOtqM",
        "colab_type": "code",
        "colab": {}
      },
      "cell_type": "code",
      "source": [
        "network.compile(optimizer='sgd',\n",
        "                loss='categorical_crossentropy',\n",
        "                metrics=['accuracy'])"
      ],
      "execution_count": 0,
      "outputs": []
    },
    {
      "metadata": {
        "id": "lT8y2kRrPaC8",
        "colab_type": "code",
        "outputId": "982c7bba-1b59-4e9b-da47-ff683abe1f00",
        "colab": {
          "base_uri": "https://localhost:8080/",
          "height": 453
        }
      },
      "cell_type": "code",
      "source": [
        "epochs = 10\n",
        "history = network.fit(train_images, \n",
        "                      train_labels, \n",
        "                      epochs=epochs, \n",
        "                      batch_size=128, \n",
        "                      validation_data=(test_images, test_labels))"
      ],
      "execution_count": 0,
      "outputs": [
        {
          "output_type": "stream",
          "text": [
            "WARNING:tensorflow:From /usr/local/lib/python3.6/dist-packages/tensorflow/python/ops/math_ops.py:3066: to_int32 (from tensorflow.python.ops.math_ops) is deprecated and will be removed in a future version.\n",
            "Instructions for updating:\n",
            "Use tf.cast instead.\n",
            "Train on 60000 samples, validate on 10000 samples\n",
            "Epoch 1/10\n",
            "60000/60000 [==============================] - 2s 41us/step - loss: 1.3033 - acc: 0.6800 - val_loss: 0.8212 - val_acc: 0.8283\n",
            "Epoch 2/10\n",
            "60000/60000 [==============================] - 2s 29us/step - loss: 0.7212 - acc: 0.8380 - val_loss: 0.6124 - val_acc: 0.8600\n",
            "Epoch 3/10\n",
            "60000/60000 [==============================] - 2s 28us/step - loss: 0.5900 - acc: 0.8581 - val_loss: 0.5292 - val_acc: 0.8719\n",
            "Epoch 4/10\n",
            "60000/60000 [==============================] - 2s 28us/step - loss: 0.5276 - acc: 0.8681 - val_loss: 0.4828 - val_acc: 0.8791\n",
            "Epoch 5/10\n",
            "60000/60000 [==============================] - 2s 29us/step - loss: 0.4896 - acc: 0.8748 - val_loss: 0.4523 - val_acc: 0.8848\n",
            "Epoch 6/10\n",
            "60000/60000 [==============================] - 2s 28us/step - loss: 0.4635 - acc: 0.8800 - val_loss: 0.4307 - val_acc: 0.8881\n",
            "Epoch 7/10\n",
            "60000/60000 [==============================] - 2s 28us/step - loss: 0.4441 - acc: 0.8834 - val_loss: 0.4144 - val_acc: 0.8908\n",
            "Epoch 8/10\n",
            "60000/60000 [==============================] - 2s 28us/step - loss: 0.4291 - acc: 0.8864 - val_loss: 0.4017 - val_acc: 0.8937\n",
            "Epoch 9/10\n",
            "60000/60000 [==============================] - 2s 29us/step - loss: 0.4170 - acc: 0.8890 - val_loss: 0.3910 - val_acc: 0.8968\n",
            "Epoch 10/10\n",
            "60000/60000 [==============================] - 2s 28us/step - loss: 0.4069 - acc: 0.8912 - val_loss: 0.3820 - val_acc: 0.8969\n"
          ],
          "name": "stdout"
        }
      ]
    },
    {
      "metadata": {
        "id": "bCzA_kZ-R1GO",
        "colab_type": "code",
        "colab": {}
      },
      "cell_type": "code",
      "source": [
        "history_dict = history.history\n",
        "loss_values = history_dict['loss']\n",
        "test_loss_values = history_dict['val_loss']\n",
        "epochs_range = range(1, epochs + 1)"
      ],
      "execution_count": 0,
      "outputs": []
    },
    {
      "metadata": {
        "id": "f4wF0qIOR5HF",
        "colab_type": "code",
        "outputId": "99879f8c-9c16-40e8-b7d1-63586fee0c39",
        "colab": {
          "base_uri": "https://localhost:8080/",
          "height": 377
        }
      },
      "cell_type": "code",
      "source": [
        "\n",
        "plt.plot(epochs_range, loss_values, 'bo', label='Training loss')\n",
        "plt.plot(epochs_range, test_loss_values, 'ro', label='Test loss')\n",
        "plt.title('Training and test loss')\n",
        "plt.xlabel('Epochs')\n",
        "plt.ylabel('Loss')\n",
        "plt.legend()\n",
        "plt.show()"
      ],
      "execution_count": 0,
      "outputs": [
        {
          "output_type": "display_data",
          "data": {
            "image/png": "[encoded data removed]",
            "text/plain": [
              "<Figure size 576x396 with 1 Axes>"
            ]
          },
          "metadata": {
            "tags": []
          }
        }
      ]
    },
    {
      "metadata": {
        "id": "ZzE16v5T0nzN",
        "colab_type": "code",
        "colab": {}
      },
      "cell_type": "code",
      "source": [
        "acc_values = history_dict['acc']\n",
        "test_acc_values = history_dict['val_acc']"
      ],
      "execution_count": 0,
      "outputs": []
    },
    {
      "metadata": {
        "id": "SQJ5Fedn0oTF",
        "colab_type": "code",
        "outputId": "d565df94-0294-486f-cbe9-fd3b68001640",
        "colab": {
          "base_uri": "https://localhost:8080/",
          "height": 377
        }
      },
      "cell_type": "code",
      "source": [
        "plt.plot(epochs_range, acc_values, 'bo', label='Training accuracy')\n",
        "plt.plot(epochs_range, test_acc_values, 'ro', label='Test accuracy')\n",
        "plt.title('Training and test accuracy')\n",
        "plt.xlabel('Epochs')\n",
        "plt.ylabel('Accuracy')\n",
        "plt.legend()\n",
        "plt.show()"
      ],
      "execution_count": 0,
      "outputs": [
        {
          "output_type": "display_data",
          "data": {
            "image/png": "[encoded data removed]",
            "text/plain": [
              "<Figure size 576x396 with 1 Axes>"
            ]
          },
          "metadata": {
            "tags": []
          }
        }
      ]
    },
    {
      "metadata": {
        "id": "r9ZsMF6iVBmv",
        "colab_type": "code",
        "outputId": "42c4514e-ed9c-4f50-9f89-a8ee0bbc06ba",
        "colab": {
          "base_uri": "https://localhost:8080/",
          "height": 52
        }
      },
      "cell_type": "code",
      "source": [
        "test_loss, test_acc = network.evaluate(test_images, test_labels)\n",
        "\n",
        "print('Total Test accuracy:', test_acc)"
      ],
      "execution_count": 0,
      "outputs": [
        {
          "output_type": "stream",
          "text": [
            "10000/10000 [==============================] - 0s 46us/step\n",
            "Total Test accuracy: 0.8969\n"
          ],
          "name": "stdout"
        }
      ]
    },
    {
      "metadata": {
        "id": "cHSfWEWJ-TpS",
        "colab_type": "text"
      },
      "cell_type": "markdown",
      "source": [
        "## Problem 5\n",
        "Extend the network from Problem 4 by adding new features.\n",
        "- Round the grey values of the images to 1 and 0 so you obtain black and white images. Add as an additional feature the number of white regions. For instance, a typical 0 has 2 white regions and 8 has 3. Use the following neighborhoods for pixels:\n",
        "\n",
        "```\n",
        "pixel x,y (indicated by .) is connected to its neighbors (indicated by o):\n",
        "\n",
        " o\n",
        "o.o  \n",
        " o\n",
        " \n",
        "ooo\n",
        "o.o\n",
        "ooo\n",
        "```\n",
        "- Consider the width.\n",
        "- Consider the height.\n",
        "- Come up with other features.\n",
        "\n",
        "You should normalize your new features so that they are at the same scale as the pixel values (between 0 and 1)."
      ]
    },
    {
      "metadata": {
        "id": "IM5yz84l-bAf",
        "colab_type": "code",
        "outputId": "a42d7363-120b-4d8b-805c-21fefde3f525",
        "colab": {
          "base_uri": "https://localhost:8080/",
          "height": 321
        }
      },
      "cell_type": "code",
      "source": [
        "#Original image\n",
        "digit_0 = train_images_original[0]\n",
        "digit_0.shape\n",
        "plt.figure(figsize=(5,5))\n",
        "plt.imshow(digit_0)\n",
        "plt.grid(None)\n",
        "plt.show()"
      ],
      "execution_count": 0,
      "outputs": [
        {
          "output_type": "display_data",
          "data": {
            "image/png": "[encoded data removed]",
            "text/plain": [
              "<Figure size 360x360 with 1 Axes>"
            ]
          },
          "metadata": {
            "tags": []
          }
        }
      ]
    },
    {
      "metadata": {
        "id": "EDsfMHWQUF8P",
        "colab_type": "code",
        "outputId": "bdeb808c-0669-436e-da4f-ec1446303a13",
        "colab": {
          "base_uri": "https://localhost:8080/",
          "height": 35
        }
      },
      "cell_type": "code",
      "source": [
        "label_0 = train_labels_original[0]\n",
        "print(label_0)    "
      ],
      "execution_count": 0,
      "outputs": [
        {
          "output_type": "stream",
          "text": [
            "5\n"
          ],
          "name": "stdout"
        }
      ]
    },
    {
      "metadata": {
        "id": "BrZgiyP8Y3fv",
        "colab_type": "code",
        "colab": {}
      },
      "cell_type": "code",
      "source": [
        "#Normalize images\n",
        "train_images = train_images_original.reshape((60000, 28 * 28))\n",
        "train_images = train_images.astype('float32') / 255\n",
        "\n",
        "test_images = test_images_original.reshape((10000, 28 * 28))\n",
        "test_images = test_images.astype('float32') / 255"
      ],
      "execution_count": 0,
      "outputs": []
    },
    {
      "metadata": {
        "id": "Lqj5mOSNkRoZ",
        "colab_type": "code",
        "outputId": "008645af-7e91-46f4-d18f-7a0d39f32ac5",
        "colab": {
          "base_uri": "https://localhost:8080/",
          "height": 321
        }
      },
      "cell_type": "code",
      "source": [
        "#Image after normalizing and before filtering\n",
        "digit_0 = train_images[0]\n",
        "digit_0 = digit_0.reshape((28,28))\n",
        "plt.figure(figsize=(5,5))\n",
        "plt.imshow(digit_0)\n",
        "plt.grid(None)\n",
        "plt.show()"
      ],
      "execution_count": 0,
      "outputs": [
        {
          "output_type": "display_data",
          "data": {
            "image/png": "[encoded data removed]",
            "text/plain": [
              "<Figure size 360x360 with 1 Axes>"
            ]
          },
          "metadata": {
            "tags": []
          }
        }
      ]
    },
    {
      "metadata": {
        "id": "wDfuv3iUTpqC",
        "colab_type": "code",
        "colab": {}
      },
      "cell_type": "code",
      "source": [
        "#Filter all images by rounding off\n",
        "train_images_f = train_images > 0.5\n",
        "test_images_f = test_images > 0.5"
      ],
      "execution_count": 0,
      "outputs": []
    },
    {
      "metadata": {
        "id": "DOwYHUJjijmo",
        "colab_type": "code",
        "outputId": "1d1a73de-9b51-4553-f47d-a09d0a0f0186",
        "colab": {
          "base_uri": "https://localhost:8080/",
          "height": 338
        }
      },
      "cell_type": "code",
      "source": [
        "#Image after filtering\n",
        "digit_0 = train_images_f[0]\n",
        "digit_0 = digit_0.reshape((28,28))\n",
        "print(digit_0.shape)\n",
        "plt.figure(figsize=(5,5))\n",
        "plt.imshow(digit_0)\n",
        "plt.grid(None)\n",
        "plt.show()"
      ],
      "execution_count": 0,
      "outputs": [
        {
          "output_type": "stream",
          "text": [
            "(28, 28)\n"
          ],
          "name": "stdout"
        },
        {
          "output_type": "display_data",
          "data": {
            "image/png": "[encoded data removed]",
            "text/plain": [
              "<Figure size 360x360 with 1 Axes>"
            ]
          },
          "metadata": {
            "tags": []
          }
        }
      ]
    },
    {
      "metadata": {
        "id": "pPhhbnRbAHL4",
        "colab_type": "code",
        "colab": {}
      },
      "cell_type": "code",
      "source": [
        "#Functions for calculating the number of connected components\n",
        "\n",
        "# This function checks if the current element of matrix is valid  \n",
        "def is_valid(mat_2d, i, j, visited, row, col):  \n",
        "    return (i >= 0 and i < row and j >= 0 and j < col and \n",
        "            not visited[i][j] and mat_2d[i][j] == 0) \n",
        "\n",
        "#This function implements depth-first search\n",
        "def DFS(mat_2d, i, j, visited, row, col): \n",
        "\n",
        "    # These two arrays get row and column numbers of 8 neighbours -  \n",
        "    # of the current element \n",
        "    row_num = [-1, -1, -1,  0, 0,  1, 1, 1]; \n",
        "    col_num = [-1,  0,  1, -1, 1, -1, 0, 1]; \n",
        "\n",
        "    # Mark current element as visited \n",
        "    visited[i][j] = True\n",
        "\n",
        "    # Apply recursion for all neighbours if they are 0 \n",
        "    for k in range(8): \n",
        "        if is_valid(mat_2d, i + row_num[k], j + col_num[k], visited, row, col): \n",
        "            DFS(mat_2d, i + row_num[k], j + col_num[k], visited, row, col)             \n",
        "\n",
        "#This function finds the number of connected components.\n",
        "#This function calls is_valid() and DFS() functions\n",
        "def num_connected_comp(mat_2d, row, col): \n",
        "    visited = [[False for j in range(col)]for i in range(row)] \n",
        "    count = 0\n",
        "    for i in range(row): \n",
        "        for j in range(col):  \n",
        "            if visited[i][j] == False and mat_2d[i][j] ==0:  \n",
        "                DFS(mat_2d, i, j, visited, row, col)\n",
        "                count += 1\n",
        "    return count"
      ],
      "execution_count": 0,
      "outputs": []
    },
    {
      "metadata": {
        "id": "ynsUrqtjxITu",
        "colab_type": "code",
        "outputId": "bc9aabab-3efa-4567-d24e-8bad71d0364b",
        "colab": {
          "base_uri": "https://localhost:8080/",
          "height": 355
        }
      },
      "cell_type": "code",
      "source": [
        "#Try out the above connected component function for 1 image\n",
        "\n",
        "digit_1 = train_images_f[17]\n",
        "digit_1 = digit_1.reshape((28,28))\n",
        "print(digit_1.shape)\n",
        "plt.figure(figsize=(5,5))\n",
        "plt.imshow(digit_1)\n",
        "plt.grid(None)\n",
        "plt.show()\n",
        "\n",
        "#first reshape the image into 28x28\n",
        "mat_2d = digit_1\n",
        "row = mat_2d.shape[0]\n",
        "col = mat_2d.shape[1]\n",
        "\n",
        "#now call connected components function\n",
        "result = num_connected_comp(mat_2d, row, col)\n",
        "print(\"Number of white regions = \", result)"
      ],
      "execution_count": 0,
      "outputs": [
        {
          "output_type": "stream",
          "text": [
            "(28, 28)\n"
          ],
          "name": "stdout"
        },
        {
          "output_type": "display_data",
          "data": {
            "image/png": "[encoded data removed]",
            "text/plain": [
              "<Figure size 360x360 with 1 Axes>"
            ]
          },
          "metadata": {
            "tags": []
          }
        },
        {
          "output_type": "stream",
          "text": [
            "Number of white regions =  3\n"
          ],
          "name": "stdout"
        }
      ]
    },
    {
      "metadata": {
        "id": "uitbAZexS7Kt",
        "colab_type": "code",
        "colab": {}
      },
      "cell_type": "code",
      "source": [
        "#The three extra features that we will use for training the model are:\n",
        "# 1. Number of white regions\n",
        "# 2. Ratio of black pixels(1) to total pixels in an image\n",
        "# 3. Ratio of white pixels(0) to total pixels in an image\n",
        "\n",
        "m  = 60000\n",
        "n = 10000\n",
        "\n",
        "#Three extra features for training\n",
        "cc_feature_train = np.empty((m,1))           #Extra feature # 1\n",
        "fraction_1s_feature_train = np.empty((m,1))  #Extra feature # 2\n",
        "fraction_0s_feature_train = np.empty((m,1))  #Extra feature # 3\n",
        "\n",
        "#Calculate the three features for training images\n",
        "for i in range(m):\n",
        "  fraction_1s_feature_train[i] = ((train_images_f[i]==1).sum())/train_images_f[i].shape[0]\n",
        "  fraction_0s_feature_train[i] = 1 - fraction_1s_feature_train[i]\n",
        "  mat_2d = train_images_f[i].reshape((28,28))\n",
        "  row = mat_2d.shape[0]\n",
        "  col = mat_2d.shape[1]\n",
        "  cc_feature_train[i] = num_connected_comp(mat_2d, row, col)\n",
        "\n",
        "#Three extra features for testing  \n",
        "cc_feature_test = np.empty((n,1))           #Extra feature # 1\n",
        "fraction_1s_feature_test = np.empty((n,1))  #Extra feature # 2\n",
        "fraction_0s_feature_test = np.empty((n,1))  #Extra feature # 3\n",
        "\n",
        "#Calculate the three features for testing images\n",
        "for i in range(n):\n",
        "  fraction_1s_feature_test[i] = ((test_images_f[i]==1).sum())/test_images_f[i].shape[0]\n",
        "  fraction_0s_feature_test[i] = 1 - fraction_1s_feature_test[i]\n",
        "  mat_2d = test_images_f[i].reshape((28,28))\n",
        "  row = mat_2d.shape[0]\n",
        "  col = mat_2d.shape[1]\n",
        "  cc_feature_test[i] = num_connected_comp(mat_2d, row, col)\n",
        "  "
      ],
      "execution_count": 0,
      "outputs": []
    },
    {
      "metadata": {
        "id": "KdVh04e0flo-",
        "colab_type": "code",
        "colab": {}
      },
      "cell_type": "code",
      "source": [
        "#Now normalize cc_feature_train (1st extra training feature)\n",
        "max_cc_val = np.max(cc_feature_train)\n",
        "cc_feature_train_norm = cc_feature_train / max_cc_val\n",
        "cc_feature_train_norm.shape\n",
        "\n",
        "#Now normalize cc_feature_test (1st extra testing feature)\n",
        "max_cc_val = np.max(cc_feature_test)\n",
        "cc_feature_test_norm = cc_feature_test / max_cc_val"
      ],
      "execution_count": 0,
      "outputs": []
    },
    {
      "metadata": {
        "id": "2yB2IGygYDBZ",
        "colab_type": "code",
        "outputId": "a6a2a6cb-ea2b-4b61-a5bf-317d5ae70913",
        "colab": {
          "base_uri": "https://localhost:8080/",
          "height": 52
        }
      },
      "cell_type": "code",
      "source": [
        "#Add the three extra features to train images\n",
        "train_images_f_cc = np.c_[cc_feature_train_norm, fraction_1s_feature_train, fraction_0s_feature_train, train_images_f]\n",
        "\n",
        "#Add the three extra features to test images\n",
        "test_images_f_cc = np.c_[cc_feature_test_norm, fraction_1s_feature_test, fraction_0s_feature_test, test_images_f]\n",
        "print(\"train_images_f_cc.shape\", train_images_f_cc.shape)\n",
        "print(\"test_images_f_cc.shape\", test_images_f_cc.shape)"
      ],
      "execution_count": 0,
      "outputs": [
        {
          "output_type": "stream",
          "text": [
            "train_images_f_cc.shape (60000, 787)\n",
            "test_images_f_cc.shape (10000, 787)\n"
          ],
          "name": "stdout"
        }
      ]
    },
    {
      "metadata": {
        "id": "BHrv5TJ4ikJu",
        "colab_type": "code",
        "colab": {}
      },
      "cell_type": "code",
      "source": [
        "#Perform one-hot encoding on the labels\n",
        "train_labels = to_categorical(train_labels_original)\n",
        "test_labels = to_categorical(test_labels_original)"
      ],
      "execution_count": 0,
      "outputs": []
    },
    {
      "metadata": {
        "id": "c8cCqm1L0t5D",
        "colab_type": "code",
        "outputId": "f3d2bd1f-6319-4212-edbd-4d35ce9c59f0",
        "colab": {
          "base_uri": "https://localhost:8080/",
          "height": 173
        }
      },
      "cell_type": "code",
      "source": [
        "from keras import models\n",
        "from keras import layers\n",
        "\n",
        "num_extra_features = 3\n",
        "network = models.Sequential()\n",
        "network.add(layers.Dense(10, activation='softmax',input_shape=(28 * 28+num_extra_features,)))\n",
        "network.summary()"
      ],
      "execution_count": 0,
      "outputs": [
        {
          "output_type": "stream",
          "text": [
            "_________________________________________________________________\n",
            "Layer (type)                 Output Shape              Param #   \n",
            "=================================================================\n",
            "dense_2 (Dense)              (None, 10)                7880      \n",
            "=================================================================\n",
            "Total params: 7,880\n",
            "Trainable params: 7,880\n",
            "Non-trainable params: 0\n",
            "_________________________________________________________________\n"
          ],
          "name": "stdout"
        }
      ]
    },
    {
      "metadata": {
        "id": "37CA9MME2CA1",
        "colab_type": "code",
        "colab": {}
      },
      "cell_type": "code",
      "source": [
        "network.compile(optimizer='sgd',\n",
        "                loss='categorical_crossentropy',\n",
        "                metrics=['accuracy'])"
      ],
      "execution_count": 0,
      "outputs": []
    },
    {
      "metadata": {
        "id": "XDKDHKfe1wfe",
        "colab_type": "code",
        "outputId": "4abccc2a-ab69-4a9d-e73a-688a9e83226d",
        "colab": {
          "base_uri": "https://localhost:8080/",
          "height": 555
        }
      },
      "cell_type": "code",
      "source": [
        "epochs = 15\n",
        "history = network.fit(train_images_f_cc, \n",
        "                      train_labels, \n",
        "                      epochs=epochs, \n",
        "                      batch_size=128, \n",
        "                      validation_data=(test_images_f_cc, test_labels))"
      ],
      "execution_count": 0,
      "outputs": [
        {
          "output_type": "stream",
          "text": [
            "Train on 60000 samples, validate on 10000 samples\n",
            "Epoch 1/15\n",
            "60000/60000 [==============================] - 2s 33us/step - loss: 1.2816 - acc: 0.6771 - val_loss: 0.8011 - val_acc: 0.8272\n",
            "Epoch 2/15\n",
            "60000/60000 [==============================] - 2s 31us/step - loss: 0.7100 - acc: 0.8344 - val_loss: 0.6008 - val_acc: 0.8583\n",
            "Epoch 3/15\n",
            "60000/60000 [==============================] - 2s 30us/step - loss: 0.5827 - acc: 0.8564 - val_loss: 0.5208 - val_acc: 0.8731\n",
            "Epoch 4/15\n",
            "60000/60000 [==============================] - 2s 31us/step - loss: 0.5219 - acc: 0.8664 - val_loss: 0.4762 - val_acc: 0.8800\n",
            "Epoch 5/15\n",
            "60000/60000 [==============================] - 2s 31us/step - loss: 0.4849 - acc: 0.8736 - val_loss: 0.4469 - val_acc: 0.8840\n",
            "Epoch 6/15\n",
            "60000/60000 [==============================] - 2s 31us/step - loss: 0.4594 - acc: 0.8784 - val_loss: 0.4260 - val_acc: 0.8877\n",
            "Epoch 7/15\n",
            "60000/60000 [==============================] - 2s 31us/step - loss: 0.4405 - acc: 0.8816 - val_loss: 0.4103 - val_acc: 0.8915\n",
            "Epoch 8/15\n",
            "60000/60000 [==============================] - 2s 31us/step - loss: 0.4258 - acc: 0.8849 - val_loss: 0.3982 - val_acc: 0.8947\n",
            "Epoch 9/15\n",
            "60000/60000 [==============================] - 2s 31us/step - loss: 0.4139 - acc: 0.8875 - val_loss: 0.3880 - val_acc: 0.8970\n",
            "Epoch 10/15\n",
            "60000/60000 [==============================] - 2s 31us/step - loss: 0.4039 - acc: 0.8897 - val_loss: 0.3796 - val_acc: 0.8986\n",
            "Epoch 11/15\n",
            "60000/60000 [==============================] - 2s 31us/step - loss: 0.3955 - acc: 0.8923 - val_loss: 0.3723 - val_acc: 0.9002\n",
            "Epoch 12/15\n",
            "60000/60000 [==============================] - 2s 31us/step - loss: 0.3883 - acc: 0.8935 - val_loss: 0.3660 - val_acc: 0.9014\n",
            "Epoch 13/15\n",
            "60000/60000 [==============================] - 2s 31us/step - loss: 0.3819 - acc: 0.8950 - val_loss: 0.3608 - val_acc: 0.9032\n",
            "Epoch 14/15\n",
            "60000/60000 [==============================] - 2s 32us/step - loss: 0.3762 - acc: 0.8960 - val_loss: 0.3557 - val_acc: 0.9035\n",
            "Epoch 15/15\n",
            "60000/60000 [==============================] - 2s 31us/step - loss: 0.3711 - acc: 0.8972 - val_loss: 0.3517 - val_acc: 0.9042\n"
          ],
          "name": "stdout"
        }
      ]
    },
    {
      "metadata": {
        "id": "J9I6RMZbZa0P",
        "colab_type": "code",
        "colab": {}
      },
      "cell_type": "code",
      "source": [
        "history_dict = history.history\n",
        "loss_values = history_dict['loss']\n",
        "test_loss_values = history_dict['val_loss']\n",
        "epochs_range = range(1, epochs + 1)"
      ],
      "execution_count": 0,
      "outputs": []
    },
    {
      "metadata": {
        "id": "pvSoeX6BZiiz",
        "colab_type": "code",
        "outputId": "99eeb8e5-3ebd-4dcd-99d5-dfaaa79ce958",
        "colab": {
          "base_uri": "https://localhost:8080/",
          "height": 377
        }
      },
      "cell_type": "code",
      "source": [
        "plt.plot(epochs_range, loss_values, 'bo', label='Training loss')\n",
        "plt.plot(epochs_range, test_loss_values, 'ro', label='Test loss')\n",
        "plt.title('Training and test loss')\n",
        "plt.xlabel('Epochs')\n",
        "plt.ylabel('Loss')\n",
        "plt.legend()\n",
        "plt.show()"
      ],
      "execution_count": 0,
      "outputs": [
        {
          "output_type": "display_data",
          "data": {
            "image/png": "[encoded data removed]",
            "text/plain": [
              "<Figure size 576x396 with 1 Axes>"
            ]
          },
          "metadata": {
            "tags": []
          }
        }
      ]
    },
    {
      "metadata": {
        "id": "uro1NnkMLkEs",
        "colab_type": "code",
        "colab": {}
      },
      "cell_type": "code",
      "source": [
        "acc_values = history_dict['acc']\n",
        "test_acc_values = history_dict['val_acc']"
      ],
      "execution_count": 0,
      "outputs": []
    },
    {
      "metadata": {
        "id": "b51hYMpQLkyc",
        "colab_type": "code",
        "outputId": "2948b0f1-067a-4e37-f7cd-c558be2f8491",
        "colab": {
          "base_uri": "https://localhost:8080/",
          "height": 377
        }
      },
      "cell_type": "code",
      "source": [
        "plt.plot(epochs_range, acc_values, 'bo', label='Training accuracy')\n",
        "plt.plot(epochs_range, test_acc_values, 'ro', label='Test accuracy')\n",
        "plt.title('Training and test accuracy')\n",
        "plt.xlabel('Epochs')\n",
        "plt.ylabel('Accuracy')\n",
        "plt.legend()\n",
        "plt.show()"
      ],
      "execution_count": 0,
      "outputs": [
        {
          "output_type": "display_data",
          "data": {
            "image/png": "[encoded data removed]",
            "text/plain": [
              "<Figure size 576x396 with 1 Axes>"
            ]
          },
          "metadata": {
            "tags": []
          }
        }
      ]
    },
    {
      "metadata": {
        "id": "ULYMCY9wbq_g",
        "colab_type": "code",
        "outputId": "80c08f38-2fa6-4caa-a49c-eecd19a87029",
        "colab": {
          "base_uri": "https://localhost:8080/",
          "height": 52
        }
      },
      "cell_type": "code",
      "source": [
        "test_loss, test_acc = network.evaluate(test_images_f_cc, test_labels)\n",
        "\n",
        "print('Test accuracy:', test_acc)"
      ],
      "execution_count": 0,
      "outputs": [
        {
          "output_type": "stream",
          "text": [
            "10000/10000 [==============================] - 0s 48us/step\n",
            "Test accuracy: 0.9042\n"
          ],
          "name": "stdout"
        }
      ]
    }
  ]
}