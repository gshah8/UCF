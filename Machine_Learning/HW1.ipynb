{
  "nbformat": 4,
  "nbformat_minor": 0,
  "metadata": {
    "colab": {
      "name": "HW1.ipynb",
      "version": "0.3.2",
      "provenance": [],
      "include_colab_link": true
    },
    "kernelspec": {
      "name": "python3",
      "display_name": "Python 3"
    },
    "accelerator": "GPU"
  },
  "cells": [
    {
      "cell_type": "markdown",
      "metadata": {
        "id": "view-in-github",
        "colab_type": "text"
      },
      "source": [
        "<a href=\"https://colab.research.google.com/github/gshah8/UCF/blob/master/Machine_Learning/HW1.ipynb\" target=\"_parent\"><img src=\"https://colab.research.google.com/assets/colab-badge.svg\" alt=\"Open In Colab\"/></a>"
      ]
    },
    {
      "metadata": {
        "id": "KMwRoxS15IAB",
        "colab_type": "text"
      },
      "cell_type": "markdown",
      "source": [
        "# HW 1 \n",
        "\n",
        "This homework will get you up to speed with Python programming, numpy, matplotlib, Keras, gradients, partial derivatives, git, GitHub, Google's colaboratory etc. Have fun!\n",
        "\n",
        "For this homework, you will create neural networks with an input layer and an output layer without any hidden layers. The connections are dense: each input neuron is connected to each output neuron.\n",
        "\n",
        "Instructions for problems 1 and 2:\n",
        "- Load the training and test data using Keras, no validation set needed.\n",
        "- Train 10 classifiers that perform binary classification: *Is the input image the digit i or is it a digit different from i?* Each of the ten classifiers has an input layer consisting of 28 x 28 input neurons and an output layer consisting of a single output neuron.\n",
        "- Implement mini-batch stochastic gradient descent using only numpy, that is, you are not allowed to use TensorFlow/Keras for SGD.\n",
        "- Use ```argmax``` to determine the classifier with the strongest output and declare the corresponding digit as output.\n",
        "\n"
      ]
    },
    {
      "metadata": {
        "id": "NLvuXGliw477",
        "colab_type": "text"
      },
      "cell_type": "markdown",
      "source": [
        "\n",
        "###Loading data forall problems here"
      ]
    },
    {
      "metadata": {
        "id": "VAz7FzJqxSul",
        "colab_type": "code",
        "colab": {}
      },
      "cell_type": "code",
      "source": [
        "from keras.datasets import mnist\n",
        "import numpy as np\n",
        "import matplotlib.pyplot as plt\n",
        "from keras.utils import to_categorical\n",
        "\n",
        "(train_images_original, train_labels_original), (test_images_original, test_labels_original) = mnist.load_data()\n",
        "#print(train_labels_original.shape)"
      ],
      "execution_count": 0,
      "outputs": []
    },
    {
      "metadata": {
        "id": "t-MVyXrIq0De",
        "colab_type": "text"
      },
      "cell_type": "markdown",
      "source": [
        "###Functions to be used throughout the homework"
      ]
    },
    {
      "metadata": {
        "id": "oukl0-J44ebU",
        "colab_type": "code",
        "colab": {}
      },
      "cell_type": "code",
      "source": [
        "def load_data_bias():\n",
        "  \n",
        "  #for reshaping and normalizing train and test images\n",
        "  m = 60000\n",
        "  n = 10000\n",
        "  image_size = 28*28\n",
        "  train_images = train_images_original.reshape((m, image_size))\n",
        "  train_images = train_images.astype('float32') / 255\n",
        "  test_images = test_images_original.reshape((n, image_size))\n",
        "  test_images = test_images.astype('float32') / 255\n",
        "  \n",
        "  #for adding bias to train and test images\n",
        "  train_images_b = np.c_[np.ones((m, 1)), train_images]\n",
        "  test_images_b = np.c_[np.ones((n, 1)), test_images]\n",
        "  \n",
        "  #one-hot encoding for labels\n",
        "  for i in range(m):\n",
        "    train_labels[i][train_labels_original[i]] = 1\n",
        "  for i in range(n):\n",
        "    test_labels[i][test_labels_original[i]] = 1\n",
        "  \n",
        "  return train_images_b, train_labels,test_images_b, test_labels\n",
        "\n",
        "\n",
        "def sigmoid(z):\n",
        "  ans = 1/(1+np.exp(-z))\n",
        "  return ans\n",
        "\n",
        "def softmax(z):\n",
        "  z_exp=np.exp(z)\n",
        "  #rint(z_exp.shape)\n",
        "  #rint(z_exp)\n",
        "  total=np.sum(z_exp,axis=1)\n",
        "  #rint(total.shape)\n",
        "  #rint(total)\n",
        "  return z_exp/total.reshape(z_exp.shape[0],1)\n",
        "\n",
        "def test(z):\n",
        "  z_exp=np.exp(z)\n",
        "  total=np.sum(z_exp)\n",
        "  return z_exp/total\n"
      ],
      "execution_count": 0,
      "outputs": []
    },
    {
      "metadata": {
        "id": "spr8mEbwxEIf",
        "colab_type": "text"
      },
      "cell_type": "markdown",
      "source": [
        "## Problem 1\n",
        "Use logistic regression with mean squared error loss."
      ]
    },
    {
      "metadata": {
        "id": "4XwQkWl55lCZ",
        "colab_type": "code",
        "colab": {}
      },
      "cell_type": "code",
      "source": [
        "train_images_b, train_labels,test_images_b, test_labels = load_data_bias()\n",
        "#print(train_labels.shape)"
      ],
      "execution_count": 0,
      "outputs": []
    },
    {
      "metadata": {
        "id": "xAG0QHmp96qh",
        "colab_type": "code",
        "colab": {}
      },
      "cell_type": "code",
      "source": [
        "#initializing weight and big_weight for 10 classifiers\n",
        "\n",
        "np.random.seed(42)\n",
        "initial_weight=np.zeros((image_size+1,1))\n",
        "weight_10=np.zeros((image_size+1,10))\n",
        "#weight_10.shape"
      ],
      "execution_count": 0,
      "outputs": []
    },
    {
      "metadata": {
        "id": "bmCLK_zjCxcY",
        "colab_type": "code",
        "colab": {}
      },
      "cell_type": "code",
      "source": [
        "epochs = 20\n",
        "lr = 0.001\n",
        "batch_size = 64\n",
        "classifiers = 10\n",
        "\n",
        "for j in range(classifiers):\n",
        "  weight = initial_weight\n",
        "  for epoch in range(epochs):\n",
        "    shuffled_indices = np.random.permutation(m)\n",
        "    train_images_b_shuffled = train_images_b[shuffled_indices]\n",
        "    train_labels_shuffled = train_labels[:,j][shuffled_indices]   \n",
        "    for i in range(0,m,batch_size):\n",
        "      x_i = train_images_b_shuffled[i:i+batch_size]\n",
        "      y_i = train_labels_shuffled[i:i+batch_size]\n",
        "      y_i = y_i.reshape((y_i.size,1))\n",
        "      z = x_i.dot(weight)\n",
        "      a = sigmoid(z)\n",
        "      dlda = a-y_i\n",
        "      dadz=a*(1-a)\n",
        "      dzdw = x_i\n",
        "      gradient = 1/batch_size * x_i.T.dot(dadz*dlda)\n",
        "      weight = weight - lr * gradient\n",
        "  weight_10[:,j] = weight.reshape(785,)\n",
        "  "
      ],
      "execution_count": 0,
      "outputs": []
    },
    {
      "metadata": {
        "id": "p_dtXNOmnubO",
        "colab_type": "code",
        "outputId": "145d81d5-1ed9-4e61-cc88-4a60b03df782",
        "colab": {
          "base_uri": "https://localhost:8080/",
          "height": 35
        }
      },
      "cell_type": "code",
      "source": [
        "weight_10.shape"
      ],
      "execution_count": 61,
      "outputs": [
        {
          "output_type": "execute_result",
          "data": {
            "text/plain": [
              "(785, 10)"
            ]
          },
          "metadata": {
            "tags": []
          },
          "execution_count": 61
        }
      ]
    },
    {
      "metadata": {
        "id": "KvaQES5rFrbm",
        "colab_type": "code",
        "outputId": "b0e483e2-80e5-4b03-a3bb-55e45ebc0ee6",
        "colab": {
          "base_uri": "https://localhost:8080/",
          "height": 87
        }
      },
      "cell_type": "code",
      "source": [
        "z_pred = train_images_b[2].dot(weight_10)\n",
        "a_pred = sigmoid(z_pred)\n",
        "print(a_pred)\n",
        "print(\"Prediction=\",np.argmax(a_pred))\n",
        "print(\"true_label = \" , train_labels_original[2])\n",
        "#train_acc = train_labels - y_predict"
      ],
      "execution_count": 62,
      "outputs": [
        {
          "output_type": "stream",
          "text": [
            "[0.19345586 0.07743006 0.27157083 0.28127237 0.61025647 0.21428655\n",
            " 0.25739437 0.18951868 0.22155289 0.33045379]\n",
            "Prediction= 4\n",
            "true_label =  4\n"
          ],
          "name": "stdout"
        }
      ]
    },
    {
      "metadata": {
        "id": "Qx8nkGTZomIX",
        "colab_type": "code",
        "outputId": "60e1403b-79af-4d6d-b8fc-615e727302d9",
        "colab": {
          "base_uri": "https://localhost:8080/",
          "height": 35
        }
      },
      "cell_type": "code",
      "source": [
        "z_pred_test = test_images_b.dot(weight_10)\n",
        "a_pred_test = sigmoid(z_pred_test)\n",
        "\n",
        "a_pred_test_numb=np.argmax(a_pred_test,axis=1)\n",
        "a_pred_test_numb.shape\n",
        "\n",
        "np.sum(a_pred_test_numb==test_labels_original)/test_labels_original.shape[0]"
      ],
      "execution_count": 63,
      "outputs": [
        {
          "output_type": "execute_result",
          "data": {
            "text/plain": [
              "0.8037"
            ]
          },
          "metadata": {
            "tags": []
          },
          "execution_count": 63
        }
      ]
    },
    {
      "metadata": {
        "id": "bN-mUe3l9zOH",
        "colab_type": "text"
      },
      "cell_type": "markdown",
      "source": [
        "## Problem 2\n",
        "Use logistic regression with binary cross entropy loss."
      ]
    },
    {
      "metadata": {
        "id": "4q9XBuNV99LW",
        "colab_type": "code",
        "colab": {}
      },
      "cell_type": "code",
      "source": [
        "train_images_b, train_labels,test_images_b, test_labels = load_data_bias()"
      ],
      "execution_count": 0,
      "outputs": []
    },
    {
      "metadata": {
        "id": "itV4R78M71TF",
        "colab_type": "code",
        "colab": {}
      },
      "cell_type": "code",
      "source": [
        "np.random.seed(42)\n",
        "initial_weight=np.zeros((image_size+1,1))\n",
        "weight_10=np.zeros((image_size+1,10))"
      ],
      "execution_count": 0,
      "outputs": []
    },
    {
      "metadata": {
        "id": "mEJA8tTk75OG",
        "colab_type": "code",
        "colab": {}
      },
      "cell_type": "code",
      "source": [
        "epochs = 20\n",
        "lr = 0.001\n",
        "batch_size = 64\n",
        "classifiers = 10\n",
        "\n",
        "for j in range(classifiers):\n",
        "  weight = initial_weight\n",
        "  for epoch in range(epochs):\n",
        "    shuffled_indices = np.random.permutation(m)\n",
        "    train_images_b_shuffled = train_images_b[shuffled_indices]\n",
        "    train_labels_shuffled = train_labels[:,j][shuffled_indices]   \n",
        "    for i in range(0,m,batch_size):\n",
        "      x_i = train_images_b_shuffled[i:i+batch_size]\n",
        "      y_i = train_labels_shuffled[i:i+batch_size]\n",
        "      y_i = y_i.reshape((y_i.size,1))\n",
        "      z = x_i.dot(weight)\n",
        "      a = sigmoid(z)\n",
        "      dlda = a-y_i\n",
        "      dadz=a*(1-a)\n",
        "      dzdw = x_i\n",
        "      #gradient = 1/batch_size * x_i.T.dot(dadz*dlda)\n",
        "      gradient = 1/batch_size * x_i.T.dot(a - y_i)\n",
        "      weight = weight - lr * gradient\n",
        "  weight_10[:,j] = weight.reshape(785,)"
      ],
      "execution_count": 0,
      "outputs": []
    },
    {
      "metadata": {
        "id": "PfaoTj-_8DY-",
        "colab_type": "code",
        "colab": {
          "base_uri": "https://localhost:8080/",
          "height": 87
        },
        "outputId": "8d914f0a-9186-4bdd-9ed6-5214c948b716"
      },
      "cell_type": "code",
      "source": [
        "z_pred = train_images_b[2].dot(weight_10)\n",
        "a_pred = sigmoid(z_pred)\n",
        "print(a_pred)\n",
        "print(\"Prediction=\",np.argmax(a_pred))\n",
        "print(\"true_label = \" , train_labels_original[2])"
      ],
      "execution_count": 67,
      "outputs": [
        {
          "output_type": "stream",
          "text": [
            "[0.05754727 0.00782248 0.11759689 0.22398884 0.774681   0.05525691\n",
            " 0.09438979 0.04673161 0.08032    0.27479946]\n",
            "Prediction= 4\n",
            "true_label =  4\n"
          ],
          "name": "stdout"
        }
      ]
    },
    {
      "metadata": {
        "id": "-POCx5xi8EH-",
        "colab_type": "code",
        "colab": {
          "base_uri": "https://localhost:8080/",
          "height": 35
        },
        "outputId": "cfb29d9c-bfb0-4f3c-9ef1-8b3b14682943"
      },
      "cell_type": "code",
      "source": [
        "z_pred_test = test_images_b.dot(weight_10)\n",
        "a_pred_test = sigmoid(z_pred_test)\n",
        "\n",
        "a_pred_test_numb=np.argmax(a_pred_test,axis=1)\n",
        "a_pred_test_numb.shape\n",
        "\n",
        "np.sum(a_pred_test_numb==test_labels_original)/test_labels_original.shape[0]"
      ],
      "execution_count": 68,
      "outputs": [
        {
          "output_type": "execute_result",
          "data": {
            "text/plain": [
              "0.8729"
            ]
          },
          "metadata": {
            "tags": []
          },
          "execution_count": 68
        }
      ]
    },
    {
      "metadata": {
        "id": "7ctzMUL6-MZP",
        "colab_type": "text"
      },
      "cell_type": "markdown",
      "source": [
        "## Problem 3\n",
        "- Load the training and test data using Keras, no validation set needed.\n",
        "- Create network with an input layer consisting of 28 x 28 input neurons and an output layer consisting of 10 output neurons.\n",
        "- Use softmax and categorical cross entropy loss.\n",
        "- Implement mini-batch stochastic gradient descent using only numpy, that is, you are not allowed to use TensorFlow/Keras for SGD."
      ]
    },
    {
      "metadata": {
        "id": "Z8Ou1ZeEZpEj",
        "colab_type": "code",
        "colab": {}
      },
      "cell_type": "code",
      "source": [
        "train_images_b, train_labels,test_images_b, test_labels = load_data_bias()"
      ],
      "execution_count": 0,
      "outputs": []
    },
    {
      "metadata": {
        "id": "uw_DcCKeatQK",
        "colab_type": "code",
        "colab": {}
      },
      "cell_type": "code",
      "source": [
        "np.random.seed(42)\n",
        "#initial_weight = np.random.randn(image_size+1,10)\n",
        "initial_weight = np.zeros((image_size+1,10))\n",
        "weight_path_mgd = []\n",
        "batch_size = 40\n",
        "#initial_weight"
      ],
      "execution_count": 0,
      "outputs": []
    },
    {
      "metadata": {
        "id": "Owj522VEOwHZ",
        "colab_type": "code",
        "colab": {}
      },
      "cell_type": "code",
      "source": [
        "epochs = 20\n",
        "lr = 0.001\n",
        "weight = initial_weight\n",
        "\n",
        "weight_path_mgd.append(weight)\n",
        "for epoch in range(epochs):\n",
        "    shuffled_indices = np.random.permutation(m)\n",
        "    train_images_b_shuffled = train_images_b[shuffled_indices]\n",
        "    train_labels_shuffled = train_labels[shuffled_indices]\n",
        "    for i in range(0, m, batch_size):\n",
        "      x_i = train_images_b_shuffled[i:i+batch_size]\n",
        "      y_i = train_labels_shuffled[i:i+batch_size]\n",
        "      z = x_i.dot(weight)\n",
        "      a = softmax(z)        \n",
        "      gradient = 1/batch_size * x_i.T.dot(a - y_i)\n",
        "      weight = weight - lr * gradient\n",
        "      weight_path_mgd.append(weight) "
      ],
      "execution_count": 0,
      "outputs": []
    },
    {
      "metadata": {
        "id": "72LAURd9cK0s",
        "colab_type": "code",
        "outputId": "193a7526-45a5-4b7f-97e2-6624c5e85a6c",
        "colab": {
          "base_uri": "https://localhost:8080/",
          "height": 87
        }
      },
      "cell_type": "code",
      "source": [
        "#For Training and Testing Accuracy\n",
        "\n",
        "mt=test_labels_original.shape[0]\n",
        "predicted_labels_test_raw=test(test_images_b.dot(weight))  \n",
        "print(predicted_labels_test_raw.shape)\n",
        "predicted_labels_test=np.argmax(predicted_labels_test_raw,axis=1)\n",
        "print(predicted_labels_test.shape)\n",
        "print(test_labels_original.shape)\n",
        "predicted_labels_test = predicted_labels_test.astype('uint8')\n",
        "test_labels_original=test_labels_original.astype('uint8')\n",
        "\n",
        "wrong_indices_test = [i for i in range(mt) if predicted_labels_test[i] != test_labels_original[i]]\n",
        "# The quantity below is equal to the test accuracy reported by the network fit method.\n",
        "acc_test=1.0 - len(wrong_indices_test) / mt\n",
        "print(\"Test acc= \",acc_test)"
      ],
      "execution_count": 81,
      "outputs": [
        {
          "output_type": "stream",
          "text": [
            "(10000, 10)\n",
            "(10000,)\n",
            "(10000,)\n",
            "Test acc=  0.8929\n"
          ],
          "name": "stdout"
        }
      ]
    },
    {
      "metadata": {
        "id": "jM98Wwzi-QJG",
        "colab_type": "text"
      },
      "cell_type": "markdown",
      "source": [
        "## Problem 4\n",
        "Reimplement the network from Problem 3 entirely in Keras."
      ]
    },
    {
      "metadata": {
        "id": "W9ZAQlsWL7d_",
        "colab_type": "code",
        "colab": {}
      },
      "cell_type": "code",
      "source": [
        "train_images = train_images_original.reshape((60000, 28 * 28))\n",
        "train_images = train_images.astype('float32') / 255\n",
        "\n",
        "test_images = test_images_original.reshape((10000, 28 * 28))\n",
        "test_images = test_images.astype('float32') / 255\n",
        "#train_images_original.shape"
      ],
      "execution_count": 0,
      "outputs": []
    },
    {
      "metadata": {
        "id": "domURlv2NjFu",
        "colab_type": "code",
        "colab": {}
      },
      "cell_type": "code",
      "source": [
        "from keras.utils import to_categorical\n",
        "\n",
        "train_labels = to_categorical(train_labels_original)\n",
        "test_labels = to_categorical(test_labels_original)\n",
        "#test_labels"
      ],
      "execution_count": 0,
      "outputs": []
    },
    {
      "metadata": {
        "id": "8johAcgDOBlc",
        "colab_type": "code",
        "outputId": "8d1fce1c-3ea5-4725-bd97-dd12a351aed0",
        "colab": {
          "base_uri": "https://localhost:8080/",
          "height": 245
        }
      },
      "cell_type": "code",
      "source": [
        "from keras import models\n",
        "from keras import layers\n",
        "\n",
        "network = models.Sequential()\n",
        "#network.add(layers.Dense(28*28, activation='relu', input_shape=(28 * 28,)))\n",
        "network.add(layers.Dense(10, activation='softmax',input_shape=(28 * 28,)))\n",
        "network.summary()"
      ],
      "execution_count": 86,
      "outputs": [
        {
          "output_type": "stream",
          "text": [
            "WARNING:tensorflow:From /usr/local/lib/python3.6/dist-packages/tensorflow/python/framework/op_def_library.py:263: colocate_with (from tensorflow.python.framework.ops) is deprecated and will be removed in a future version.\n",
            "Instructions for updating:\n",
            "Colocations handled automatically by placer.\n",
            "_________________________________________________________________\n",
            "Layer (type)                 Output Shape              Param #   \n",
            "=================================================================\n",
            "dense_1 (Dense)              (None, 10)                7850      \n",
            "=================================================================\n",
            "Total params: 7,850\n",
            "Trainable params: 7,850\n",
            "Non-trainable params: 0\n",
            "_________________________________________________________________\n"
          ],
          "name": "stdout"
        }
      ]
    },
    {
      "metadata": {
        "id": "HZT0zpBQOtqM",
        "colab_type": "code",
        "colab": {}
      },
      "cell_type": "code",
      "source": [
        "network.compile(optimizer='sgd',\n",
        "                loss='categorical_crossentropy',\n",
        "                metrics=['accuracy'])"
      ],
      "execution_count": 0,
      "outputs": []
    },
    {
      "metadata": {
        "id": "lT8y2kRrPaC8",
        "colab_type": "code",
        "outputId": "48175317-8646-4b56-afe0-e32658241da1",
        "colab": {
          "base_uri": "https://localhost:8080/",
          "height": 453
        }
      },
      "cell_type": "code",
      "source": [
        "epochs = 10\n",
        "history = network.fit(train_images, \n",
        "                      train_labels, \n",
        "                      epochs=epochs, \n",
        "                      batch_size=128, \n",
        "                      validation_data=(test_images, test_labels))"
      ],
      "execution_count": 88,
      "outputs": [
        {
          "output_type": "stream",
          "text": [
            "WARNING:tensorflow:From /usr/local/lib/python3.6/dist-packages/tensorflow/python/ops/math_ops.py:3066: to_int32 (from tensorflow.python.ops.math_ops) is deprecated and will be removed in a future version.\n",
            "Instructions for updating:\n",
            "Use tf.cast instead.\n",
            "Train on 60000 samples, validate on 10000 samples\n",
            "Epoch 1/10\n",
            "60000/60000 [==============================] - 4s 66us/step - loss: 1.2907 - acc: 0.6877 - val_loss: 0.8149 - val_acc: 0.8295\n",
            "Epoch 2/10\n",
            "60000/60000 [==============================] - 2s 28us/step - loss: 0.7196 - acc: 0.8384 - val_loss: 0.6082 - val_acc: 0.8611\n",
            "Epoch 3/10\n",
            "60000/60000 [==============================] - 2s 29us/step - loss: 0.5885 - acc: 0.8581 - val_loss: 0.5254 - val_acc: 0.8719\n",
            "Epoch 4/10\n",
            "60000/60000 [==============================] - 2s 29us/step - loss: 0.5259 - acc: 0.8678 - val_loss: 0.4793 - val_acc: 0.8811\n",
            "Epoch 5/10\n",
            "60000/60000 [==============================] - 2s 31us/step - loss: 0.4879 - acc: 0.8746 - val_loss: 0.4491 - val_acc: 0.8860\n",
            "Epoch 6/10\n",
            "60000/60000 [==============================] - 2s 35us/step - loss: 0.4618 - acc: 0.8798 - val_loss: 0.4277 - val_acc: 0.8902\n",
            "Epoch 7/10\n",
            "60000/60000 [==============================] - 2s 35us/step - loss: 0.4426 - acc: 0.8835 - val_loss: 0.4115 - val_acc: 0.8939\n",
            "Epoch 8/10\n",
            "60000/60000 [==============================] - 2s 35us/step - loss: 0.4276 - acc: 0.8865 - val_loss: 0.3992 - val_acc: 0.8951\n",
            "Epoch 9/10\n",
            "60000/60000 [==============================] - 2s 35us/step - loss: 0.4156 - acc: 0.8889 - val_loss: 0.3886 - val_acc: 0.8984\n",
            "Epoch 10/10\n",
            "60000/60000 [==============================] - 2s 35us/step - loss: 0.4055 - acc: 0.8909 - val_loss: 0.3801 - val_acc: 0.8982\n"
          ],
          "name": "stdout"
        }
      ]
    },
    {
      "metadata": {
        "id": "bCzA_kZ-R1GO",
        "colab_type": "code",
        "colab": {}
      },
      "cell_type": "code",
      "source": [
        "history_dict = history.history\n",
        "loss_values = history_dict['loss']\n",
        "test_loss_values = history_dict['val_loss']\n",
        "epochs_range = range(1, epochs + 1)"
      ],
      "execution_count": 0,
      "outputs": []
    },
    {
      "metadata": {
        "id": "f4wF0qIOR5HF",
        "colab_type": "code",
        "outputId": "b807bf20-83fa-4c7c-df8a-698a87b5c6f9",
        "colab": {
          "base_uri": "https://localhost:8080/",
          "height": 377
        }
      },
      "cell_type": "code",
      "source": [
        "\n",
        "plt.plot(epochs_range, loss_values, 'bo', label='Training loss')\n",
        "plt.plot(epochs_range, test_loss_values, 'ro', label='Test loss')\n",
        "plt.title('Training and test loss')\n",
        "plt.xlabel('Epochs')\n",
        "plt.ylabel('Loss')\n",
        "plt.legend()\n",
        "plt.show()"
      ],
      "execution_count": 90,
      "outputs": [
        {
          "output_type": "display_data",
          "data": {
            "image/png": "[encoded data removed]",
            "text/plain": [
              "<Figure size 576x396 with 1 Axes>"
            ]
          },
          "metadata": {
            "tags": []
          }
        }
      ]
    },
    {
      "metadata": {
        "id": "rDEC8H3vdwL-",
        "colab_type": "text"
      },
      "cell_type": "markdown",
      "source": [
        "###Add a plot for training and test loss"
      ]
    },
    {
      "metadata": {
        "id": "r9ZsMF6iVBmv",
        "colab_type": "code",
        "colab": {
          "base_uri": "https://localhost:8080/",
          "height": 52
        },
        "outputId": "b2a7b29a-9313-4f8a-82a0-d5187e468617"
      },
      "cell_type": "code",
      "source": [
        "test_loss, test_acc = network.evaluate(test_images, test_labels)\n",
        "\n",
        "print('Test accuracy:', test_acc)"
      ],
      "execution_count": 91,
      "outputs": [
        {
          "output_type": "stream",
          "text": [
            "10000/10000 [==============================] - 0s 47us/step\n",
            "Test accuracy: 0.8982\n"
          ],
          "name": "stdout"
        }
      ]
    },
    {
      "metadata": {
        "id": "cHSfWEWJ-TpS",
        "colab_type": "text"
      },
      "cell_type": "markdown",
      "source": [
        "## Problem 5\n",
        "Extend the network from Problem 4 by adding new features.\n",
        "- Round the grey values of the images to 1 and 0 so you obtain black and white images. Add as an additional feature the number of white regions. For instance, a typical 0 has 2 white regions and 8 has 3. Use the following neighborhoods for pixels:\n",
        "\n",
        "```\n",
        "pixel x,y (indicated by .) is connected to its neighbors (indicated by o):\n",
        "\n",
        " o\n",
        "o.o  \n",
        " o\n",
        " \n",
        "ooo\n",
        "o.o\n",
        "ooo\n",
        "```\n",
        "- Consider the width.\n",
        "- Consider the height.\n",
        "- Come up with other features.\n",
        "\n",
        "You should normalize your new features so that they are at the same scale as the pixel values (between 0 and 1)."
      ]
    },
    {
      "metadata": {
        "id": "IM5yz84l-bAf",
        "colab_type": "code",
        "colab": {
          "base_uri": "https://localhost:8080/",
          "height": 321
        },
        "outputId": "32a7fa03-a1da-45f5-88e6-2a5b9ce0dd0a"
      },
      "cell_type": "code",
      "source": [
        "#Before Normalizing the image pixels\n",
        "digit_0 = train_images_original[0]\n",
        "digit_0.shape\n",
        "plt.figure(figsize=(5,5))\n",
        "plt.imshow(digit_0)\n",
        "plt.grid(None)\n",
        "plt.show()"
      ],
      "execution_count": 21,
      "outputs": [
        {
          "output_type": "display_data",
          "data": {
            "image/png": "[encoded data removed]",
            "text/plain": [
              "<Figure size 360x360 with 1 Axes>"
            ]
          },
          "metadata": {
            "tags": []
          }
        }
      ]
    },
    {
      "metadata": {
        "id": "EDsfMHWQUF8P",
        "colab_type": "code",
        "colab": {
          "base_uri": "https://localhost:8080/",
          "height": 52
        },
        "outputId": "b6b395d4-078b-4bc5-ca89-b146198cf966"
      },
      "cell_type": "code",
      "source": [
        "label_0 = train_labels_original[0]\n",
        "print(label_0)\n",
        "\n",
        "for i in range(train_labels_original.shape[0]):\n",
        "  if train_labels_original[i] == 8:\n",
        "    break\n",
        "i\n",
        "    "
      ],
      "execution_count": 51,
      "outputs": [
        {
          "output_type": "stream",
          "text": [
            "5\n"
          ],
          "name": "stdout"
        },
        {
          "output_type": "execute_result",
          "data": {
            "text/plain": [
              "17"
            ]
          },
          "metadata": {
            "tags": []
          },
          "execution_count": 51
        }
      ]
    },
    {
      "metadata": {
        "id": "BrZgiyP8Y3fv",
        "colab_type": "code",
        "colab": {}
      },
      "cell_type": "code",
      "source": [
        "train_images = train_images_original.reshape((60000, 28 * 28))\n",
        "train_images = train_images.astype('float32') / 255\n",
        "\n",
        "test_images = test_images_original.reshape((10000, 28 * 28))\n",
        "test_images = test_images.astype('float32') / 255"
      ],
      "execution_count": 0,
      "outputs": []
    },
    {
      "metadata": {
        "id": "Lqj5mOSNkRoZ",
        "colab_type": "code",
        "colab": {
          "base_uri": "https://localhost:8080/",
          "height": 338
        },
        "outputId": "cfb9a103-56c3-428b-f9fc-1bafcbc04fd1"
      },
      "cell_type": "code",
      "source": [
        "#before filtering\n",
        "digit_0 = train_images[0]\n",
        "digit_0 = digit_0.reshape((28,28))\n",
        "print(digit_0.shape)\n",
        "plt.figure(figsize=(5,5))\n",
        "plt.imshow(digit_0)\n",
        "plt.grid(None)\n",
        "plt.show()"
      ],
      "execution_count": 24,
      "outputs": [
        {
          "output_type": "stream",
          "text": [
            "(28, 28)\n"
          ],
          "name": "stdout"
        },
        {
          "output_type": "display_data",
          "data": {
            "image/png": "[encoded data removed]",
            "text/plain": [
              "<Figure size 360x360 with 1 Axes>"
            ]
          },
          "metadata": {
            "tags": []
          }
        }
      ]
    },
    {
      "metadata": {
        "id": "wDfuv3iUTpqC",
        "colab_type": "code",
        "colab": {}
      },
      "cell_type": "code",
      "source": [
        "#Filtering all images by rounding off\n",
        "\n",
        "#For now just use double for loops. Change it later to a built-in function\n",
        "train_images_f = train_images\n",
        "for i in range(train_images.shape[0]):\n",
        "  for j in range(train_images.shape[1]):\n",
        "    if train_images[i][j] <0.5:\n",
        "      train_images_f[i][j] = 0\n",
        "    else:\n",
        "      train_images_f[i][j] = 1\n",
        "      \n",
        "test_images_f = test_images\n",
        "for i in range(test_images.shape[0]):\n",
        "  for j in range(test_images.shape[1]):\n",
        "    if test_images[i][j] <0.5:\n",
        "      test_images_f[i][j] = 0\n",
        "    else:\n",
        "      test_images_f[i][j] = 1\n",
        "\n",
        "    \n",
        "      "
      ],
      "execution_count": 0,
      "outputs": []
    },
    {
      "metadata": {
        "id": "DOwYHUJjijmo",
        "colab_type": "code",
        "colab": {
          "base_uri": "https://localhost:8080/",
          "height": 338
        },
        "outputId": "548b0636-992c-40b4-b761-beb91449d1f3"
      },
      "cell_type": "code",
      "source": [
        "#after filtering\n",
        "digit_0 = train_images[0]\n",
        "digit_0 = digit_0.reshape((28,28))\n",
        "print(digit_0.shape)\n",
        "plt.figure(figsize=(5,5))\n",
        "plt.imshow(digit_0)\n",
        "plt.grid(None)\n",
        "plt.show()"
      ],
      "execution_count": 54,
      "outputs": [
        {
          "output_type": "stream",
          "text": [
            "(28, 28)\n"
          ],
          "name": "stdout"
        },
        {
          "output_type": "display_data",
          "data": {
            "image/png": "[encoded data removed]",
            "text/plain": [
              "<Figure size 360x360 with 1 Axes>"
            ]
          },
          "metadata": {
            "tags": []
          }
        }
      ]
    },
    {
      "metadata": {
        "id": "pPhhbnRbAHL4",
        "colab_type": "code",
        "colab": {}
      },
      "cell_type": "code",
      "source": [
        "#Functions for calculating the number of connected components\n",
        "# A function to check if a given cell  \n",
        "# (row, col) can be included in DFS \n",
        "def is_valid(mat_2d, i, j, visited, row, col): \n",
        "    # row number is in range, column number \n",
        "    # is in range and value is 1  \n",
        "    # and not yet visited \n",
        "    return (i >= 0 and i < row and j >= 0 and j < col and \n",
        "            not visited[i][j] and mat_2d[i][j] == 0) \n",
        "\n",
        "\n",
        "# A utility function to do DFS for a 2D  \n",
        "# boolean matrix. It only considers \n",
        "# the 8 neighbours as adjacent vertices \n",
        "def DFS(mat_2d, i, j, visited, row, col): \n",
        "\n",
        "    # These arrays are used to get row and  \n",
        "    # column numbers of 8 neighbours  \n",
        "    # of a given cell \n",
        "    rowNbr = [-1, -1, -1,  0, 0,  1, 1, 1]; \n",
        "    colNbr = [-1,  0,  1, -1, 1, -1, 0, 1]; \n",
        "\n",
        "    # Mark this cell as visited \n",
        "    visited[i][j] = True\n",
        "\n",
        "    # Recur for all connected neighbours \n",
        "    for k in range(8): \n",
        "        if is_valid(mat_2d, i + rowNbr[k], j + colNbr[k], visited, row, col): \n",
        "            DFS(mat_2d, i + rowNbr[k], j + colNbr[k], visited, row, col)             \n",
        "            \n",
        "def num_connected_comp(mat_2d, row, col): \n",
        "    # Make a bool array to mark visited cells. \n",
        "    # Initially all cells are unvisited \n",
        "    visited = [[False for j in range(col)]for i in range(row)] \n",
        "\n",
        "    # Initialize count as 0 and travese  \n",
        "    # through the all cells of \n",
        "    # given matrix \n",
        "    count = 0\n",
        "    for i in range(row): \n",
        "        for j in range(col): \n",
        "            # If a cell with value 1 is not visited yet,  \n",
        "            # then new island found \n",
        "            if visited[i][j] == False and mat_2d[i][j] ==0: \n",
        "                # Visit all cells in this island  \n",
        "                # and increment island count \n",
        "                DFS(mat_2d, i, j, visited, row, col)\n",
        "                #print(count)\n",
        "                count += 1\n",
        "    return count"
      ],
      "execution_count": 0,
      "outputs": []
    },
    {
      "metadata": {
        "id": "BBkoTYob-Zic",
        "colab_type": "text"
      },
      "cell_type": "markdown",
      "source": [
        ""
      ]
    },
    {
      "metadata": {
        "id": "ynsUrqtjxITu",
        "colab_type": "code",
        "colab": {
          "base_uri": "https://localhost:8080/",
          "height": 373
        },
        "outputId": "18c41910-8735-4b5b-c48d-eca33b3227e2"
      },
      "cell_type": "code",
      "source": [
        "#Trying out the above connected component function for 1 image\n",
        "\n",
        "digit_1 = train_images_f[17]\n",
        "digit_1 = digit_1.reshape((28,28))\n",
        "print(digit_1.shape)\n",
        "plt.figure(figsize=(5,5))\n",
        "plt.imshow(digit_1)\n",
        "plt.grid(None)\n",
        "plt.show()\n",
        "\n",
        "#first reshape the image into 28x28\n",
        "mat_2d = digit_1\n",
        "row = mat_2d.shape[0]\n",
        "col = mat_2d.shape[1]\n",
        "print(\"row = \", row, \"col = \", col)\n",
        "result = num_connected_comp(mat_2d, row, col)\n",
        "result"
      ],
      "execution_count": 56,
      "outputs": [
        {
          "output_type": "stream",
          "text": [
            "(28, 28)\n"
          ],
          "name": "stdout"
        },
        {
          "output_type": "display_data",
          "data": {
            "image/png": "[encoded data removed]",
            "text/plain": [
              "<Figure size 360x360 with 1 Axes>"
            ]
          },
          "metadata": {
            "tags": []
          }
        },
        {
          "output_type": "stream",
          "text": [
            "row =  28 col =  28\n"
          ],
          "name": "stdout"
        },
        {
          "output_type": "execute_result",
          "data": {
            "text/plain": [
              "3"
            ]
          },
          "metadata": {
            "tags": []
          },
          "execution_count": 56
        }
      ]
    },
    {
      "metadata": {
        "id": "uitbAZexS7Kt",
        "colab_type": "code",
        "colab": {}
      },
      "cell_type": "code",
      "source": [
        "#Now calculate number of white regions for all the training images\n",
        "m  = 60000\n",
        "n = 10000\n",
        "\n",
        "cc_feature_train = np.empty((m,1))\n",
        "#print(cc_feature.shape)\n",
        "for i in range(m):\n",
        "  mat_2d = train_images_f[i].reshape((28,28))\n",
        "  row = mat_2d.shape[0]\n",
        "  col = mat_2d.shape[1]\n",
        "  cc_feature_train[i] = num_connected_comp(mat_2d, row, col)\n",
        "\n",
        "cc_feature_test = np.empty((n,1))\n",
        "#print(cc_feature_test.shape)\n",
        "for i in range(n):\n",
        "  mat_2d = test_images_f[i].reshape((28,28))\n",
        "  row = mat_2d.shape[0]\n",
        "  col = mat_2d.shape[1]\n",
        "  cc_feature_test[i] = num_connected_comp(mat_2d, row, col)\n",
        "  "
      ],
      "execution_count": 0,
      "outputs": []
    },
    {
      "metadata": {
        "id": "_OcHbuuGXk7i",
        "colab_type": "code",
        "colab": {
          "base_uri": "https://localhost:8080/",
          "height": 35
        },
        "outputId": "62f439db-4343-4b7f-a48f-84ea2ab294bb"
      },
      "cell_type": "code",
      "source": [
        "cc_feature_train[17]"
      ],
      "execution_count": 58,
      "outputs": [
        {
          "output_type": "execute_result",
          "data": {
            "text/plain": [
              "array([3.])"
            ]
          },
          "metadata": {
            "tags": []
          },
          "execution_count": 58
        }
      ]
    },
    {
      "metadata": {
        "id": "KdVh04e0flo-",
        "colab_type": "code",
        "colab": {}
      },
      "cell_type": "code",
      "source": [
        "#now normalize cc_feature_train\n",
        "max_cc_val = np.max(cc_feature_train)\n",
        "cc_feature_train_norm = cc_feature_train / max_cc_val\n",
        "cc_feature_train_norm.shape\n",
        "\n",
        "#now normalize cc_feature_test\n",
        "max_cc_val = np.max(cc_feature_test)\n",
        "cc_feature_test_norm = cc_feature_test / max_cc_val\n",
        "#cc_feature_train_norm.shape"
      ],
      "execution_count": 0,
      "outputs": []
    },
    {
      "metadata": {
        "id": "2yB2IGygYDBZ",
        "colab_type": "code",
        "colab": {
          "base_uri": "https://localhost:8080/",
          "height": 69
        },
        "outputId": "a5936ee5-bd25-4b4a-e80f-9a27d96b97b2"
      },
      "cell_type": "code",
      "source": [
        "#Add this extra feature to training images\n",
        "train_images_f_cc = np.c_[cc_feature_train_norm, train_images_f]\n",
        "#train_images_f_cc.shape\n",
        "\n",
        "#Add this extra feature to test images\n",
        "print(cc_feature_test_norm.shape)\n",
        "print(test_images_f.shape)\n",
        "test_images_f_cc = np.c_[cc_feature_test_norm, test_images_f]\n",
        "train_images_f_cc.shape\n",
        "\n"
      ],
      "execution_count": 100,
      "outputs": [
        {
          "output_type": "stream",
          "text": [
            "(10000, 1)\n",
            "(10000, 784)\n"
          ],
          "name": "stdout"
        },
        {
          "output_type": "execute_result",
          "data": {
            "text/plain": [
              "(60000, 785)"
            ]
          },
          "metadata": {
            "tags": []
          },
          "execution_count": 100
        }
      ]
    },
    {
      "metadata": {
        "id": "BHrv5TJ4ikJu",
        "colab_type": "code",
        "colab": {}
      },
      "cell_type": "code",
      "source": [
        "#doing one-hot encoding on the labels\n",
        "train_labels = to_categorical(train_labels_original)\n",
        "test_labels = to_categorical(test_labels_original)"
      ],
      "execution_count": 0,
      "outputs": []
    },
    {
      "metadata": {
        "id": "c8cCqm1L0t5D",
        "colab_type": "code",
        "colab": {
          "base_uri": "https://localhost:8080/",
          "height": 173
        },
        "outputId": "fa2a364f-4e80-40ae-8b54-1e353ad9982a"
      },
      "cell_type": "code",
      "source": [
        "from keras import models\n",
        "from keras import layers\n",
        "\n",
        "network = models.Sequential()\n",
        "#network.add(layers.Dense(28*28, activation='relu', input_shape=(28 * 28,)))\n",
        "network.add(layers.Dense(10, activation='softmax',input_shape=(28 * 28+1,)))\n",
        "network.summary()"
      ],
      "execution_count": 102,
      "outputs": [
        {
          "output_type": "stream",
          "text": [
            "_________________________________________________________________\n",
            "Layer (type)                 Output Shape              Param #   \n",
            "=================================================================\n",
            "dense_6 (Dense)              (None, 10)                7860      \n",
            "=================================================================\n",
            "Total params: 7,860\n",
            "Trainable params: 7,860\n",
            "Non-trainable params: 0\n",
            "_________________________________________________________________\n"
          ],
          "name": "stdout"
        }
      ]
    },
    {
      "metadata": {
        "id": "37CA9MME2CA1",
        "colab_type": "code",
        "colab": {}
      },
      "cell_type": "code",
      "source": [
        "network.compile(optimizer='sgd',\n",
        "                loss='categorical_crossentropy',\n",
        "                metrics=['accuracy'])"
      ],
      "execution_count": 0,
      "outputs": []
    },
    {
      "metadata": {
        "id": "XDKDHKfe1wfe",
        "colab_type": "code",
        "colab": {
          "base_uri": "https://localhost:8080/",
          "height": 555
        },
        "outputId": "d87106b1-a37f-425b-92fa-cf87f10901bc"
      },
      "cell_type": "code",
      "source": [
        "epochs = 15\n",
        "history = network.fit(train_images_f_cc, \n",
        "                      train_labels, \n",
        "                      epochs=epochs, \n",
        "                      batch_size=128, \n",
        "                      validation_data=(test_images_f_cc, test_labels))"
      ],
      "execution_count": 104,
      "outputs": [
        {
          "output_type": "stream",
          "text": [
            "Train on 60000 samples, validate on 10000 samples\n",
            "Epoch 1/15\n",
            "60000/60000 [==============================] - 2s 33us/step - loss: 1.2634 - acc: 0.6880 - val_loss: 0.7938 - val_acc: 0.8336\n",
            "Epoch 2/15\n",
            "60000/60000 [==============================] - 2s 32us/step - loss: 0.7053 - acc: 0.8383 - val_loss: 0.5992 - val_acc: 0.8626\n",
            "Epoch 3/15\n",
            "60000/60000 [==============================] - 2s 33us/step - loss: 0.5824 - acc: 0.8565 - val_loss: 0.5219 - val_acc: 0.8729\n",
            "Epoch 4/15\n",
            "60000/60000 [==============================] - 2s 33us/step - loss: 0.5233 - acc: 0.8659 - val_loss: 0.4785 - val_acc: 0.8809\n",
            "Epoch 5/15\n",
            "60000/60000 [==============================] - 2s 33us/step - loss: 0.4872 - acc: 0.8723 - val_loss: 0.4498 - val_acc: 0.8854\n",
            "Epoch 6/15\n",
            "60000/60000 [==============================] - 2s 32us/step - loss: 0.4622 - acc: 0.8776 - val_loss: 0.4293 - val_acc: 0.8882\n",
            "Epoch 7/15\n",
            "60000/60000 [==============================] - 2s 33us/step - loss: 0.4436 - acc: 0.8813 - val_loss: 0.4140 - val_acc: 0.8915\n",
            "Epoch 8/15\n",
            "60000/60000 [==============================] - 2s 32us/step - loss: 0.4290 - acc: 0.8841 - val_loss: 0.4017 - val_acc: 0.8943\n",
            "Epoch 9/15\n",
            "60000/60000 [==============================] - 2s 33us/step - loss: 0.4172 - acc: 0.8870 - val_loss: 0.3916 - val_acc: 0.8971\n",
            "Epoch 10/15\n",
            "60000/60000 [==============================] - 2s 33us/step - loss: 0.4073 - acc: 0.8888 - val_loss: 0.3832 - val_acc: 0.8983\n",
            "Epoch 11/15\n",
            "60000/60000 [==============================] - 2s 33us/step - loss: 0.3990 - acc: 0.8906 - val_loss: 0.3763 - val_acc: 0.9004\n",
            "Epoch 12/15\n",
            "60000/60000 [==============================] - 2s 33us/step - loss: 0.3917 - acc: 0.8924 - val_loss: 0.3698 - val_acc: 0.9019\n",
            "Epoch 13/15\n",
            "60000/60000 [==============================] - 2s 33us/step - loss: 0.3854 - acc: 0.8936 - val_loss: 0.3647 - val_acc: 0.9025\n",
            "Epoch 14/15\n",
            "60000/60000 [==============================] - 2s 32us/step - loss: 0.3797 - acc: 0.8950 - val_loss: 0.3595 - val_acc: 0.9041\n",
            "Epoch 15/15\n",
            "60000/60000 [==============================] - 2s 32us/step - loss: 0.3747 - acc: 0.8961 - val_loss: 0.3554 - val_acc: 0.9048\n"
          ],
          "name": "stdout"
        }
      ]
    },
    {
      "metadata": {
        "id": "J9I6RMZbZa0P",
        "colab_type": "code",
        "colab": {}
      },
      "cell_type": "code",
      "source": [
        "history_dict = history.history\n",
        "loss_values = history_dict['loss']\n",
        "test_loss_values = history_dict['val_loss']\n",
        "epochs_range = range(1, epochs + 1)"
      ],
      "execution_count": 0,
      "outputs": []
    },
    {
      "metadata": {
        "id": "pvSoeX6BZiiz",
        "colab_type": "code",
        "colab": {
          "base_uri": "https://localhost:8080/",
          "height": 377
        },
        "outputId": "44223a07-cc8b-4f3d-f997-9e39fb258658"
      },
      "cell_type": "code",
      "source": [
        "plt.plot(epochs_range, loss_values, 'bo', label='Training loss')\n",
        "plt.plot(epochs_range, test_loss_values, 'ro', label='Test loss')\n",
        "plt.title('Training and test loss')\n",
        "plt.xlabel('Epochs')\n",
        "plt.ylabel('Loss')\n",
        "plt.legend()\n",
        "plt.show()"
      ],
      "execution_count": 106,
      "outputs": [
        {
          "output_type": "display_data",
          "data": {
            "image/png": "[encoded data removed]",
            "text/plain": [
              "<Figure size 576x396 with 1 Axes>"
            ]
          },
          "metadata": {
            "tags": []
          }
        }
      ]
    },
    {
      "metadata": {
        "id": "ULYMCY9wbq_g",
        "colab_type": "code",
        "colab": {
          "base_uri": "https://localhost:8080/",
          "height": 52
        },
        "outputId": "1208deac-7c25-41d4-8ad6-7ae95338103c"
      },
      "cell_type": "code",
      "source": [
        "test_loss, test_acc = network.evaluate(test_images_f_cc, test_labels)\n",
        "\n",
        "print('Test accuracy:', test_acc)"
      ],
      "execution_count": 107,
      "outputs": [
        {
          "output_type": "stream",
          "text": [
            "10000/10000 [==============================] - 0s 45us/step\n",
            "Test accuracy: 0.9048\n"
          ],
          "name": "stdout"
        }
      ]
    }
  ]
}