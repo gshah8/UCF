{
  "nbformat": 4,
  "nbformat_minor": 0,
  "metadata": {
    "colab": {
      "name": "HW1.ipynb",
      "version": "0.3.2",
      "provenance": [],
      "include_colab_link": true
    },
    "kernelspec": {
      "name": "python3",
      "display_name": "Python 3"
    },
    "accelerator": "GPU"
  },
  "cells": [
    {
      "cell_type": "markdown",
      "metadata": {
        "id": "view-in-github",
        "colab_type": "text"
      },
      "source": [
        "<a href=\"https://colab.research.google.com/github/gshah8/UCF/blob/master/Machine_Learning/HW1.ipynb\" target=\"_parent\"><img src=\"https://colab.research.google.com/assets/colab-badge.svg\" alt=\"Open In Colab\"/></a>"
      ]
    },
    {
      "metadata": {
        "id": "KMwRoxS15IAB",
        "colab_type": "text"
      },
      "cell_type": "markdown",
      "source": [
        "# HW 1 \n",
        "\n",
        "This homework will get you up to speed with Python programming, numpy, matplotlib, Keras, gradients, partial derivatives, git, GitHub, Google's colaboratory etc. Have fun!\n",
        "\n",
        "For this homework, you will create neural networks with an input layer and an output layer without any hidden layers. The connections are dense: each input neuron is connected to each output neuron.\n",
        "\n",
        "Instructions for problems 1 and 2:\n",
        "- Load the training and test data using Keras, no validation set needed.\n",
        "- Train 10 classifiers that perform binary classification: *Is the input image the digit i or is it a digit different from i?* Each of the ten classifiers has an input layer consisting of 28 x 28 input neurons and an output layer consisting of a single output neuron.\n",
        "- Implement mini-batch stochastic gradient descent using only numpy, that is, you are not allowed to use TensorFlow/Keras for SGD.\n",
        "- Use ```argmax``` to determine the classifier with the strongest output and declare the corresponding digit as output.\n",
        "\n",
        "## Problem 1\n",
        "Use logistic regression with mean squared error loss."
      ]
    },
    {
      "metadata": {
        "id": "4XwQkWl55lCZ",
        "colab_type": "code",
        "colab": {}
      },
      "cell_type": "code",
      "source": [
        ""
      ],
      "execution_count": 0,
      "outputs": []
    },
    {
      "metadata": {
        "id": "bN-mUe3l9zOH",
        "colab_type": "text"
      },
      "cell_type": "markdown",
      "source": [
        "## Problem 2\n",
        "Use logistic regression with binary cross entropy loss."
      ]
    },
    {
      "metadata": {
        "id": "4q9XBuNV99LW",
        "colab_type": "code",
        "colab": {}
      },
      "cell_type": "code",
      "source": [
        ""
      ],
      "execution_count": 0,
      "outputs": []
    },
    {
      "metadata": {
        "id": "7ctzMUL6-MZP",
        "colab_type": "text"
      },
      "cell_type": "markdown",
      "source": [
        "## Problem 3\n",
        "- Load the training and test data using Keras, no validation set needed.\n",
        "- Create network with an input layer consisting of 28 x 28 input neurons and an output layer consisting of 10 output neurons.\n",
        "- Use softmax and categorical cross entropy loss.\n",
        "- Implement mini-batch stochastic gradient descent using only numpy, that is, you are not allowed to use TensorFlow/Keras for SGD."
      ]
    },
    {
      "metadata": {
        "id": "6u5AvT1V-PX7",
        "colab_type": "code",
        "colab": {
          "base_uri": "https://localhost:8080/",
          "height": 35
        },
        "outputId": "eb20d284-1f04-41e9-bb37-1c034a371da6"
      },
      "cell_type": "code",
      "source": [
        "#Load data\n",
        "import numpy as np\n",
        "from keras.datasets import mnist\n",
        "\n",
        "(train_images_original, train_labels_original), (test_images_original, test_labels_original) = mnist.load_data()"
      ],
      "execution_count": 1,
      "outputs": [
        {
          "output_type": "stream",
          "text": [
            "Using TensorFlow backend.\n"
          ],
          "name": "stderr"
        }
      ]
    },
    {
      "metadata": {
        "id": "-Q_ZrNeDaFvA",
        "colab_type": "code",
        "colab": {}
      },
      "cell_type": "code",
      "source": [
        "#for reshaping and normalizing train and test images\n",
        "m = 60000\n",
        "n = 10000\n",
        "image_size = 28*28\n",
        "train_images = train_images_original.reshape((m, image_size))\n",
        "train_images = train_images.astype('float32') / 255\n",
        "\n",
        "test_images = test_images_original.reshape((n, image_size))\n",
        "test_images = test_images.astype('float32') / 255"
      ],
      "execution_count": 0,
      "outputs": []
    },
    {
      "metadata": {
        "id": "GvfhUqR-aR0T",
        "colab_type": "code",
        "colab": {}
      },
      "cell_type": "code",
      "source": [
        "#for adding bias to train and test images\n",
        "train_images_b = np.c_[np.ones((m, 1)), train_images]\n",
        "test_images_b = np.c_[np.ones((n, 1)), test_images]"
      ],
      "execution_count": 0,
      "outputs": []
    },
    {
      "metadata": {
        "id": "UI3Vz40U6D-y",
        "colab_type": "code",
        "colab": {}
      },
      "cell_type": "code",
      "source": [
        "#for adding bias to train and test labels. Doing something like one-hot encoding for labels\n",
        "train_labels = np.zeros((m,10))\n",
        "test_labels = np.zeros((n,10))\n",
        "\n",
        "for i in range(m):\n",
        "  train_labels[i][train_labels_original[i]] = 1\n",
        "  \n",
        "for i in range(n):\n",
        "  test_labels[i][test_labels_original[i]] = 1"
      ],
      "execution_count": 0,
      "outputs": []
    },
    {
      "metadata": {
        "id": "uw_DcCKeatQK",
        "colab_type": "code",
        "colab": {}
      },
      "cell_type": "code",
      "source": [
        "#for setting weight\n",
        "\n",
        "np.random.seed(42)\n",
        "weight = np.random.randn(image_size+1,10)\n",
        "weight_path_mgd = []\n",
        "batch_size = 64"
      ],
      "execution_count": 0,
      "outputs": []
    },
    {
      "metadata": {
        "id": "Owj522VEOwHZ",
        "colab_type": "code",
        "colab": {
          "base_uri": "https://localhost:8080/",
          "height": 3397
        },
        "outputId": "3c82381e-ae02-4667-983a-8efd08400cd1"
      },
      "cell_type": "code",
      "source": [
        "#this is for linear regression. Change it for logistic regression\n",
        "\n",
        "epochs = 10\n",
        "lr = 0.01\n",
        "\n",
        "weight_path_mgd.append(weight)\n",
        "for epoch in range(epochs):\n",
        "    #shuffled_indices = np.random.permutation(m)\n",
        "    #X_b_shuffled = X_b[shuffled_indices]\n",
        "    #y_shuffled = y[shuffled_indices]\n",
        "    for i in range(0, m, batch_size):\n",
        "      train_images_b_i = train_images_b[i:i+batch_size]\n",
        "      train_labels_b_i = train_labels[i:i+batch_size]\n",
        "      z = train_images_b_i.dot(weight)\n",
        "\n",
        "      #apply activation - softmax\n",
        "      z_exp = np.exp(z)\n",
        "      z_exp_sum = z_exp.sum(axis=1)\n",
        "      a = np.zeros((64,10))\n",
        "      for j in range(len(z)):\n",
        "        a[j] = z_exp[j] / z_exp_sum[j]\n",
        "      \n",
        "        \n",
        "        \n",
        "        \n",
        "        \n",
        "      #break\n",
        "    #break\n",
        "    \n",
        "        #a = np.zeros((10,1))\n",
        "        #for j in range(len(z)):\n",
        "        #  a[j] = np.exp(z)\n",
        "\n",
        "#print(z_exp_sum)\n",
        "#print(z[0][0])\n",
        "#print(z_exp[0][0])\n",
        "#print(len(z))\n",
        "#print(a)\n",
        "\n",
        "#sum_arr = np.zeros((64,1))\n",
        "#sum_arr = a.sum(axis=1)\n",
        "#print(sum_arr)\n",
        "\n",
        "\n",
        "        #gradient = 2/batch_size * xi.T.dot(xi.dot(weight) - yi)\n",
        "        #weight = weight - lr * gradient\n",
        "        #weight_path_mgd.append(weight)"
      ],
      "execution_count": 8,
      "outputs": [
        {
          "output_type": "stream",
          "text": [
            "[[9.99992201e-01 5.30172558e-11 2.41170207e-06 2.14447085e-11\n",
            "  2.39798306e-10 3.70428084e-08 1.41400059e-15 3.01990027e-11\n",
            "  7.91065792e-17 5.35027395e-06]\n",
            " [4.02995514e-04 4.58881522e-02 9.51491574e-01 2.67192153e-07\n",
            "  6.78366206e-11 7.46094154e-09 4.55328231e-10 1.01166581e-10\n",
            "  2.06117659e-08 2.21698239e-03]\n",
            " [2.71613730e-01 9.56631419e-08 5.63826689e-01 6.42513409e-03\n",
            "  7.71115061e-02 7.18447203e-04 1.61696653e-06 5.30817509e-02\n",
            "  8.25035451e-03 1.89706759e-02]\n",
            " [6.22299128e-01 5.37468911e-02 1.38830147e-02 1.76592469e-01\n",
            "  9.88270343e-02 3.22403113e-02 2.13800578e-05 1.19818529e-05\n",
            "  2.32149578e-03 5.62945799e-05]\n",
            " [1.85395283e-01 2.81678790e-03 1.29102175e-05 8.02920092e-01\n",
            "  7.14655929e-10 8.72610938e-03 4.31483160e-09 1.01341914e-04\n",
            "  6.29428334e-09 2.74635511e-05]\n",
            " [1.72445802e-05 6.33220959e-04 1.68088807e-01 5.21259437e-04\n",
            "  8.82969252e-02 1.08164312e-03 4.62139927e-06 1.58683774e-01\n",
            "  4.39510399e-16 5.82672504e-01]\n",
            " [6.76709756e-04 1.72366859e-08 2.04207203e-05 9.99202460e-01\n",
            "  3.08086687e-06 9.50553187e-09 9.72495201e-05 4.96910786e-11\n",
            "  1.20802838e-11 5.21379303e-08]\n",
            " [9.99999853e-01 6.67724174e-12 1.55921753e-11 1.74197954e-10\n",
            "  9.62304817e-12 1.85240848e-08 3.50983802e-17 1.28474098e-07\n",
            "  1.69476596e-18 1.47815945e-10]\n",
            " [1.78940349e-01 5.71069194e-05 2.73037412e-01 5.05332041e-01\n",
            "  1.84537253e-06 5.80976124e-05 4.15966217e-02 7.45094224e-08\n",
            "  9.65134235e-07 9.75486139e-04]\n",
            " [4.38860718e-05 6.16823038e-11 8.59341228e-01 1.35452004e-01\n",
            "  5.09316879e-10 5.15738230e-03 2.74275578e-12 3.81374313e-06\n",
            "  4.16765761e-08 1.64341355e-06]\n",
            " [9.91728238e-01 1.55035405e-06 5.46711300e-03 4.00158086e-08\n",
            "  2.01670624e-05 1.21009947e-07 2.78261524e-03 6.14737362e-10\n",
            "  3.02431858e-12 1.54362198e-07]\n",
            " [6.07468272e-07 9.38270574e-01 5.54765475e-02 1.65508776e-06\n",
            "  8.97873354e-08 8.02306553e-04 5.38887823e-03 9.21190440e-06\n",
            "  5.76383922e-10 5.01288947e-05]\n",
            " [1.26291409e-01 1.91033525e-05 1.13508362e-01 1.77095630e-05\n",
            "  2.53073818e-09 1.45259184e-08 7.59743645e-01 1.64572157e-05\n",
            "  1.50446646e-08 4.03282232e-04]\n",
            " [1.01425940e-04 1.89191904e-09 9.97114732e-01 3.90600442e-04\n",
            "  4.33696183e-04 1.91074531e-03 2.96490449e-06 4.50688562e-07\n",
            "  1.49998112e-09 4.53811802e-05]\n",
            " [5.15879985e-06 3.06951581e-08 9.99570923e-01 1.57443853e-06\n",
            "  2.11829485e-11 1.06627005e-07 4.07298552e-04 7.03185657e-13\n",
            "  8.31838615e-09 1.48999115e-05]\n",
            " [3.99137667e-03 2.28540527e-02 1.15654065e-03 8.68103793e-01\n",
            "  2.92927280e-09 1.03734778e-01 1.88300549e-07 1.12000928e-10\n",
            "  6.36170027e-07 1.58631570e-04]\n",
            " [1.45824616e-05 1.22701189e-05 9.99972612e-01 8.64323149e-08\n",
            "  3.02863540e-12 5.97646330e-11 4.34856864e-07 1.18484654e-08\n",
            "  2.18973835e-15 1.82164396e-09]\n",
            " [2.16015583e-01 1.32710071e-07 7.79811104e-01 2.63354958e-05\n",
            "  9.98945729e-10 4.13062556e-03 1.10344025e-10 5.11219726e-11\n",
            "  1.28959060e-11 1.62177519e-05]\n",
            " [1.87004855e-02 2.49807808e-09 3.71419627e-02 8.58962939e-01\n",
            "  3.36027718e-05 2.95828070e-03 1.80853774e-06 1.51850067e-02\n",
            "  6.68923352e-02 1.23576109e-04]\n",
            " [5.65341895e-03 1.90900912e-02 1.14466963e-02 8.84331550e-01\n",
            "  1.36785390e-05 2.32105480e-02 5.62395592e-02 7.65223050e-07\n",
            "  3.79786449e-08 1.36543877e-05]\n",
            " [9.37662239e-01 1.81714756e-09 7.29909443e-09 3.45959284e-03\n",
            "  3.78635714e-06 5.70878262e-02 3.48545530e-13 8.33903580e-04\n",
            "  6.69110466e-05 8.85732272e-04]\n",
            " [1.42821884e-03 9.77566698e-01 2.05653093e-02 3.07435104e-04\n",
            "  3.15084878e-15 3.83052625e-08 9.20095882e-10 1.48573446e-13\n",
            "  1.69252050e-09 1.32297538e-04]\n",
            " [1.04852856e-06 3.70982312e-04 4.44392799e-01 5.53593495e-01\n",
            "  1.37178867e-04 1.11822091e-04 9.87976279e-04 3.96753881e-04\n",
            "  4.63479868e-07 7.48029132e-06]\n",
            " [2.59753294e-01 1.18344066e-01 1.88928415e-04 5.05354785e-01\n",
            "  8.97887358e-02 2.63402185e-02 1.21202696e-05 1.12462518e-06\n",
            "  2.09997788e-04 6.73003519e-06]\n",
            " [6.09252065e-02 1.80895218e-04 4.71547062e-01 2.29932678e-03\n",
            "  4.64804646e-01 8.04201384e-07 2.41970567e-04 1.40438873e-08\n",
            "  6.27150468e-11 7.51677111e-08]\n",
            " [9.99966422e-01 3.27249859e-05 5.81143702e-07 3.31103938e-08\n",
            "  9.92105139e-18 1.42551366e-14 5.32321583e-11 2.38965278e-07\n",
            "  1.85253121e-19 2.20906525e-11]\n",
            " [2.90929300e-04 9.58167572e-01 1.07107766e-02 6.49349209e-04\n",
            "  2.95578888e-07 3.00450322e-02 1.01273690e-04 4.81363007e-06\n",
            "  3.72850348e-09 2.99543044e-05]\n",
            " [1.00000000e+00 8.60753170e-12 2.39488506e-12 1.59197831e-12\n",
            "  1.04804862e-12 6.79034813e-11 8.27764319e-15 2.97726513e-14\n",
            "  1.36874510e-21 3.81600846e-12]\n",
            " [2.67617914e-01 5.25337657e-02 7.05038042e-03 3.09920523e-10\n",
            "  6.47191795e-10 6.72788353e-01 8.47483441e-09 3.46205309e-15\n",
            "  4.68581325e-13 9.57751726e-06]\n",
            " [6.61486477e-07 1.23819760e-05 1.62738184e-02 9.82585257e-01\n",
            "  1.25986867e-04 1.18007181e-04 6.20365607e-05 5.91708237e-11\n",
            "  1.41706760e-05 8.07679816e-04]\n",
            " [7.41876470e-01 1.46726733e-06 1.29088415e-05 8.91682014e-03\n",
            "  4.72486049e-05 2.59869050e-04 1.31996658e-04 1.59294061e-08\n",
            "  9.82990453e-07 2.48752220e-01]\n",
            " [3.02498998e-01 4.34550207e-06 2.60849071e-01 3.37423596e-03\n",
            "  1.29242328e-09 4.32976609e-01 4.14969331e-05 1.11288207e-07\n",
            "  6.49447954e-09 2.55123942e-04]\n",
            " [3.72204590e-03 2.71658049e-10 9.93047517e-01 8.43679689e-10\n",
            "  1.41437097e-08 1.45180177e-08 2.13815475e-08 3.23001387e-03\n",
            "  5.31145803e-08 3.19291868e-07]\n",
            " [9.68777519e-02 5.70418067e-02 6.04599533e-04 8.02000071e-01\n",
            "  1.56613237e-04 4.32943568e-02 4.61482472e-06 1.85279488e-09\n",
            "  6.47338330e-08 2.01197474e-05]\n",
            " [9.61545761e-01 5.05810076e-14 3.84541946e-02 6.66441609e-12\n",
            "  2.52701734e-09 2.26041829e-08 2.57370886e-11 1.80176911e-08\n",
            "  8.97597344e-10 8.25861127e-13]\n",
            " [1.15236135e-02 7.32084204e-03 4.65743600e-03 1.82624602e-03\n",
            "  4.23238460e-03 9.57751847e-01 2.63564675e-05 1.26213889e-02\n",
            "  1.31271803e-05 2.67586726e-05]\n",
            " [9.99808685e-01 6.14782562e-17 1.91313356e-04 3.28056520e-12\n",
            "  6.30116015e-10 1.09616201e-11 4.32589016e-16 4.23684632e-12\n",
            "  7.01693803e-16 1.14787808e-09]\n",
            " [9.87800585e-01 7.25381235e-05 1.20662183e-02 1.13685789e-08\n",
            "  7.74111532e-11 6.86496086e-14 3.57365370e-08 6.06053275e-05\n",
            "  5.79217450e-09 2.21750735e-10]\n",
            " [1.07874842e-03 2.24014639e-01 3.09859960e-04 4.86373250e-01\n",
            "  4.09643415e-02 2.13317057e-01 3.43443256e-09 4.68724871e-10\n",
            "  4.04101468e-07 3.39416957e-02]\n",
            " [1.37291783e-04 2.78934566e-13 9.99184793e-01 1.15884643e-08\n",
            "  7.12992750e-11 4.61404941e-06 6.18828585e-10 6.73287900e-04\n",
            "  7.05750356e-14 9.93115882e-10]\n",
            " [1.65202326e-05 2.04535898e-07 1.23751801e-04 3.62535308e-05\n",
            "  2.19666749e-08 5.37711279e-04 9.99285472e-01 1.33463802e-13\n",
            "  5.28850115e-10 6.45182560e-08]\n",
            " [9.98965778e-01 8.37530903e-11 3.32736146e-05 1.03572358e-05\n",
            "  8.28995793e-04 1.61589807e-04 8.70865969e-15 3.00818374e-12\n",
            "  1.81886330e-14 5.16422950e-09]\n",
            " [5.48311622e-09 1.80655012e-04 8.62632232e-07 8.71074611e-04\n",
            "  1.68052884e-08 9.98630929e-01 1.60847700e-05 1.76889513e-12\n",
            "  7.76765815e-08 3.00294154e-04]\n",
            " [1.40758775e-05 1.62951047e-05 9.43404382e-01 1.25890080e-02\n",
            "  3.69419906e-06 2.18962483e-02 2.31379160e-05 7.50259409e-10\n",
            "  6.22185972e-11 2.20531580e-02]\n",
            " [4.55379754e-01 5.05086639e-06 1.18039290e-04 1.51160499e-01\n",
            "  8.86274755e-03 3.83444176e-01 4.39717897e-07 1.75846997e-04\n",
            "  6.98667890e-09 8.53439142e-04]\n",
            " [1.04000455e-02 6.68890552e-09 6.96784415e-04 3.10602458e-04\n",
            "  1.65461436e-08 9.88586064e-01 3.18073312e-09 2.53166445e-08\n",
            "  8.06281016e-11 6.45179083e-06]\n",
            " [1.84180918e-01 2.93083327e-06 5.95013737e-07 7.80819834e-01\n",
            "  3.40666473e-02 9.23183269e-04 2.46679780e-07 3.00826663e-06\n",
            "  1.48463886e-12 2.63653122e-06]\n",
            " [8.12761413e-06 5.46609097e-06 9.99983985e-01 4.82655862e-09\n",
            "  8.68826851e-15 2.41456371e-06 1.97166080e-09 2.29893531e-10\n",
            "  1.04559857e-12 9.86143548e-12]\n",
            " [1.23732284e-02 3.95402504e-04 4.67505165e-04 9.86636434e-01\n",
            "  1.03867746e-05 3.31167910e-06 2.62072013e-05 6.78851318e-05\n",
            "  1.95049733e-09 1.96371286e-05]\n",
            " [9.99824736e-01 7.33943915e-08 3.12262714e-06 1.79253178e-05\n",
            "  1.20349492e-04 2.51916795e-06 2.84932821e-10 3.36642243e-09\n",
            "  5.57464420e-12 3.12699815e-05]\n",
            " [7.59382533e-03 1.37450873e-06 7.15291457e-04 1.39498396e-05\n",
            "  6.67567128e-06 1.60607989e-07 9.91656337e-01 1.23819949e-05\n",
            "  3.47131518e-09 7.04620216e-11]\n",
            " [8.26854507e-01 4.98282064e-02 1.00845494e-03 2.69417882e-03\n",
            "  4.64126676e-13 5.84572179e-03 7.25771649e-12 1.82446478e-07\n",
            "  3.29193551e-15 1.13768748e-01]\n",
            " [9.97924475e-01 9.37303203e-04 1.12997655e-07 3.23610206e-09\n",
            "  9.01460187e-11 1.74942738e-08 3.11102364e-11 5.13154249e-17\n",
            "  3.54227773e-09 1.13808396e-03]\n",
            " [2.09611325e-03 5.48785665e-01 3.77271938e-01 5.13178077e-02\n",
            "  1.52873533e-04 9.04007494e-06 1.14452859e-02 2.63390697e-07\n",
            "  1.15536482e-03 7.76564856e-03]\n",
            " [3.18088753e-04 2.65677329e-09 3.10230613e-09 1.78374101e-09\n",
            "  7.07319149e-11 9.99667911e-01 1.15383667e-05 8.81646607e-12\n",
            "  6.86258648e-13 2.45409739e-06]\n",
            " [5.55679792e-02 5.75572445e-02 2.79171474e-01 2.31989260e-01\n",
            "  3.22008280e-03 3.65353242e-01 1.45286150e-06 2.48748080e-11\n",
            "  2.34833478e-11 7.13926482e-03]\n",
            " [3.21314356e-09 9.99999981e-01 1.43699510e-10 1.46338737e-09\n",
            "  7.74846602e-22 3.58961866e-13 6.62058143e-16 1.17796359e-14\n",
            "  1.07623511e-14 1.44489188e-08]\n",
            " [6.50696017e-03 3.11334700e-04 9.91714466e-01 9.05801335e-04\n",
            "  1.85982283e-08 6.72850467e-05 1.05215214e-05 7.11316022e-08\n",
            "  4.26203324e-04 5.73384792e-05]\n",
            " [6.14137404e-02 2.30312936e-11 7.46909607e-14 9.38556520e-01\n",
            "  6.02016150e-14 3.01209297e-10 7.54520294e-18 2.97395930e-05\n",
            "  9.83924747e-13 6.47725213e-12]\n",
            " [1.58719252e-02 1.84090247e-01 5.21173181e-03 7.83894222e-01\n",
            "  1.05768736e-02 2.18263725e-04 3.26788144e-05 2.12846087e-06\n",
            "  2.89171893e-05 7.30122911e-05]\n",
            " [1.87661660e-01 4.46090343e-02 3.27495213e-03 1.16067015e-08\n",
            "  2.44275600e-12 4.46782292e-05 2.95798351e-13 3.59723993e-05\n",
            "  9.33727272e-02 6.71000964e-01]\n",
            " [9.59938363e-01 1.79567248e-08 1.04761886e-05 2.06115455e-02\n",
            "  1.90466864e-02 3.81560728e-04 4.38608678e-13 1.20642900e-06\n",
            "  8.71256860e-06 1.43083517e-06]\n",
            " [2.23948439e-03 6.95856689e-11 9.97527618e-01 1.55614138e-05\n",
            "  6.53102856e-06 7.67614953e-12 7.90075479e-11 2.10234372e-04\n",
            "  5.65342614e-07 5.50418963e-09]\n",
            " [9.99850755e-01 1.18671613e-09 6.03565454e-07 2.28442140e-06\n",
            "  4.07217822e-12 3.10573837e-05 8.76600514e-10 3.09588741e-08\n",
            "  1.21961047e-12 1.15266227e-04]]\n",
            "[1. 1. 1. 1. 1. 1. 1. 1. 1. 1. 1. 1. 1. 1. 1. 1. 1. 1. 1. 1. 1. 1. 1. 1.\n",
            " 1. 1. 1. 1. 1. 1. 1. 1. 1. 1. 1. 1. 1. 1. 1. 1. 1. 1. 1. 1. 1. 1. 1. 1.\n",
            " 1. 1. 1. 1. 1. 1. 1. 1. 1. 1. 1. 1. 1. 1. 1. 1.]\n"
          ],
          "name": "stdout"
        }
      ]
    },
    {
      "metadata": {
        "id": "72LAURd9cK0s",
        "colab_type": "code",
        "colab": {}
      },
      "cell_type": "code",
      "source": [
        "#Loss "
      ],
      "execution_count": 0,
      "outputs": []
    },
    {
      "metadata": {
        "id": "jM98Wwzi-QJG",
        "colab_type": "text"
      },
      "cell_type": "markdown",
      "source": [
        "## Problem 4\n",
        "Reimplement the network from Problem 3 entirely in Keras."
      ]
    },
    {
      "metadata": {
        "id": "g3TYeh_a-S2x",
        "colab_type": "code",
        "colab": {}
      },
      "cell_type": "code",
      "source": [
        "from keras.datasets import mnist\n",
        "\n",
        "(train_images_original, train_labels_original), (test_images_original, test_labels_original) = mnist.load_data()"
      ],
      "execution_count": 0,
      "outputs": []
    },
    {
      "metadata": {
        "id": "W9ZAQlsWL7d_",
        "colab_type": "code",
        "colab": {}
      },
      "cell_type": "code",
      "source": [
        "train_images = train_images_original.reshape((60000, 28 * 28))\n",
        "train_images = train_images.astype('float32') / 255\n",
        "\n",
        "test_images = test_images_original.reshape((10000, 28 * 28))\n",
        "test_images = test_images.astype('float32') / 255\n",
        "#train_images_original.shape"
      ],
      "execution_count": 0,
      "outputs": []
    },
    {
      "metadata": {
        "id": "domURlv2NjFu",
        "colab_type": "code",
        "colab": {}
      },
      "cell_type": "code",
      "source": [
        "from keras.utils import to_categorical\n",
        "\n",
        "train_labels = to_categorical(train_labels_original)\n",
        "test_labels = to_categorical(test_labels_original)\n",
        "#test_labels"
      ],
      "execution_count": 0,
      "outputs": []
    },
    {
      "metadata": {
        "id": "8johAcgDOBlc",
        "colab_type": "code",
        "outputId": "910b312a-1d03-4c48-8533-49096ad67763",
        "colab": {
          "base_uri": "https://localhost:8080/",
          "height": 204
        }
      },
      "cell_type": "code",
      "source": [
        "from keras import models\n",
        "from keras import layers\n",
        "\n",
        "network = models.Sequential()\n",
        "network.add(layers.Dense(28*28, activation='relu', input_shape=(28 * 28,)))\n",
        "network.add(layers.Dense(10, activation='softmax'))\n",
        "network.summary()"
      ],
      "execution_count": 0,
      "outputs": [
        {
          "output_type": "stream",
          "text": [
            "_________________________________________________________________\n",
            "Layer (type)                 Output Shape              Param #   \n",
            "=================================================================\n",
            "dense_5 (Dense)              (None, 784)               615440    \n",
            "_________________________________________________________________\n",
            "dense_6 (Dense)              (None, 10)                7850      \n",
            "=================================================================\n",
            "Total params: 623,290\n",
            "Trainable params: 623,290\n",
            "Non-trainable params: 0\n",
            "_________________________________________________________________\n"
          ],
          "name": "stdout"
        }
      ]
    },
    {
      "metadata": {
        "id": "HZT0zpBQOtqM",
        "colab_type": "code",
        "colab": {}
      },
      "cell_type": "code",
      "source": [
        "network.compile(optimizer='sgd',\n",
        "                loss='categorical_crossentropy',\n",
        "                metrics=['accuracy'])"
      ],
      "execution_count": 0,
      "outputs": []
    },
    {
      "metadata": {
        "id": "lT8y2kRrPaC8",
        "colab_type": "code",
        "outputId": "1be1cfde-8cde-4594-f0e8-7161fa3283ce",
        "colab": {
          "base_uri": "https://localhost:8080/",
          "height": 374
        }
      },
      "cell_type": "code",
      "source": [
        "epochs = 10\n",
        "history = network.fit(train_images, \n",
        "                      train_labels, \n",
        "                      epochs=epochs, \n",
        "                      batch_size=128, \n",
        "                      validation_data=(test_images, test_labels))"
      ],
      "execution_count": 0,
      "outputs": [
        {
          "output_type": "stream",
          "text": [
            "Train on 60000 samples, validate on 10000 samples\n",
            "Epoch 1/10\n",
            "60000/60000 [==============================] - 6s 94us/step - loss: 1.0802 - acc: 0.7649 - val_loss: 0.5847 - val_acc: 0.8721\n",
            "Epoch 2/10\n",
            "60000/60000 [==============================] - 6s 95us/step - loss: 0.5120 - acc: 0.8757 - val_loss: 0.4235 - val_acc: 0.8937\n",
            "Epoch 3/10\n",
            "60000/60000 [==============================] - 6s 95us/step - loss: 0.4133 - acc: 0.8913 - val_loss: 0.3665 - val_acc: 0.9042\n",
            "Epoch 4/10\n",
            "60000/60000 [==============================] - 6s 95us/step - loss: 0.3685 - acc: 0.9001 - val_loss: 0.3339 - val_acc: 0.9108\n",
            "Epoch 5/10\n",
            "60000/60000 [==============================] - 6s 96us/step - loss: 0.3409 - acc: 0.9068 - val_loss: 0.3136 - val_acc: 0.9148\n",
            "Epoch 6/10\n",
            "60000/60000 [==============================] - 6s 93us/step - loss: 0.3212 - acc: 0.9115 - val_loss: 0.2977 - val_acc: 0.9185\n",
            "Epoch 7/10\n",
            "60000/60000 [==============================] - 6s 92us/step - loss: 0.3059 - acc: 0.9157 - val_loss: 0.2852 - val_acc: 0.9206\n",
            "Epoch 8/10\n",
            "60000/60000 [==============================] - 6s 93us/step - loss: 0.2930 - acc: 0.9189 - val_loss: 0.2747 - val_acc: 0.9245\n",
            "Epoch 9/10\n",
            "60000/60000 [==============================] - 6s 93us/step - loss: 0.2823 - acc: 0.9216 - val_loss: 0.2658 - val_acc: 0.9270\n",
            "Epoch 10/10\n",
            "60000/60000 [==============================] - 6s 94us/step - loss: 0.2725 - acc: 0.9245 - val_loss: 0.2574 - val_acc: 0.9285\n"
          ],
          "name": "stdout"
        }
      ]
    },
    {
      "metadata": {
        "id": "bCzA_kZ-R1GO",
        "colab_type": "code",
        "colab": {}
      },
      "cell_type": "code",
      "source": [
        "history_dict = history.history\n",
        "loss_values = history_dict['loss']\n",
        "test_loss_values = history_dict['val_loss']\n",
        "epochs_range = range(1, epochs + 1)"
      ],
      "execution_count": 0,
      "outputs": []
    },
    {
      "metadata": {
        "id": "f4wF0qIOR5HF",
        "colab_type": "code",
        "outputId": "a8ee6441-dbc7-4e38-d2c0-1373742a4cbf",
        "colab": {
          "base_uri": "https://localhost:8080/",
          "height": 376
        }
      },
      "cell_type": "code",
      "source": [
        "import matplotlib.pyplot as plt\n",
        "plt.plot(epochs_range, loss_values, 'bo', label='Training loss')\n",
        "plt.plot(epochs_range, test_loss_values, 'ro', label='Test loss')\n",
        "plt.title('Training and test loss')\n",
        "plt.xlabel('Epochs')\n",
        "plt.ylabel('Loss')\n",
        "plt.legend()\n",
        "plt.show()"
      ],
      "execution_count": 0,
      "outputs": [
        {
          "output_type": "display_data",
          "data": {
            "image/png": "[encoded data removed]",
            "text/plain": [
              "<Figure size 576x396 with 1 Axes>"
            ]
          },
          "metadata": {
            "tags": []
          }
        }
      ]
    },
    {
      "metadata": {
        "id": "r9ZsMF6iVBmv",
        "colab_type": "code",
        "outputId": "59ba03f8-3319-4151-c5c8-44dfe1f7bec5",
        "colab": {
          "base_uri": "https://localhost:8080/",
          "height": 51
        }
      },
      "cell_type": "code",
      "source": [
        "test_loss, test_acc = network.evaluate(test_images, test_labels)\n",
        "\n",
        "print('Test accuracy:', test_acc)"
      ],
      "execution_count": 0,
      "outputs": [
        {
          "output_type": "stream",
          "text": [
            "10000/10000 [==============================] - 1s 65us/step\n",
            "Test accuracy: 0.9285\n"
          ],
          "name": "stdout"
        }
      ]
    },
    {
      "metadata": {
        "id": "cHSfWEWJ-TpS",
        "colab_type": "text"
      },
      "cell_type": "markdown",
      "source": [
        "## Problem 5\n",
        "Extend the network from Problem 4 by adding new features.\n",
        "- Round the grey values of the images to 1 and 0 so you obtain black and white images. Add as an additional feature the number of white regions. For instance, a typical 0 has 2 white regions and 8 has 3. Use the following neighborhoods for pixels:\n",
        "\n",
        "```\n",
        "pixel x,y (indicated by .) is connected to its neighbors (indicated by o):\n",
        "\n",
        " o\n",
        "o.o  \n",
        " o\n",
        " \n",
        "ooo\n",
        "o.o\n",
        "ooo\n",
        "```\n",
        "- Consider the width.\n",
        "- Consider the height.\n",
        "- Come up with other features.\n",
        "\n",
        "You should normalize your new features so that they are at the same scale as the pixel values (between 0 and 1)."
      ]
    },
    {
      "metadata": {
        "id": "IM5yz84l-bAf",
        "colab_type": "code",
        "colab": {}
      },
      "cell_type": "code",
      "source": [
        ""
      ],
      "execution_count": 0,
      "outputs": []
    }
  ]
}