{
  "nbformat": 4,
  "nbformat_minor": 0,
  "metadata": {
    "colab": {
      "name": "HW1.ipynb",
      "version": "0.3.2",
      "provenance": [],
      "include_colab_link": true
    },
    "kernelspec": {
      "name": "python3",
      "display_name": "Python 3"
    },
    "accelerator": "GPU"
  },
  "cells": [
    {
      "cell_type": "markdown",
      "metadata": {
        "id": "view-in-github",
        "colab_type": "text"
      },
      "source": [
        "<a href=\"https://colab.research.google.com/github/gshah8/UCF/blob/master/Machine_Learning/HW1.ipynb\" target=\"_parent\"><img src=\"https://colab.research.google.com/assets/colab-badge.svg\" alt=\"Open In Colab\"/></a>"
      ]
    },
    {
      "metadata": {
        "id": "KMwRoxS15IAB",
        "colab_type": "text"
      },
      "cell_type": "markdown",
      "source": [
        "# HW 1 \n",
        "\n",
        "This homework will get you up to speed with Python programming, numpy, matplotlib, Keras, gradients, partial derivatives, git, GitHub, Google's colaboratory etc. Have fun!\n",
        "\n",
        "For this homework, you will create neural networks with an input layer and an output layer without any hidden layers. The connections are dense: each input neuron is connected to each output neuron.\n",
        "\n",
        "Instructions for problems 1 and 2:\n",
        "- Load the training and test data using Keras, no validation set needed.\n",
        "- Train 10 classifiers that perform binary classification: *Is the input image the digit i or is it a digit different from i?* Each of the ten classifiers has an input layer consisting of 28 x 28 input neurons and an output layer consisting of a single output neuron.\n",
        "- Implement mini-batch stochastic gradient descent using only numpy, that is, you are not allowed to use TensorFlow/Keras for SGD.\n",
        "- Use ```argmax``` to determine the classifier with the strongest output and declare the corresponding digit as output.\n",
        "\n",
        "## Problem 1\n",
        "Use logistic regression with mean squared error loss."
      ]
    },
    {
      "metadata": {
        "id": "4XwQkWl55lCZ",
        "colab_type": "code",
        "colab": {}
      },
      "cell_type": "code",
      "source": [
        ""
      ],
      "execution_count": 0,
      "outputs": []
    },
    {
      "metadata": {
        "id": "bN-mUe3l9zOH",
        "colab_type": "text"
      },
      "cell_type": "markdown",
      "source": [
        "## Problem 2\n",
        "Use logistic regression with binary cross entropy loss."
      ]
    },
    {
      "metadata": {
        "id": "4q9XBuNV99LW",
        "colab_type": "code",
        "colab": {}
      },
      "cell_type": "code",
      "source": [
        ""
      ],
      "execution_count": 0,
      "outputs": []
    },
    {
      "metadata": {
        "id": "7ctzMUL6-MZP",
        "colab_type": "text"
      },
      "cell_type": "markdown",
      "source": [
        "## Problem 3\n",
        "- Load the training and test data using Keras, no validation set needed.\n",
        "- Create network with an input layer consisting of 28 x 28 input neurons and an output layer consisting of 10 output neurons.\n",
        "- Use softmax and categorical cross entropy loss.\n",
        "- Implement mini-batch stochastic gradient descent using only numpy, that is, you are not allowed to use TensorFlow/Keras for SGD."
      ]
    },
    {
      "metadata": {
        "id": "6u5AvT1V-PX7",
        "colab_type": "code",
        "colab": {}
      },
      "cell_type": "code",
      "source": [
        "#Load data\n",
        "import numpy as np\n",
        "from keras.datasets import mnist\n",
        "\n",
        "(train_images_original, train_labels_original), (test_images_original, test_labels_original) = mnist.load_data()"
      ],
      "execution_count": 0,
      "outputs": []
    },
    {
      "metadata": {
        "id": "-Q_ZrNeDaFvA",
        "colab_type": "code",
        "colab": {}
      },
      "cell_type": "code",
      "source": [
        "#for images\n",
        "m = 60000\n",
        "n = 10000\n",
        "image_size = 28*28\n",
        "train_images = train_images_original.reshape((m, image_size))\n",
        "train_images = train_images.astype('float32') / 255\n",
        "\n",
        "test_images = test_images_original.reshape((n, image_size))\n",
        "test_images = test_images.astype('float32') / 255"
      ],
      "execution_count": 0,
      "outputs": []
    },
    {
      "metadata": {
        "id": "GvfhUqR-aR0T",
        "colab_type": "code",
        "colab": {}
      },
      "cell_type": "code",
      "source": [
        "#for images\n",
        "train_images_b = np.c_[np.ones((m, 1)), train_images]\n",
        "#train_images_b.shape\n",
        "test_images_b = np.c_[np.ones((n, 1)), test_images]"
      ],
      "execution_count": 0,
      "outputs": []
    },
    {
      "metadata": {
        "id": "UI3Vz40U6D-y",
        "colab_type": "code",
        "colab": {}
      },
      "cell_type": "code",
      "source": [
        "#for labels. Doing something like one-hot encoding for labels\n",
        "train_labels = np.zeros((m,10))\n",
        "test_labels = np.zeros((n,10))\n",
        "\n",
        "for i in range(m):\n",
        "  train_labels[i][train_labels_original[i]] = 1\n",
        "  \n",
        "for i in range(n):\n",
        "  test_labels[i][test_labels_original[i]] = 1"
      ],
      "execution_count": 0,
      "outputs": []
    },
    {
      "metadata": {
        "id": "uw_DcCKeatQK",
        "colab_type": "code",
        "colab": {}
      },
      "cell_type": "code",
      "source": [
        "#for setting weight\n",
        "\n",
        "np.random.seed(42)\n",
        "weight = np.random.randn(image_size+1,1)\n",
        "weight_path_mgd = []\n",
        "batch_size = 64"
      ],
      "execution_count": 0,
      "outputs": []
    },
    {
      "metadata": {
        "id": "Owj522VEOwHZ",
        "colab_type": "code",
        "colab": {}
      },
      "cell_type": "code",
      "source": [
        "#this is for linear regression. Change it for logistic regression\n",
        "\n",
        "epochs = 10\n",
        "lr = 0.01\n",
        "\n",
        "weight_path_mgd.append(weight)\n",
        "for epoch in range(epochs):\n",
        "    shuffled_indices = np.random.permutation(m)\n",
        "    X_b_shuffled = X_b[shuffled_indices]\n",
        "    y_shuffled = y[shuffled_indices]\n",
        "    for i in range(0, m, batch_size):\n",
        "        xi = X_b_shuffled[i:i+batch_size]\n",
        "        yi = y_shuffled[i:i+batch_size]\n",
        "        gradient = 2/batch_size * xi.T.dot(xi.dot(weight) - yi)\n",
        "        weight = weight - lr * gradient\n",
        "        weight_path_mgd.append(weight)"
      ],
      "execution_count": 0,
      "outputs": []
    },
    {
      "metadata": {
        "id": "72LAURd9cK0s",
        "colab_type": "code",
        "colab": {}
      },
      "cell_type": "code",
      "source": [
        "#Loss "
      ],
      "execution_count": 0,
      "outputs": []
    },
    {
      "metadata": {
        "id": "jM98Wwzi-QJG",
        "colab_type": "text"
      },
      "cell_type": "markdown",
      "source": [
        "## Problem 4\n",
        "Reimplement the network from Problem 3 entirely in Keras."
      ]
    },
    {
      "metadata": {
        "id": "g3TYeh_a-S2x",
        "colab_type": "code",
        "colab": {}
      },
      "cell_type": "code",
      "source": [
        "from keras.datasets import mnist\n",
        "\n",
        "(train_images_original, train_labels_original), (test_images_original, test_labels_original) = mnist.load_data()"
      ],
      "execution_count": 0,
      "outputs": []
    },
    {
      "metadata": {
        "id": "W9ZAQlsWL7d_",
        "colab_type": "code",
        "colab": {}
      },
      "cell_type": "code",
      "source": [
        "train_images = train_images_original.reshape((60000, 28 * 28))\n",
        "train_images = train_images.astype('float32') / 255\n",
        "\n",
        "test_images = test_images_original.reshape((10000, 28 * 28))\n",
        "test_images = test_images.astype('float32') / 255\n",
        "#train_images_original.shape"
      ],
      "execution_count": 0,
      "outputs": []
    },
    {
      "metadata": {
        "id": "domURlv2NjFu",
        "colab_type": "code",
        "colab": {}
      },
      "cell_type": "code",
      "source": [
        "from keras.utils import to_categorical\n",
        "\n",
        "train_labels = to_categorical(train_labels_original)\n",
        "test_labels = to_categorical(test_labels_original)\n",
        "#test_labels"
      ],
      "execution_count": 0,
      "outputs": []
    },
    {
      "metadata": {
        "id": "8johAcgDOBlc",
        "colab_type": "code",
        "outputId": "910b312a-1d03-4c48-8533-49096ad67763",
        "colab": {
          "base_uri": "https://localhost:8080/",
          "height": 204
        }
      },
      "cell_type": "code",
      "source": [
        "from keras import models\n",
        "from keras import layers\n",
        "\n",
        "network = models.Sequential()\n",
        "network.add(layers.Dense(28*28, activation='relu', input_shape=(28 * 28,)))\n",
        "network.add(layers.Dense(10, activation='softmax'))\n",
        "network.summary()"
      ],
      "execution_count": 0,
      "outputs": [
        {
          "output_type": "stream",
          "text": [
            "_________________________________________________________________\n",
            "Layer (type)                 Output Shape              Param #   \n",
            "=================================================================\n",
            "dense_5 (Dense)              (None, 784)               615440    \n",
            "_________________________________________________________________\n",
            "dense_6 (Dense)              (None, 10)                7850      \n",
            "=================================================================\n",
            "Total params: 623,290\n",
            "Trainable params: 623,290\n",
            "Non-trainable params: 0\n",
            "_________________________________________________________________\n"
          ],
          "name": "stdout"
        }
      ]
    },
    {
      "metadata": {
        "id": "HZT0zpBQOtqM",
        "colab_type": "code",
        "colab": {}
      },
      "cell_type": "code",
      "source": [
        "network.compile(optimizer='sgd',\n",
        "                loss='categorical_crossentropy',\n",
        "                metrics=['accuracy'])"
      ],
      "execution_count": 0,
      "outputs": []
    },
    {
      "metadata": {
        "id": "lT8y2kRrPaC8",
        "colab_type": "code",
        "outputId": "1be1cfde-8cde-4594-f0e8-7161fa3283ce",
        "colab": {
          "base_uri": "https://localhost:8080/",
          "height": 374
        }
      },
      "cell_type": "code",
      "source": [
        "epochs = 10\n",
        "history = network.fit(train_images, \n",
        "                      train_labels, \n",
        "                      epochs=epochs, \n",
        "                      batch_size=128, \n",
        "                      validation_data=(test_images, test_labels))"
      ],
      "execution_count": 0,
      "outputs": [
        {
          "output_type": "stream",
          "text": [
            "Train on 60000 samples, validate on 10000 samples\n",
            "Epoch 1/10\n",
            "60000/60000 [==============================] - 6s 94us/step - loss: 1.0802 - acc: 0.7649 - val_loss: 0.5847 - val_acc: 0.8721\n",
            "Epoch 2/10\n",
            "60000/60000 [==============================] - 6s 95us/step - loss: 0.5120 - acc: 0.8757 - val_loss: 0.4235 - val_acc: 0.8937\n",
            "Epoch 3/10\n",
            "60000/60000 [==============================] - 6s 95us/step - loss: 0.4133 - acc: 0.8913 - val_loss: 0.3665 - val_acc: 0.9042\n",
            "Epoch 4/10\n",
            "60000/60000 [==============================] - 6s 95us/step - loss: 0.3685 - acc: 0.9001 - val_loss: 0.3339 - val_acc: 0.9108\n",
            "Epoch 5/10\n",
            "60000/60000 [==============================] - 6s 96us/step - loss: 0.3409 - acc: 0.9068 - val_loss: 0.3136 - val_acc: 0.9148\n",
            "Epoch 6/10\n",
            "60000/60000 [==============================] - 6s 93us/step - loss: 0.3212 - acc: 0.9115 - val_loss: 0.2977 - val_acc: 0.9185\n",
            "Epoch 7/10\n",
            "60000/60000 [==============================] - 6s 92us/step - loss: 0.3059 - acc: 0.9157 - val_loss: 0.2852 - val_acc: 0.9206\n",
            "Epoch 8/10\n",
            "60000/60000 [==============================] - 6s 93us/step - loss: 0.2930 - acc: 0.9189 - val_loss: 0.2747 - val_acc: 0.9245\n",
            "Epoch 9/10\n",
            "60000/60000 [==============================] - 6s 93us/step - loss: 0.2823 - acc: 0.9216 - val_loss: 0.2658 - val_acc: 0.9270\n",
            "Epoch 10/10\n",
            "60000/60000 [==============================] - 6s 94us/step - loss: 0.2725 - acc: 0.9245 - val_loss: 0.2574 - val_acc: 0.9285\n"
          ],
          "name": "stdout"
        }
      ]
    },
    {
      "metadata": {
        "id": "bCzA_kZ-R1GO",
        "colab_type": "code",
        "colab": {}
      },
      "cell_type": "code",
      "source": [
        "history_dict = history.history\n",
        "loss_values = history_dict['loss']\n",
        "test_loss_values = history_dict['val_loss']\n",
        "epochs_range = range(1, epochs + 1)"
      ],
      "execution_count": 0,
      "outputs": []
    },
    {
      "metadata": {
        "id": "f4wF0qIOR5HF",
        "colab_type": "code",
        "outputId": "a8ee6441-dbc7-4e38-d2c0-1373742a4cbf",
        "colab": {
          "base_uri": "https://localhost:8080/",
          "height": 376
        }
      },
      "cell_type": "code",
      "source": [
        "import matplotlib.pyplot as plt\n",
        "plt.plot(epochs_range, loss_values, 'bo', label='Training loss')\n",
        "plt.plot(epochs_range, test_loss_values, 'ro', label='Test loss')\n",
        "plt.title('Training and test loss')\n",
        "plt.xlabel('Epochs')\n",
        "plt.ylabel('Loss')\n",
        "plt.legend()\n",
        "plt.show()"
      ],
      "execution_count": 0,
      "outputs": [
        {
          "output_type": "display_data",
          "data": {
            "image/png": "[encoded data removed]",
            "text/plain": [
              "<Figure size 576x396 with 1 Axes>"
            ]
          },
          "metadata": {
            "tags": []
          }
        }
      ]
    },
    {
      "metadata": {
        "id": "r9ZsMF6iVBmv",
        "colab_type": "code",
        "outputId": "59ba03f8-3319-4151-c5c8-44dfe1f7bec5",
        "colab": {
          "base_uri": "https://localhost:8080/",
          "height": 51
        }
      },
      "cell_type": "code",
      "source": [
        "test_loss, test_acc = network.evaluate(test_images, test_labels)\n",
        "\n",
        "print('Test accuracy:', test_acc)"
      ],
      "execution_count": 0,
      "outputs": [
        {
          "output_type": "stream",
          "text": [
            "10000/10000 [==============================] - 1s 65us/step\n",
            "Test accuracy: 0.9285\n"
          ],
          "name": "stdout"
        }
      ]
    },
    {
      "metadata": {
        "id": "cHSfWEWJ-TpS",
        "colab_type": "text"
      },
      "cell_type": "markdown",
      "source": [
        "## Problem 5\n",
        "Extend the network from Problem 4 by adding new features.\n",
        "- Round the grey values of the images to 1 and 0 so you obtain black and white images. Add as an additional feature the number of white regions. For instance, a typical 0 has 2 white regions and 8 has 3. Use the following neighborhoods for pixels:\n",
        "\n",
        "```\n",
        "pixel x,y (indicated by .) is connected to its neighbors (indicated by o):\n",
        "\n",
        " o\n",
        "o.o  \n",
        " o\n",
        " \n",
        "ooo\n",
        "o.o\n",
        "ooo\n",
        "```\n",
        "- Consider the width.\n",
        "- Consider the height.\n",
        "- Come up with other features.\n",
        "\n",
        "You should normalize your new features so that they are at the same scale as the pixel values (between 0 and 1)."
      ]
    },
    {
      "metadata": {
        "id": "IM5yz84l-bAf",
        "colab_type": "code",
        "colab": {}
      },
      "cell_type": "code",
      "source": [
        ""
      ],
      "execution_count": 0,
      "outputs": []
    }
  ]
}