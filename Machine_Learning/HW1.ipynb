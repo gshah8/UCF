{
  "nbformat": 4,
  "nbformat_minor": 0,
  "metadata": {
    "colab": {
      "name": "HW1.ipynb",
      "version": "0.3.2",
      "provenance": [],
      "include_colab_link": true
    },
    "kernelspec": {
      "name": "python3",
      "display_name": "Python 3"
    },
    "accelerator": "GPU"
  },
  "cells": [
    {
      "cell_type": "markdown",
      "metadata": {
        "id": "view-in-github",
        "colab_type": "text"
      },
      "source": [
        "<a href=\"https://colab.research.google.com/github/gshah8/UCF/blob/master/Machine_Learning/HW1.ipynb\" target=\"_parent\"><img src=\"https://colab.research.google.com/assets/colab-badge.svg\" alt=\"Open In Colab\"/></a>"
      ]
    },
    {
      "metadata": {
        "id": "KMwRoxS15IAB",
        "colab_type": "text"
      },
      "cell_type": "markdown",
      "source": [
        "# HW 1 \n",
        "\n",
        "This homework will get you up to speed with Python programming, numpy, matplotlib, Keras, gradients, partial derivatives, git, GitHub, Google's colaboratory etc. Have fun!\n",
        "\n",
        "For this homework, you will create neural networks with an input layer and an output layer without any hidden layers. The connections are dense: each input neuron is connected to each output neuron.\n",
        "\n",
        "Instructions for problems 1 and 2:\n",
        "- Load the training and test data using Keras, no validation set needed.\n",
        "- Train 10 classifiers that perform binary classification: *Is the input image the digit i or is it a digit different from i?* Each of the ten classifiers has an input layer consisting of 28 x 28 input neurons and an output layer consisting of a single output neuron.\n",
        "- Implement mini-batch stochastic gradient descent using only numpy, that is, you are not allowed to use TensorFlow/Keras for SGD.\n",
        "- Use ```argmax``` to determine the classifier with the strongest output and declare the corresponding digit as output.\n",
        "\n"
      ]
    },
    {
      "metadata": {
        "id": "NLvuXGliw477",
        "colab_type": "text"
      },
      "cell_type": "markdown",
      "source": [
        "\n",
        "###Loading data forall problems here"
      ]
    },
    {
      "metadata": {
        "id": "VAz7FzJqxSul",
        "colab_type": "code",
        "colab": {}
      },
      "cell_type": "code",
      "source": [
        "from keras.datasets import mnist\n",
        "import numpy as np\n",
        "import matplotlib.pyplot as plt\n",
        "from keras.utils import to_categorical\n",
        "from keras import models\n",
        "from keras import layers\n",
        "\n",
        "(train_images_original, train_labels_original), (test_images_original, test_labels_original) = mnist.load_data()\n",
        "#print(train_labels_original.shape)"
      ],
      "execution_count": 0,
      "outputs": []
    },
    {
      "metadata": {
        "id": "t-MVyXrIq0De",
        "colab_type": "text"
      },
      "cell_type": "markdown",
      "source": [
        "###Functions and global variables to be used throughout the homework"
      ]
    },
    {
      "metadata": {
        "id": "oukl0-J44ebU",
        "colab_type": "code",
        "colab": {}
      },
      "cell_type": "code",
      "source": [
        "m = 60000\n",
        "n = 10000\n",
        "image_size = 28*28\n",
        "\n",
        "#Function for one-hot encoding\n",
        "def one_hot_encoding(train_labels, test_labels):\n",
        "  for i in range(m):\n",
        "    train_labels[i][train_labels_original[i]] = 1\n",
        "  for i in range(n):\n",
        "    test_labels[i][test_labels_original[i]] = 1\n",
        "  return train_labels, test_labels\n",
        "    \n",
        "\n",
        "#This function is called in Problems 1, 2 and 3\n",
        "#This function reshapes, normalizes and adds biases to images\n",
        "#it also performs one-hot encoding on labels\n",
        "def load_data_bias():\n",
        "  \n",
        "  #Reshape and normalize train and test images\n",
        "  train_images = train_images_original.reshape((m, image_size))\n",
        "  train_images = train_images.astype('float32') / 255\n",
        "  test_images = test_images_original.reshape((n, image_size))\n",
        "  test_images = test_images.astype('float32') / 255\n",
        "  \n",
        "  #for adding bias to train and test images\n",
        "  train_images_b = np.c_[np.ones((m, 1)), train_images]\n",
        "  test_images_b = np.c_[np.ones((n, 1)), test_images]\n",
        "  \n",
        "  train_labels = np.zeros((m,10))\n",
        "  test_labels = np.zeros((n,10))\n",
        "  \n",
        "  #one-hot encoding for labels\n",
        "  train_labels, test_labels = one_hot_encoding(train_labels, test_labels)\n",
        "  \n",
        "  return train_images_b, train_labels,test_images_b, test_labels\n",
        "\n",
        "\n",
        "def sigmoid(z):\n",
        "  ans = 1/(1+np.exp(-z))\n",
        "  return ans\n",
        "\n",
        "def softmax(z, batch_size):\n",
        "  max_func = np.max(z,axis=1).reshape((batch_size,1))\n",
        "  z_exp=np.exp(z-max_func)\n",
        "  total=np.sum(z_exp,axis=1)\n",
        "  return z_exp/total.reshape(batch_size,1)\n"
      ],
      "execution_count": 0,
      "outputs": []
    },
    {
      "metadata": {
        "id": "spr8mEbwxEIf",
        "colab_type": "text"
      },
      "cell_type": "markdown",
      "source": [
        "## Problem 1\n",
        "Use logistic regression with mean squared error loss."
      ]
    },
    {
      "metadata": {
        "id": "4XwQkWl55lCZ",
        "colab_type": "code",
        "colab": {}
      },
      "cell_type": "code",
      "source": [
        "train_images_b, train_labels,test_images_b, test_labels = load_data_bias()"
      ],
      "execution_count": 0,
      "outputs": []
    },
    {
      "metadata": {
        "id": "xAG0QHmp96qh",
        "colab_type": "code",
        "colab": {}
      },
      "cell_type": "code",
      "source": [
        "#Initialize weight and weight_10 for 10 classifiers\n",
        "np.random.seed(42)\n",
        "initial_weight=np.zeros((image_size+1,1))\n",
        "weight_10=np.zeros((image_size+1,10))   #weight_10 will store the weights of all 10 classifiers"
      ],
      "execution_count": 0,
      "outputs": []
    },
    {
      "metadata": {
        "id": "bmCLK_zjCxcY",
        "colab_type": "code",
        "colab": {}
      },
      "cell_type": "code",
      "source": [
        "epochs = 20\n",
        "lr = 0.01\n",
        "batch_size = 40\n",
        "classifiers = 10\n",
        "\n",
        "for j in range(classifiers):\n",
        "  weight = initial_weight\n",
        "  for epoch in range(epochs):\n",
        "    shuffled_indices = np.random.permutation(m)\n",
        "    train_images_b_shuffled = train_images_b[shuffled_indices]\n",
        "    train_labels_shuffled = train_labels[:,j][shuffled_indices]   \n",
        "    for i in range(0,m,batch_size):\n",
        "      x_i = train_images_b_shuffled[i:i+batch_size]\n",
        "      y_i = train_labels_shuffled[i:i+batch_size]\n",
        "      y_i = y_i.reshape((y_i.size,1))\n",
        "      z = x_i.dot(weight)\n",
        "      a = sigmoid(z)\n",
        "      dlda = a-y_i\n",
        "      dadz=a*(1-a)\n",
        "      dzdw = x_i\n",
        "      gradient = 1/batch_size * x_i.T.dot(dadz*dlda)  #gradient based on mean-squared error loss function\n",
        "      weight = weight - lr * gradient    #update weights\n",
        "  weight_10[:,j] = weight.reshape(image_size+1,)\n",
        "  "
      ],
      "execution_count": 0,
      "outputs": []
    },
    {
      "metadata": {
        "id": "3H-ED-RC5n5z",
        "colab_type": "code",
        "colab": {
          "base_uri": "https://localhost:8080/",
          "height": 204
        },
        "outputId": "17058509-3271-437c-a24c-ffde128ef67f"
      },
      "cell_type": "code",
      "source": [
        "#calculate accuracy of model on the entire training data\n",
        "z_train = train_images_b.dot(weight_10)\n",
        "a_train = sigmoid(z_train)\n",
        "\n",
        "mylabels=np.argmax(a_train,axis=1)\n",
        "print(\"Precision of the model (containing all classifers) on the Training Data\")\n",
        "for i in range(10):\n",
        "  label_i=train_labels_original==i\n",
        "  total_i=sum(label_i)\n",
        "  mytotal=mylabels[label_i]\n",
        "  mytotalok=sum(mytotal==i)\n",
        "  print(\"Digit \", i, \", Precision = \", mytotalok/total_i)"
      ],
      "execution_count": 255,
      "outputs": [
        {
          "output_type": "stream",
          "text": [
            "Precision of the model (containing all classifers) on the Training Data\n",
            "Digit  0 , Precision =  0.9643761607293602\n",
            "Digit  1 , Precision =  0.9669237614951053\n",
            "Digit  2 , Precision =  0.8575025176233635\n",
            "Digit  3 , Precision =  0.8556516065894634\n",
            "Digit  4 , Precision =  0.9024306744265662\n",
            "Digit  5 , Precision =  0.7760560782143516\n",
            "Digit  6 , Precision =  0.9467725582967219\n",
            "Digit  7 , Precision =  0.9037509976057462\n",
            "Digit  8 , Precision =  0.8160998119979491\n",
            "Digit  9 , Precision =  0.8561102706337199\n"
          ],
          "name": "stdout"
        }
      ]
    },
    {
      "metadata": {
        "id": "ZM8An2rSHcjj",
        "colab_type": "code",
        "colab": {
          "base_uri": "https://localhost:8080/",
          "height": 51
        },
        "outputId": "9a8d1532-b158-4fe7-9a93-284c7f9e626f"
      },
      "cell_type": "code",
      "source": [
        "#Calculate accuracy of model on the training data\n",
        "z_train = train_images_b.dot(weight_10)\n",
        "a_train = sigmoid(z_train)\n",
        "print(\"Total Accuracy of Model on the Training Data\")\n",
        "a_train_numb=np.argmax(a_train,axis=1)\n",
        "np.sum(a_train_numb==train_labels_original)/train_labels_original.shape[0]"
      ],
      "execution_count": 256,
      "outputs": [
        {
          "output_type": "stream",
          "text": [
            "Total Accuracy of Model on the Training Data\n"
          ],
          "name": "stdout"
        },
        {
          "output_type": "execute_result",
          "data": {
            "text/plain": [
              "0.8866333333333334"
            ]
          },
          "metadata": {
            "tags": []
          },
          "execution_count": 256
        }
      ]
    },
    {
      "metadata": {
        "id": "Qx8nkGTZomIX",
        "colab_type": "code",
        "outputId": "e16a0605-0088-4626-ad25-540ef0325373",
        "colab": {
          "base_uri": "https://localhost:8080/",
          "height": 51
        }
      },
      "cell_type": "code",
      "source": [
        "#Calculate accuracy of model on the testing data\n",
        "z_test = test_images_b.dot(weight_10)\n",
        "a_test = sigmoid(z_test)\n",
        "print(\"Total Accuracy of Model on the Testing Data\")\n",
        "a_test_numb=np.argmax(a_test,axis=1)\n",
        "np.sum(a_test_numb==test_labels_original)/test_labels_original.shape[0]\n"
      ],
      "execution_count": 257,
      "outputs": [
        {
          "output_type": "stream",
          "text": [
            "Total Accuracy of Model on the Testing Data\n"
          ],
          "name": "stdout"
        },
        {
          "output_type": "execute_result",
          "data": {
            "text/plain": [
              "0.8943"
            ]
          },
          "metadata": {
            "tags": []
          },
          "execution_count": 257
        }
      ]
    },
    {
      "metadata": {
        "id": "bN-mUe3l9zOH",
        "colab_type": "text"
      },
      "cell_type": "markdown",
      "source": [
        "## Problem 2\n",
        "Use logistic regression with binary cross entropy loss."
      ]
    },
    {
      "metadata": {
        "id": "4q9XBuNV99LW",
        "colab_type": "code",
        "colab": {}
      },
      "cell_type": "code",
      "source": [
        "train_images_b, train_labels,test_images_b, test_labels = load_data_bias()"
      ],
      "execution_count": 0,
      "outputs": []
    },
    {
      "metadata": {
        "id": "itV4R78M71TF",
        "colab_type": "code",
        "colab": {}
      },
      "cell_type": "code",
      "source": [
        "#Initialize weight and weight_10 for 10 classifiers\n",
        "np.random.seed(42)\n",
        "initial_weight=np.zeros((image_size+1,1))\n",
        "weight_10=np.zeros((image_size+1,10))    #weight_10 will store the weights of all 10 classifiers"
      ],
      "execution_count": 0,
      "outputs": []
    },
    {
      "metadata": {
        "id": "mEJA8tTk75OG",
        "colab_type": "code",
        "colab": {}
      },
      "cell_type": "code",
      "source": [
        "epochs = 10\n",
        "lr = 0.01\n",
        "batch_size = 40\n",
        "classifiers = 10\n",
        "\n",
        "for j in range(classifiers):\n",
        "  weight = initial_weight\n",
        "  for epoch in range(epochs):\n",
        "    shuffled_indices = np.random.permutation(m)\n",
        "    train_images_b_shuffled = train_images_b[shuffled_indices]\n",
        "    train_labels_shuffled = train_labels[:,j][shuffled_indices]   \n",
        "    for i in range(0,m,batch_size):\n",
        "      x_i = train_images_b_shuffled[i:i+batch_size]\n",
        "      y_i = train_labels_shuffled[i:i+batch_size]\n",
        "      y_i = y_i.reshape((y_i.size,1))\n",
        "      z = x_i.dot(weight)\n",
        "      a = sigmoid(z)\n",
        "      dlda = a-y_i\n",
        "      dadz=a*(1-a)\n",
        "      dzdw = x_i\n",
        "      gradient = 1/batch_size * x_i.T.dot(a - y_i)   #gradient based on binary cross-entropy loss function\n",
        "      weight = weight - lr * gradient  #update weights\n",
        "  weight_10[:,j] = weight.reshape(image_size+1,)"
      ],
      "execution_count": 0,
      "outputs": []
    },
    {
      "metadata": {
        "id": "PfaoTj-_8DY-",
        "colab_type": "code",
        "outputId": "cc377fce-d743-4e7a-c39d-1e4e4fc30dd6",
        "colab": {
          "base_uri": "https://localhost:8080/",
          "height": 51
        }
      },
      "cell_type": "code",
      "source": [
        "#Calculate accuracy of model on the training data\n",
        "z_train = train_images_b.dot(weight_10)\n",
        "a_train = sigmoid(z_train)\n",
        "print(\"Total Accuracy of Model on the Training Data\")\n",
        "a_train_numb=np.argmax(a_train,axis=1)\n",
        "np.sum(a_train_numb==train_labels_original)/train_labels_original.shape[0]"
      ],
      "execution_count": 250,
      "outputs": [
        {
          "output_type": "stream",
          "text": [
            "Total Accuracy of Model on the Training Data\n"
          ],
          "name": "stdout"
        },
        {
          "output_type": "execute_result",
          "data": {
            "text/plain": [
              "0.8990833333333333"
            ]
          },
          "metadata": {
            "tags": []
          },
          "execution_count": 250
        }
      ]
    },
    {
      "metadata": {
        "id": "-POCx5xi8EH-",
        "colab_type": "code",
        "outputId": "01f27ed5-8c5e-49cb-91bd-b57f65bf2976",
        "colab": {
          "base_uri": "https://localhost:8080/",
          "height": 51
        }
      },
      "cell_type": "code",
      "source": [
        "#Calculate accuracy of model on the testing data\n",
        "z_test = test_images_b.dot(weight_10)\n",
        "a_test = sigmoid(z_test)\n",
        "print(\"Total Accuracy of Model on the Testing Data\")\n",
        "a_test_numb=np.argmax(a_test,axis=1)\n",
        "np.sum(a_test_numb==test_labels_original)/test_labels_original.shape[0]"
      ],
      "execution_count": 251,
      "outputs": [
        {
          "output_type": "stream",
          "text": [
            "Total Accuracy of Model on the Testing Data\n"
          ],
          "name": "stdout"
        },
        {
          "output_type": "execute_result",
          "data": {
            "text/plain": [
              "0.9061"
            ]
          },
          "metadata": {
            "tags": []
          },
          "execution_count": 251
        }
      ]
    },
    {
      "metadata": {
        "id": "7ctzMUL6-MZP",
        "colab_type": "text"
      },
      "cell_type": "markdown",
      "source": [
        "## Problem 3\n",
        "- Load the training and test data using Keras, no validation set needed.\n",
        "- Create network with an input layer consisting of 28 x 28 input neurons and an output layer consisting of 10 output neurons.\n",
        "- Use softmax and categorical cross entropy loss.\n",
        "- Implement mini-batch stochastic gradient descent using only numpy, that is, you are not allowed to use TensorFlow/Keras for SGD."
      ]
    },
    {
      "metadata": {
        "id": "Z8Ou1ZeEZpEj",
        "colab_type": "code",
        "colab": {}
      },
      "cell_type": "code",
      "source": [
        "train_images_b, train_labels,test_images_b, test_labels = load_data_bias()"
      ],
      "execution_count": 0,
      "outputs": []
    },
    {
      "metadata": {
        "id": "uw_DcCKeatQK",
        "colab_type": "code",
        "colab": {}
      },
      "cell_type": "code",
      "source": [
        "np.random.seed(42)\n",
        "initial_weight = np.zeros((image_size+1,10))\n",
        "weight_path_mgd = []"
      ],
      "execution_count": 0,
      "outputs": []
    },
    {
      "metadata": {
        "id": "Owj522VEOwHZ",
        "colab_type": "code",
        "colab": {}
      },
      "cell_type": "code",
      "source": [
        "epochs = 10\n",
        "lr = 0.01\n",
        "batch_size = 40\n",
        "weight = initial_weight\n",
        "weight_path_mgd.append(weight)\n",
        "for epoch in range(epochs):\n",
        "    shuffled_indices = np.random.permutation(m)\n",
        "    train_images_b_shuffled = train_images_b[shuffled_indices]\n",
        "    train_labels_shuffled = train_labels[shuffled_indices]\n",
        "    for i in range(0, m, batch_size):\n",
        "      x_i = train_images_b_shuffled[i:i+batch_size]\n",
        "      y_i = train_labels_shuffled[i:i+batch_size]\n",
        "      z = x_i.dot(weight)\n",
        "      a = softmax(z, batch_size)     #calling softmax activation function   \n",
        "      gradient = 1/batch_size * x_i.T.dot(a - y_i)  #gradient based on categorical cross-entropy loss function\n",
        "      weight = weight - lr * gradient   #updating weights\n",
        "      weight_path_mgd.append(weight) "
      ],
      "execution_count": 0,
      "outputs": []
    },
    {
      "metadata": {
        "id": "72LAURd9cK0s",
        "colab_type": "code",
        "outputId": "3338e321-7443-483f-cdef-da4dceaebaad",
        "colab": {
          "base_uri": "https://localhost:8080/",
          "height": 51
        }
      },
      "cell_type": "code",
      "source": [
        "#Calculate accuracy of model on the training data\n",
        "z_train = train_images_b.dot(weight)\n",
        "a_train = softmax(z_train, train_images_b.shape[0])\n",
        "print(\"Total Accuracy of Model on the Training Data\")\n",
        "a_train_numb=np.argmax(a_train,axis=1)\n",
        "np.sum(a_train_numb==train_labels_original)/train_labels_original.shape[0]"
      ],
      "execution_count": 245,
      "outputs": [
        {
          "output_type": "stream",
          "text": [
            "Total Accuracy of Model on the Training Data\n"
          ],
          "name": "stdout"
        },
        {
          "output_type": "execute_result",
          "data": {
            "text/plain": [
              "0.9095"
            ]
          },
          "metadata": {
            "tags": []
          },
          "execution_count": 245
        }
      ]
    },
    {
      "metadata": {
        "id": "VOFQaDoghG93",
        "colab_type": "code",
        "colab": {
          "base_uri": "https://localhost:8080/",
          "height": 51
        },
        "outputId": "4c6d0258-4888-4e08-c694-cacef52db609"
      },
      "cell_type": "code",
      "source": [
        "#Calculate accuracy of model on the testing data\n",
        "z_test = test_images_b.dot(weight)\n",
        "a_test = softmax(z_test, test_images_b.shape[0])\n",
        "print(\"Total Accuracy of Model on the Testing Data\")\n",
        "a_test_numb=np.argmax(a_test,axis=1)\n",
        "np.sum(a_test_numb==test_labels_original)/test_labels_original.shape[0]"
      ],
      "execution_count": 246,
      "outputs": [
        {
          "output_type": "stream",
          "text": [
            "Total Accuracy of Model on the Testing Data\n"
          ],
          "name": "stdout"
        },
        {
          "output_type": "execute_result",
          "data": {
            "text/plain": [
              "0.9146"
            ]
          },
          "metadata": {
            "tags": []
          },
          "execution_count": 246
        }
      ]
    },
    {
      "metadata": {
        "id": "jM98Wwzi-QJG",
        "colab_type": "text"
      },
      "cell_type": "markdown",
      "source": [
        "## Problem 4\n",
        "Reimplement the network from Problem 3 entirely in Keras."
      ]
    },
    {
      "metadata": {
        "id": "W9ZAQlsWL7d_",
        "colab_type": "code",
        "colab": {}
      },
      "cell_type": "code",
      "source": [
        "train_images = train_images_original.reshape((60000, 28 * 28))\n",
        "train_images = train_images.astype('float32') / 255\n",
        "\n",
        "test_images = test_images_original.reshape((10000, 28 * 28))\n",
        "test_images = test_images.astype('float32') / 255"
      ],
      "execution_count": 0,
      "outputs": []
    },
    {
      "metadata": {
        "id": "domURlv2NjFu",
        "colab_type": "code",
        "colab": {}
      },
      "cell_type": "code",
      "source": [
        "train_labels = to_categorical(train_labels_original)\n",
        "test_labels = to_categorical(test_labels_original)"
      ],
      "execution_count": 0,
      "outputs": []
    },
    {
      "metadata": {
        "id": "8johAcgDOBlc",
        "colab_type": "code",
        "outputId": "a2bf5df2-9a4c-406c-9d93-326164951f74",
        "colab": {
          "base_uri": "https://localhost:8080/",
          "height": 170
        }
      },
      "cell_type": "code",
      "source": [
        "network = models.Sequential()\n",
        "network.add(layers.Dense(10, activation='softmax',input_shape=(28 * 28,)))\n",
        "network.summary()"
      ],
      "execution_count": 265,
      "outputs": [
        {
          "output_type": "stream",
          "text": [
            "_________________________________________________________________\n",
            "Layer (type)                 Output Shape              Param #   \n",
            "=================================================================\n",
            "dense_2 (Dense)              (None, 10)                7850      \n",
            "=================================================================\n",
            "Total params: 7,850\n",
            "Trainable params: 7,850\n",
            "Non-trainable params: 0\n",
            "_________________________________________________________________\n"
          ],
          "name": "stdout"
        }
      ]
    },
    {
      "metadata": {
        "id": "HZT0zpBQOtqM",
        "colab_type": "code",
        "colab": {}
      },
      "cell_type": "code",
      "source": [
        "network.compile(optimizer='sgd',\n",
        "                loss='categorical_crossentropy',\n",
        "                metrics=['accuracy'])"
      ],
      "execution_count": 0,
      "outputs": []
    },
    {
      "metadata": {
        "id": "lT8y2kRrPaC8",
        "colab_type": "code",
        "outputId": "fb64804d-9518-4565-a911-322be5080c0f",
        "colab": {
          "base_uri": "https://localhost:8080/",
          "height": 425
        }
      },
      "cell_type": "code",
      "source": [
        "epochs = 10\n",
        "history = network.fit(train_images, \n",
        "                      train_labels, \n",
        "                      epochs=epochs, \n",
        "                      batch_size=128, \n",
        "                      validation_data=(test_images, test_labels))"
      ],
      "execution_count": 267,
      "outputs": [
        {
          "output_type": "stream",
          "text": [
            "WARNING:tensorflow:From /usr/local/lib/python3.6/dist-packages/tensorflow/python/ops/math_ops.py:3066: to_int32 (from tensorflow.python.ops.math_ops) is deprecated and will be removed in a future version.\n",
            "Instructions for updating:\n",
            "Use tf.cast instead.\n",
            "Train on 60000 samples, validate on 10000 samples\n",
            "Epoch 1/10\n",
            "60000/60000 [==============================] - 4s 72us/step - loss: 1.2943 - acc: 0.6995 - val_loss: 0.8116 - val_acc: 0.8361\n",
            "Epoch 2/10\n",
            "60000/60000 [==============================] - 2s 28us/step - loss: 0.7179 - acc: 0.8399 - val_loss: 0.6083 - val_acc: 0.8629\n",
            "Epoch 3/10\n",
            "60000/60000 [==============================] - 2s 28us/step - loss: 0.5893 - acc: 0.8587 - val_loss: 0.5270 - val_acc: 0.8739\n",
            "Epoch 4/10\n",
            "60000/60000 [==============================] - 2s 28us/step - loss: 0.5276 - acc: 0.8677 - val_loss: 0.4810 - val_acc: 0.8832\n",
            "Epoch 5/10\n",
            "60000/60000 [==============================] - 2s 29us/step - loss: 0.4899 - acc: 0.8744 - val_loss: 0.4514 - val_acc: 0.8883\n",
            "Epoch 6/10\n",
            "60000/60000 [==============================] - 2s 28us/step - loss: 0.4639 - acc: 0.8792 - val_loss: 0.4298 - val_acc: 0.8923\n",
            "Epoch 7/10\n",
            "60000/60000 [==============================] - 2s 28us/step - loss: 0.4447 - acc: 0.8831 - val_loss: 0.4136 - val_acc: 0.8954\n",
            "Epoch 8/10\n",
            "60000/60000 [==============================] - 2s 28us/step - loss: 0.4295 - acc: 0.8859 - val_loss: 0.4010 - val_acc: 0.8969\n",
            "Epoch 9/10\n",
            "60000/60000 [==============================] - 2s 28us/step - loss: 0.4174 - acc: 0.8887 - val_loss: 0.3905 - val_acc: 0.8991\n",
            "Epoch 10/10\n",
            "60000/60000 [==============================] - 2s 29us/step - loss: 0.4074 - acc: 0.8903 - val_loss: 0.3815 - val_acc: 0.8989\n"
          ],
          "name": "stdout"
        }
      ]
    },
    {
      "metadata": {
        "id": "bCzA_kZ-R1GO",
        "colab_type": "code",
        "colab": {}
      },
      "cell_type": "code",
      "source": [
        "history_dict = history.history\n",
        "loss_values = history_dict['loss']\n",
        "test_loss_values = history_dict['val_loss']\n",
        "epochs_range = range(1, epochs + 1)"
      ],
      "execution_count": 0,
      "outputs": []
    },
    {
      "metadata": {
        "id": "f4wF0qIOR5HF",
        "colab_type": "code",
        "outputId": "077a651a-3f41-43d7-eea6-f5a6734bcbce",
        "colab": {
          "base_uri": "https://localhost:8080/",
          "height": 376
        }
      },
      "cell_type": "code",
      "source": [
        "\n",
        "plt.plot(epochs_range, loss_values, 'bo', label='Training loss')\n",
        "plt.plot(epochs_range, test_loss_values, 'ro', label='Test loss')\n",
        "plt.title('Training and test loss')\n",
        "plt.xlabel('Epochs')\n",
        "plt.ylabel('Loss')\n",
        "plt.legend()\n",
        "plt.show()"
      ],
      "execution_count": 269,
      "outputs": [
        {
          "output_type": "display_data",
          "data": {
            "image/png": "[encoded data removed]",
            "text/plain": [
              "<Figure size 576x396 with 1 Axes>"
            ]
          },
          "metadata": {
            "tags": []
          }
        }
      ]
    },
    {
      "metadata": {
        "id": "ZzE16v5T0nzN",
        "colab_type": "code",
        "colab": {}
      },
      "cell_type": "code",
      "source": [
        "acc_values = history_dict['acc']\n",
        "test_acc_values = history_dict['val_acc']"
      ],
      "execution_count": 0,
      "outputs": []
    },
    {
      "metadata": {
        "id": "SQJ5Fedn0oTF",
        "colab_type": "code",
        "colab": {
          "base_uri": "https://localhost:8080/",
          "height": 376
        },
        "outputId": "a74cadda-2e35-4565-ae4c-c5b59ae68bf0"
      },
      "cell_type": "code",
      "source": [
        "plt.plot(epochs_range, acc_values, 'bo', label='Training accuracy')\n",
        "plt.plot(epochs_range, test_acc_values, 'ro', label='Test accuracy')\n",
        "plt.title('Training and test accuracy')\n",
        "plt.xlabel('Epochs')\n",
        "plt.ylabel('Accuracy')\n",
        "plt.legend()\n",
        "plt.show()"
      ],
      "execution_count": 271,
      "outputs": [
        {
          "output_type": "display_data",
          "data": {
            "image/png": "[encoded data removed]",
            "text/plain": [
              "<Figure size 576x396 with 1 Axes>"
            ]
          },
          "metadata": {
            "tags": []
          }
        }
      ]
    },
    {
      "metadata": {
        "id": "r9ZsMF6iVBmv",
        "colab_type": "code",
        "outputId": "426fe3de-9d9d-4ebb-a567-7fd448817027",
        "colab": {
          "base_uri": "https://localhost:8080/",
          "height": 51
        }
      },
      "cell_type": "code",
      "source": [
        "test_loss, test_acc = network.evaluate(test_images, test_labels)\n",
        "\n",
        "print('Total Test accuracy:', test_acc)"
      ],
      "execution_count": 274,
      "outputs": [
        {
          "output_type": "stream",
          "text": [
            "10000/10000 [==============================] - 0s 39us/step\n",
            "Total Test accuracy: 0.8989\n"
          ],
          "name": "stdout"
        }
      ]
    },
    {
      "metadata": {
        "id": "cHSfWEWJ-TpS",
        "colab_type": "text"
      },
      "cell_type": "markdown",
      "source": [
        "## Problem 5\n",
        "Extend the network from Problem 4 by adding new features.\n",
        "- Round the grey values of the images to 1 and 0 so you obtain black and white images. Add as an additional feature the number of white regions. For instance, a typical 0 has 2 white regions and 8 has 3. Use the following neighborhoods for pixels:\n",
        "\n",
        "```\n",
        "pixel x,y (indicated by .) is connected to its neighbors (indicated by o):\n",
        "\n",
        " o\n",
        "o.o  \n",
        " o\n",
        " \n",
        "ooo\n",
        "o.o\n",
        "ooo\n",
        "```\n",
        "- Consider the width.\n",
        "- Consider the height.\n",
        "- Come up with other features.\n",
        "\n",
        "You should normalize your new features so that they are at the same scale as the pixel values (between 0 and 1)."
      ]
    },
    {
      "metadata": {
        "id": "IM5yz84l-bAf",
        "colab_type": "code",
        "outputId": "9552d308-1d4f-42ce-df35-b036ecc83752",
        "colab": {
          "base_uri": "https://localhost:8080/",
          "height": 321
        }
      },
      "cell_type": "code",
      "source": [
        "#Before Normalizing the image pixels\n",
        "digit_0 = train_images_original[0]\n",
        "digit_0.shape\n",
        "plt.figure(figsize=(5,5))\n",
        "plt.imshow(digit_0)\n",
        "plt.grid(None)\n",
        "plt.show()"
      ],
      "execution_count": 0,
      "outputs": [
        {
          "output_type": "display_data",
          "data": {
            "image/png": "[encoded data removed]",
            "text/plain": [
              "<Figure size 360x360 with 1 Axes>"
            ]
          },
          "metadata": {
            "tags": []
          }
        }
      ]
    },
    {
      "metadata": {
        "id": "EDsfMHWQUF8P",
        "colab_type": "code",
        "outputId": "262f92ef-76cc-4910-88b1-46e99a718e73",
        "colab": {
          "base_uri": "https://localhost:8080/",
          "height": 52
        }
      },
      "cell_type": "code",
      "source": [
        "label_0 = train_labels_original[0]\n",
        "print(label_0)\n",
        "\n",
        "for i in range(train_labels_original.shape[0]):\n",
        "  if train_labels_original[i] == 8:\n",
        "    break\n",
        "i\n",
        "    "
      ],
      "execution_count": 0,
      "outputs": [
        {
          "output_type": "stream",
          "text": [
            "5\n"
          ],
          "name": "stdout"
        },
        {
          "output_type": "execute_result",
          "data": {
            "text/plain": [
              "17"
            ]
          },
          "metadata": {
            "tags": []
          },
          "execution_count": 123
        }
      ]
    },
    {
      "metadata": {
        "id": "BrZgiyP8Y3fv",
        "colab_type": "code",
        "colab": {}
      },
      "cell_type": "code",
      "source": [
        "train_images = train_images_original.reshape((60000, 28 * 28))\n",
        "train_images = train_images.astype('float32') / 255\n",
        "\n",
        "test_images = test_images_original.reshape((10000, 28 * 28))\n",
        "test_images = test_images.astype('float32') / 255"
      ],
      "execution_count": 0,
      "outputs": []
    },
    {
      "metadata": {
        "id": "Lqj5mOSNkRoZ",
        "colab_type": "code",
        "outputId": "9994a2cc-b4c0-4b78-ca2f-6abc273ae9f2",
        "colab": {
          "base_uri": "https://localhost:8080/",
          "height": 338
        }
      },
      "cell_type": "code",
      "source": [
        "#before filtering\n",
        "digit_0 = train_images[0]\n",
        "digit_0 = digit_0.reshape((28,28))\n",
        "print(digit_0.shape)\n",
        "plt.figure(figsize=(5,5))\n",
        "plt.imshow(digit_0)\n",
        "plt.grid(None)\n",
        "plt.show()"
      ],
      "execution_count": 0,
      "outputs": [
        {
          "output_type": "stream",
          "text": [
            "(28, 28)\n"
          ],
          "name": "stdout"
        },
        {
          "output_type": "display_data",
          "data": {
            "image/png": "[encoded data removed]",
            "text/plain": [
              "<Figure size 360x360 with 1 Axes>"
            ]
          },
          "metadata": {
            "tags": []
          }
        }
      ]
    },
    {
      "metadata": {
        "id": "wDfuv3iUTpqC",
        "colab_type": "code",
        "colab": {}
      },
      "cell_type": "code",
      "source": [
        "#Filtering all images by rounding off\n",
        "\n",
        "#For now just use double for loops. Change it later to a built-in function\n",
        "train_images_f = train_images\n",
        "for i in range(train_images.shape[0]):\n",
        "  for j in range(train_images.shape[1]):\n",
        "    if train_images[i][j] <0.5:\n",
        "      train_images_f[i][j] = 0\n",
        "    else:\n",
        "      train_images_f[i][j] = 1\n",
        "      \n",
        "test_images_f = test_images\n",
        "for i in range(test_images.shape[0]):\n",
        "  for j in range(test_images.shape[1]):\n",
        "    if test_images[i][j] <0.5:\n",
        "      test_images_f[i][j] = 0\n",
        "    else:\n",
        "      test_images_f[i][j] = 1\n",
        "\n",
        "    \n",
        "      "
      ],
      "execution_count": 0,
      "outputs": []
    },
    {
      "metadata": {
        "id": "DOwYHUJjijmo",
        "colab_type": "code",
        "outputId": "147b494e-0f6b-488c-b1d7-f10da79650d3",
        "colab": {
          "base_uri": "https://localhost:8080/",
          "height": 338
        }
      },
      "cell_type": "code",
      "source": [
        "#after filtering\n",
        "digit_0 = train_images[0]\n",
        "digit_0 = digit_0.reshape((28,28))\n",
        "print(digit_0.shape)\n",
        "plt.figure(figsize=(5,5))\n",
        "plt.imshow(digit_0)\n",
        "plt.grid(None)\n",
        "plt.show()"
      ],
      "execution_count": 0,
      "outputs": [
        {
          "output_type": "stream",
          "text": [
            "(28, 28)\n"
          ],
          "name": "stdout"
        },
        {
          "output_type": "display_data",
          "data": {
            "image/png": "[encoded data removed]",
            "text/plain": [
              "<Figure size 360x360 with 1 Axes>"
            ]
          },
          "metadata": {
            "tags": []
          }
        }
      ]
    },
    {
      "metadata": {
        "id": "pPhhbnRbAHL4",
        "colab_type": "code",
        "colab": {}
      },
      "cell_type": "code",
      "source": [
        "#Functions for calculating the number of connected components\n",
        "# A function to check if a given cell  \n",
        "# (row, col) can be included in DFS \n",
        "def is_valid(mat_2d, i, j, visited, row, col): \n",
        "    # row number is in range, column number \n",
        "    # is in range and value is 1  \n",
        "    # and not yet visited \n",
        "    return (i >= 0 and i < row and j >= 0 and j < col and \n",
        "            not visited[i][j] and mat_2d[i][j] == 0) \n",
        "\n",
        "\n",
        "# A utility function to do DFS for a 2D  \n",
        "# boolean matrix. It only considers \n",
        "# the 8 neighbours as adjacent vertices \n",
        "def DFS(mat_2d, i, j, visited, row, col): \n",
        "\n",
        "    # These arrays are used to get row and  \n",
        "    # column numbers of 8 neighbours  \n",
        "    # of a given cell \n",
        "    rowNbr = [-1, -1, -1,  0, 0,  1, 1, 1]; \n",
        "    colNbr = [-1,  0,  1, -1, 1, -1, 0, 1]; \n",
        "\n",
        "    # Mark this cell as visited \n",
        "    visited[i][j] = True\n",
        "\n",
        "    # Recur for all connected neighbours \n",
        "    for k in range(8): \n",
        "        if is_valid(mat_2d, i + rowNbr[k], j + colNbr[k], visited, row, col): \n",
        "            DFS(mat_2d, i + rowNbr[k], j + colNbr[k], visited, row, col)             \n",
        "            \n",
        "def num_connected_comp(mat_2d, row, col): \n",
        "    # Make a bool array to mark visited cells. \n",
        "    # Initially all cells are unvisited \n",
        "    visited = [[False for j in range(col)]for i in range(row)] \n",
        "\n",
        "    # Initialize count as 0 and travese  \n",
        "    # through the all cells of \n",
        "    # given matrix \n",
        "    count = 0\n",
        "    for i in range(row): \n",
        "        for j in range(col): \n",
        "            # If a cell with value 1 is not visited yet,  \n",
        "            # then new island found \n",
        "            if visited[i][j] == False and mat_2d[i][j] ==0: \n",
        "                # Visit all cells in this island  \n",
        "                # and increment island count \n",
        "                DFS(mat_2d, i, j, visited, row, col)\n",
        "                #print(count)\n",
        "                count += 1\n",
        "    return count"
      ],
      "execution_count": 0,
      "outputs": []
    },
    {
      "metadata": {
        "id": "BBkoTYob-Zic",
        "colab_type": "text"
      },
      "cell_type": "markdown",
      "source": [
        ""
      ]
    },
    {
      "metadata": {
        "id": "ynsUrqtjxITu",
        "colab_type": "code",
        "outputId": "e3eecd99-e044-45dc-ad86-bd5ddaabe2ab",
        "colab": {
          "base_uri": "https://localhost:8080/",
          "height": 373
        }
      },
      "cell_type": "code",
      "source": [
        "#Trying out the above connected component function for 1 image\n",
        "\n",
        "digit_1 = train_images_f[17]\n",
        "digit_1 = digit_1.reshape((28,28))\n",
        "print(digit_1.shape)\n",
        "plt.figure(figsize=(5,5))\n",
        "plt.imshow(digit_1)\n",
        "plt.grid(None)\n",
        "plt.show()\n",
        "\n",
        "#first reshape the image into 28x28\n",
        "mat_2d = digit_1\n",
        "row = mat_2d.shape[0]\n",
        "col = mat_2d.shape[1]\n",
        "#print(\"train_images_f[0].shape=\",train_images_f[0].shape)\n",
        "print(\"row = \", row, \"col = \", col)\n",
        "result = num_connected_comp(mat_2d, row, col)\n",
        "result"
      ],
      "execution_count": 0,
      "outputs": [
        {
          "output_type": "stream",
          "text": [
            "(28, 28)\n"
          ],
          "name": "stdout"
        },
        {
          "output_type": "display_data",
          "data": {
            "image/png": "[encoded data removed]",
            "text/plain": [
              "<Figure size 360x360 with 1 Axes>"
            ]
          },
          "metadata": {
            "tags": []
          }
        },
        {
          "output_type": "stream",
          "text": [
            "row =  28 col =  28\n"
          ],
          "name": "stdout"
        },
        {
          "output_type": "execute_result",
          "data": {
            "text/plain": [
              "3"
            ]
          },
          "metadata": {
            "tags": []
          },
          "execution_count": 129
        }
      ]
    },
    {
      "metadata": {
        "id": "uitbAZexS7Kt",
        "colab_type": "code",
        "colab": {}
      },
      "cell_type": "code",
      "source": [
        "#Now calculate number of white regions for all the training images\n",
        "m  = 60000\n",
        "n = 10000\n",
        "\n",
        "cc_feature_train = np.empty((m,1))\n",
        "fraction_1s_feature_train = np.empty((m,1))\n",
        "fraction_0s_feature_train = np.empty((m,1))\n",
        "#print(cc_feature.shape)\n",
        "for i in range(m):\n",
        "  fraction_1s_feature_train[i] = ((train_images_f[i]==1).sum())/train_images_f[i].shape[0]\n",
        "  fraction_0s_feature_train[i] = 1 - fraction_1s_feature_train[i]\n",
        "  mat_2d = train_images_f[i].reshape((28,28))\n",
        "  row = mat_2d.shape[0]\n",
        "  col = mat_2d.shape[1]\n",
        "  cc_feature_train[i] = num_connected_comp(mat_2d, row, col)\n",
        "\n",
        "cc_feature_test = np.empty((n,1))\n",
        "fraction_1s_feature_test = np.empty((n,1))\n",
        "fraction_0s_feature_test = np.empty((n,1))\n",
        "#print(cc_feature_test.shape)\n",
        "for i in range(n):\n",
        "  fraction_1s_feature_test[i] = ((test_images_f[i]==1).sum())/test_images_f[i].shape[0]\n",
        "  fraction_0s_feature_test[i] = 1 - fraction_1s_feature_test[i]\n",
        "  mat_2d = test_images_f[i].reshape((28,28))\n",
        "  row = mat_2d.shape[0]\n",
        "  col = mat_2d.shape[1]\n",
        "  cc_feature_test[i] = num_connected_comp(mat_2d, row, col)\n",
        "  "
      ],
      "execution_count": 0,
      "outputs": []
    },
    {
      "metadata": {
        "id": "_OcHbuuGXk7i",
        "colab_type": "code",
        "outputId": "0869b3a5-4ba4-40fd-a15d-d4f66341d8bb",
        "colab": {
          "base_uri": "https://localhost:8080/",
          "height": 52
        }
      },
      "cell_type": "code",
      "source": [
        "#cc_feature_train[17]\n",
        "print(fraction_1s_feature_train[0])\n",
        "print(fraction_0s_feature_train[0])"
      ],
      "execution_count": 0,
      "outputs": [
        {
          "output_type": "stream",
          "text": [
            "[0.14158163]\n",
            "[0.85841837]\n"
          ],
          "name": "stdout"
        }
      ]
    },
    {
      "metadata": {
        "id": "KdVh04e0flo-",
        "colab_type": "code",
        "colab": {}
      },
      "cell_type": "code",
      "source": [
        "#now normalize cc_feature_train\n",
        "max_cc_val = np.max(cc_feature_train)\n",
        "cc_feature_train_norm = cc_feature_train / max_cc_val\n",
        "cc_feature_train_norm.shape\n",
        "\n",
        "#now normalize cc_feature_test\n",
        "max_cc_val = np.max(cc_feature_test)\n",
        "cc_feature_test_norm = cc_feature_test / max_cc_val\n",
        "#cc_feature_train_norm.shape"
      ],
      "execution_count": 0,
      "outputs": []
    },
    {
      "metadata": {
        "id": "2yB2IGygYDBZ",
        "colab_type": "code",
        "outputId": "6e75b59a-e7c2-42fb-f040-adbf91be2d1e",
        "colab": {
          "base_uri": "https://localhost:8080/",
          "height": 69
        }
      },
      "cell_type": "code",
      "source": [
        "#Add new features to training images\n",
        "train_images_f_cc = np.c_[cc_feature_train_norm, fraction_1s_feature_train, fraction_0s_feature_train, train_images_f]\n",
        "#train_images_f_cc.shape\n",
        "\n",
        "#Add this extra feature to test images\n",
        "print(cc_feature_test_norm.shape)\n",
        "print(test_images_f.shape)\n",
        "test_images_f_cc = np.c_[cc_feature_test_norm, fraction_1s_feature_test, fraction_0s_feature_test, test_images_f]\n",
        "train_images_f_cc.shape\n",
        "\n"
      ],
      "execution_count": 0,
      "outputs": [
        {
          "output_type": "stream",
          "text": [
            "(10000, 1)\n",
            "(10000, 784)\n"
          ],
          "name": "stdout"
        },
        {
          "output_type": "execute_result",
          "data": {
            "text/plain": [
              "(60000, 787)"
            ]
          },
          "metadata": {
            "tags": []
          },
          "execution_count": 134
        }
      ]
    },
    {
      "metadata": {
        "id": "BHrv5TJ4ikJu",
        "colab_type": "code",
        "colab": {}
      },
      "cell_type": "code",
      "source": [
        "#doing one-hot encoding on the labels\n",
        "train_labels = to_categorical(train_labels_original)\n",
        "test_labels = to_categorical(test_labels_original)"
      ],
      "execution_count": 0,
      "outputs": []
    },
    {
      "metadata": {
        "id": "c8cCqm1L0t5D",
        "colab_type": "code",
        "outputId": "9d06b0d0-37ea-4b2f-e7cb-25ac518ce950",
        "colab": {
          "base_uri": "https://localhost:8080/",
          "height": 173
        }
      },
      "cell_type": "code",
      "source": [
        "from keras import models\n",
        "from keras import layers\n",
        "\n",
        "network = models.Sequential()\n",
        "#network.add(layers.Dense(28*28, activation='relu', input_shape=(28 * 28,)))\n",
        "network.add(layers.Dense(10, activation='softmax',input_shape=(28 * 28+3,)))\n",
        "network.summary()"
      ],
      "execution_count": 0,
      "outputs": [
        {
          "output_type": "stream",
          "text": [
            "_________________________________________________________________\n",
            "Layer (type)                 Output Shape              Param #   \n",
            "=================================================================\n",
            "dense_7 (Dense)              (None, 10)                7880      \n",
            "=================================================================\n",
            "Total params: 7,880\n",
            "Trainable params: 7,880\n",
            "Non-trainable params: 0\n",
            "_________________________________________________________________\n"
          ],
          "name": "stdout"
        }
      ]
    },
    {
      "metadata": {
        "id": "37CA9MME2CA1",
        "colab_type": "code",
        "colab": {}
      },
      "cell_type": "code",
      "source": [
        "network.compile(optimizer='sgd',\n",
        "                loss='categorical_crossentropy',\n",
        "                metrics=['accuracy'])"
      ],
      "execution_count": 0,
      "outputs": []
    },
    {
      "metadata": {
        "id": "XDKDHKfe1wfe",
        "colab_type": "code",
        "outputId": "cb5219db-32b7-450e-9655-5b95f0071724",
        "colab": {
          "base_uri": "https://localhost:8080/",
          "height": 555
        }
      },
      "cell_type": "code",
      "source": [
        "epochs = 15\n",
        "history = network.fit(train_images_f_cc, \n",
        "                      train_labels, \n",
        "                      epochs=epochs, \n",
        "                      batch_size=128, \n",
        "                      validation_data=(test_images_f_cc, test_labels))"
      ],
      "execution_count": 0,
      "outputs": [
        {
          "output_type": "stream",
          "text": [
            "Train on 60000 samples, validate on 10000 samples\n",
            "Epoch 1/15\n",
            "60000/60000 [==============================] - 2s 32us/step - loss: 1.2386 - acc: 0.6995 - val_loss: 0.7924 - val_acc: 0.8256\n",
            "Epoch 2/15\n",
            "60000/60000 [==============================] - 2s 33us/step - loss: 0.7036 - acc: 0.8359 - val_loss: 0.6012 - val_acc: 0.8574\n",
            "Epoch 3/15\n",
            "60000/60000 [==============================] - 2s 33us/step - loss: 0.5816 - acc: 0.8554 - val_loss: 0.5240 - val_acc: 0.8732\n",
            "Epoch 4/15\n",
            "60000/60000 [==============================] - 2s 33us/step - loss: 0.5223 - acc: 0.8659 - val_loss: 0.4801 - val_acc: 0.8793\n",
            "Epoch 5/15\n",
            "60000/60000 [==============================] - 2s 32us/step - loss: 0.4859 - acc: 0.8727 - val_loss: 0.4511 - val_acc: 0.8837\n",
            "Epoch 6/15\n",
            "60000/60000 [==============================] - 2s 33us/step - loss: 0.4606 - acc: 0.8777 - val_loss: 0.4306 - val_acc: 0.8880\n",
            "Epoch 7/15\n",
            "60000/60000 [==============================] - 2s 33us/step - loss: 0.4418 - acc: 0.8813 - val_loss: 0.4149 - val_acc: 0.8907\n",
            "Epoch 8/15\n",
            "60000/60000 [==============================] - 2s 33us/step - loss: 0.4271 - acc: 0.8848 - val_loss: 0.4028 - val_acc: 0.8933\n",
            "Epoch 9/15\n",
            "60000/60000 [==============================] - 2s 33us/step - loss: 0.4151 - acc: 0.8869 - val_loss: 0.3921 - val_acc: 0.8951\n",
            "Epoch 10/15\n",
            "60000/60000 [==============================] - 2s 33us/step - loss: 0.4052 - acc: 0.8893 - val_loss: 0.3837 - val_acc: 0.8966\n",
            "Epoch 11/15\n",
            "60000/60000 [==============================] - 2s 33us/step - loss: 0.3967 - acc: 0.8909 - val_loss: 0.3765 - val_acc: 0.8983\n",
            "Epoch 12/15\n",
            "60000/60000 [==============================] - 2s 35us/step - loss: 0.3894 - acc: 0.8929 - val_loss: 0.3700 - val_acc: 0.8994\n",
            "Epoch 13/15\n",
            "60000/60000 [==============================] - 2s 38us/step - loss: 0.3830 - acc: 0.8942 - val_loss: 0.3646 - val_acc: 0.9002\n",
            "Epoch 14/15\n",
            "60000/60000 [==============================] - 2s 41us/step - loss: 0.3773 - acc: 0.8956 - val_loss: 0.3598 - val_acc: 0.9008\n",
            "Epoch 15/15\n",
            "60000/60000 [==============================] - 2s 36us/step - loss: 0.3722 - acc: 0.8969 - val_loss: 0.3556 - val_acc: 0.9028\n"
          ],
          "name": "stdout"
        }
      ]
    },
    {
      "metadata": {
        "id": "J9I6RMZbZa0P",
        "colab_type": "code",
        "colab": {}
      },
      "cell_type": "code",
      "source": [
        "history_dict = history.history\n",
        "loss_values = history_dict['loss']\n",
        "test_loss_values = history_dict['val_loss']\n",
        "epochs_range = range(1, epochs + 1)"
      ],
      "execution_count": 0,
      "outputs": []
    },
    {
      "metadata": {
        "id": "pvSoeX6BZiiz",
        "colab_type": "code",
        "outputId": "6780ff4a-54ea-4292-fee4-9184c0829b91",
        "colab": {
          "base_uri": "https://localhost:8080/",
          "height": 377
        }
      },
      "cell_type": "code",
      "source": [
        "plt.plot(epochs_range, loss_values, 'bo', label='Training loss')\n",
        "plt.plot(epochs_range, test_loss_values, 'ro', label='Test loss')\n",
        "plt.title('Training and test loss')\n",
        "plt.xlabel('Epochs')\n",
        "plt.ylabel('Loss')\n",
        "plt.legend()\n",
        "plt.show()"
      ],
      "execution_count": 0,
      "outputs": [
        {
          "output_type": "display_data",
          "data": {
            "image/png": "[encoded data removed]",
            "text/plain": [
              "<Figure size 576x396 with 1 Axes>"
            ]
          },
          "metadata": {
            "tags": []
          }
        }
      ]
    },
    {
      "metadata": {
        "id": "ULYMCY9wbq_g",
        "colab_type": "code",
        "outputId": "aeb7f906-0749-442b-8aba-3bf405b2a799",
        "colab": {
          "base_uri": "https://localhost:8080/",
          "height": 52
        }
      },
      "cell_type": "code",
      "source": [
        "test_loss, test_acc = network.evaluate(test_images_f_cc, test_labels)\n",
        "\n",
        "print('Test accuracy:', test_acc)"
      ],
      "execution_count": 0,
      "outputs": [
        {
          "output_type": "stream",
          "text": [
            "10000/10000 [==============================] - 0s 46us/step\n",
            "Test accuracy: 0.9028\n"
          ],
          "name": "stdout"
        }
      ]
    },
    {
      "metadata": {
        "id": "Bt2v5ikweJuH",
        "colab_type": "code",
        "colab": {}
      },
      "cell_type": "code",
      "source": [
        "#Now adding more feature, i.e. no. of 1s and number of 0s in the training images\n"
      ],
      "execution_count": 0,
      "outputs": []
    }
  ]
}