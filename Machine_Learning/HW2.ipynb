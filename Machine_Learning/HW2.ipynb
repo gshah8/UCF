{
  "nbformat": 4,
  "nbformat_minor": 0,
  "metadata": {
    "colab": {
      "name": "HW2.ipynb",
      "version": "0.3.2",
      "provenance": [],
      "collapsed_sections": [],
      "include_colab_link": true
    },
    "kernelspec": {
      "name": "python3",
      "display_name": "Python 3"
    },
    "accelerator": "GPU"
  },
  "cells": [
    {
      "cell_type": "markdown",
      "metadata": {
        "id": "view-in-github",
        "colab_type": "text"
      },
      "source": [
        "<a href=\"https://colab.research.google.com/github/gshah8/UCF/blob/master/Machine_Learning/HW2.ipynb\" target=\"_parent\"><img src=\"https://colab.research.google.com/assets/colab-badge.svg\" alt=\"Open In Colab\"/></a>"
      ]
    },
    {
      "metadata": {
        "id": "5vSpuR2h9REm",
        "colab_type": "text"
      },
      "cell_type": "markdown",
      "source": [
        "###Name: Ghayoor Shah\n",
        "\n",
        "# HW 2\n",
        "\n",
        "The goal of this homework is to create a convolutional neural network for the CIFAR10 data set. \n",
        "See [this colab notebook](https://colab.research.google.com/drive/1LZZviWOzvchcXRdZi2IBx3KOpQOzLalf) how to load the CIFAR data in Keras.\n",
        "\n",
        "You should not use any pretrained convnets that come with Keras. You have to create and train your own convnets with Keras from scratch.\n",
        "\n",
        "## Simple hold-out validation\n",
        "\n",
        "Make sure that the data is divided into: \n",
        "\n",
        "- training set (80%)\n",
        "- validation set (20%)\n",
        "- test set. \n",
        "\n",
        "Use the training set to train your neural networks. Evaluate their performance on the validation data set. \n",
        "\n",
        "After trying several different architectures, choose the one that performs\n",
        "best of the validation set. Try at least four different architectures by using data augmentation, using dropout, varying the number of layers, the number of filters, etc.\n",
        "\n",
        "Train this final architecture on the data from the training set and validation set and evaluate its performance on \n",
        "the test set.\n",
        "\n",
        "\n",
        "\n"
      ]
    },
    {
      "metadata": {
        "id": "tGt5GSXu_g9t",
        "colab_type": "text"
      },
      "cell_type": "markdown",
      "source": [
        "### Loading the CIFAR10 data set\n",
        "\n"
      ]
    },
    {
      "metadata": {
        "id": "GaciVEq0_dts",
        "colab_type": "code",
        "colab": {
          "base_uri": "https://localhost:8080/",
          "height": 68
        },
        "outputId": "fb703983-2b1f-45f6-a7c0-1365c09dbd01"
      },
      "cell_type": "code",
      "source": [
        "from keras.datasets import cifar10\n",
        "\n",
        "(train_images, train_labels), (test_images, test_labels) = cifar10.load_data()"
      ],
      "execution_count": 1,
      "outputs": [
        {
          "output_type": "stream",
          "text": [
            "Using TensorFlow backend.\n"
          ],
          "name": "stderr"
        },
        {
          "output_type": "stream",
          "text": [
            "Downloading data from https://www.cs.toronto.edu/~kriz/cifar-10-python.tar.gz\n",
            "170500096/170498071 [==============================] - 44s 0us/step\n"
          ],
          "name": "stdout"
        }
      ]
    },
    {
      "metadata": {
        "id": "-AYEf3umAHQm",
        "colab_type": "text"
      },
      "cell_type": "markdown",
      "source": [
        "### Exploring the format of the CIFAR10 data set"
      ]
    },
    {
      "metadata": {
        "id": "p1hNMiPtAIsN",
        "colab_type": "code",
        "colab": {}
      },
      "cell_type": "code",
      "source": [
        ""
      ],
      "execution_count": 0,
      "outputs": []
    },
    {
      "metadata": {
        "id": "jDH1M98B_Zb2",
        "colab_type": "text"
      },
      "cell_type": "markdown",
      "source": [
        "## k-fold validation\n",
        "\n",
        "Reevaluate your best architecture using k-fold validation with k=5, that is, the size of the validation fold is 20%. Does the accuracy/loss obtain by k-fold validation differ from the accuracy/loss obtain by simple hold-out validation."
      ]
    }
  ]
}