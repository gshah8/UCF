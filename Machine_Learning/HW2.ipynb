{
  "nbformat": 4,
  "nbformat_minor": 0,
  "metadata": {
    "colab": {
      "name": "HW2.ipynb",
      "version": "0.3.2",
      "provenance": [],
      "collapsed_sections": [],
      "include_colab_link": true
    },
    "kernelspec": {
      "name": "python3",
      "display_name": "Python 3"
    },
    "accelerator": "GPU"
  },
  "cells": [
    {
      "cell_type": "markdown",
      "metadata": {
        "id": "view-in-github",
        "colab_type": "text"
      },
      "source": [
        "<a href=\"https://colab.research.google.com/github/gshah8/UCF/blob/master/Machine_Learning/HW2.ipynb\" target=\"_parent\"><img src=\"https://colab.research.google.com/assets/colab-badge.svg\" alt=\"Open In Colab\"/></a>"
      ]
    },
    {
      "metadata": {
        "id": "5vSpuR2h9REm",
        "colab_type": "text"
      },
      "cell_type": "markdown",
      "source": [
        "###Name: Ghayoor Shah\n",
        "\n",
        "# HW 2\n",
        "\n",
        "The goal of this homework is to create a convolutional neural network for the CIFAR10 data set. \n",
        "See [this colab notebook](https://colab.research.google.com/drive/1LZZviWOzvchcXRdZi2IBx3KOpQOzLalf) how to load the CIFAR data in Keras.\n",
        "\n",
        "You should not use any pretrained convnets that come with Keras. You have to create and train your own convnets with Keras from scratch.\n",
        "\n",
        "## Simple hold-out validation\n",
        "\n",
        "Make sure that the data is divided into: \n",
        "\n",
        "- training set (80%)\n",
        "- validation set (20%)\n",
        "- test set. \n",
        "\n",
        "Use the training set to train your neural networks. Evaluate their performance on the validation data set. \n",
        "\n",
        "After trying several different architectures, choose the one that performs\n",
        "best of the validation set. Try at least four different architectures by using data augmentation, using dropout, varying the number of layers, the number of filters, etc.\n",
        "\n",
        "Train this final architecture on the data from the training set and validation set and evaluate its performance on \n",
        "the test set.\n",
        "\n",
        "## k-fold validation\n",
        "\n",
        "Reevaluate your best architecture using k-fold validation with k=5, that is, the size of the validation fold is 20%. Does the accuracy/loss obtain by k-fold validation differ from the accuracy/loss obtain by simple hold-out validation."
      ]
    },
    {
      "metadata": {
        "id": "tGt5GSXu_g9t",
        "colab_type": "text"
      },
      "cell_type": "markdown",
      "source": [
        "### Loading the CIFAR10 data set\n",
        "\n"
      ]
    },
    {
      "metadata": {
        "id": "GaciVEq0_dts",
        "colab_type": "code",
        "colab": {
          "base_uri": "https://localhost:8080/",
          "height": 68
        },
        "outputId": "dcab654e-065c-49e0-c9b0-507a7264c425"
      },
      "cell_type": "code",
      "source": [
        "import tensorflow as tf\n",
        "from tensorflow import keras\n",
        "from keras.datasets import cifar10\n",
        "\n",
        "(train_images, train_labels), (test_images, test_labels) = cifar10.load_data()"
      ],
      "execution_count": 1,
      "outputs": [
        {
          "output_type": "stream",
          "text": [
            "Using TensorFlow backend.\n"
          ],
          "name": "stderr"
        },
        {
          "output_type": "stream",
          "text": [
            "Downloading data from https://www.cs.toronto.edu/~kriz/cifar-10-python.tar.gz\n",
            "170500096/170498071 [==============================] - 102s 1us/step\n"
          ],
          "name": "stdout"
        }
      ]
    },
    {
      "metadata": {
        "id": "-AYEf3umAHQm",
        "colab_type": "text"
      },
      "cell_type": "markdown",
      "source": [
        "### Exploring the format of the CIFAR10 data set"
      ]
    },
    {
      "metadata": {
        "id": "p1hNMiPtAIsN",
        "colab_type": "code",
        "colab": {
          "base_uri": "https://localhost:8080/",
          "height": 34
        },
        "outputId": "d30785d4-f6b9-49d8-a797-4ac1cbebfd28"
      },
      "cell_type": "code",
      "source": [
        "train_images.shape"
      ],
      "execution_count": 2,
      "outputs": [
        {
          "output_type": "execute_result",
          "data": {
            "text/plain": [
              "(50000, 32, 32, 3)"
            ]
          },
          "metadata": {
            "tags": []
          },
          "execution_count": 2
        }
      ]
    },
    {
      "metadata": {
        "id": "J6KJNpLlAtLb",
        "colab_type": "code",
        "colab": {
          "base_uri": "https://localhost:8080/",
          "height": 34
        },
        "outputId": "e24ffda6-a34a-4bec-f9b9-87ff0eecc925"
      },
      "cell_type": "code",
      "source": [
        "train_images.ndim"
      ],
      "execution_count": 3,
      "outputs": [
        {
          "output_type": "execute_result",
          "data": {
            "text/plain": [
              "4"
            ]
          },
          "metadata": {
            "tags": []
          },
          "execution_count": 3
        }
      ]
    },
    {
      "metadata": {
        "id": "8_SDVSLrAx1L",
        "colab_type": "code",
        "colab": {
          "base_uri": "https://localhost:8080/",
          "height": 34
        },
        "outputId": "bd053d84-35d5-4f20-9c60-2cbbb1cbb3c3"
      },
      "cell_type": "code",
      "source": [
        "train_labels.shape"
      ],
      "execution_count": 4,
      "outputs": [
        {
          "output_type": "execute_result",
          "data": {
            "text/plain": [
              "(50000, 1)"
            ]
          },
          "metadata": {
            "tags": []
          },
          "execution_count": 4
        }
      ]
    },
    {
      "metadata": {
        "id": "14iRg_dJA0Iv",
        "colab_type": "code",
        "colab": {
          "base_uri": "https://localhost:8080/",
          "height": 34
        },
        "outputId": "63b6787e-cab7-481a-d60e-c414ce8660aa"
      },
      "cell_type": "code",
      "source": [
        "train_labels.ndim"
      ],
      "execution_count": 5,
      "outputs": [
        {
          "output_type": "execute_result",
          "data": {
            "text/plain": [
              "2"
            ]
          },
          "metadata": {
            "tags": []
          },
          "execution_count": 5
        }
      ]
    },
    {
      "metadata": {
        "id": "FbOE5y_-EzOV",
        "colab_type": "text"
      },
      "cell_type": "markdown",
      "source": [
        "###Preprocess the data"
      ]
    },
    {
      "metadata": {
        "id": "w4u6Vq_KE6Oe",
        "colab_type": "code",
        "colab": {}
      },
      "cell_type": "code",
      "source": [
        "train_images = train_images/255\n",
        "test_images = test_images/255"
      ],
      "execution_count": 0,
      "outputs": []
    },
    {
      "metadata": {
        "id": "9vynlXErFcqO",
        "colab_type": "text"
      },
      "cell_type": "markdown",
      "source": [
        "###Build a basic model (without Data Augmentation and Dropout)"
      ]
    },
    {
      "metadata": {
        "id": "4d7o1oJLFeqm",
        "colab_type": "code",
        "colab": {
          "base_uri": "https://localhost:8080/",
          "height": 479
        },
        "outputId": "9836ffc7-2d06-424b-94b1-a6be96b2898b"
      },
      "cell_type": "code",
      "source": [
        "# set up the layers\n",
        "\n",
        "model = keras.Sequential([\n",
        "    keras.layers.Conv2D(32, (3, 3), activation='relu', input_shape=(32, 32, 3)),\n",
        "    keras.layers.MaxPooling2D((2, 2)),\n",
        "    #\n",
        "    keras.layers.Conv2D(64, (3, 3), activation='relu'),\n",
        "    keras.layers.MaxPooling2D((2, 2)),\n",
        "    #\n",
        "    keras.layers.Conv2D(64, (3, 3), activation='relu'),\n",
        "    #\n",
        "    keras.layers.Flatten(),\n",
        "    keras.layers.Dense(64, activation='relu'),\n",
        "    keras.layers.Dense(10, activation='softmax')\n",
        "])\n",
        "model.summary()"
      ],
      "execution_count": 7,
      "outputs": [
        {
          "output_type": "stream",
          "text": [
            "WARNING:tensorflow:From /usr/local/lib/python3.6/dist-packages/tensorflow/python/ops/resource_variable_ops.py:435: colocate_with (from tensorflow.python.framework.ops) is deprecated and will be removed in a future version.\n",
            "Instructions for updating:\n",
            "Colocations handled automatically by placer.\n",
            "_________________________________________________________________\n",
            "Layer (type)                 Output Shape              Param #   \n",
            "=================================================================\n",
            "conv2d (Conv2D)              (None, 30, 30, 32)        896       \n",
            "_________________________________________________________________\n",
            "max_pooling2d (MaxPooling2D) (None, 15, 15, 32)        0         \n",
            "_________________________________________________________________\n",
            "conv2d_1 (Conv2D)            (None, 13, 13, 64)        18496     \n",
            "_________________________________________________________________\n",
            "max_pooling2d_1 (MaxPooling2 (None, 6, 6, 64)          0         \n",
            "_________________________________________________________________\n",
            "conv2d_2 (Conv2D)            (None, 4, 4, 64)          36928     \n",
            "_________________________________________________________________\n",
            "flatten (Flatten)            (None, 1024)              0         \n",
            "_________________________________________________________________\n",
            "dense (Dense)                (None, 64)                65600     \n",
            "_________________________________________________________________\n",
            "dense_1 (Dense)              (None, 10)                650       \n",
            "=================================================================\n",
            "Total params: 122,570\n",
            "Trainable params: 122,570\n",
            "Non-trainable params: 0\n",
            "_________________________________________________________________\n"
          ],
          "name": "stdout"
        }
      ]
    },
    {
      "metadata": {
        "id": "mXpTCFSKH-0Y",
        "colab_type": "text"
      },
      "cell_type": "markdown",
      "source": [
        "###Compile the Model"
      ]
    },
    {
      "metadata": {
        "id": "UY6Yl69XH4b4",
        "colab_type": "code",
        "colab": {}
      },
      "cell_type": "code",
      "source": [
        "model.compile(optimizer='adam',\n",
        "             loss='sparse_categorical_crossentropy',\n",
        "             metrics=['accuracy'])"
      ],
      "execution_count": 0,
      "outputs": []
    },
    {
      "metadata": {
        "id": "jDH1M98B_Zb2",
        "colab_type": "text"
      },
      "cell_type": "markdown",
      "source": [
        "###Train the Model"
      ]
    },
    {
      "metadata": {
        "id": "ULo_pCDVIJd_",
        "colab_type": "code",
        "colab": {
          "base_uri": "https://localhost:8080/",
          "height": 1394
        },
        "outputId": "16041936-d791-488f-8d05-3e3c0f32b735"
      },
      "cell_type": "code",
      "source": [
        "epochs = 40\n",
        "history = model.fit(train_images, \n",
        "                      train_labels, \n",
        "                      epochs=epochs,  \n",
        "                      validation_data=(test_images, test_labels))"
      ],
      "execution_count": 9,
      "outputs": [
        {
          "output_type": "stream",
          "text": [
            "Train on 50000 samples, validate on 10000 samples\n",
            "Epoch 1/40\n",
            "50000/50000 [==============================] - 18s 351us/sample - loss: 1.5435 - acc: 0.4364 - val_loss: 1.2592 - val_acc: 0.5523\n",
            "Epoch 2/40\n",
            "50000/50000 [==============================] - 15s 295us/sample - loss: 1.1913 - acc: 0.5761 - val_loss: 1.1280 - val_acc: 0.5999\n",
            "Epoch 3/40\n",
            "50000/50000 [==============================] - 15s 295us/sample - loss: 1.0473 - acc: 0.6311 - val_loss: 1.0372 - val_acc: 0.6335\n",
            "Epoch 4/40\n",
            "50000/50000 [==============================] - 15s 295us/sample - loss: 0.9544 - acc: 0.6655 - val_loss: 0.9589 - val_acc: 0.6715\n",
            "Epoch 5/40\n",
            "50000/50000 [==============================] - 15s 293us/sample - loss: 0.8827 - acc: 0.6900 - val_loss: 0.9395 - val_acc: 0.6741\n",
            "Epoch 6/40\n",
            "50000/50000 [==============================] - 15s 295us/sample - loss: 0.8215 - acc: 0.7108 - val_loss: 0.8940 - val_acc: 0.6907\n",
            "Epoch 7/40\n",
            "50000/50000 [==============================] - 15s 296us/sample - loss: 0.7722 - acc: 0.7286 - val_loss: 0.8835 - val_acc: 0.6996\n",
            "Epoch 8/40\n",
            "50000/50000 [==============================] - 15s 293us/sample - loss: 0.7292 - acc: 0.7436 - val_loss: 0.8966 - val_acc: 0.6988\n",
            "Epoch 9/40\n",
            "50000/50000 [==============================] - 15s 294us/sample - loss: 0.6847 - acc: 0.7595 - val_loss: 0.8583 - val_acc: 0.7112\n",
            "Epoch 10/40\n",
            "50000/50000 [==============================] - 15s 291us/sample - loss: 0.6467 - acc: 0.7717 - val_loss: 0.9048 - val_acc: 0.7024\n",
            "Epoch 11/40\n",
            "50000/50000 [==============================] - 15s 292us/sample - loss: 0.6124 - acc: 0.7829 - val_loss: 1.0428 - val_acc: 0.6683\n",
            "Epoch 12/40\n",
            "50000/50000 [==============================] - 15s 291us/sample - loss: 0.5822 - acc: 0.7955 - val_loss: 0.9039 - val_acc: 0.7093\n",
            "Epoch 13/40\n",
            "50000/50000 [==============================] - 15s 294us/sample - loss: 0.5517 - acc: 0.8056 - val_loss: 0.9367 - val_acc: 0.7061\n",
            "Epoch 14/40\n",
            "50000/50000 [==============================] - 15s 295us/sample - loss: 0.5198 - acc: 0.8162 - val_loss: 0.9761 - val_acc: 0.7032\n",
            "Epoch 15/40\n",
            "50000/50000 [==============================] - 15s 294us/sample - loss: 0.4917 - acc: 0.8261 - val_loss: 0.9605 - val_acc: 0.7055\n",
            "Epoch 16/40\n",
            "50000/50000 [==============================] - 15s 294us/sample - loss: 0.4673 - acc: 0.8346 - val_loss: 0.9991 - val_acc: 0.7049\n",
            "Epoch 17/40\n",
            "50000/50000 [==============================] - 15s 295us/sample - loss: 0.4412 - acc: 0.8435 - val_loss: 1.0066 - val_acc: 0.7071\n",
            "Epoch 18/40\n",
            "50000/50000 [==============================] - 15s 292us/sample - loss: 0.4119 - acc: 0.8548 - val_loss: 1.1120 - val_acc: 0.6877\n",
            "Epoch 19/40\n",
            "50000/50000 [==============================] - 15s 293us/sample - loss: 0.3990 - acc: 0.8597 - val_loss: 1.0767 - val_acc: 0.7002\n",
            "Epoch 20/40\n",
            "50000/50000 [==============================] - 15s 293us/sample - loss: 0.3695 - acc: 0.8686 - val_loss: 1.1400 - val_acc: 0.6958\n",
            "Epoch 21/40\n",
            "50000/50000 [==============================] - 15s 296us/sample - loss: 0.3523 - acc: 0.8752 - val_loss: 1.1973 - val_acc: 0.6834\n",
            "Epoch 22/40\n",
            "50000/50000 [==============================] - 15s 292us/sample - loss: 0.3365 - acc: 0.8803 - val_loss: 1.2582 - val_acc: 0.6903\n",
            "Epoch 23/40\n",
            "50000/50000 [==============================] - 15s 295us/sample - loss: 0.3060 - acc: 0.8908 - val_loss: 1.3253 - val_acc: 0.6863\n",
            "Epoch 24/40\n",
            "50000/50000 [==============================] - 15s 293us/sample - loss: 0.2986 - acc: 0.8916 - val_loss: 1.2950 - val_acc: 0.7004\n",
            "Epoch 25/40\n",
            "50000/50000 [==============================] - 15s 295us/sample - loss: 0.2820 - acc: 0.8989 - val_loss: 1.3853 - val_acc: 0.6838\n",
            "Epoch 26/40\n",
            "50000/50000 [==============================] - 15s 292us/sample - loss: 0.2709 - acc: 0.9028 - val_loss: 1.4093 - val_acc: 0.6903\n",
            "Epoch 27/40\n",
            "50000/50000 [==============================] - 15s 295us/sample - loss: 0.2480 - acc: 0.9116 - val_loss: 1.5123 - val_acc: 0.6838\n",
            "Epoch 28/40\n",
            "50000/50000 [==============================] - 15s 297us/sample - loss: 0.2314 - acc: 0.9168 - val_loss: 1.5315 - val_acc: 0.6887\n",
            "Epoch 29/40\n",
            "50000/50000 [==============================] - 15s 295us/sample - loss: 0.2248 - acc: 0.9194 - val_loss: 1.5526 - val_acc: 0.6930\n",
            "Epoch 30/40\n",
            "50000/50000 [==============================] - 15s 293us/sample - loss: 0.2199 - acc: 0.9216 - val_loss: 1.6193 - val_acc: 0.6886\n",
            "Epoch 31/40\n",
            "50000/50000 [==============================] - 15s 296us/sample - loss: 0.2128 - acc: 0.9240 - val_loss: 1.6635 - val_acc: 0.6861\n",
            "Epoch 32/40\n",
            "50000/50000 [==============================] - 15s 293us/sample - loss: 0.1983 - acc: 0.9285 - val_loss: 1.7198 - val_acc: 0.6907\n",
            "Epoch 33/40\n",
            "50000/50000 [==============================] - 15s 293us/sample - loss: 0.1870 - acc: 0.9321 - val_loss: 1.8540 - val_acc: 0.6778\n",
            "Epoch 34/40\n",
            "50000/50000 [==============================] - 15s 293us/sample - loss: 0.1843 - acc: 0.9330 - val_loss: 1.7829 - val_acc: 0.6903\n",
            "Epoch 35/40\n",
            "50000/50000 [==============================] - 15s 296us/sample - loss: 0.1787 - acc: 0.9370 - val_loss: 1.8563 - val_acc: 0.6824\n",
            "Epoch 36/40\n",
            "50000/50000 [==============================] - 15s 294us/sample - loss: 0.1712 - acc: 0.9385 - val_loss: 2.0371 - val_acc: 0.6769\n",
            "Epoch 37/40\n",
            "50000/50000 [==============================] - 15s 292us/sample - loss: 0.1693 - acc: 0.9388 - val_loss: 1.9897 - val_acc: 0.6745\n",
            "Epoch 38/40\n",
            "50000/50000 [==============================] - 15s 292us/sample - loss: 0.1594 - acc: 0.9427 - val_loss: 1.9675 - val_acc: 0.6846\n",
            "Epoch 39/40\n",
            "50000/50000 [==============================] - 15s 295us/sample - loss: 0.1588 - acc: 0.9444 - val_loss: 2.0569 - val_acc: 0.6747\n",
            "Epoch 40/40\n",
            "50000/50000 [==============================] - 15s 292us/sample - loss: 0.1542 - acc: 0.9448 - val_loss: 2.0754 - val_acc: 0.6861\n"
          ],
          "name": "stdout"
        }
      ]
    },
    {
      "metadata": {
        "id": "B-dIySPtN-Gj",
        "colab_type": "text"
      },
      "cell_type": "markdown",
      "source": [
        "We can observe that the model is clearly overfitted since the training accuracy is increasing as we increase the number of epochs but the testing accuracy is not increasing.\n",
        "\n",
        "Now, we will try to improve the model by using the four following architectures:\n",
        "1. increasing the number of convolutional layers\n",
        "2. Adding more filters\n",
        "3. Data Augmentation\n",
        "4. Dropout\n",
        "\n",
        "We will add the above mentioned architectures one by one and observe the train and validation accuracy.\n",
        "In the end, as a sanity check, we will run the model for test data."
      ]
    },
    {
      "metadata": {
        "id": "pTnpHLaERnpt",
        "colab_type": "code",
        "colab": {}
      },
      "cell_type": "code",
      "source": [
        ""
      ],
      "execution_count": 0,
      "outputs": []
    }
  ]
}