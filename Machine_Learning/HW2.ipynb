{
  "nbformat": 4,
  "nbformat_minor": 0,
  "metadata": {
    "colab": {
      "name": "HW2.ipynb",
      "version": "0.3.2",
      "provenance": [],
      "collapsed_sections": [],
      "include_colab_link": true
    },
    "kernelspec": {
      "name": "python3",
      "display_name": "Python 3"
    },
    "accelerator": "GPU"
  },
  "cells": [
    {
      "cell_type": "markdown",
      "metadata": {
        "id": "view-in-github",
        "colab_type": "text"
      },
      "source": [
        "<a href=\"https://colab.research.google.com/github/gshah8/UCF/blob/master/Machine_Learning/HW2.ipynb\" target=\"_parent\"><img src=\"https://colab.research.google.com/assets/colab-badge.svg\" alt=\"Open In Colab\"/></a>"
      ]
    },
    {
      "metadata": {
        "id": "5vSpuR2h9REm",
        "colab_type": "text"
      },
      "cell_type": "markdown",
      "source": [
        "# HW 2\n",
        "\n",
        "The goal of this homework is to create a convolutional neural network for the CIFAR10 data set. \n",
        "See [this colab notebook](https://colab.research.google.com/drive/1LZZviWOzvchcXRdZi2IBx3KOpQOzLalf) how to load the CIFAR data in Keras.\n",
        "\n",
        "You should not use any pretrained convnets that come with Keras. You have to create and train your own convnets with Keras from scratch.\n",
        "\n",
        "## Simple hold-out validation\n",
        "\n",
        "Make sure that the data is divided into: \n",
        "\n",
        "- training set (80%)\n",
        "- validation set (20%)\n",
        "- test set. \n",
        "\n",
        "Use the training set to train your neural networks. Evaluate their performance on the validation data set. \n",
        "\n",
        "After trying several different architectures, choose the one that performs\n",
        "best of the validation set. Try at least four different architectures by using data augmentation, using dropout, varying the number of layers, the number of filters, etc.\n",
        "\n",
        "Train this final architecture on the data from the training set and validation set and evaluate its performance on \n",
        "the test set.\n",
        "\n",
        "## k-fold validation\n",
        "\n",
        "Reevaluate your best architecture using k-fold validation with k=5, that is, the size of the validation fold is 20%. Does the accuracy/loss obtain by k-fold validation differ from the accuracy/loss obtain by simple hold-out validation."
      ]
    },
    {
      "metadata": {
        "id": "tGt5GSXu_g9t",
        "colab_type": "text"
      },
      "cell_type": "markdown",
      "source": [
        "### Load the CIFAR10 data set\n",
        "\n"
      ]
    },
    {
      "metadata": {
        "id": "GaciVEq0_dts",
        "colab_type": "code",
        "outputId": "db2c61cf-6fa9-4e58-91cd-b976c92746a0",
        "colab": {
          "base_uri": "https://localhost:8080/",
          "height": 68
        }
      },
      "cell_type": "code",
      "source": [
        "from keras.datasets import cifar10\n",
        "import numpy as np\n",
        "import matplotlib.pyplot as plt\n",
        "from keras.utils import to_categorical\n",
        "from keras import models\n",
        "from keras import layers\n",
        "from keras import regularizers\n",
        "from keras.preprocessing.image import ImageDataGenerator\n",
        "from keras.utils import np_utils\n",
        "\n",
        "\n",
        "(train_images, train_labels), (test_images, test_labels) = cifar10.load_data()"
      ],
      "execution_count": 1,
      "outputs": [
        {
          "output_type": "stream",
          "text": [
            "Using TensorFlow backend.\n"
          ],
          "name": "stderr"
        },
        {
          "output_type": "stream",
          "text": [
            "Downloading data from https://www.cs.toronto.edu/~kriz/cifar-10-python.tar.gz\n",
            "170500096/170498071 [==============================] - 175s 1us/step\n"
          ],
          "name": "stdout"
        }
      ]
    },
    {
      "metadata": {
        "id": "-AYEf3umAHQm",
        "colab_type": "text"
      },
      "cell_type": "markdown",
      "source": [
        "### Explore the format of the CIFAR10 data set"
      ]
    },
    {
      "metadata": {
        "id": "p1hNMiPtAIsN",
        "colab_type": "code",
        "outputId": "74d4751c-eb58-42a0-a368-5ee7467fced2",
        "colab": {
          "base_uri": "https://localhost:8080/",
          "height": 34
        }
      },
      "cell_type": "code",
      "source": [
        "train_images.shape"
      ],
      "execution_count": 2,
      "outputs": [
        {
          "output_type": "execute_result",
          "data": {
            "text/plain": [
              "(50000, 32, 32, 3)"
            ]
          },
          "metadata": {
            "tags": []
          },
          "execution_count": 2
        }
      ]
    },
    {
      "metadata": {
        "id": "J6KJNpLlAtLb",
        "colab_type": "code",
        "outputId": "73b304fe-35d4-4992-94f9-3230c256425d",
        "colab": {
          "base_uri": "https://localhost:8080/",
          "height": 34
        }
      },
      "cell_type": "code",
      "source": [
        "train_images.ndim"
      ],
      "execution_count": 3,
      "outputs": [
        {
          "output_type": "execute_result",
          "data": {
            "text/plain": [
              "4"
            ]
          },
          "metadata": {
            "tags": []
          },
          "execution_count": 3
        }
      ]
    },
    {
      "metadata": {
        "id": "8_SDVSLrAx1L",
        "colab_type": "code",
        "outputId": "bb6ec80b-5894-44aa-a97f-04e3815cffa1",
        "colab": {
          "base_uri": "https://localhost:8080/",
          "height": 34
        }
      },
      "cell_type": "code",
      "source": [
        "train_labels.shape"
      ],
      "execution_count": 4,
      "outputs": [
        {
          "output_type": "execute_result",
          "data": {
            "text/plain": [
              "(50000, 1)"
            ]
          },
          "metadata": {
            "tags": []
          },
          "execution_count": 4
        }
      ]
    },
    {
      "metadata": {
        "id": "14iRg_dJA0Iv",
        "colab_type": "code",
        "outputId": "36fdacd7-c8fc-4c1d-c3c2-f1d9368a87b5",
        "colab": {
          "base_uri": "https://localhost:8080/",
          "height": 34
        }
      },
      "cell_type": "code",
      "source": [
        "train_labels.ndim"
      ],
      "execution_count": 5,
      "outputs": [
        {
          "output_type": "execute_result",
          "data": {
            "text/plain": [
              "2"
            ]
          },
          "metadata": {
            "tags": []
          },
          "execution_count": 5
        }
      ]
    },
    {
      "metadata": {
        "id": "Mqbp1flDTvGx",
        "colab_type": "text"
      },
      "cell_type": "markdown",
      "source": [
        "###Simple Hold Validation for the models below"
      ]
    },
    {
      "metadata": {
        "id": "ghUwL-nmUZx8",
        "colab_type": "code",
        "outputId": "73707157-a3b2-4712-aa54-8bfefb2fed7b",
        "colab": {
          "base_uri": "https://localhost:8080/",
          "height": 34
        }
      },
      "cell_type": "code",
      "source": [
        "#divide training data into training and validation data\n",
        "rand_idx = np.random.permutation(len(train_images))\n",
        "val_idx = rand_idx[0:10000]\n",
        "train_idx = rand_idx[10000:]\n",
        "\n",
        "train_images_new, train_labels_new = train_images[train_idx] , train_labels[train_idx]\n",
        "val_images, val_labels = train_images[val_idx] , train_labels[val_idx]\n",
        "\n",
        "print(train_labels_new[0])"
      ],
      "execution_count": 6,
      "outputs": [
        {
          "output_type": "stream",
          "text": [
            "[5]\n"
          ],
          "name": "stdout"
        }
      ]
    },
    {
      "metadata": {
        "id": "FbOE5y_-EzOV",
        "colab_type": "text"
      },
      "cell_type": "markdown",
      "source": [
        "###Normalize train, validation and test data\n",
        "\n",
        "\n"
      ]
    },
    {
      "metadata": {
        "id": "w4u6Vq_KE6Oe",
        "colab_type": "code",
        "outputId": "367eb755-9a7e-4dde-896f-dd7905665db9",
        "colab": {
          "base_uri": "https://localhost:8080/",
          "height": 34
        }
      },
      "cell_type": "code",
      "source": [
        "#normalize\n",
        "train_images_norm = (train_images_new/255).astype('float32')\n",
        "val_images_norm = (val_images/255).astype('float32')\n",
        "test_images_norm = (test_images/255).astype('float32')\n",
        "\n",
        "#one-hot encoding\n",
        "train_labels_norm = to_categorical(train_labels_new)\n",
        "val_labels_norm = to_categorical(val_labels)\n",
        "test_labels_norm = to_categorical(test_labels)\n",
        "\n",
        "print(train_labels_norm[0])"
      ],
      "execution_count": 7,
      "outputs": [
        {
          "output_type": "stream",
          "text": [
            "[0. 0. 0. 0. 0. 1. 0. 0. 0. 0.]\n"
          ],
          "name": "stdout"
        }
      ]
    },
    {
      "metadata": {
        "id": "9vynlXErFcqO",
        "colab_type": "text"
      },
      "cell_type": "markdown",
      "source": [
        "###Build a basic model (without regularization and data augmentation)"
      ]
    },
    {
      "metadata": {
        "id": "4d7o1oJLFeqm",
        "colab_type": "code",
        "outputId": "b981b1a1-f648-4f70-fd3b-4525327e877c",
        "colab": {
          "base_uri": "https://localhost:8080/",
          "height": 442
        }
      },
      "cell_type": "code",
      "source": [
        "# set up the layers\n",
        "\n",
        "model = models.Sequential()\n",
        "#conv layers   \n",
        "#1\n",
        "model.add(layers.Conv2D(32, (3, 3), activation='relu', padding = 'same', input_shape=(32, 32, 3)))\n",
        "model.add(layers.MaxPooling2D((2, 2)))\n",
        "#2\n",
        "model.add(layers.Conv2D(64, (3, 3), activation='relu', padding = 'same'))\n",
        "model.add(layers.MaxPooling2D((2, 2)))\n",
        "#3\n",
        "model.add(layers.Conv2D(64, (3, 3), activation='relu', padding = 'same'))\n",
        "model.add(layers.MaxPooling2D((2, 2)))\n",
        "#dense layers\n",
        "model.add(layers.Flatten())\n",
        "model.add(layers.Dense(64, activation='relu'))\n",
        "model.add(layers.Dense(10, activation='softmax'))\n",
        "model.summary()"
      ],
      "execution_count": 9,
      "outputs": [
        {
          "output_type": "stream",
          "text": [
            "_________________________________________________________________\n",
            "Layer (type)                 Output Shape              Param #   \n",
            "=================================================================\n",
            "conv2d_4 (Conv2D)            (None, 32, 32, 32)        896       \n",
            "_________________________________________________________________\n",
            "max_pooling2d_4 (MaxPooling2 (None, 16, 16, 32)        0         \n",
            "_________________________________________________________________\n",
            "conv2d_5 (Conv2D)            (None, 16, 16, 64)        18496     \n",
            "_________________________________________________________________\n",
            "max_pooling2d_5 (MaxPooling2 (None, 8, 8, 64)          0         \n",
            "_________________________________________________________________\n",
            "conv2d_6 (Conv2D)            (None, 8, 8, 64)          36928     \n",
            "_________________________________________________________________\n",
            "max_pooling2d_6 (MaxPooling2 (None, 4, 4, 64)          0         \n",
            "_________________________________________________________________\n",
            "flatten_2 (Flatten)          (None, 1024)              0         \n",
            "_________________________________________________________________\n",
            "dense_3 (Dense)              (None, 64)                65600     \n",
            "_________________________________________________________________\n",
            "dense_4 (Dense)              (None, 10)                650       \n",
            "=================================================================\n",
            "Total params: 122,570\n",
            "Trainable params: 122,570\n",
            "Non-trainable params: 0\n",
            "_________________________________________________________________\n"
          ],
          "name": "stdout"
        }
      ]
    },
    {
      "metadata": {
        "id": "UY6Yl69XH4b4",
        "colab_type": "code",
        "colab": {}
      },
      "cell_type": "code",
      "source": [
        "model.compile(optimizer='adam',\n",
        "             loss='categorical_crossentropy',\n",
        "             metrics=['accuracy'])"
      ],
      "execution_count": 0,
      "outputs": []
    },
    {
      "metadata": {
        "id": "ULo_pCDVIJd_",
        "colab_type": "code",
        "outputId": "e2abe6df-5a6e-485a-b9b0-2ff6a8607afa",
        "colab": {
          "base_uri": "https://localhost:8080/",
          "height": 765
        }
      },
      "cell_type": "code",
      "source": [
        "epochs = 20\n",
        "history = model.fit(train_images_norm, \n",
        "                      train_labels_norm, \n",
        "                      epochs=epochs, \n",
        "                      batch_size=64, \n",
        "                      validation_data=(val_images_norm, val_labels_norm))"
      ],
      "execution_count": 11,
      "outputs": [
        {
          "output_type": "stream",
          "text": [
            "WARNING:tensorflow:From /usr/local/lib/python3.6/dist-packages/tensorflow/python/ops/math_ops.py:3066: to_int32 (from tensorflow.python.ops.math_ops) is deprecated and will be removed in a future version.\n",
            "Instructions for updating:\n",
            "Use tf.cast instead.\n",
            "Train on 40000 samples, validate on 10000 samples\n",
            "Epoch 1/20\n",
            "40000/40000 [==============================] - 13s 316us/step - loss: 1.5815 - acc: 0.4276 - val_loss: 1.3115 - val_acc: 0.5238\n",
            "Epoch 2/20\n",
            "40000/40000 [==============================] - 8s 195us/step - loss: 1.1898 - acc: 0.5784 - val_loss: 1.0927 - val_acc: 0.6217\n",
            "Epoch 3/20\n",
            "40000/40000 [==============================] - 8s 196us/step - loss: 1.0071 - acc: 0.6487 - val_loss: 1.0335 - val_acc: 0.6364\n",
            "Epoch 4/20\n",
            "40000/40000 [==============================] - 8s 197us/step - loss: 0.9048 - acc: 0.6846 - val_loss: 0.9386 - val_acc: 0.6726\n",
            "Epoch 5/20\n",
            "40000/40000 [==============================] - 8s 195us/step - loss: 0.8213 - acc: 0.7162 - val_loss: 0.8847 - val_acc: 0.6927\n",
            "Epoch 6/20\n",
            "40000/40000 [==============================] - 8s 196us/step - loss: 0.7595 - acc: 0.7376 - val_loss: 0.8928 - val_acc: 0.6895\n",
            "Epoch 7/20\n",
            "40000/40000 [==============================] - 8s 197us/step - loss: 0.7037 - acc: 0.7551 - val_loss: 0.8464 - val_acc: 0.7121\n",
            "Epoch 8/20\n",
            "40000/40000 [==============================] - 8s 195us/step - loss: 0.6587 - acc: 0.7690 - val_loss: 0.8349 - val_acc: 0.7165\n",
            "Epoch 9/20\n",
            "40000/40000 [==============================] - 8s 195us/step - loss: 0.6109 - acc: 0.7893 - val_loss: 0.8328 - val_acc: 0.7182\n",
            "Epoch 10/20\n",
            "40000/40000 [==============================] - 8s 195us/step - loss: 0.5675 - acc: 0.8014 - val_loss: 0.9025 - val_acc: 0.7064\n",
            "Epoch 11/20\n",
            "40000/40000 [==============================] - 8s 199us/step - loss: 0.5298 - acc: 0.8167 - val_loss: 0.8964 - val_acc: 0.7080\n",
            "Epoch 12/20\n",
            "40000/40000 [==============================] - 8s 197us/step - loss: 0.4897 - acc: 0.8287 - val_loss: 0.9070 - val_acc: 0.7080\n",
            "Epoch 13/20\n",
            "40000/40000 [==============================] - 8s 197us/step - loss: 0.4580 - acc: 0.8421 - val_loss: 0.8864 - val_acc: 0.7272\n",
            "Epoch 14/20\n",
            "40000/40000 [==============================] - 8s 196us/step - loss: 0.4202 - acc: 0.8521 - val_loss: 0.9358 - val_acc: 0.7172\n",
            "Epoch 15/20\n",
            "40000/40000 [==============================] - 8s 196us/step - loss: 0.3933 - acc: 0.8609 - val_loss: 0.9868 - val_acc: 0.7175\n",
            "Epoch 16/20\n",
            "40000/40000 [==============================] - 8s 195us/step - loss: 0.3600 - acc: 0.8720 - val_loss: 0.9909 - val_acc: 0.7180\n",
            "Epoch 17/20\n",
            "40000/40000 [==============================] - 8s 194us/step - loss: 0.3335 - acc: 0.8821 - val_loss: 1.1051 - val_acc: 0.7084\n",
            "Epoch 18/20\n",
            "40000/40000 [==============================] - 8s 193us/step - loss: 0.3107 - acc: 0.8899 - val_loss: 1.0684 - val_acc: 0.7183\n",
            "Epoch 19/20\n",
            "40000/40000 [==============================] - 8s 194us/step - loss: 0.2836 - acc: 0.9001 - val_loss: 1.1754 - val_acc: 0.7096\n",
            "Epoch 20/20\n",
            "40000/40000 [==============================] - 8s 193us/step - loss: 0.2549 - acc: 0.9093 - val_loss: 1.1712 - val_acc: 0.7149\n"
          ],
          "name": "stdout"
        }
      ]
    },
    {
      "metadata": {
        "id": "B-dIySPtN-Gj",
        "colab_type": "text"
      },
      "cell_type": "markdown",
      "source": [
        "We can observe that the model is clearly overfitted since the training accuracy is increasing as we increase the number of epochs but the validation accuracy is not increasing.\n",
        "\n",
        "Now, we will try to improve the model by using the four following architectures:\n",
        "1. Add another convolutional layer\n",
        "2. Data Augmentation\n",
        "3. Regularization - Dropout\n",
        "4. Regularization - Batch Normalization\n",
        "5. Strides\n",
        "\n",
        "We will add the above mentioned architectures one by one and observe the training and validation accuracy.\n",
        "In the end, as a final check, we will run the model for test data."
      ]
    },
    {
      "metadata": {
        "id": "kHsI-SikNtfQ",
        "colab_type": "text"
      },
      "cell_type": "markdown",
      "source": [
        "###Add another convolutional layer"
      ]
    },
    {
      "metadata": {
        "id": "pTnpHLaERnpt",
        "colab_type": "code",
        "outputId": "f5936f02-8525-49c8-8c76-56b7dd773bb7",
        "colab": {
          "base_uri": "https://localhost:8080/",
          "height": 510
        }
      },
      "cell_type": "code",
      "source": [
        "# set up the layers\n",
        "\n",
        "model = models.Sequential()\n",
        "#conv layers   \n",
        "#1\n",
        "model.add(layers.Conv2D(32, (3, 3), activation='relu', padding = 'same', input_shape=(32, 32, 3)))\n",
        "model.add(layers.MaxPooling2D((2, 2)))\n",
        "#2\n",
        "model.add(layers.Conv2D(64, (3, 3), activation='relu', padding = 'same'))\n",
        "model.add(layers.MaxPooling2D((2, 2)))\n",
        "#3\n",
        "model.add(layers.Conv2D(128, (3, 3), activation='relu',padding = 'same'))\n",
        "model.add(layers.MaxPooling2D((2, 2)))\n",
        "#4\n",
        "model.add(layers.Conv2D(128, (3, 3), activation='relu', padding = 'same'))\n",
        "model.add(layers.MaxPooling2D((2, 2)))\n",
        "#dense layers\n",
        "model.add(layers.Flatten())\n",
        "model.add(layers.Dense(128, activation='relu'))\n",
        "model.add(layers.Dense(10, activation='softmax'))\n",
        "model.summary()"
      ],
      "execution_count": 12,
      "outputs": [
        {
          "output_type": "stream",
          "text": [
            "_________________________________________________________________\n",
            "Layer (type)                 Output Shape              Param #   \n",
            "=================================================================\n",
            "conv2d_7 (Conv2D)            (None, 32, 32, 32)        896       \n",
            "_________________________________________________________________\n",
            "max_pooling2d_7 (MaxPooling2 (None, 16, 16, 32)        0         \n",
            "_________________________________________________________________\n",
            "conv2d_8 (Conv2D)            (None, 16, 16, 64)        18496     \n",
            "_________________________________________________________________\n",
            "max_pooling2d_8 (MaxPooling2 (None, 8, 8, 64)          0         \n",
            "_________________________________________________________________\n",
            "conv2d_9 (Conv2D)            (None, 8, 8, 128)         73856     \n",
            "_________________________________________________________________\n",
            "max_pooling2d_9 (MaxPooling2 (None, 4, 4, 128)         0         \n",
            "_________________________________________________________________\n",
            "conv2d_10 (Conv2D)           (None, 4, 4, 128)         147584    \n",
            "_________________________________________________________________\n",
            "max_pooling2d_10 (MaxPooling (None, 2, 2, 128)         0         \n",
            "_________________________________________________________________\n",
            "flatten_3 (Flatten)          (None, 512)               0         \n",
            "_________________________________________________________________\n",
            "dense_5 (Dense)              (None, 128)               65664     \n",
            "_________________________________________________________________\n",
            "dense_6 (Dense)              (None, 10)                1290      \n",
            "=================================================================\n",
            "Total params: 307,786\n",
            "Trainable params: 307,786\n",
            "Non-trainable params: 0\n",
            "_________________________________________________________________\n"
          ],
          "name": "stdout"
        }
      ]
    },
    {
      "metadata": {
        "id": "wEx0Pl9CQlCE",
        "colab_type": "code",
        "colab": {}
      },
      "cell_type": "code",
      "source": [
        "model.compile(optimizer='adam',\n",
        "             loss='categorical_crossentropy',\n",
        "             metrics=['accuracy'])"
      ],
      "execution_count": 0,
      "outputs": []
    },
    {
      "metadata": {
        "id": "T7RPGQ7ZQqcV",
        "colab_type": "code",
        "outputId": "52067a42-4532-46b5-c048-20d03aa362f0",
        "colab": {
          "base_uri": "https://localhost:8080/",
          "height": 1394
        }
      },
      "cell_type": "code",
      "source": [
        "epochs = 40\n",
        "history = model.fit(train_images_norm, \n",
        "                      train_labels_norm, \n",
        "                      epochs=epochs, \n",
        "                      batch_size=64, \n",
        "                      validation_data=(val_images_norm, val_labels_norm))"
      ],
      "execution_count": 14,
      "outputs": [
        {
          "output_type": "stream",
          "text": [
            "Train on 40000 samples, validate on 10000 samples\n",
            "Epoch 1/40\n",
            "40000/40000 [==============================] - 13s 320us/step - loss: 1.5315 - acc: 0.4386 - val_loss: 1.1855 - val_acc: 0.5765\n",
            "Epoch 2/40\n",
            "40000/40000 [==============================] - 12s 307us/step - loss: 1.0776 - acc: 0.6172 - val_loss: 0.9951 - val_acc: 0.6434\n",
            "Epoch 3/40\n",
            "40000/40000 [==============================] - 12s 307us/step - loss: 0.8594 - acc: 0.6993 - val_loss: 0.8426 - val_acc: 0.7057\n",
            "Epoch 4/40\n",
            "40000/40000 [==============================] - 12s 307us/step - loss: 0.7226 - acc: 0.7481 - val_loss: 0.8352 - val_acc: 0.7143\n",
            "Epoch 5/40\n",
            "40000/40000 [==============================] - 12s 304us/step - loss: 0.6211 - acc: 0.7825 - val_loss: 0.7482 - val_acc: 0.7410\n",
            "Epoch 6/40\n",
            "40000/40000 [==============================] - 12s 302us/step - loss: 0.5231 - acc: 0.8160 - val_loss: 0.7746 - val_acc: 0.7406\n",
            "Epoch 7/40\n",
            "40000/40000 [==============================] - 12s 304us/step - loss: 0.4426 - acc: 0.8442 - val_loss: 0.7628 - val_acc: 0.7428\n",
            "Epoch 8/40\n",
            "40000/40000 [==============================] - 12s 305us/step - loss: 0.3656 - acc: 0.8723 - val_loss: 0.8258 - val_acc: 0.7451\n",
            "Epoch 9/40\n",
            "40000/40000 [==============================] - 12s 303us/step - loss: 0.2990 - acc: 0.8951 - val_loss: 0.8624 - val_acc: 0.7444\n",
            "Epoch 10/40\n",
            "40000/40000 [==============================] - 12s 303us/step - loss: 0.2449 - acc: 0.9131 - val_loss: 0.9339 - val_acc: 0.7481\n",
            "Epoch 11/40\n",
            "40000/40000 [==============================] - 12s 303us/step - loss: 0.2040 - acc: 0.9266 - val_loss: 1.0148 - val_acc: 0.7394\n",
            "Epoch 12/40\n",
            "40000/40000 [==============================] - 12s 300us/step - loss: 0.1731 - acc: 0.9391 - val_loss: 1.1209 - val_acc: 0.7396\n",
            "Epoch 13/40\n",
            "40000/40000 [==============================] - 12s 299us/step - loss: 0.1469 - acc: 0.9477 - val_loss: 1.2422 - val_acc: 0.7324\n",
            "Epoch 14/40\n",
            "40000/40000 [==============================] - 12s 299us/step - loss: 0.1438 - acc: 0.9491 - val_loss: 1.2459 - val_acc: 0.7371\n",
            "Epoch 15/40\n",
            "40000/40000 [==============================] - 12s 300us/step - loss: 0.1322 - acc: 0.9525 - val_loss: 1.2886 - val_acc: 0.7154\n",
            "Epoch 16/40\n",
            "40000/40000 [==============================] - 12s 298us/step - loss: 0.1092 - acc: 0.9620 - val_loss: 1.3680 - val_acc: 0.7348\n",
            "Epoch 17/40\n",
            "40000/40000 [==============================] - 12s 300us/step - loss: 0.1046 - acc: 0.9632 - val_loss: 1.3877 - val_acc: 0.7331\n",
            "Epoch 18/40\n",
            "40000/40000 [==============================] - 12s 299us/step - loss: 0.1127 - acc: 0.9590 - val_loss: 1.4855 - val_acc: 0.7290\n",
            "Epoch 19/40\n",
            "40000/40000 [==============================] - 12s 300us/step - loss: 0.0947 - acc: 0.9671 - val_loss: 1.4615 - val_acc: 0.7248\n",
            "Epoch 20/40\n",
            "40000/40000 [==============================] - 12s 300us/step - loss: 0.1015 - acc: 0.9646 - val_loss: 1.4010 - val_acc: 0.7353\n",
            "Epoch 21/40\n",
            "40000/40000 [==============================] - 12s 300us/step - loss: 0.0773 - acc: 0.9728 - val_loss: 1.7024 - val_acc: 0.7192\n",
            "Epoch 22/40\n",
            "40000/40000 [==============================] - 12s 299us/step - loss: 0.0909 - acc: 0.9683 - val_loss: 1.6964 - val_acc: 0.7246\n",
            "Epoch 23/40\n",
            "40000/40000 [==============================] - 12s 299us/step - loss: 0.0777 - acc: 0.9729 - val_loss: 1.6670 - val_acc: 0.7345\n",
            "Epoch 24/40\n",
            "40000/40000 [==============================] - 12s 298us/step - loss: 0.0904 - acc: 0.9685 - val_loss: 1.6282 - val_acc: 0.7284\n",
            "Epoch 25/40\n",
            "40000/40000 [==============================] - 12s 299us/step - loss: 0.0763 - acc: 0.9734 - val_loss: 1.5943 - val_acc: 0.7314\n",
            "Epoch 26/40\n",
            "40000/40000 [==============================] - 12s 300us/step - loss: 0.0766 - acc: 0.9734 - val_loss: 1.7537 - val_acc: 0.7194\n",
            "Epoch 27/40\n",
            "40000/40000 [==============================] - 12s 300us/step - loss: 0.0767 - acc: 0.9734 - val_loss: 1.7371 - val_acc: 0.7277\n",
            "Epoch 28/40\n",
            "40000/40000 [==============================] - 12s 302us/step - loss: 0.0723 - acc: 0.9756 - val_loss: 1.7052 - val_acc: 0.7240\n",
            "Epoch 29/40\n",
            "40000/40000 [==============================] - 12s 303us/step - loss: 0.0756 - acc: 0.9747 - val_loss: 1.7587 - val_acc: 0.7293\n",
            "Epoch 30/40\n",
            "40000/40000 [==============================] - 12s 305us/step - loss: 0.0718 - acc: 0.9763 - val_loss: 1.8358 - val_acc: 0.7238\n",
            "Epoch 31/40\n",
            "40000/40000 [==============================] - 12s 303us/step - loss: 0.0687 - acc: 0.9763 - val_loss: 1.8430 - val_acc: 0.7308\n",
            "Epoch 32/40\n",
            "40000/40000 [==============================] - 12s 299us/step - loss: 0.0673 - acc: 0.9774 - val_loss: 1.8674 - val_acc: 0.7229\n",
            "Epoch 33/40\n",
            "40000/40000 [==============================] - 12s 299us/step - loss: 0.0662 - acc: 0.9783 - val_loss: 1.7415 - val_acc: 0.7342\n",
            "Epoch 34/40\n",
            "40000/40000 [==============================] - 12s 304us/step - loss: 0.0537 - acc: 0.9820 - val_loss: 1.8849 - val_acc: 0.7314\n",
            "Epoch 35/40\n",
            "40000/40000 [==============================] - 12s 300us/step - loss: 0.0694 - acc: 0.9768 - val_loss: 1.9707 - val_acc: 0.7071\n",
            "Epoch 36/40\n",
            "40000/40000 [==============================] - 12s 305us/step - loss: 0.0641 - acc: 0.9784 - val_loss: 1.8676 - val_acc: 0.7285\n",
            "Epoch 37/40\n",
            "40000/40000 [==============================] - 12s 299us/step - loss: 0.0623 - acc: 0.9792 - val_loss: 1.8125 - val_acc: 0.7341\n",
            "Epoch 38/40\n",
            "40000/40000 [==============================] - 12s 299us/step - loss: 0.0583 - acc: 0.9807 - val_loss: 1.8648 - val_acc: 0.7393\n",
            "Epoch 39/40\n",
            "40000/40000 [==============================] - 12s 299us/step - loss: 0.0610 - acc: 0.9799 - val_loss: 1.9127 - val_acc: 0.7276\n",
            "Epoch 40/40\n",
            "40000/40000 [==============================] - 12s 299us/step - loss: 0.0619 - acc: 0.9796 - val_loss: 1.7303 - val_acc: 0.7341\n"
          ],
          "name": "stdout"
        }
      ]
    },
    {
      "metadata": {
        "id": "Z0xXI48M5qfA",
        "colab_type": "text"
      },
      "cell_type": "markdown",
      "source": [
        "Adding another layer doesn't increase validation accuracy.There is even more overfitting since the training accuracy is around 98% for the 40th epoch whereas it is just around 75% for validation data.\n",
        "\n",
        "Therefore, now we are going to include regularization, data augmentation and dropout one by one to the existing model with 4 layers in order to see how to validation accuracy improves and overfitting is minimized."
      ]
    },
    {
      "metadata": {
        "id": "TNRUlGqDInG5",
        "colab_type": "text"
      },
      "cell_type": "markdown",
      "source": [
        "###Add Data Augmentation"
      ]
    },
    {
      "metadata": {
        "id": "qAZpDyf8OKNA",
        "colab_type": "code",
        "colab": {
          "base_uri": "https://localhost:8080/",
          "height": 510
        },
        "outputId": "7e80d24c-41bf-4846-a2c3-daafed8106ea"
      },
      "cell_type": "code",
      "source": [
        "# set up the layers\n",
        "\n",
        "model = models.Sequential()\n",
        "#conv layers   \n",
        "#1\n",
        "model.add(layers.Conv2D(32, (3, 3), activation='relu', padding = 'same', input_shape=(32, 32, 3)))\n",
        "model.add(layers.MaxPooling2D((2, 2)))\n",
        "#2\n",
        "model.add(layers.Conv2D(64, (3, 3), activation='relu', padding = 'same'))\n",
        "model.add(layers.MaxPooling2D((2, 2)))\n",
        "#3\n",
        "model.add(layers.Conv2D(128, (3, 3), activation='relu',padding = 'same'))\n",
        "model.add(layers.MaxPooling2D((2, 2)))\n",
        "#4\n",
        "model.add(layers.Conv2D(128, (3, 3), activation='relu', padding = 'same'))\n",
        "model.add(layers.MaxPooling2D((2, 2)))\n",
        "#dense layers\n",
        "model.add(layers.Flatten())\n",
        "model.add(layers.Dense(128, activation='relu'))\n",
        "model.add(layers.Dense(10, activation='softmax'))\n",
        "model.summary()"
      ],
      "execution_count": 15,
      "outputs": [
        {
          "output_type": "stream",
          "text": [
            "_________________________________________________________________\n",
            "Layer (type)                 Output Shape              Param #   \n",
            "=================================================================\n",
            "conv2d_11 (Conv2D)           (None, 32, 32, 32)        896       \n",
            "_________________________________________________________________\n",
            "max_pooling2d_11 (MaxPooling (None, 16, 16, 32)        0         \n",
            "_________________________________________________________________\n",
            "conv2d_12 (Conv2D)           (None, 16, 16, 64)        18496     \n",
            "_________________________________________________________________\n",
            "max_pooling2d_12 (MaxPooling (None, 8, 8, 64)          0         \n",
            "_________________________________________________________________\n",
            "conv2d_13 (Conv2D)           (None, 8, 8, 128)         73856     \n",
            "_________________________________________________________________\n",
            "max_pooling2d_13 (MaxPooling (None, 4, 4, 128)         0         \n",
            "_________________________________________________________________\n",
            "conv2d_14 (Conv2D)           (None, 4, 4, 128)         147584    \n",
            "_________________________________________________________________\n",
            "max_pooling2d_14 (MaxPooling (None, 2, 2, 128)         0         \n",
            "_________________________________________________________________\n",
            "flatten_4 (Flatten)          (None, 512)               0         \n",
            "_________________________________________________________________\n",
            "dense_7 (Dense)              (None, 128)               65664     \n",
            "_________________________________________________________________\n",
            "dense_8 (Dense)              (None, 10)                1290      \n",
            "=================================================================\n",
            "Total params: 307,786\n",
            "Trainable params: 307,786\n",
            "Non-trainable params: 0\n",
            "_________________________________________________________________\n"
          ],
          "name": "stdout"
        }
      ]
    },
    {
      "metadata": {
        "id": "hSaXYN7mb4IX",
        "colab_type": "code",
        "colab": {}
      },
      "cell_type": "code",
      "source": [
        "model.compile(optimizer='adam',\n",
        "             loss='categorical_crossentropy',\n",
        "             metrics=['accuracy'])"
      ],
      "execution_count": 0,
      "outputs": []
    },
    {
      "metadata": {
        "id": "eBpx2orPOf1M",
        "colab_type": "code",
        "colab": {
          "base_uri": "https://localhost:8080/",
          "height": 1377
        },
        "outputId": "1603b636-870d-4bc5-bf74-370af1644f77"
      },
      "cell_type": "code",
      "source": [
        "epochs = 40\n",
        "datagen = ImageDataGenerator(\n",
        "    #rescale=1./255,  #our image is already normalized so we dont need this\n",
        "    rotation_range=40,\n",
        "    width_shift_range=0.2,\n",
        "    height_shift_range=0.2,\n",
        "    shear_range=0.2,\n",
        "    zoom_range=0.2,\n",
        "    horizontal_flip=True,\n",
        "    fill_mode='nearest')\n",
        "\n",
        "datagen.fit(train_images_norm)\n",
        "\n",
        "history = model.fit_generator(datagen.flow(train_images_norm, train_labels_norm, batch_size=64),\n",
        "                    steps_per_epoch=int(len(train_images_norm) / 64), epochs=epochs,\n",
        "                   verbose=1, validation_data=(val_images_norm, val_labels_norm))"
      ],
      "execution_count": 17,
      "outputs": [
        {
          "output_type": "stream",
          "text": [
            "Epoch 1/40\n",
            "625/625 [==============================] - 29s 47ms/step - loss: 1.8152 - acc: 0.3275 - val_loss: 1.6358 - val_acc: 0.4227\n",
            "Epoch 2/40\n",
            "625/625 [==============================] - 28s 45ms/step - loss: 1.5297 - acc: 0.4442 - val_loss: 1.2595 - val_acc: 0.5430\n",
            "Epoch 3/40\n",
            "625/625 [==============================] - 28s 45ms/step - loss: 1.3918 - acc: 0.4975 - val_loss: 1.1232 - val_acc: 0.5886\n",
            "Epoch 4/40\n",
            "625/625 [==============================] - 28s 45ms/step - loss: 1.3051 - acc: 0.5313 - val_loss: 1.2593 - val_acc: 0.5589\n",
            "Epoch 5/40\n",
            "625/625 [==============================] - 28s 45ms/step - loss: 1.2511 - acc: 0.5555 - val_loss: 1.0172 - val_acc: 0.6355\n",
            "Epoch 6/40\n",
            "625/625 [==============================] - 28s 45ms/step - loss: 1.1841 - acc: 0.5769 - val_loss: 1.0580 - val_acc: 0.6244\n",
            "Epoch 7/40\n",
            "625/625 [==============================] - 28s 46ms/step - loss: 1.1472 - acc: 0.5904 - val_loss: 0.9873 - val_acc: 0.6492\n",
            "Epoch 8/40\n",
            "625/625 [==============================] - 29s 46ms/step - loss: 1.1072 - acc: 0.6056 - val_loss: 1.0493 - val_acc: 0.6400\n",
            "Epoch 9/40\n",
            "625/625 [==============================] - 28s 45ms/step - loss: 1.0806 - acc: 0.6189 - val_loss: 0.9751 - val_acc: 0.6644\n",
            "Epoch 10/40\n",
            "625/625 [==============================] - 28s 46ms/step - loss: 1.0541 - acc: 0.6261 - val_loss: 0.9298 - val_acc: 0.6733\n",
            "Epoch 11/40\n",
            "625/625 [==============================] - 28s 45ms/step - loss: 1.0316 - acc: 0.6347 - val_loss: 1.0073 - val_acc: 0.6551\n",
            "Epoch 12/40\n",
            "625/625 [==============================] - 28s 45ms/step - loss: 1.0137 - acc: 0.6406 - val_loss: 0.9301 - val_acc: 0.6798\n",
            "Epoch 13/40\n",
            "625/625 [==============================] - 28s 46ms/step - loss: 0.9881 - acc: 0.6502 - val_loss: 0.9473 - val_acc: 0.6737\n",
            "Epoch 14/40\n",
            "625/625 [==============================] - 29s 46ms/step - loss: 0.9720 - acc: 0.6582 - val_loss: 1.0401 - val_acc: 0.6526\n",
            "Epoch 15/40\n",
            "625/625 [==============================] - 29s 46ms/step - loss: 0.9546 - acc: 0.6618 - val_loss: 0.9089 - val_acc: 0.6947\n",
            "Epoch 16/40\n",
            "625/625 [==============================] - 29s 46ms/step - loss: 0.9466 - acc: 0.6658 - val_loss: 0.8221 - val_acc: 0.7150\n",
            "Epoch 17/40\n",
            "625/625 [==============================] - 28s 45ms/step - loss: 0.9352 - acc: 0.6734 - val_loss: 0.8939 - val_acc: 0.6929\n",
            "Epoch 18/40\n",
            "625/625 [==============================] - 29s 46ms/step - loss: 0.9258 - acc: 0.6751 - val_loss: 0.9843 - val_acc: 0.6711\n",
            "Epoch 19/40\n",
            "625/625 [==============================] - 28s 45ms/step - loss: 0.9092 - acc: 0.6815 - val_loss: 0.7847 - val_acc: 0.7263\n",
            "Epoch 20/40\n",
            "625/625 [==============================] - 28s 45ms/step - loss: 0.9032 - acc: 0.6839 - val_loss: 0.9093 - val_acc: 0.6986\n",
            "Epoch 21/40\n",
            "625/625 [==============================] - 29s 46ms/step - loss: 0.8807 - acc: 0.6904 - val_loss: 0.7831 - val_acc: 0.7303\n",
            "Epoch 22/40\n",
            "625/625 [==============================] - 29s 46ms/step - loss: 0.8781 - acc: 0.6904 - val_loss: 0.8129 - val_acc: 0.7229\n",
            "Epoch 23/40\n",
            "625/625 [==============================] - 28s 45ms/step - loss: 0.8748 - acc: 0.6939 - val_loss: 0.8310 - val_acc: 0.7130\n",
            "Epoch 24/40\n",
            "625/625 [==============================] - 28s 45ms/step - loss: 0.8666 - acc: 0.6987 - val_loss: 0.8288 - val_acc: 0.7195\n",
            "Epoch 25/40\n",
            "625/625 [==============================] - 28s 45ms/step - loss: 0.8534 - acc: 0.6994 - val_loss: 0.8168 - val_acc: 0.7223\n",
            "Epoch 26/40\n",
            "625/625 [==============================] - 28s 45ms/step - loss: 0.8509 - acc: 0.6991 - val_loss: 0.7463 - val_acc: 0.7457\n",
            "Epoch 27/40\n",
            "625/625 [==============================] - 28s 45ms/step - loss: 0.8390 - acc: 0.7049 - val_loss: 0.8055 - val_acc: 0.7254\n",
            "Epoch 28/40\n",
            "625/625 [==============================] - 29s 46ms/step - loss: 0.8374 - acc: 0.7077 - val_loss: 0.7688 - val_acc: 0.7401\n",
            "Epoch 29/40\n",
            "625/625 [==============================] - 29s 46ms/step - loss: 0.8236 - acc: 0.7101 - val_loss: 0.7787 - val_acc: 0.7366\n",
            "Epoch 30/40\n",
            "625/625 [==============================] - 29s 46ms/step - loss: 0.8249 - acc: 0.7110 - val_loss: 0.7800 - val_acc: 0.7399\n",
            "Epoch 31/40\n",
            "625/625 [==============================] - 29s 46ms/step - loss: 0.8171 - acc: 0.7125 - val_loss: 0.7262 - val_acc: 0.7481\n",
            "Epoch 32/40\n",
            "625/625 [==============================] - 29s 46ms/step - loss: 0.8117 - acc: 0.7130 - val_loss: 0.7923 - val_acc: 0.7324\n",
            "Epoch 33/40\n",
            "625/625 [==============================] - 29s 46ms/step - loss: 0.8038 - acc: 0.7195 - val_loss: 0.8223 - val_acc: 0.7255\n",
            "Epoch 34/40\n",
            "625/625 [==============================] - 29s 46ms/step - loss: 0.7990 - acc: 0.7226 - val_loss: 0.7708 - val_acc: 0.7391\n",
            "Epoch 35/40\n",
            "625/625 [==============================] - 29s 46ms/step - loss: 0.7914 - acc: 0.7224 - val_loss: 0.8241 - val_acc: 0.7188\n",
            "Epoch 36/40\n",
            "625/625 [==============================] - 29s 46ms/step - loss: 0.7884 - acc: 0.7255 - val_loss: 0.7646 - val_acc: 0.7425\n",
            "Epoch 37/40\n",
            "625/625 [==============================] - 29s 46ms/step - loss: 0.7850 - acc: 0.7245 - val_loss: 0.8299 - val_acc: 0.7263\n",
            "Epoch 38/40\n",
            "625/625 [==============================] - 29s 46ms/step - loss: 0.7812 - acc: 0.7245 - val_loss: 0.8688 - val_acc: 0.7147\n",
            "Epoch 39/40\n",
            "625/625 [==============================] - 29s 46ms/step - loss: 0.7702 - acc: 0.7321 - val_loss: 0.7917 - val_acc: 0.7334\n",
            "Epoch 40/40\n",
            "625/625 [==============================] - 29s 46ms/step - loss: 0.7693 - acc: 0.7290 - val_loss: 0.7128 - val_acc: 0.7564\n"
          ],
          "name": "stdout"
        }
      ]
    },
    {
      "metadata": {
        "id": "U2Nzey546Yh6",
        "colab_type": "text"
      },
      "cell_type": "markdown",
      "source": [
        "###Add more Layers, Regularization (kernal_regularizer, batch normalization and dropout) and Strides"
      ]
    },
    {
      "metadata": {
        "id": "1aMBqYWq980h",
        "colab_type": "code",
        "outputId": "fc20790e-9fc8-4570-934c-4a4b87e62723",
        "colab": {
          "base_uri": "https://localhost:8080/",
          "height": 884
        }
      },
      "cell_type": "code",
      "source": [
        "#from keras import regularizers\n",
        "# set up the layers\n",
        "weight_decay = 1e-4\n",
        "model = models.Sequential()\n",
        "#conv layers   \n",
        "#1\n",
        "model.add(layers.Conv2D(32, (3, 3), strides = (1,1), activation='relu', padding = 'same', kernel_initializer='he_normal', kernel_regularizer= regularizers.l2(weight_decay), input_shape=(32, 32, 3)))\n",
        "model.add(layers.BatchNormalization())\n",
        "#2\n",
        "model.add(layers.Conv2D(32, (3, 3), strides = (1,1), activation='relu', padding = 'same', kernel_initializer='he_normal', kernel_regularizer= regularizers.l2(weight_decay)))\n",
        "model.add(layers.BatchNormalization())\n",
        "model.add(layers.MaxPooling2D((2, 2)))\n",
        "model.add(layers.Dropout(0.2))\n",
        "#3\n",
        "model.add(layers.Conv2D(64, (3, 3), strides = (1,1), activation='relu',padding = 'same', kernel_initializer='he_normal', kernel_regularizer= regularizers.l2(weight_decay)))\n",
        "model.add(layers.BatchNormalization())\n",
        "#4\n",
        "model.add(layers.Conv2D(64, (3, 3), strides = (1,1), activation='relu', padding = 'same', kernel_initializer='he_normal', kernel_regularizer= regularizers.l2(weight_decay)))\n",
        "model.add(layers.BatchNormalization())\n",
        "model.add(layers.MaxPooling2D((2, 2)))\n",
        "model.add(layers.Dropout(0.3))\n",
        "#5\n",
        "model.add(layers.Conv2D(128, (3, 3), strides = (1,1), activation='relu', padding = 'same', kernel_initializer='he_normal', kernel_regularizer= regularizers.l2(weight_decay)))\n",
        "model.add(layers.BatchNormalization())\n",
        "#6\n",
        "model.add(layers.Conv2D(128, (3, 3), strides = (1,1), activation='relu', padding = 'same', kernel_initializer='he_normal', kernel_regularizer= regularizers.l2(weight_decay)))\n",
        "model.add(layers.BatchNormalization())\n",
        "model.add(layers.MaxPooling2D((2, 2)))\n",
        "model.add(layers.Dropout(0.4))\n",
        "#dense layers\n",
        "model.add(layers.Flatten())\n",
        "model.add(layers.Dense(128, activation='relu'))\n",
        "model.add(layers.Dropout(0.5))\n",
        "model.add(layers.Dense(10, activation='softmax'))\n",
        "model.summary()"
      ],
      "execution_count": 23,
      "outputs": [
        {
          "output_type": "stream",
          "text": [
            "_________________________________________________________________\n",
            "Layer (type)                 Output Shape              Param #   \n",
            "=================================================================\n",
            "conv2d_31 (Conv2D)           (None, 32, 32, 32)        896       \n",
            "_________________________________________________________________\n",
            "batch_normalization_17 (Batc (None, 32, 32, 32)        128       \n",
            "_________________________________________________________________\n",
            "conv2d_32 (Conv2D)           (None, 32, 32, 32)        9248      \n",
            "_________________________________________________________________\n",
            "batch_normalization_18 (Batc (None, 32, 32, 32)        128       \n",
            "_________________________________________________________________\n",
            "max_pooling2d_23 (MaxPooling (None, 16, 16, 32)        0         \n",
            "_________________________________________________________________\n",
            "dropout_12 (Dropout)         (None, 16, 16, 32)        0         \n",
            "_________________________________________________________________\n",
            "conv2d_33 (Conv2D)           (None, 16, 16, 64)        18496     \n",
            "_________________________________________________________________\n",
            "batch_normalization_19 (Batc (None, 16, 16, 64)        256       \n",
            "_________________________________________________________________\n",
            "conv2d_34 (Conv2D)           (None, 16, 16, 64)        36928     \n",
            "_________________________________________________________________\n",
            "batch_normalization_20 (Batc (None, 16, 16, 64)        256       \n",
            "_________________________________________________________________\n",
            "max_pooling2d_24 (MaxPooling (None, 8, 8, 64)          0         \n",
            "_________________________________________________________________\n",
            "dropout_13 (Dropout)         (None, 8, 8, 64)          0         \n",
            "_________________________________________________________________\n",
            "conv2d_35 (Conv2D)           (None, 8, 8, 128)         73856     \n",
            "_________________________________________________________________\n",
            "batch_normalization_21 (Batc (None, 8, 8, 128)         512       \n",
            "_________________________________________________________________\n",
            "conv2d_36 (Conv2D)           (None, 8, 8, 128)         147584    \n",
            "_________________________________________________________________\n",
            "batch_normalization_22 (Batc (None, 8, 8, 128)         512       \n",
            "_________________________________________________________________\n",
            "max_pooling2d_25 (MaxPooling (None, 4, 4, 128)         0         \n",
            "_________________________________________________________________\n",
            "dropout_14 (Dropout)         (None, 4, 4, 128)         0         \n",
            "_________________________________________________________________\n",
            "flatten_8 (Flatten)          (None, 2048)              0         \n",
            "_________________________________________________________________\n",
            "dense_15 (Dense)             (None, 128)               262272    \n",
            "_________________________________________________________________\n",
            "dropout_15 (Dropout)         (None, 128)               0         \n",
            "_________________________________________________________________\n",
            "dense_16 (Dense)             (None, 10)                1290      \n",
            "=================================================================\n",
            "Total params: 552,362\n",
            "Trainable params: 551,466\n",
            "Non-trainable params: 896\n",
            "_________________________________________________________________\n"
          ],
          "name": "stdout"
        }
      ]
    },
    {
      "metadata": {
        "id": "o7voAcZ-_6Mo",
        "colab_type": "code",
        "colab": {}
      },
      "cell_type": "code",
      "source": [
        "model.compile(optimizer='adam',\n",
        "             loss='categorical_crossentropy',\n",
        "             metrics=['accuracy'])"
      ],
      "execution_count": 0,
      "outputs": []
    },
    {
      "metadata": {
        "id": "xhzyrOQM_6dC",
        "colab_type": "code",
        "outputId": "a6aff8fc-e131-42a5-dd75-3d843c4411a2",
        "colab": {
          "base_uri": "https://localhost:8080/",
          "height": 2754
        }
      },
      "cell_type": "code",
      "source": [
        "epochs = 80\n",
        "history = model.fit(train_images_norm, \n",
        "                      train_labels_norm, \n",
        "                      epochs=epochs, \n",
        "                      batch_size=64, \n",
        "                      validation_data=(val_images_norm, val_labels_norm))"
      ],
      "execution_count": 25,
      "outputs": [
        {
          "output_type": "stream",
          "text": [
            "Train on 40000 samples, validate on 10000 samples\n",
            "Epoch 1/80\n",
            "40000/40000 [==============================] - 40s 990us/step - loss: 1.9697 - acc: 0.3159 - val_loss: 1.6191 - val_acc: 0.4530\n",
            "Epoch 2/80\n",
            "40000/40000 [==============================] - 36s 893us/step - loss: 1.5549 - acc: 0.4670 - val_loss: 1.2118 - val_acc: 0.5975\n",
            "Epoch 3/80\n",
            "40000/40000 [==============================] - 35s 886us/step - loss: 1.3383 - acc: 0.5577 - val_loss: 1.1041 - val_acc: 0.6389\n",
            "Epoch 4/80\n",
            "40000/40000 [==============================] - 33s 833us/step - loss: 1.1949 - acc: 0.6199 - val_loss: 0.9870 - val_acc: 0.6864\n",
            "Epoch 5/80\n",
            "40000/40000 [==============================] - 28s 692us/step - loss: 1.0926 - acc: 0.6594 - val_loss: 0.8855 - val_acc: 0.7246\n",
            "Epoch 6/80\n",
            "40000/40000 [==============================] - 35s 863us/step - loss: 1.0127 - acc: 0.6920 - val_loss: 0.8591 - val_acc: 0.7478\n",
            "Epoch 7/80\n",
            "40000/40000 [==============================] - 35s 875us/step - loss: 0.9643 - acc: 0.7110 - val_loss: 0.8981 - val_acc: 0.7353\n",
            "Epoch 8/80\n",
            "40000/40000 [==============================] - 35s 882us/step - loss: 0.9157 - acc: 0.7308 - val_loss: 0.8123 - val_acc: 0.7593\n",
            "Epoch 9/80\n",
            "40000/40000 [==============================] - 35s 880us/step - loss: 0.8771 - acc: 0.7466 - val_loss: 0.7576 - val_acc: 0.7840\n",
            "Epoch 10/80\n",
            "40000/40000 [==============================] - 35s 876us/step - loss: 0.8454 - acc: 0.7615 - val_loss: 0.7816 - val_acc: 0.7850\n",
            "Epoch 11/80\n",
            "40000/40000 [==============================] - 35s 870us/step - loss: 0.8111 - acc: 0.7733 - val_loss: 0.7530 - val_acc: 0.7956\n",
            "Epoch 12/80\n",
            "40000/40000 [==============================] - 35s 869us/step - loss: 0.7936 - acc: 0.7838 - val_loss: 0.7107 - val_acc: 0.8132\n",
            "Epoch 13/80\n",
            "40000/40000 [==============================] - 35s 884us/step - loss: 0.7701 - acc: 0.7935 - val_loss: 0.7452 - val_acc: 0.8048\n",
            "Epoch 14/80\n",
            "40000/40000 [==============================] - 35s 883us/step - loss: 0.7534 - acc: 0.8017 - val_loss: 0.7274 - val_acc: 0.8120\n",
            "Epoch 15/80\n",
            "40000/40000 [==============================] - 35s 884us/step - loss: 0.7340 - acc: 0.8076 - val_loss: 0.6990 - val_acc: 0.8211\n",
            "Epoch 16/80\n",
            "40000/40000 [==============================] - 35s 880us/step - loss: 0.7131 - acc: 0.8151 - val_loss: 0.6970 - val_acc: 0.8221\n",
            "Epoch 17/80\n",
            "40000/40000 [==============================] - 35s 884us/step - loss: 0.7002 - acc: 0.8215 - val_loss: 0.6920 - val_acc: 0.8274\n",
            "Epoch 18/80\n",
            "40000/40000 [==============================] - 35s 884us/step - loss: 0.6867 - acc: 0.8289 - val_loss: 0.7521 - val_acc: 0.8127\n",
            "Epoch 19/80\n",
            "40000/40000 [==============================] - 35s 881us/step - loss: 0.6793 - acc: 0.8305 - val_loss: 0.7654 - val_acc: 0.8082\n",
            "Epoch 20/80\n",
            "40000/40000 [==============================] - 35s 883us/step - loss: 0.6705 - acc: 0.8348 - val_loss: 0.7408 - val_acc: 0.8158\n",
            "Epoch 21/80\n",
            "40000/40000 [==============================] - 35s 883us/step - loss: 0.6604 - acc: 0.8398 - val_loss: 0.7868 - val_acc: 0.8041\n",
            "Epoch 22/80\n",
            "40000/40000 [==============================] - 35s 883us/step - loss: 0.6445 - acc: 0.8461 - val_loss: 0.7089 - val_acc: 0.8310\n",
            "Epoch 23/80\n",
            "40000/40000 [==============================] - 35s 880us/step - loss: 0.6390 - acc: 0.8474 - val_loss: 0.7430 - val_acc: 0.8233\n",
            "Epoch 24/80\n",
            "40000/40000 [==============================] - 35s 873us/step - loss: 0.6402 - acc: 0.8484 - val_loss: 0.7060 - val_acc: 0.8331\n",
            "Epoch 25/80\n",
            "40000/40000 [==============================] - 35s 881us/step - loss: 0.6305 - acc: 0.8501 - val_loss: 0.6809 - val_acc: 0.8404\n",
            "Epoch 26/80\n",
            "40000/40000 [==============================] - 35s 882us/step - loss: 0.6145 - acc: 0.8588 - val_loss: 0.7022 - val_acc: 0.8343\n",
            "Epoch 27/80\n",
            "40000/40000 [==============================] - 35s 882us/step - loss: 0.6063 - acc: 0.8610 - val_loss: 0.6979 - val_acc: 0.8412\n",
            "Epoch 28/80\n",
            "40000/40000 [==============================] - 35s 877us/step - loss: 0.6126 - acc: 0.8600 - val_loss: 0.7750 - val_acc: 0.8167\n",
            "Epoch 29/80\n",
            "40000/40000 [==============================] - 33s 837us/step - loss: 0.6050 - acc: 0.8624 - val_loss: 0.7200 - val_acc: 0.8325\n",
            "Epoch 30/80\n",
            "40000/40000 [==============================] - 28s 708us/step - loss: 0.6019 - acc: 0.8649 - val_loss: 0.7155 - val_acc: 0.8362\n",
            "Epoch 31/80\n",
            "40000/40000 [==============================] - 26s 661us/step - loss: 0.5960 - acc: 0.8656 - val_loss: 0.6952 - val_acc: 0.8430\n",
            "Epoch 32/80\n",
            "40000/40000 [==============================] - 27s 679us/step - loss: 0.5867 - acc: 0.8707 - val_loss: 0.6820 - val_acc: 0.8469\n",
            "Epoch 33/80\n",
            "40000/40000 [==============================] - 27s 667us/step - loss: 0.5859 - acc: 0.8714 - val_loss: 0.7207 - val_acc: 0.8357\n",
            "Epoch 34/80\n",
            "40000/40000 [==============================] - 27s 679us/step - loss: 0.5831 - acc: 0.8727 - val_loss: 0.7340 - val_acc: 0.8381\n",
            "Epoch 35/80\n",
            "40000/40000 [==============================] - 25s 636us/step - loss: 0.5699 - acc: 0.8754 - val_loss: 0.7197 - val_acc: 0.8430\n",
            "Epoch 36/80\n",
            "40000/40000 [==============================] - 26s 654us/step - loss: 0.5665 - acc: 0.8784 - val_loss: 0.6776 - val_acc: 0.8484\n",
            "Epoch 37/80\n",
            "40000/40000 [==============================] - 26s 652us/step - loss: 0.5616 - acc: 0.8800 - val_loss: 0.7218 - val_acc: 0.8415\n",
            "Epoch 38/80\n",
            "40000/40000 [==============================] - 26s 657us/step - loss: 0.5675 - acc: 0.8815 - val_loss: 0.7040 - val_acc: 0.8525\n",
            "Epoch 39/80\n",
            "40000/40000 [==============================] - 26s 647us/step - loss: 0.5622 - acc: 0.8822 - val_loss: 0.7100 - val_acc: 0.8472\n",
            "Epoch 40/80\n",
            "40000/40000 [==============================] - 27s 680us/step - loss: 0.5575 - acc: 0.8841 - val_loss: 0.6846 - val_acc: 0.8535\n",
            "Epoch 41/80\n",
            "40000/40000 [==============================] - 27s 663us/step - loss: 0.5513 - acc: 0.8871 - val_loss: 0.7483 - val_acc: 0.8448\n",
            "Epoch 42/80\n",
            "40000/40000 [==============================] - 28s 691us/step - loss: 0.5568 - acc: 0.8831 - val_loss: 0.8858 - val_acc: 0.8085\n",
            "Epoch 43/80\n",
            "40000/40000 [==============================] - 35s 865us/step - loss: 0.5492 - acc: 0.8875 - val_loss: 0.7005 - val_acc: 0.8499\n",
            "Epoch 44/80\n",
            "40000/40000 [==============================] - 35s 877us/step - loss: 0.5533 - acc: 0.8875 - val_loss: 0.7206 - val_acc: 0.8472\n",
            "Epoch 45/80\n",
            "40000/40000 [==============================] - 35s 872us/step - loss: 0.5486 - acc: 0.8872 - val_loss: 0.7103 - val_acc: 0.8465\n",
            "Epoch 46/80\n",
            "40000/40000 [==============================] - 33s 813us/step - loss: 0.5418 - acc: 0.8911 - val_loss: 0.6889 - val_acc: 0.8525\n",
            "Epoch 47/80\n",
            "40000/40000 [==============================] - 26s 641us/step - loss: 0.5367 - acc: 0.8906 - val_loss: 0.6998 - val_acc: 0.8536\n",
            "Epoch 48/80\n",
            "40000/40000 [==============================] - 25s 635us/step - loss: 0.5432 - acc: 0.8911 - val_loss: 0.7031 - val_acc: 0.8529\n",
            "Epoch 49/80\n",
            "40000/40000 [==============================] - 27s 663us/step - loss: 0.5373 - acc: 0.8932 - val_loss: 0.6674 - val_acc: 0.8586\n",
            "Epoch 50/80\n",
            "40000/40000 [==============================] - 25s 636us/step - loss: 0.5401 - acc: 0.8930 - val_loss: 0.7177 - val_acc: 0.8444\n",
            "Epoch 51/80\n",
            "40000/40000 [==============================] - 26s 660us/step - loss: 0.5301 - acc: 0.8954 - val_loss: 0.7235 - val_acc: 0.8504\n",
            "Epoch 52/80\n",
            "40000/40000 [==============================] - 26s 661us/step - loss: 0.5273 - acc: 0.8960 - val_loss: 0.7022 - val_acc: 0.8559\n",
            "Epoch 53/80\n",
            "40000/40000 [==============================] - 27s 682us/step - loss: 0.5252 - acc: 0.8960 - val_loss: 0.6848 - val_acc: 0.8557\n",
            "Epoch 54/80\n",
            "40000/40000 [==============================] - 26s 662us/step - loss: 0.5222 - acc: 0.8989 - val_loss: 0.6955 - val_acc: 0.8564\n",
            "Epoch 55/80\n",
            "40000/40000 [==============================] - 27s 680us/step - loss: 0.5259 - acc: 0.8973 - val_loss: 0.7031 - val_acc: 0.8532\n",
            "Epoch 56/80\n",
            "40000/40000 [==============================] - 27s 663us/step - loss: 0.5166 - acc: 0.9002 - val_loss: 0.7077 - val_acc: 0.8572\n",
            "Epoch 57/80\n",
            "40000/40000 [==============================] - 27s 678us/step - loss: 0.5276 - acc: 0.8988 - val_loss: 0.7403 - val_acc: 0.8438\n",
            "Epoch 58/80\n",
            "40000/40000 [==============================] - 27s 673us/step - loss: 0.5187 - acc: 0.8998 - val_loss: 0.6898 - val_acc: 0.8564\n",
            "Epoch 59/80\n",
            "40000/40000 [==============================] - 27s 681us/step - loss: 0.5196 - acc: 0.8996 - val_loss: 0.6807 - val_acc: 0.8634\n",
            "Epoch 60/80\n",
            "40000/40000 [==============================] - 26s 642us/step - loss: 0.5207 - acc: 0.9011 - val_loss: 0.7295 - val_acc: 0.8548\n",
            "Epoch 61/80\n",
            "40000/40000 [==============================] - 27s 679us/step - loss: 0.5059 - acc: 0.9040 - val_loss: 0.7034 - val_acc: 0.8527\n",
            "Epoch 62/80\n",
            "40000/40000 [==============================] - 26s 651us/step - loss: 0.5122 - acc: 0.9010 - val_loss: 0.7119 - val_acc: 0.8536\n",
            "Epoch 63/80\n",
            "40000/40000 [==============================] - 28s 688us/step - loss: 0.5107 - acc: 0.9023 - val_loss: 0.7025 - val_acc: 0.8552\n",
            "Epoch 64/80\n",
            "40000/40000 [==============================] - 35s 870us/step - loss: 0.5097 - acc: 0.9015 - val_loss: 0.6988 - val_acc: 0.8523\n",
            "Epoch 65/80\n",
            "40000/40000 [==============================] - 35s 879us/step - loss: 0.5117 - acc: 0.9035 - val_loss: 0.7852 - val_acc: 0.8446\n",
            "Epoch 66/80\n",
            "40000/40000 [==============================] - 35s 866us/step - loss: 0.5144 - acc: 0.9017 - val_loss: 0.6908 - val_acc: 0.8622\n",
            "Epoch 67/80\n",
            "40000/40000 [==============================] - 27s 668us/step - loss: 0.5074 - acc: 0.9052 - val_loss: 0.6621 - val_acc: 0.8608\n",
            "Epoch 68/80\n",
            "40000/40000 [==============================] - 33s 816us/step - loss: 0.5101 - acc: 0.9032 - val_loss: 0.6938 - val_acc: 0.8647\n",
            "Epoch 69/80\n",
            "40000/40000 [==============================] - 26s 656us/step - loss: 0.5033 - acc: 0.9063 - val_loss: 0.6740 - val_acc: 0.8636\n",
            "Epoch 70/80\n",
            "40000/40000 [==============================] - 26s 642us/step - loss: 0.4995 - acc: 0.9091 - val_loss: 0.7018 - val_acc: 0.8570\n",
            "Epoch 71/80\n",
            "40000/40000 [==============================] - 27s 663us/step - loss: 0.5055 - acc: 0.9059 - val_loss: 0.7183 - val_acc: 0.8544\n",
            "Epoch 72/80\n",
            "40000/40000 [==============================] - 35s 875us/step - loss: 0.5035 - acc: 0.9072 - val_loss: 0.7166 - val_acc: 0.8571\n",
            "Epoch 73/80\n",
            "40000/40000 [==============================] - 35s 878us/step - loss: 0.5025 - acc: 0.9059 - val_loss: 0.6734 - val_acc: 0.8661\n",
            "Epoch 74/80\n",
            "40000/40000 [==============================] - 35s 873us/step - loss: 0.5014 - acc: 0.9084 - val_loss: 0.6656 - val_acc: 0.8650\n",
            "Epoch 75/80\n",
            "40000/40000 [==============================] - 35s 865us/step - loss: 0.5023 - acc: 0.9082 - val_loss: 0.6886 - val_acc: 0.8599\n",
            "Epoch 76/80\n",
            "40000/40000 [==============================] - 34s 849us/step - loss: 0.4959 - acc: 0.9095 - val_loss: 0.6895 - val_acc: 0.8680\n",
            "Epoch 77/80\n",
            "40000/40000 [==============================] - 36s 889us/step - loss: 0.5033 - acc: 0.9077 - val_loss: 0.7118 - val_acc: 0.8560\n",
            "Epoch 78/80\n",
            "40000/40000 [==============================] - 36s 898us/step - loss: 0.4964 - acc: 0.9097 - val_loss: 0.7662 - val_acc: 0.8506\n",
            "Epoch 79/80\n",
            "40000/40000 [==============================] - 36s 891us/step - loss: 0.5005 - acc: 0.9082 - val_loss: 0.6950 - val_acc: 0.8642\n",
            "Epoch 80/80\n",
            "40000/40000 [==============================] - 33s 824us/step - loss: 0.4946 - acc: 0.9099 - val_loss: 0.7520 - val_acc: 0.8487\n"
          ],
          "name": "stdout"
        }
      ]
    },
    {
      "metadata": {
        "id": "S2NfzPoCo12s",
        "colab_type": "code",
        "colab": {
          "base_uri": "https://localhost:8080/",
          "height": 707
        },
        "outputId": "82cc1062-d6d1-47ac-ef69-2480e819c6a5"
      },
      "cell_type": "code",
      "source": [
        "#print(epochs)\n",
        "acc = history.history['acc']\n",
        "val_acc = history.history['val_acc']\n",
        "\n",
        "loss = history.history['loss']\n",
        "val_loss = history.history['val_loss']\n",
        "\n",
        "epochs = range(1, len(acc) + 1)\n",
        "\n",
        "# training and validation accuracy\n",
        "\n",
        "plt.plot(epochs, acc, 'bo', label='training acc')\n",
        "plt.plot(epochs, val_acc, 'b', label='validation acc')\n",
        "plt.title('training and validation accuracy')\n",
        "plt.legend()\n",
        "\n",
        "plt.figure()\n",
        "\n",
        "# training and validation loss\n",
        "\n",
        "plt.plot(epochs, loss, 'bo', label='training loss')\n",
        "plt.plot(epochs, val_loss, 'b', label='validation loss')\n",
        "plt.title('training and validation loss')\n",
        "plt.legend()\n",
        "\n",
        "plt.show()"
      ],
      "execution_count": 26,
      "outputs": [
        {
          "output_type": "display_data",
          "data": {
            "image/png": "[encoded data removed]",
            "text/plain": [
              "<Figure size 576x396 with 1 Axes>"
            ]
          },
          "metadata": {
            "tags": []
          }
        },
        {
          "output_type": "display_data",
          "data": {
            "image/png": "[encoded data removed]",
            "text/plain": [
              "<Figure size 576x396 with 1 Axes>"
            ]
          },
          "metadata": {
            "tags": []
          }
        }
      ]
    },
    {
      "metadata": {
        "id": "pOki6JwFjtIY",
        "colab_type": "text"
      },
      "cell_type": "markdown",
      "source": [
        "###Model Performance on Test data using simple hold validation"
      ]
    },
    {
      "metadata": {
        "id": "kLX_ovaNj0ps",
        "colab_type": "code",
        "colab": {
          "base_uri": "https://localhost:8080/",
          "height": 68
        },
        "outputId": "16f98aab-f109-40da-a6d2-0ae110427afa"
      },
      "cell_type": "code",
      "source": [
        "result = model.evaluate(test_images_norm, test_labels_norm, verbose=1)\n",
        "print('Test accuracy:', result[1])\n",
        "print('Test loss:', result[0])"
      ],
      "execution_count": 28,
      "outputs": [
        {
          "output_type": "stream",
          "text": [
            "10000/10000 [==============================] - 3s 259us/step\n",
            "Test accuracy: 0.8448\n",
            "Test loss: 0.7580705450057983\n"
          ],
          "name": "stdout"
        }
      ]
    },
    {
      "metadata": {
        "id": "cEU96zN_gSMY",
        "colab_type": "text"
      },
      "cell_type": "markdown",
      "source": [
        "###K-fold validation "
      ]
    },
    {
      "metadata": {
        "id": "39OAAf39gkHn",
        "colab_type": "code",
        "colab": {}
      },
      "cell_type": "code",
      "source": [
        ""
      ],
      "execution_count": 0,
      "outputs": []
    }
  ]
}