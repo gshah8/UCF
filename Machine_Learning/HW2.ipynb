{
  "nbformat": 4,
  "nbformat_minor": 0,
  "metadata": {
    "colab": {
      "name": "HW2.ipynb",
      "version": "0.3.2",
      "provenance": [],
      "collapsed_sections": [],
      "include_colab_link": true
    },
    "kernelspec": {
      "name": "python3",
      "display_name": "Python 3"
    },
    "accelerator": "GPU"
  },
  "cells": [
    {
      "cell_type": "markdown",
      "metadata": {
        "id": "view-in-github",
        "colab_type": "text"
      },
      "source": [
        "<a href=\"https://colab.research.google.com/github/gshah8/UCF/blob/master/Machine_Learning/HW2.ipynb\" target=\"_parent\"><img src=\"https://colab.research.google.com/assets/colab-badge.svg\" alt=\"Open In Colab\"/></a>"
      ]
    },
    {
      "metadata": {
        "id": "5vSpuR2h9REm",
        "colab_type": "text"
      },
      "cell_type": "markdown",
      "source": [
        "###Name: Ghayoor Shah\n",
        "\n",
        "# HW 2\n",
        "\n",
        "The goal of this homework is to create a convolutional neural network for the CIFAR10 data set. \n",
        "See [this colab notebook](https://colab.research.google.com/drive/1LZZviWOzvchcXRdZi2IBx3KOpQOzLalf) how to load the CIFAR data in Keras.\n",
        "\n",
        "You should not use any pretrained convnets that come with Keras. You have to create and train your own convnets with Keras from scratch.\n",
        "\n",
        "## Simple hold-out validation\n",
        "\n",
        "Make sure that the data is divided into: \n",
        "\n",
        "- training set (80%)\n",
        "- validation set (20%)\n",
        "- test set. \n",
        "\n",
        "Use the training set to train your neural networks. Evaluate their performance on the validation data set. \n",
        "\n",
        "After trying several different architectures, choose the one that performs\n",
        "best of the validation set. Try at least four different architectures by using data augmentation, using dropout, varying the number of layers, the number of filters, etc.\n",
        "\n",
        "Train this final architecture on the data from the training set and validation set and evaluate its performance on \n",
        "the test set.\n",
        "\n",
        "## k-fold validation\n",
        "\n",
        "Reevaluate your best architecture using k-fold validation with k=5, that is, the size of the validation fold is 20%. Does the accuracy/loss obtain by k-fold validation differ from the accuracy/loss obtain by simple hold-out validation."
      ]
    },
    {
      "metadata": {
        "id": "tGt5GSXu_g9t",
        "colab_type": "text"
      },
      "cell_type": "markdown",
      "source": [
        "### Loading the CIFAR10 data set\n",
        "\n"
      ]
    },
    {
      "metadata": {
        "id": "GaciVEq0_dts",
        "colab_type": "code",
        "colab": {
          "base_uri": "https://localhost:8080/",
          "height": 68
        },
        "outputId": "699c35b6-e1d0-4470-9fca-f1f6fc554b1c"
      },
      "cell_type": "code",
      "source": [
        "import numpy as np\n",
        "import tensorflow as tf\n",
        "from tensorflow import keras\n",
        "from keras.datasets import cifar10\n",
        "\n",
        "(train_images, train_labels), (test_images, test_labels) = cifar10.load_data()"
      ],
      "execution_count": 1,
      "outputs": [
        {
          "output_type": "stream",
          "text": [
            "Using TensorFlow backend.\n"
          ],
          "name": "stderr"
        },
        {
          "output_type": "stream",
          "text": [
            "Downloading data from https://www.cs.toronto.edu/~kriz/cifar-10-python.tar.gz\n",
            "170500096/170498071 [==============================] - 10s 0us/step\n"
          ],
          "name": "stdout"
        }
      ]
    },
    {
      "metadata": {
        "id": "-AYEf3umAHQm",
        "colab_type": "text"
      },
      "cell_type": "markdown",
      "source": [
        "### Exploring the format of the CIFAR10 data set"
      ]
    },
    {
      "metadata": {
        "id": "p1hNMiPtAIsN",
        "colab_type": "code",
        "colab": {
          "base_uri": "https://localhost:8080/",
          "height": 34
        },
        "outputId": "bf87d20e-4429-45e7-c971-c812ccf7402d"
      },
      "cell_type": "code",
      "source": [
        "train_images.shape"
      ],
      "execution_count": 2,
      "outputs": [
        {
          "output_type": "execute_result",
          "data": {
            "text/plain": [
              "(50000, 32, 32, 3)"
            ]
          },
          "metadata": {
            "tags": []
          },
          "execution_count": 2
        }
      ]
    },
    {
      "metadata": {
        "id": "J6KJNpLlAtLb",
        "colab_type": "code",
        "colab": {
          "base_uri": "https://localhost:8080/",
          "height": 34
        },
        "outputId": "0aeb5197-1e13-42b6-ae24-833995565986"
      },
      "cell_type": "code",
      "source": [
        "train_images.ndim"
      ],
      "execution_count": 3,
      "outputs": [
        {
          "output_type": "execute_result",
          "data": {
            "text/plain": [
              "4"
            ]
          },
          "metadata": {
            "tags": []
          },
          "execution_count": 3
        }
      ]
    },
    {
      "metadata": {
        "id": "8_SDVSLrAx1L",
        "colab_type": "code",
        "colab": {
          "base_uri": "https://localhost:8080/",
          "height": 34
        },
        "outputId": "a595e190-7489-4cdc-f3bf-2b2c77e2d1e1"
      },
      "cell_type": "code",
      "source": [
        "train_labels.shape"
      ],
      "execution_count": 4,
      "outputs": [
        {
          "output_type": "execute_result",
          "data": {
            "text/plain": [
              "(50000, 1)"
            ]
          },
          "metadata": {
            "tags": []
          },
          "execution_count": 4
        }
      ]
    },
    {
      "metadata": {
        "id": "14iRg_dJA0Iv",
        "colab_type": "code",
        "colab": {
          "base_uri": "https://localhost:8080/",
          "height": 34
        },
        "outputId": "d6f233ac-ad9a-4f5d-e40f-4349e7d5c1f9"
      },
      "cell_type": "code",
      "source": [
        "train_labels.ndim"
      ],
      "execution_count": 5,
      "outputs": [
        {
          "output_type": "execute_result",
          "data": {
            "text/plain": [
              "2"
            ]
          },
          "metadata": {
            "tags": []
          },
          "execution_count": 5
        }
      ]
    },
    {
      "metadata": {
        "id": "Mqbp1flDTvGx",
        "colab_type": "text"
      },
      "cell_type": "markdown",
      "source": [
        "###Using Simple Hold Validation for the models below"
      ]
    },
    {
      "metadata": {
        "id": "ghUwL-nmUZx8",
        "colab_type": "code",
        "colab": {}
      },
      "cell_type": "code",
      "source": [
        "#divide training data into training and validation data\n",
        "rand_idx = np.random.permutation(len(train_images))\n",
        "val_idx = rand_idx[0:2000]\n",
        "train_idx = rand_idx[2000:]\n",
        "\n",
        "train_images_new, train_labels_new = train_images[train_idx] , train_labels[train_idx]\n",
        "val_images, val_labels = train_images[val_idx] , train_labels[val_idx]\n",
        "\n",
        "#normalize training and validation data\n",
        "train_images_norm = train_images_new/255\n",
        "val_images_norm = val_images/255\n",
        "\n",
        "#train_images_norm.shape\n",
        "#train_images_norm.shape\n"
      ],
      "execution_count": 0,
      "outputs": []
    },
    {
      "metadata": {
        "id": "FbOE5y_-EzOV",
        "colab_type": "text"
      },
      "cell_type": "markdown",
      "source": [
        "###Preprocess test data"
      ]
    },
    {
      "metadata": {
        "id": "w4u6Vq_KE6Oe",
        "colab_type": "code",
        "colab": {}
      },
      "cell_type": "code",
      "source": [
        "#train_images_norm = train_images/255\n",
        "test_images_norm = test_images/255"
      ],
      "execution_count": 0,
      "outputs": []
    },
    {
      "metadata": {
        "id": "9vynlXErFcqO",
        "colab_type": "text"
      },
      "cell_type": "markdown",
      "source": [
        "###Build a basic model (without Data Augmentation and Dropout)"
      ]
    },
    {
      "metadata": {
        "id": "4d7o1oJLFeqm",
        "colab_type": "code",
        "colab": {
          "base_uri": "https://localhost:8080/",
          "height": 479
        },
        "outputId": "b13eacc2-abdc-4d03-a484-56ef89059145"
      },
      "cell_type": "code",
      "source": [
        "# set up the layers\n",
        "\n",
        "model = keras.Sequential([\n",
        "    keras.layers.Conv2D(32, (3, 3), activation='relu', input_shape=(32, 32, 3)),\n",
        "    keras.layers.MaxPooling2D((2, 2)),\n",
        "    #\n",
        "    keras.layers.Conv2D(64, (3, 3), activation='relu'),\n",
        "    keras.layers.MaxPooling2D((2, 2)),\n",
        "    #\n",
        "    keras.layers.Conv2D(64, (3, 3), activation='relu'),\n",
        "    #\n",
        "    keras.layers.Flatten(),\n",
        "    keras.layers.Dense(64, activation='relu'),\n",
        "    keras.layers.Dense(10, activation='softmax')\n",
        "])\n",
        "model.summary()"
      ],
      "execution_count": 8,
      "outputs": [
        {
          "output_type": "stream",
          "text": [
            "WARNING:tensorflow:From /usr/local/lib/python3.6/dist-packages/tensorflow/python/ops/resource_variable_ops.py:435: colocate_with (from tensorflow.python.framework.ops) is deprecated and will be removed in a future version.\n",
            "Instructions for updating:\n",
            "Colocations handled automatically by placer.\n",
            "_________________________________________________________________\n",
            "Layer (type)                 Output Shape              Param #   \n",
            "=================================================================\n",
            "conv2d (Conv2D)              (None, 30, 30, 32)        896       \n",
            "_________________________________________________________________\n",
            "max_pooling2d (MaxPooling2D) (None, 15, 15, 32)        0         \n",
            "_________________________________________________________________\n",
            "conv2d_1 (Conv2D)            (None, 13, 13, 64)        18496     \n",
            "_________________________________________________________________\n",
            "max_pooling2d_1 (MaxPooling2 (None, 6, 6, 64)          0         \n",
            "_________________________________________________________________\n",
            "conv2d_2 (Conv2D)            (None, 4, 4, 64)          36928     \n",
            "_________________________________________________________________\n",
            "flatten (Flatten)            (None, 1024)              0         \n",
            "_________________________________________________________________\n",
            "dense (Dense)                (None, 64)                65600     \n",
            "_________________________________________________________________\n",
            "dense_1 (Dense)              (None, 10)                650       \n",
            "=================================================================\n",
            "Total params: 122,570\n",
            "Trainable params: 122,570\n",
            "Non-trainable params: 0\n",
            "_________________________________________________________________\n"
          ],
          "name": "stdout"
        }
      ]
    },
    {
      "metadata": {
        "id": "mXpTCFSKH-0Y",
        "colab_type": "text"
      },
      "cell_type": "markdown",
      "source": [
        "###Compile the Model"
      ]
    },
    {
      "metadata": {
        "id": "UY6Yl69XH4b4",
        "colab_type": "code",
        "colab": {}
      },
      "cell_type": "code",
      "source": [
        "model.compile(optimizer='adam',\n",
        "             loss='sparse_categorical_crossentropy',\n",
        "             metrics=['accuracy'])"
      ],
      "execution_count": 0,
      "outputs": []
    },
    {
      "metadata": {
        "id": "jDH1M98B_Zb2",
        "colab_type": "text"
      },
      "cell_type": "markdown",
      "source": [
        "###Train the Model"
      ]
    },
    {
      "metadata": {
        "id": "ULo_pCDVIJd_",
        "colab_type": "code",
        "colab": {
          "base_uri": "https://localhost:8080/",
          "height": 714
        },
        "outputId": "91a20a61-d1a1-48b5-dcc9-4ca3941b6529"
      },
      "cell_type": "code",
      "source": [
        "epochs = 20\n",
        "history = model.fit(train_images_norm, \n",
        "                      train_labels_new, \n",
        "                      epochs=epochs,  \n",
        "                      validation_data=(val_images_norm, val_labels))"
      ],
      "execution_count": 10,
      "outputs": [
        {
          "output_type": "stream",
          "text": [
            "Train on 48000 samples, validate on 2000 samples\n",
            "Epoch 1/20\n",
            "48000/48000 [==============================] - 18s 376us/sample - loss: 1.5674 - acc: 0.4284 - val_loss: 1.3371 - val_acc: 0.5290\n",
            "Epoch 2/20\n",
            "48000/48000 [==============================] - 16s 327us/sample - loss: 1.2041 - acc: 0.5723 - val_loss: 1.2887 - val_acc: 0.5475\n",
            "Epoch 3/20\n",
            "48000/48000 [==============================] - 16s 343us/sample - loss: 1.0498 - acc: 0.6285 - val_loss: 1.1383 - val_acc: 0.6055\n",
            "Epoch 4/20\n",
            "48000/48000 [==============================] - 16s 335us/sample - loss: 0.9401 - acc: 0.6723 - val_loss: 1.0160 - val_acc: 0.6425\n",
            "Epoch 5/20\n",
            "48000/48000 [==============================] - 14s 297us/sample - loss: 0.8672 - acc: 0.6968 - val_loss: 1.0261 - val_acc: 0.6455\n",
            "Epoch 6/20\n",
            "48000/48000 [==============================] - 14s 290us/sample - loss: 0.8016 - acc: 0.7193 - val_loss: 0.9890 - val_acc: 0.6540\n",
            "Epoch 7/20\n",
            "48000/48000 [==============================] - 14s 301us/sample - loss: 0.7512 - acc: 0.7359 - val_loss: 0.9384 - val_acc: 0.6835\n",
            "Epoch 8/20\n",
            "48000/48000 [==============================] - 14s 287us/sample - loss: 0.7065 - acc: 0.7521 - val_loss: 0.9623 - val_acc: 0.6790\n",
            "Epoch 9/20\n",
            "48000/48000 [==============================] - 16s 324us/sample - loss: 0.6608 - acc: 0.7707 - val_loss: 0.9234 - val_acc: 0.6875\n",
            "Epoch 10/20\n",
            "48000/48000 [==============================] - 16s 330us/sample - loss: 0.6284 - acc: 0.7798 - val_loss: 0.9287 - val_acc: 0.6910\n",
            "Epoch 11/20\n",
            "48000/48000 [==============================] - 16s 330us/sample - loss: 0.5856 - acc: 0.7940 - val_loss: 0.9585 - val_acc: 0.6950\n",
            "Epoch 12/20\n",
            "48000/48000 [==============================] - 16s 326us/sample - loss: 0.5536 - acc: 0.8045 - val_loss: 1.0295 - val_acc: 0.6685\n",
            "Epoch 13/20\n",
            "48000/48000 [==============================] - 16s 330us/sample - loss: 0.5216 - acc: 0.8173 - val_loss: 1.0069 - val_acc: 0.6925\n",
            "Epoch 14/20\n",
            "48000/48000 [==============================] - 16s 324us/sample - loss: 0.4918 - acc: 0.8278 - val_loss: 0.9697 - val_acc: 0.7050\n",
            "Epoch 15/20\n",
            "48000/48000 [==============================] - 16s 329us/sample - loss: 0.4612 - acc: 0.8372 - val_loss: 1.0036 - val_acc: 0.6990\n",
            "Epoch 16/20\n",
            "48000/48000 [==============================] - 15s 321us/sample - loss: 0.4361 - acc: 0.8456 - val_loss: 1.0748 - val_acc: 0.6920\n",
            "Epoch 17/20\n",
            "48000/48000 [==============================] - 15s 321us/sample - loss: 0.4061 - acc: 0.8567 - val_loss: 1.0853 - val_acc: 0.6845\n",
            "Epoch 18/20\n",
            "48000/48000 [==============================] - 14s 285us/sample - loss: 0.3731 - acc: 0.8689 - val_loss: 1.1589 - val_acc: 0.6740\n",
            "Epoch 19/20\n",
            "48000/48000 [==============================] - 14s 286us/sample - loss: 0.3591 - acc: 0.8727 - val_loss: 1.1992 - val_acc: 0.6900\n",
            "Epoch 20/20\n",
            "48000/48000 [==============================] - 14s 292us/sample - loss: 0.3298 - acc: 0.8820 - val_loss: 1.2474 - val_acc: 0.6830\n"
          ],
          "name": "stdout"
        }
      ]
    },
    {
      "metadata": {
        "id": "B-dIySPtN-Gj",
        "colab_type": "text"
      },
      "cell_type": "markdown",
      "source": [
        "We can observe that the model is clearly overfitted since the training accuracy is increasing as we increase the number of epochs but the testing accuracy is not increasing.\n",
        "\n",
        "Now, we will try to improve the model by using the four following architectures:\n",
        "1. increasing the number of convolutional layers\n",
        "2. Adding more filters\n",
        "3. Data Augmentation\n",
        "4. Dropout\n",
        "\n",
        "We will add the above mentioned architectures one by one and observe the train and validation accuracy.\n",
        "In the end, as a sanity check, we will run the model for test data."
      ]
    },
    {
      "metadata": {
        "id": "pTnpHLaERnpt",
        "colab_type": "code",
        "colab": {}
      },
      "cell_type": "code",
      "source": [
        ""
      ],
      "execution_count": 0,
      "outputs": []
    }
  ]
}