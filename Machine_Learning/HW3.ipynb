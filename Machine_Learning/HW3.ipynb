{
  "nbformat": 4,
  "nbformat_minor": 0,
  "metadata": {
    "colab": {
      "name": "HW3.ipynb",
      "version": "0.3.2",
      "provenance": [],
      "collapsed_sections": [],
      "toc_visible": true,
      "include_colab_link": true
    },
    "kernelspec": {
      "name": "python3",
      "display_name": "Python 3"
    },
    "accelerator": "GPU"
  },
  "cells": [
    {
      "cell_type": "markdown",
      "metadata": {
        "id": "view-in-github",
        "colab_type": "text"
      },
      "source": [
        "<a href=\"https://colab.research.google.com/github/gshah8/UCF/blob/master/Machine_Learning/HW3.ipynb\" target=\"_parent\"><img src=\"https://colab.research.google.com/assets/colab-badge.svg\" alt=\"Open In Colab\"/></a>"
      ]
    },
    {
      "metadata": {
        "id": "IOCUFpgzSX9E",
        "colab_type": "text"
      },
      "cell_type": "markdown",
      "source": [
        "# HW 3\n",
        "\n",
        "The goal of this homework is to learn how to leverage pretrained convnets and to use some visualization techniques.\n",
        "You will work with the data set *cats vs dogs* and use the pretrained convnet VGG19.\n",
        "\n",
        "Experiment with different classifiers, trying to maximize the validation accuracy. You only need to show one classifier.\n",
        "\n",
        "---\n",
        "\n",
        "\n",
        "\n",
        "\n",
        "\n",
        "\n",
        "\n"
      ]
    },
    {
      "metadata": {
        "id": "UNKyKTKQrcft",
        "colab_type": "text"
      },
      "cell_type": "markdown",
      "source": [
        "##Download the data"
      ]
    },
    {
      "metadata": {
        "id": "5Ja05m5_rmad",
        "colab_type": "code",
        "outputId": "cde5e34d-dc92-43ce-9f1e-846b3aa79324",
        "colab": {
          "base_uri": "https://localhost:8080/",
          "height": 204
        }
      },
      "cell_type": "code",
      "source": [
        "!wget --no-check-certificate \\\n",
        "    https://storage.googleapis.com/mledu-datasets/cats_and_dogs_filtered.zip \\\n",
        "    -O /tmp/cats_and_dogs_filtered.zip"
      ],
      "execution_count": 177,
      "outputs": [
        {
          "output_type": "stream",
          "text": [
            "--2019-04-18 00:50:55--  https://storage.googleapis.com/mledu-datasets/cats_and_dogs_filtered.zip\n",
            "Resolving storage.googleapis.com (storage.googleapis.com)... 74.125.202.128, 2607:f8b0:4001:c1a::80\n",
            "Connecting to storage.googleapis.com (storage.googleapis.com)|74.125.202.128|:443... connected.\n",
            "HTTP request sent, awaiting response... 200 OK\n",
            "Length: 68606236 (65M) [application/zip]\n",
            "Saving to: ‘/tmp/cats_and_dogs_filtered.zip’\n",
            "\n",
            "/tmp/cats_and_dogs_ 100%[===================>]  65.43M   116MB/s    in 0.6s    \n",
            "\n",
            "2019-04-18 00:50:55 (116 MB/s) - ‘/tmp/cats_and_dogs_filtered.zip’ saved [68606236/68606236]\n",
            "\n"
          ],
          "name": "stdout"
        }
      ]
    },
    {
      "metadata": {
        "id": "SnVT7SRRrsMm",
        "colab_type": "code",
        "colab": {}
      },
      "cell_type": "code",
      "source": [
        "import cv2\n",
        "from google.colab.patches import cv2_imshow\n",
        "%matplotlib inline\n",
        "from matplotlib import pyplot as plt\n",
        "import numpy as np\n",
        "from tensorflow.keras import backend as K\n",
        "from tensorflow.keras.preprocessing import image\n",
        "from tensorflow.keras.applications.vgg19 import preprocess_input\n",
        "from tensorflow.keras import layers\n",
        "from tensorflow.keras import models\n",
        "from tensorflow.keras import optimizers\n",
        "import os\n",
        "import zipfile\n",
        "\n",
        "\n",
        "local_zip = '/tmp/cats_and_dogs_filtered.zip'\n",
        "zip_ref = zipfile.ZipFile(local_zip, 'r')\n",
        "zip_ref.extractall('/tmp')\n",
        "zip_ref.close()"
      ],
      "execution_count": 0,
      "outputs": []
    },
    {
      "metadata": {
        "id": "1ihtWwyLtnMI",
        "colab_type": "code",
        "colab": {}
      },
      "cell_type": "code",
      "source": [
        "base_dir = '/tmp/cats_and_dogs_filtered'\n",
        "train_dir = os.path.join(base_dir, 'train')\n",
        "validation_dir = os.path.join(base_dir, 'validation')\n",
        "\n",
        "# Directory with our training cat pictures\n",
        "train_cats_dir = os.path.join(train_dir, 'cats')\n",
        "\n",
        "# Directory with our training dog pictures\n",
        "train_dogs_dir = os.path.join(train_dir, 'dogs')\n",
        "\n",
        "# Directory with our validation cat pictures\n",
        "validation_cats_dir = os.path.join(validation_dir, 'cats')\n",
        "\n",
        "# Directory with our validation dog pictures\n",
        "validation_dogs_dir = os.path.join(validation_dir, 'dogs')"
      ],
      "execution_count": 0,
      "outputs": []
    },
    {
      "metadata": {
        "id": "9sSG0XTOvfL0",
        "colab_type": "text"
      },
      "cell_type": "markdown",
      "source": [
        "##Load the convolutional base"
      ]
    },
    {
      "metadata": {
        "id": "ZSpcJo6Dvisb",
        "colab_type": "code",
        "colab": {}
      },
      "cell_type": "code",
      "source": [
        "from tensorflow.keras.applications import VGG19\n",
        "\n",
        "conv_base = VGG19(\n",
        "    weights='imagenet', \n",
        "    include_top=False, \n",
        "    input_shape=(150, 150, 3))"
      ],
      "execution_count": 0,
      "outputs": []
    },
    {
      "metadata": {
        "id": "m43nvNBaS2Vk",
        "colab_type": "text"
      },
      "cell_type": "markdown",
      "source": [
        "## Problem 1\n",
        "\n",
        "Do feature extraction with data augmentation."
      ]
    },
    {
      "metadata": {
        "id": "FEtiCScJwBK0",
        "colab_type": "text"
      },
      "cell_type": "markdown",
      "source": [
        "We need to freeze the convolutional base for Problem 1"
      ]
    },
    {
      "metadata": {
        "id": "c3q-wHgITGfM",
        "colab_type": "code",
        "colab": {}
      },
      "cell_type": "code",
      "source": [
        "conv_base.trainable = False"
      ],
      "execution_count": 0,
      "outputs": []
    },
    {
      "metadata": {
        "id": "6SyCBEKo7eWw",
        "colab_type": "code",
        "colab": {
          "base_uri": "https://localhost:8080/",
          "height": 986
        },
        "outputId": "4436fbc1-25af-42a7-901f-556e2b6cd99c"
      },
      "cell_type": "code",
      "source": [
        "out = conv_base.output\n",
        "out=layers.Flatten()(out)\n",
        "out=layers.Dense(256, activation='relu')(out)\n",
        "out = layers.Dense(1, activation='sigmoid')(out)\n",
        "model = models.Model(inputs=[conv_base.input], outputs=[out])\n",
        "model.summary()"
      ],
      "execution_count": 193,
      "outputs": [
        {
          "output_type": "stream",
          "text": [
            "_________________________________________________________________\n",
            "Layer (type)                 Output Shape              Param #   \n",
            "=================================================================\n",
            "input_4 (InputLayer)         (None, 150, 150, 3)       0         \n",
            "_________________________________________________________________\n",
            "block1_conv1 (Conv2D)        (None, 150, 150, 64)      1792      \n",
            "_________________________________________________________________\n",
            "block1_conv2 (Conv2D)        (None, 150, 150, 64)      36928     \n",
            "_________________________________________________________________\n",
            "block1_pool (MaxPooling2D)   (None, 75, 75, 64)        0         \n",
            "_________________________________________________________________\n",
            "block2_conv1 (Conv2D)        (None, 75, 75, 128)       73856     \n",
            "_________________________________________________________________\n",
            "block2_conv2 (Conv2D)        (None, 75, 75, 128)       147584    \n",
            "_________________________________________________________________\n",
            "block2_pool (MaxPooling2D)   (None, 37, 37, 128)       0         \n",
            "_________________________________________________________________\n",
            "block3_conv1 (Conv2D)        (None, 37, 37, 256)       295168    \n",
            "_________________________________________________________________\n",
            "block3_conv2 (Conv2D)        (None, 37, 37, 256)       590080    \n",
            "_________________________________________________________________\n",
            "block3_conv3 (Conv2D)        (None, 37, 37, 256)       590080    \n",
            "_________________________________________________________________\n",
            "block3_conv4 (Conv2D)        (None, 37, 37, 256)       590080    \n",
            "_________________________________________________________________\n",
            "block3_pool (MaxPooling2D)   (None, 18, 18, 256)       0         \n",
            "_________________________________________________________________\n",
            "block4_conv1 (Conv2D)        (None, 18, 18, 512)       1180160   \n",
            "_________________________________________________________________\n",
            "block4_conv2 (Conv2D)        (None, 18, 18, 512)       2359808   \n",
            "_________________________________________________________________\n",
            "block4_conv3 (Conv2D)        (None, 18, 18, 512)       2359808   \n",
            "_________________________________________________________________\n",
            "block4_conv4 (Conv2D)        (None, 18, 18, 512)       2359808   \n",
            "_________________________________________________________________\n",
            "block4_pool (MaxPooling2D)   (None, 9, 9, 512)         0         \n",
            "_________________________________________________________________\n",
            "block5_conv1 (Conv2D)        (None, 9, 9, 512)         2359808   \n",
            "_________________________________________________________________\n",
            "block5_conv2 (Conv2D)        (None, 9, 9, 512)         2359808   \n",
            "_________________________________________________________________\n",
            "block5_conv3 (Conv2D)        (None, 9, 9, 512)         2359808   \n",
            "_________________________________________________________________\n",
            "block5_conv4 (Conv2D)        (None, 9, 9, 512)         2359808   \n",
            "_________________________________________________________________\n",
            "block5_pool (MaxPooling2D)   (None, 4, 4, 512)         0         \n",
            "_________________________________________________________________\n",
            "flatten_3 (Flatten)          (None, 8192)              0         \n",
            "_________________________________________________________________\n",
            "dense_6 (Dense)              (None, 256)               2097408   \n",
            "_________________________________________________________________\n",
            "dense_7 (Dense)              (None, 1)                 257       \n",
            "=================================================================\n",
            "Total params: 22,122,049\n",
            "Trainable params: 22,122,049\n",
            "Non-trainable params: 0\n",
            "_________________________________________________________________\n"
          ],
          "name": "stdout"
        }
      ]
    },
    {
      "metadata": {
        "id": "FlUHNdMv8tnB",
        "colab_type": "code",
        "colab": {}
      },
      "cell_type": "code",
      "source": [
        "#There are 22 layers in vgg19\n",
        "training_layer_idx=22\n",
        "for idx,layer in enumerate(model.layers):\n",
        "    layer.trainable = idx >= training_layer_idx"
      ],
      "execution_count": 0,
      "outputs": []
    },
    {
      "metadata": {
        "id": "_Qxrq5vhwkwl",
        "colab_type": "code",
        "colab": {
          "base_uri": "https://localhost:8080/",
          "height": 1581
        },
        "outputId": "c11f5b92-8811-43de-866b-b14b27ea758c"
      },
      "cell_type": "code",
      "source": [
        "# data augmentation\n",
        "\n",
        "train_datagen = ImageDataGenerator(\n",
        "    rescale=1./255, \n",
        "    rotation_range=40,\n",
        "    width_shift_range=0.2,\n",
        "    height_shift_range=0.2,\n",
        "    shear_range=0.2,\n",
        "    zoom_range=0.2,\n",
        "    horizontal_flip=True,\n",
        "    fill_mode='nearest'\n",
        ")\n",
        "\n",
        "train_generator = train_datagen.flow_from_directory(\n",
        "    train_dir,\n",
        "    target_size=(150, 150),\n",
        "    batch_size=20,\n",
        "    class_mode='binary')\n",
        "\n",
        "validation_datagen = ImageDataGenerator(rescale=1./255)\n",
        "\n",
        "validation_generator = validation_datagen.flow_from_directory(\n",
        "    validation_dir,\n",
        "    target_size=(150, 150),\n",
        "    batch_size=20,\n",
        "    class_mode='binary')\n",
        "\n",
        "# compile model\n",
        "\n",
        "model.compile(\n",
        "    loss='binary_crossentropy', \n",
        "    optimizer=optimizers.RMSprop(lr=1e-5), \n",
        "    metrics=['acc'])\n",
        "\n",
        "# train\n",
        "\n",
        "history = model.fit_generator(\n",
        "    train_generator,\n",
        "    steps_per_epoch=100,\n",
        "    epochs=30,\n",
        "    validation_data=validation_generator,\n",
        "    validation_steps=50\n",
        ")"
      ],
      "execution_count": 198,
      "outputs": [
        {
          "output_type": "stream",
          "text": [
            "Found 2000 images belonging to 2 classes.\n",
            "Found 1000 images belonging to 2 classes.\n",
            "Epoch 1/30\n",
            "50/50 [==============================] - 4s 89ms/step - loss: 0.5752 - acc: 0.7500\n",
            "100/100 [==============================] - 19s 188ms/step - loss: 0.6643 - acc: 0.5925 - val_loss: 0.5752 - val_acc: 0.7500\n",
            "Epoch 2/30\n",
            "50/50 [==============================] - 4s 86ms/step - loss: 0.4962 - acc: 0.8010\n",
            "100/100 [==============================] - 18s 182ms/step - loss: 0.5778 - acc: 0.7255 - val_loss: 0.4962 - val_acc: 0.8010\n",
            "Epoch 3/30\n",
            "50/50 [==============================] - 4s 87ms/step - loss: 0.4725 - acc: 0.7970\n",
            "100/100 [==============================] - 20s 198ms/step - loss: 0.5381 - acc: 0.7520 - val_loss: 0.4725 - val_acc: 0.7970\n",
            "Epoch 4/30\n",
            "50/50 [==============================] - 4s 87ms/step - loss: 0.4146 - acc: 0.8190\n",
            "100/100 [==============================] - 18s 183ms/step - loss: 0.5035 - acc: 0.7675 - val_loss: 0.4146 - val_acc: 0.8190\n",
            "Epoch 5/30\n",
            "50/50 [==============================] - 5s 98ms/step - loss: 0.3954 - acc: 0.8440\n",
            "100/100 [==============================] - 20s 196ms/step - loss: 0.4858 - acc: 0.7835 - val_loss: 0.3954 - val_acc: 0.8440\n",
            "Epoch 6/30\n",
            "50/50 [==============================] - 4s 88ms/step - loss: 0.3840 - acc: 0.8460\n",
            "100/100 [==============================] - 19s 191ms/step - loss: 0.4649 - acc: 0.7875 - val_loss: 0.3840 - val_acc: 0.8460\n",
            "Epoch 7/30\n",
            "50/50 [==============================] - 4s 87ms/step - loss: 0.3562 - acc: 0.8430\n",
            "100/100 [==============================] - 20s 196ms/step - loss: 0.4427 - acc: 0.8020 - val_loss: 0.3562 - val_acc: 0.8430\n",
            "Epoch 8/30\n",
            "50/50 [==============================] - 4s 88ms/step - loss: 0.3533 - acc: 0.8600\n",
            "100/100 [==============================] - 18s 183ms/step - loss: 0.4352 - acc: 0.7965 - val_loss: 0.3533 - val_acc: 0.8600\n",
            "Epoch 9/30\n",
            "50/50 [==============================] - 4s 87ms/step - loss: 0.3358 - acc: 0.8600\n",
            "100/100 [==============================] - 18s 183ms/step - loss: 0.4183 - acc: 0.8175 - val_loss: 0.3358 - val_acc: 0.8600\n",
            "Epoch 10/30\n",
            "50/50 [==============================] - 4s 87ms/step - loss: 0.3256 - acc: 0.8600\n",
            "100/100 [==============================] - 18s 184ms/step - loss: 0.4145 - acc: 0.8180 - val_loss: 0.3256 - val_acc: 0.8600\n",
            "Epoch 11/30\n",
            "50/50 [==============================] - 5s 99ms/step - loss: 0.3163 - acc: 0.8620\n",
            "100/100 [==============================] - 20s 195ms/step - loss: 0.4055 - acc: 0.8175 - val_loss: 0.3163 - val_acc: 0.8620\n",
            "Epoch 12/30\n",
            "50/50 [==============================] - 4s 86ms/step - loss: 0.3130 - acc: 0.8680\n",
            "100/100 [==============================] - 18s 182ms/step - loss: 0.4148 - acc: 0.8095 - val_loss: 0.3130 - val_acc: 0.8680\n",
            "Epoch 13/30\n",
            "50/50 [==============================] - 4s 88ms/step - loss: 0.3128 - acc: 0.8550\n",
            "100/100 [==============================] - 18s 184ms/step - loss: 0.3947 - acc: 0.8240 - val_loss: 0.3128 - val_acc: 0.8550\n",
            "Epoch 14/30\n",
            "50/50 [==============================] - 4s 88ms/step - loss: 0.3055 - acc: 0.8710\n",
            "100/100 [==============================] - 18s 183ms/step - loss: 0.3828 - acc: 0.8325 - val_loss: 0.3055 - val_acc: 0.8710\n",
            "Epoch 15/30\n",
            "50/50 [==============================] - 5s 94ms/step - loss: 0.2991 - acc: 0.8710\n",
            "100/100 [==============================] - 19s 187ms/step - loss: 0.3920 - acc: 0.8250 - val_loss: 0.2991 - val_acc: 0.8710\n",
            "Epoch 16/30\n",
            "50/50 [==============================] - 4s 88ms/step - loss: 0.2954 - acc: 0.8670\n",
            "100/100 [==============================] - 19s 193ms/step - loss: 0.3828 - acc: 0.8325 - val_loss: 0.2954 - val_acc: 0.8670\n",
            "Epoch 17/30\n",
            "50/50 [==============================] - 4s 88ms/step - loss: 0.2985 - acc: 0.8750\n",
            "100/100 [==============================] - 18s 184ms/step - loss: 0.3751 - acc: 0.8355 - val_loss: 0.2985 - val_acc: 0.8750\n",
            "Epoch 18/30\n",
            "50/50 [==============================] - 4s 87ms/step - loss: 0.2918 - acc: 0.8750\n",
            "100/100 [==============================] - 18s 184ms/step - loss: 0.3747 - acc: 0.8280 - val_loss: 0.2918 - val_acc: 0.8750\n",
            "Epoch 19/30\n",
            "50/50 [==============================] - 4s 88ms/step - loss: 0.2877 - acc: 0.8760\n",
            "100/100 [==============================] - 18s 184ms/step - loss: 0.3758 - acc: 0.8325 - val_loss: 0.2877 - val_acc: 0.8760\n",
            "Epoch 20/30\n",
            "50/50 [==============================] - 4s 88ms/step - loss: 0.2866 - acc: 0.8740\n",
            "100/100 [==============================] - 20s 197ms/step - loss: 0.3686 - acc: 0.8345 - val_loss: 0.2866 - val_acc: 0.8740\n",
            "Epoch 21/30\n",
            "50/50 [==============================] - 4s 89ms/step - loss: 0.2861 - acc: 0.8700\n",
            "100/100 [==============================] - 19s 191ms/step - loss: 0.3747 - acc: 0.8275 - val_loss: 0.2861 - val_acc: 0.8700\n",
            "Epoch 22/30\n",
            "50/50 [==============================] - 4s 90ms/step - loss: 0.2837 - acc: 0.8820\n",
            "100/100 [==============================] - 20s 199ms/step - loss: 0.3590 - acc: 0.8385 - val_loss: 0.2837 - val_acc: 0.8820\n",
            "Epoch 23/30\n",
            "50/50 [==============================] - 4s 87ms/step - loss: 0.2832 - acc: 0.8820\n",
            "100/100 [==============================] - 18s 183ms/step - loss: 0.3589 - acc: 0.8430 - val_loss: 0.2832 - val_acc: 0.8820\n",
            "Epoch 24/30\n",
            "50/50 [==============================] - 5s 90ms/step - loss: 0.2794 - acc: 0.8820\n",
            "100/100 [==============================] - 20s 197ms/step - loss: 0.3610 - acc: 0.8425 - val_loss: 0.2794 - val_acc: 0.8820\n",
            "Epoch 25/30\n",
            "50/50 [==============================] - 4s 89ms/step - loss: 0.2879 - acc: 0.8740\n",
            "100/100 [==============================] - 18s 185ms/step - loss: 0.3459 - acc: 0.8490 - val_loss: 0.2879 - val_acc: 0.8740\n",
            "Epoch 26/30\n",
            "50/50 [==============================] - 4s 89ms/step - loss: 0.2805 - acc: 0.8820\n",
            "100/100 [==============================] - 18s 185ms/step - loss: 0.3584 - acc: 0.8535 - val_loss: 0.2805 - val_acc: 0.8820\n",
            "Epoch 27/30\n",
            "50/50 [==============================] - 4s 88ms/step - loss: 0.2758 - acc: 0.8790\n",
            "100/100 [==============================] - 18s 184ms/step - loss: 0.3451 - acc: 0.8455 - val_loss: 0.2758 - val_acc: 0.8790\n",
            "Epoch 28/30\n",
            "50/50 [==============================] - 5s 100ms/step - loss: 0.2713 - acc: 0.8870\n",
            "100/100 [==============================] - 19s 195ms/step - loss: 0.3430 - acc: 0.8540 - val_loss: 0.2713 - val_acc: 0.8870\n",
            "Epoch 29/30\n",
            "50/50 [==============================] - 4s 89ms/step - loss: 0.2741 - acc: 0.8830\n",
            "100/100 [==============================] - 19s 186ms/step - loss: 0.3502 - acc: 0.8500 - val_loss: 0.2741 - val_acc: 0.8830\n",
            "Epoch 30/30\n",
            "50/50 [==============================] - 4s 89ms/step - loss: 0.2735 - acc: 0.8850\n",
            "100/100 [==============================] - 18s 185ms/step - loss: 0.3427 - acc: 0.8465 - val_loss: 0.2735 - val_acc: 0.8850\n"
          ],
          "name": "stdout"
        }
      ]
    },
    {
      "metadata": {
        "id": "pPY-CjjIwW11",
        "colab_type": "code",
        "colab": {
          "base_uri": "https://localhost:8080/",
          "height": 545
        },
        "outputId": "a56deeda-7693-456e-b73a-c24206b13871"
      },
      "cell_type": "code",
      "source": [
        "import matplotlib.pyplot as plt\n",
        "\n",
        "acc = history.history['acc']\n",
        "val_acc = history.history['val_acc']\n",
        "\n",
        "loss = history.history['loss']\n",
        "val_loss = history.history['val_loss']\n",
        "\n",
        "epochs = range(1, len(acc) + 1)\n",
        "\n",
        "# training and validation accuracy\n",
        "\n",
        "plt.plot(epochs, acc, 'bo', label='training acc')\n",
        "plt.plot(epochs, val_acc, 'b', label='validation acc')\n",
        "plt.title('training and validation accuracy')\n",
        "plt.legend()\n",
        "\n",
        "plt.figure()\n",
        "\n",
        "# training and validation loss\n",
        "\n",
        "plt.plot(epochs, loss, 'bo', label='training loss')\n",
        "plt.plot(epochs, val_loss, 'b', label='validation loss')\n",
        "plt.title('training and validation loss')\n",
        "plt.legend()\n",
        "\n",
        "plt.show()"
      ],
      "execution_count": 199,
      "outputs": [
        {
          "output_type": "display_data",
          "data": {
            "image/png": "[encoded data removed]",
            "text/plain": [
              "<Figure size 432x288 with 1 Axes>"
            ]
          },
          "metadata": {
            "tags": []
          }
        },
        {
          "output_type": "display_data",
          "data": {
            "image/png": "[encoded data removed]",
            "text/plain": [
              "<Figure size 432x288 with 1 Axes>"
            ]
          },
          "metadata": {
            "tags": []
          }
        }
      ]
    },
    {
      "metadata": {
        "id": "h1aVoQdB8KlZ",
        "colab_type": "code",
        "colab": {}
      },
      "cell_type": "code",
      "source": [
        "val_loss, val_acc = model.evaluate_generator(validation_generator, steps=50)"
      ],
      "execution_count": 0,
      "outputs": []
    },
    {
      "metadata": {
        "id": "A5BEPqyP8N6x",
        "colab_type": "code",
        "colab": {
          "base_uri": "https://localhost:8080/",
          "height": 51
        },
        "outputId": "444b1f4e-7cd1-4b0c-9fd2-6170f754e158"
      },
      "cell_type": "code",
      "source": [
        "print(\"Validation loss:\", val_loss)\n",
        "print(\"Validation accuracy:\", val_acc)"
      ],
      "execution_count": 201,
      "outputs": [
        {
          "output_type": "stream",
          "text": [
            "Validation loss: 0.27347360908985135\n",
            "Validation accuracy: 0.885\n"
          ],
          "name": "stdout"
        }
      ]
    },
    {
      "metadata": {
        "id": "CjdINE7W8UES",
        "colab_type": "code",
        "colab": {}
      },
      "cell_type": "code",
      "source": [
        "model_fname = 'cats_and_dogs_prob1.h5' \n",
        "model.save(model_fname)"
      ],
      "execution_count": 0,
      "outputs": []
    },
    {
      "metadata": {
        "id": "kkeSp2rI8b9O",
        "colab_type": "code",
        "colab": {}
      },
      "cell_type": "code",
      "source": [
        "from google.colab import files\n",
        "\n",
        "with open(model_fname, 'r') as f:\n",
        "  files.download(model_fname)"
      ],
      "execution_count": 0,
      "outputs": []
    },
    {
      "metadata": {
        "id": "-vXw3eEtS6DL",
        "colab_type": "text"
      },
      "cell_type": "markdown",
      "source": [
        "## Problem 2\n",
        "\n",
        "Do fine-tuning with data augmentation. "
      ]
    },
    {
      "metadata": {
        "id": "KX231I2_9urA",
        "colab_type": "code",
        "colab": {
          "base_uri": "https://localhost:8080/",
          "height": 986
        },
        "outputId": "c9a84d3a-ec5c-453f-bc77-ff95dde0afc5"
      },
      "cell_type": "code",
      "source": [
        "name = 'cats_and_dogs_prob1.h5'\n",
        "path = F\"/content/{name}\"\n",
        "model2 = load_model(path)\n",
        "model2.summary()"
      ],
      "execution_count": 206,
      "outputs": [
        {
          "output_type": "stream",
          "text": [
            "_________________________________________________________________\n",
            "Layer (type)                 Output Shape              Param #   \n",
            "=================================================================\n",
            "input_4 (InputLayer)         (None, 150, 150, 3)       0         \n",
            "_________________________________________________________________\n",
            "block1_conv1 (Conv2D)        (None, 150, 150, 64)      1792      \n",
            "_________________________________________________________________\n",
            "block1_conv2 (Conv2D)        (None, 150, 150, 64)      36928     \n",
            "_________________________________________________________________\n",
            "block1_pool (MaxPooling2D)   (None, 75, 75, 64)        0         \n",
            "_________________________________________________________________\n",
            "block2_conv1 (Conv2D)        (None, 75, 75, 128)       73856     \n",
            "_________________________________________________________________\n",
            "block2_conv2 (Conv2D)        (None, 75, 75, 128)       147584    \n",
            "_________________________________________________________________\n",
            "block2_pool (MaxPooling2D)   (None, 37, 37, 128)       0         \n",
            "_________________________________________________________________\n",
            "block3_conv1 (Conv2D)        (None, 37, 37, 256)       295168    \n",
            "_________________________________________________________________\n",
            "block3_conv2 (Conv2D)        (None, 37, 37, 256)       590080    \n",
            "_________________________________________________________________\n",
            "block3_conv3 (Conv2D)        (None, 37, 37, 256)       590080    \n",
            "_________________________________________________________________\n",
            "block3_conv4 (Conv2D)        (None, 37, 37, 256)       590080    \n",
            "_________________________________________________________________\n",
            "block3_pool (MaxPooling2D)   (None, 18, 18, 256)       0         \n",
            "_________________________________________________________________\n",
            "block4_conv1 (Conv2D)        (None, 18, 18, 512)       1180160   \n",
            "_________________________________________________________________\n",
            "block4_conv2 (Conv2D)        (None, 18, 18, 512)       2359808   \n",
            "_________________________________________________________________\n",
            "block4_conv3 (Conv2D)        (None, 18, 18, 512)       2359808   \n",
            "_________________________________________________________________\n",
            "block4_conv4 (Conv2D)        (None, 18, 18, 512)       2359808   \n",
            "_________________________________________________________________\n",
            "block4_pool (MaxPooling2D)   (None, 9, 9, 512)         0         \n",
            "_________________________________________________________________\n",
            "block5_conv1 (Conv2D)        (None, 9, 9, 512)         2359808   \n",
            "_________________________________________________________________\n",
            "block5_conv2 (Conv2D)        (None, 9, 9, 512)         2359808   \n",
            "_________________________________________________________________\n",
            "block5_conv3 (Conv2D)        (None, 9, 9, 512)         2359808   \n",
            "_________________________________________________________________\n",
            "block5_conv4 (Conv2D)        (None, 9, 9, 512)         2359808   \n",
            "_________________________________________________________________\n",
            "block5_pool (MaxPooling2D)   (None, 4, 4, 512)         0         \n",
            "_________________________________________________________________\n",
            "flatten_3 (Flatten)          (None, 8192)              0         \n",
            "_________________________________________________________________\n",
            "dense_6 (Dense)              (None, 256)               2097408   \n",
            "_________________________________________________________________\n",
            "dense_7 (Dense)              (None, 1)                 257       \n",
            "=================================================================\n",
            "Total params: 22,122,049\n",
            "Trainable params: 2,097,665\n",
            "Non-trainable params: 20,024,384\n",
            "_________________________________________________________________\n"
          ],
          "name": "stdout"
        }
      ]
    },
    {
      "metadata": {
        "id": "5LNsAzF0C8zo",
        "colab_type": "code",
        "colab": {
          "base_uri": "https://localhost:8080/",
          "height": 1581
        },
        "outputId": "c99f7584-9ff4-4666-e2ef-7625c970afe8"
      },
      "cell_type": "code",
      "source": [
        "#Out of 22 layers in vgg19, I want to unfreeze the last four.\n",
        "training_layer_idx=18\n",
        "for idx,layer in enumerate(model2.layers):\n",
        "    layer.trainable = idx >= training_layer_idx\n",
        "\n",
        "# data augmentation\n",
        "\n",
        "train_datagen = ImageDataGenerator(\n",
        "    rescale=1./255, \n",
        "    rotation_range=40,\n",
        "    width_shift_range=0.2,\n",
        "    height_shift_range=0.2,\n",
        "    shear_range=0.2,\n",
        "    zoom_range=0.2,\n",
        "    horizontal_flip=True,\n",
        "    fill_mode='nearest'\n",
        ")\n",
        "\n",
        "train_generator = train_datagen.flow_from_directory(\n",
        "    train_dir,\n",
        "    target_size=(150, 150),\n",
        "    batch_size=20,\n",
        "    class_mode='binary')\n",
        "\n",
        "validation_datagen = ImageDataGenerator(rescale=1./255)\n",
        "\n",
        "validation_generator = validation_datagen.flow_from_directory(\n",
        "    validation_dir,\n",
        "    target_size=(150, 150),\n",
        "    batch_size=20,\n",
        "    class_mode='binary')\n",
        "\n",
        "# compile model\n",
        "\n",
        "model2.compile(\n",
        "    loss='binary_crossentropy', \n",
        "    optimizer=optimizers.RMSprop(lr=1e-5), \n",
        "    metrics=['acc'])\n",
        "\n",
        "# train\n",
        "\n",
        "history = model2.fit_generator(\n",
        "    train_generator,\n",
        "    steps_per_epoch=100,\n",
        "    epochs=30,\n",
        "    validation_data=validation_generator,\n",
        "    validation_steps=50\n",
        ")"
      ],
      "execution_count": 211,
      "outputs": [
        {
          "output_type": "stream",
          "text": [
            "Found 2000 images belonging to 2 classes.\n",
            "Found 1000 images belonging to 2 classes.\n",
            "Epoch 1/30\n",
            "50/50 [==============================] - 4s 89ms/step - loss: 0.2630 - acc: 0.8940\n",
            "100/100 [==============================] - 19s 194ms/step - loss: 0.3471 - acc: 0.8445 - val_loss: 0.2630 - val_acc: 0.8940\n",
            "Epoch 2/30\n",
            "50/50 [==============================] - 5s 93ms/step - loss: 0.2469 - acc: 0.8990\n",
            "100/100 [==============================] - 20s 202ms/step - loss: 0.3257 - acc: 0.8620 - val_loss: 0.2469 - val_acc: 0.8990\n",
            "Epoch 3/30\n",
            "50/50 [==============================] - 4s 87ms/step - loss: 0.2732 - acc: 0.8930\n",
            "100/100 [==============================] - 19s 188ms/step - loss: 0.2883 - acc: 0.8750 - val_loss: 0.2732 - val_acc: 0.8930\n",
            "Epoch 4/30\n",
            "50/50 [==============================] - 4s 87ms/step - loss: 0.2189 - acc: 0.9090\n",
            "100/100 [==============================] - 19s 189ms/step - loss: 0.2719 - acc: 0.8775 - val_loss: 0.2189 - val_acc: 0.9090\n",
            "Epoch 5/30\n",
            "50/50 [==============================] - 4s 87ms/step - loss: 0.2194 - acc: 0.9000\n",
            "100/100 [==============================] - 19s 189ms/step - loss: 0.2483 - acc: 0.8930 - val_loss: 0.2194 - val_acc: 0.9000\n",
            "Epoch 6/30\n",
            "50/50 [==============================] - 5s 100ms/step - loss: 0.2093 - acc: 0.9160\n",
            "100/100 [==============================] - 20s 200ms/step - loss: 0.2335 - acc: 0.8955 - val_loss: 0.2093 - val_acc: 0.9160\n",
            "Epoch 7/30\n",
            "50/50 [==============================] - 4s 88ms/step - loss: 0.2454 - acc: 0.9020\n",
            "100/100 [==============================] - 19s 191ms/step - loss: 0.2436 - acc: 0.9060 - val_loss: 0.2454 - val_acc: 0.9020\n",
            "Epoch 8/30\n",
            "50/50 [==============================] - 4s 88ms/step - loss: 0.2478 - acc: 0.9070\n",
            "100/100 [==============================] - 19s 189ms/step - loss: 0.2209 - acc: 0.9075 - val_loss: 0.2478 - val_acc: 0.9070\n",
            "Epoch 9/30\n",
            "50/50 [==============================] - 4s 88ms/step - loss: 0.2559 - acc: 0.9030\n",
            "100/100 [==============================] - 19s 189ms/step - loss: 0.2044 - acc: 0.9210 - val_loss: 0.2559 - val_acc: 0.9030\n",
            "Epoch 10/30\n",
            "50/50 [==============================] - 5s 99ms/step - loss: 0.1997 - acc: 0.9130\n",
            "100/100 [==============================] - 20s 196ms/step - loss: 0.2032 - acc: 0.9190 - val_loss: 0.1997 - val_acc: 0.9130\n",
            "Epoch 11/30\n",
            "50/50 [==============================] - 4s 88ms/step - loss: 0.2145 - acc: 0.9200\n",
            "100/100 [==============================] - 19s 195ms/step - loss: 0.1915 - acc: 0.9285 - val_loss: 0.2145 - val_acc: 0.9200\n",
            "Epoch 12/30\n",
            "50/50 [==============================] - 5s 92ms/step - loss: 0.2846 - acc: 0.9040\n",
            "100/100 [==============================] - 20s 196ms/step - loss: 0.1843 - acc: 0.9250 - val_loss: 0.2846 - val_acc: 0.9040\n",
            "Epoch 13/30\n",
            "50/50 [==============================] - 4s 89ms/step - loss: 0.2212 - acc: 0.9210\n",
            "100/100 [==============================] - 19s 190ms/step - loss: 0.1791 - acc: 0.9250 - val_loss: 0.2212 - val_acc: 0.9210\n",
            "Epoch 14/30\n",
            "50/50 [==============================] - 5s 101ms/step - loss: 0.1954 - acc: 0.9250\n",
            "100/100 [==============================] - 20s 198ms/step - loss: 0.1756 - acc: 0.9330 - val_loss: 0.1954 - val_acc: 0.9250\n",
            "Epoch 15/30\n",
            "50/50 [==============================] - 4s 88ms/step - loss: 0.2320 - acc: 0.9170\n",
            "100/100 [==============================] - 20s 199ms/step - loss: 0.1656 - acc: 0.9310 - val_loss: 0.2320 - val_acc: 0.9170\n",
            "Epoch 16/30\n",
            "50/50 [==============================] - 4s 88ms/step - loss: 0.1988 - acc: 0.9290\n",
            "100/100 [==============================] - 19s 189ms/step - loss: 0.1519 - acc: 0.9375 - val_loss: 0.1988 - val_acc: 0.9290\n",
            "Epoch 17/30\n",
            "50/50 [==============================] - 4s 88ms/step - loss: 0.1989 - acc: 0.9240\n",
            "100/100 [==============================] - 19s 190ms/step - loss: 0.1573 - acc: 0.9405 - val_loss: 0.1989 - val_acc: 0.9240\n",
            "Epoch 18/30\n",
            "50/50 [==============================] - 4s 88ms/step - loss: 0.2019 - acc: 0.9210\n",
            "100/100 [==============================] - 19s 189ms/step - loss: 0.1380 - acc: 0.9455 - val_loss: 0.2019 - val_acc: 0.9210\n",
            "Epoch 19/30\n",
            "50/50 [==============================] - 4s 88ms/step - loss: 0.1793 - acc: 0.9320\n",
            "100/100 [==============================] - 20s 202ms/step - loss: 0.1350 - acc: 0.9460 - val_loss: 0.1793 - val_acc: 0.9320\n",
            "Epoch 20/30\n",
            "50/50 [==============================] - 4s 88ms/step - loss: 0.2653 - acc: 0.9100\n",
            "100/100 [==============================] - 19s 190ms/step - loss: 0.1343 - acc: 0.9455 - val_loss: 0.2653 - val_acc: 0.9100\n",
            "Epoch 21/30\n",
            "50/50 [==============================] - 4s 88ms/step - loss: 0.2142 - acc: 0.9250\n",
            "100/100 [==============================] - 19s 189ms/step - loss: 0.1309 - acc: 0.9450 - val_loss: 0.2142 - val_acc: 0.9250\n",
            "Epoch 22/30\n",
            "50/50 [==============================] - 4s 88ms/step - loss: 0.1788 - acc: 0.9380\n",
            "100/100 [==============================] - 19s 190ms/step - loss: 0.1225 - acc: 0.9500 - val_loss: 0.1788 - val_acc: 0.9380\n",
            "Epoch 23/30\n",
            "50/50 [==============================] - 5s 100ms/step - loss: 0.2082 - acc: 0.9310\n",
            "100/100 [==============================] - 21s 211ms/step - loss: 0.1217 - acc: 0.9580 - val_loss: 0.2082 - val_acc: 0.9310\n",
            "Epoch 24/30\n",
            "50/50 [==============================] - 5s 100ms/step - loss: 0.1844 - acc: 0.9430\n",
            "100/100 [==============================] - 22s 217ms/step - loss: 0.1223 - acc: 0.9480 - val_loss: 0.1844 - val_acc: 0.9430\n",
            "Epoch 25/30\n",
            "50/50 [==============================] - 5s 99ms/step - loss: 0.2923 - acc: 0.9050\n",
            "100/100 [==============================] - 22s 216ms/step - loss: 0.1096 - acc: 0.9620 - val_loss: 0.2923 - val_acc: 0.9050\n",
            "Epoch 26/30\n",
            "50/50 [==============================] - 5s 100ms/step - loss: 0.1778 - acc: 0.9380\n",
            "100/100 [==============================] - 22s 217ms/step - loss: 0.1181 - acc: 0.9545 - val_loss: 0.1778 - val_acc: 0.9380\n",
            "Epoch 27/30\n",
            "50/50 [==============================] - 5s 101ms/step - loss: 0.2137 - acc: 0.9250\n",
            "100/100 [==============================] - 22s 218ms/step - loss: 0.0953 - acc: 0.9620 - val_loss: 0.2137 - val_acc: 0.9250\n",
            "Epoch 28/30\n",
            "50/50 [==============================] - 5s 99ms/step - loss: 0.2332 - acc: 0.9170\n",
            "100/100 [==============================] - 22s 216ms/step - loss: 0.1123 - acc: 0.9520 - val_loss: 0.2332 - val_acc: 0.9170\n",
            "Epoch 29/30\n",
            "50/50 [==============================] - 5s 100ms/step - loss: 0.2373 - acc: 0.9220\n",
            "100/100 [==============================] - 22s 216ms/step - loss: 0.0979 - acc: 0.9660 - val_loss: 0.2373 - val_acc: 0.9220\n",
            "Epoch 30/30\n",
            "50/50 [==============================] - 5s 100ms/step - loss: 0.3495 - acc: 0.9030\n",
            "100/100 [==============================] - 22s 218ms/step - loss: 0.1043 - acc: 0.9580 - val_loss: 0.3495 - val_acc: 0.9030\n"
          ],
          "name": "stdout"
        }
      ]
    },
    {
      "metadata": {
        "id": "ZyfYL6csN37L",
        "colab_type": "code",
        "colab": {
          "base_uri": "https://localhost:8080/",
          "height": 545
        },
        "outputId": "11715bb0-7c37-492d-ae3d-0c403bea2001"
      },
      "cell_type": "code",
      "source": [
        "import matplotlib.pyplot as plt\n",
        "\n",
        "acc = history.history['acc']\n",
        "val_acc = history.history['val_acc']\n",
        "\n",
        "loss = history.history['loss']\n",
        "val_loss = history.history['val_loss']\n",
        "\n",
        "epochs = range(1, len(acc) + 1)\n",
        "\n",
        "# training and validation accuracy\n",
        "\n",
        "plt.plot(epochs, acc, 'bo', label='training acc')\n",
        "plt.plot(epochs, val_acc, 'b', label='validation acc')\n",
        "plt.title('training and validation accuracy')\n",
        "plt.legend()\n",
        "\n",
        "plt.figure()\n",
        "\n",
        "# training and validation loss\n",
        "\n",
        "plt.plot(epochs, loss, 'bo', label='training loss')\n",
        "plt.plot(epochs, val_loss, 'b', label='validation loss')\n",
        "plt.title('training and validation loss')\n",
        "plt.legend()\n",
        "\n",
        "plt.show()"
      ],
      "execution_count": 213,
      "outputs": [
        {
          "output_type": "display_data",
          "data": {
            "image/png": "[encoded data removed]",
            "text/plain": [
              "<Figure size 432x288 with 1 Axes>"
            ]
          },
          "metadata": {
            "tags": []
          }
        },
        {
          "output_type": "display_data",
          "data": {
            "image/png": "[encoded data removed]",
            "text/plain": [
              "<Figure size 432x288 with 1 Axes>"
            ]
          },
          "metadata": {
            "tags": []
          }
        }
      ]
    },
    {
      "metadata": {
        "id": "-zNXKlzdgM0e",
        "colab_type": "code",
        "colab": {
          "base_uri": "https://localhost:8080/",
          "height": 51
        },
        "outputId": "8a43562a-069e-4658-b640-74d11f340b95"
      },
      "cell_type": "code",
      "source": [
        "val_loss, val_acc = model2.evaluate_generator(validation_generator, steps=50)\n",
        "print(\"Validation loss:\", val_loss)\n",
        "print(\"Validation accuracy:\", val_acc)"
      ],
      "execution_count": 214,
      "outputs": [
        {
          "output_type": "stream",
          "text": [
            "Validation loss: 0.34946351204067466\n",
            "Validation accuracy: 0.903\n"
          ],
          "name": "stdout"
        }
      ]
    },
    {
      "metadata": {
        "id": "pTRclKlugbti",
        "colab_type": "code",
        "colab": {}
      },
      "cell_type": "code",
      "source": [
        "model_fname = 'cats_and_dogs_prob2.h5' \n",
        "model2.save(model_fname)"
      ],
      "execution_count": 0,
      "outputs": []
    },
    {
      "metadata": {
        "id": "r_P-O6TtdaM4",
        "colab_type": "code",
        "colab": {}
      },
      "cell_type": "code",
      "source": [
        "from google.colab import files\n",
        "with open(model_fname, 'r') as f:\n",
        "  files.download(model_fname)"
      ],
      "execution_count": 0,
      "outputs": []
    },
    {
      "metadata": {
        "id": "H4BX1BmYS6RC",
        "colab_type": "text"
      },
      "cell_type": "markdown",
      "source": [
        "## Problem 3\n",
        "\n",
        "Visualize heatmaps of class activation for the the model obtained in Problem 2.\n"
      ]
    },
    {
      "metadata": {
        "id": "OHtG1bQ2i8Vx",
        "colab_type": "code",
        "colab": {}
      },
      "cell_type": "code",
      "source": [
        "import os\n",
        "import cv2\n",
        "from google.colab.patches import cv2_imshow\n",
        "%matplotlib inline\n",
        "from matplotlib import pyplot as plt\n",
        "import numpy as np\n",
        "#from keras import backend as K\n",
        "from tensorflow.keras import backend as K\n",
        "from tensorflow.keras.preprocessing import image\n",
        "from tensorflow.keras.applications.vgg19 import preprocess_input\n",
        "from tensorflow.keras import layers\n",
        "from tensorflow.keras import models\n",
        "from tensorflow.keras import optimizers"
      ],
      "execution_count": 0,
      "outputs": []
    },
    {
      "metadata": {
        "id": "hd1c1ygr4_Lr",
        "colab_type": "code",
        "colab": {}
      },
      "cell_type": "code",
      "source": [
        "#from tensorflow.keras.models import load_model\n",
        "name = 'cats_and_dogs_prob2.h5'\n",
        "path = F\"/content/{name}\"\n",
        "model3 = load_model(path)"
      ],
      "execution_count": 0,
      "outputs": []
    },
    {
      "metadata": {
        "id": "BGymWk8oKHgO",
        "colab_type": "code",
        "colab": {
          "base_uri": "https://localhost:8080/",
          "height": 986
        },
        "outputId": "8230d066-45b6-41ce-ad72-9e4fc3bc3682"
      },
      "cell_type": "code",
      "source": [
        "model3.summary()"
      ],
      "execution_count": 223,
      "outputs": [
        {
          "output_type": "stream",
          "text": [
            "_________________________________________________________________\n",
            "Layer (type)                 Output Shape              Param #   \n",
            "=================================================================\n",
            "input_4 (InputLayer)         (None, 150, 150, 3)       0         \n",
            "_________________________________________________________________\n",
            "block1_conv1 (Conv2D)        (None, 150, 150, 64)      1792      \n",
            "_________________________________________________________________\n",
            "block1_conv2 (Conv2D)        (None, 150, 150, 64)      36928     \n",
            "_________________________________________________________________\n",
            "block1_pool (MaxPooling2D)   (None, 75, 75, 64)        0         \n",
            "_________________________________________________________________\n",
            "block2_conv1 (Conv2D)        (None, 75, 75, 128)       73856     \n",
            "_________________________________________________________________\n",
            "block2_conv2 (Conv2D)        (None, 75, 75, 128)       147584    \n",
            "_________________________________________________________________\n",
            "block2_pool (MaxPooling2D)   (None, 37, 37, 128)       0         \n",
            "_________________________________________________________________\n",
            "block3_conv1 (Conv2D)        (None, 37, 37, 256)       295168    \n",
            "_________________________________________________________________\n",
            "block3_conv2 (Conv2D)        (None, 37, 37, 256)       590080    \n",
            "_________________________________________________________________\n",
            "block3_conv3 (Conv2D)        (None, 37, 37, 256)       590080    \n",
            "_________________________________________________________________\n",
            "block3_conv4 (Conv2D)        (None, 37, 37, 256)       590080    \n",
            "_________________________________________________________________\n",
            "block3_pool (MaxPooling2D)   (None, 18, 18, 256)       0         \n",
            "_________________________________________________________________\n",
            "block4_conv1 (Conv2D)        (None, 18, 18, 512)       1180160   \n",
            "_________________________________________________________________\n",
            "block4_conv2 (Conv2D)        (None, 18, 18, 512)       2359808   \n",
            "_________________________________________________________________\n",
            "block4_conv3 (Conv2D)        (None, 18, 18, 512)       2359808   \n",
            "_________________________________________________________________\n",
            "block4_conv4 (Conv2D)        (None, 18, 18, 512)       2359808   \n",
            "_________________________________________________________________\n",
            "block4_pool (MaxPooling2D)   (None, 9, 9, 512)         0         \n",
            "_________________________________________________________________\n",
            "block5_conv1 (Conv2D)        (None, 9, 9, 512)         2359808   \n",
            "_________________________________________________________________\n",
            "block5_conv2 (Conv2D)        (None, 9, 9, 512)         2359808   \n",
            "_________________________________________________________________\n",
            "block5_conv3 (Conv2D)        (None, 9, 9, 512)         2359808   \n",
            "_________________________________________________________________\n",
            "block5_conv4 (Conv2D)        (None, 9, 9, 512)         2359808   \n",
            "_________________________________________________________________\n",
            "block5_pool (MaxPooling2D)   (None, 4, 4, 512)         0         \n",
            "_________________________________________________________________\n",
            "flatten_3 (Flatten)          (None, 8192)              0         \n",
            "_________________________________________________________________\n",
            "dense_6 (Dense)              (None, 256)               2097408   \n",
            "_________________________________________________________________\n",
            "dense_7 (Dense)              (None, 1)                 257       \n",
            "=================================================================\n",
            "Total params: 22,122,049\n",
            "Trainable params: 9,177,089\n",
            "Non-trainable params: 12,944,960\n",
            "_________________________________________________________________\n"
          ],
          "name": "stdout"
        }
      ]
    },
    {
      "metadata": {
        "id": "Tp4FySHjigDD",
        "colab_type": "code",
        "colab": {
          "base_uri": "https://localhost:8080/",
          "height": 34
        },
        "outputId": "e3204de7-68d7-4749-9478-456a4101d710"
      },
      "cell_type": "code",
      "source": [
        "# getting 30 random images from validation set for \n",
        "validation_datagen = ImageDataGenerator(rescale=1./255)\n",
        "validation_generator = validation_datagen.flow_from_directory(\n",
        "    validation_dir,\n",
        "    target_size=(150, 150),\n",
        "    batch_size=30,\n",
        "    class_mode='binary')\n",
        "val_images, val_labels = next(validation_generator)"
      ],
      "execution_count": 228,
      "outputs": [
        {
          "output_type": "stream",
          "text": [
            "Found 1000 images belonging to 2 classes.\n"
          ],
          "name": "stdout"
        }
      ]
    },
    {
      "metadata": {
        "id": "1MuXmr7kNB_v",
        "colab_type": "code",
        "colab": {
          "base_uri": "https://localhost:8080/",
          "height": 34
        },
        "outputId": "4edce646-9373-419e-947d-c3df1f46347b"
      },
      "cell_type": "code",
      "source": [
        "last_conv_layer = model3.get_layer('block5_conv4')\n",
        "last_conv_layer"
      ],
      "execution_count": 229,
      "outputs": [
        {
          "output_type": "execute_result",
          "data": {
            "text/plain": [
              "<tensorflow.python.keras.layers.convolutional.Conv2D at 0x7f030efa63c8>"
            ]
          },
          "metadata": {
            "tags": []
          },
          "execution_count": 229
        }
      ]
    },
    {
      "metadata": {
        "id": "yeEAow4Ml2d4",
        "colab_type": "code",
        "colab": {}
      },
      "cell_type": "code",
      "source": [
        "def process_image(image_path):\n",
        "    x = np.expand_dims(image_path, axis=0)\n",
        "    \n",
        "    grads = K.gradients(model3.output[0], last_conv_layer.output)[0]\n",
        "    pooled_grads = K.mean(grads, axis=(0, 1, 2))\n",
        "    iterate = K.function([model3.input], [pooled_grads, last_conv_layer.output[0], model3.output[0]])\n",
        "    \n",
        "    pooled_grads_value, conv_layer_output_value, preds = iterate([x])\n",
        "    \n",
        "    if preds[0] < 1.0:\n",
        "      if preds[0] < 0.5:\n",
        "          conv_layer_output_value = 1-conv_layer_output_value \n",
        "      for i in range(512):\n",
        "          conv_layer_output_value[:, :, i] *= (pooled_grads_value[i])\n",
        "\n",
        "    heatmap = np.mean(conv_layer_output_value, axis=-1)\n",
        "    heatmap = np.maximum(heatmap, 0)\n",
        "    heatmap = (heatmap - heatmap.min())/(heatmap.max()-heatmap.min())\n",
        "    \n",
        "    heatmap_adj = cv2.resize(1-heatmap, (image_path.shape[1], image_path.shape[0]))\n",
        "    heatmap_adj = np.uint8(255 * heatmap_adj)\n",
        "    heatmap_adj = cv2.applyColorMap(heatmap_adj, cv2.COLORMAP_JET)\n",
        "    \n",
        "    superimposed = np.uint8(heatmap_adj * 0.4 + np.uint8(255 * image_path) * 0.6)\n",
        "    \n",
        "    return superimposed, preds[0],heatmap_adj"
      ],
      "execution_count": 0,
      "outputs": []
    },
    {
      "metadata": {
        "id": "LM8Lese9i-B9",
        "colab_type": "code",
        "colab": {
          "base_uri": "https://localhost:8080/",
          "height": 34
        },
        "outputId": "8bbc5d8f-8883-4b8e-d7ce-dd331014d5af"
      },
      "cell_type": "code",
      "source": [
        "sample=val_images[1,:]\n",
        "sample.ndim"
      ],
      "execution_count": 230,
      "outputs": [
        {
          "output_type": "execute_result",
          "data": {
            "text/plain": [
              "3"
            ]
          },
          "metadata": {
            "tags": []
          },
          "execution_count": 230
        }
      ]
    },
    {
      "metadata": {
        "id": "aG0nWf0ljfmi",
        "colab_type": "code",
        "colab": {
          "base_uri": "https://localhost:8080/",
          "height": 269
        },
        "outputId": "57e7afb7-8b6c-4135-e65e-b3f0831af99a"
      },
      "cell_type": "code",
      "source": [
        "\n",
        "#f=np.expand_dims(f, axis=0)\n",
        "superimposed_img, pred, heatmap = process_image(sample)\n",
        "plt.imshow(superimposed_img)\n",
        "plt.grid(None)\n",
        "plt.show()"
      ],
      "execution_count": 176,
      "outputs": [
        {
          "output_type": "display_data",
          "data": {
            "image/png": "[encoded data removed]",
            "text/plain": [
              "<Figure size 432x288 with 1 Axes>"
            ]
          },
          "metadata": {
            "tags": []
          }
        }
      ]
    },
    {
      "metadata": {
        "id": "wZWSm1HKS6dc",
        "colab_type": "text"
      },
      "cell_type": "markdown",
      "source": [
        "## Problem 4\n",
        "\n",
        "Build an activation model that takes as input an image and produces as output the activation of the last conv layer of the model obtained in Problem 2. Using this activation model obtain the corresponding activations for the validation images. Apply t-SNE visualization to these activations to see how well the convnet separates cats from dogs."
      ]
    },
    {
      "metadata": {
        "id": "2v5ZtmHOSZCF",
        "colab_type": "code",
        "colab": {}
      },
      "cell_type": "code",
      "source": [
        ""
      ],
      "execution_count": 0,
      "outputs": []
    }
  ]
}