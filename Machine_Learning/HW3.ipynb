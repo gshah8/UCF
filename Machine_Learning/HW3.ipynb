{
  "nbformat": 4,
  "nbformat_minor": 0,
  "metadata": {
    "colab": {
      "name": "HW3.ipynb",
      "version": "0.3.2",
      "provenance": [],
      "collapsed_sections": [],
      "include_colab_link": true
    },
    "kernelspec": {
      "name": "python3",
      "display_name": "Python 3"
    },
    "accelerator": "GPU"
  },
  "cells": [
    {
      "cell_type": "markdown",
      "metadata": {
        "id": "view-in-github",
        "colab_type": "text"
      },
      "source": [
        "<a href=\"https://colab.research.google.com/github/gshah8/UCF/blob/master/Machine_Learning/HW3.ipynb\" target=\"_parent\"><img src=\"https://colab.research.google.com/assets/colab-badge.svg\" alt=\"Open In Colab\"/></a>"
      ]
    },
    {
      "metadata": {
        "id": "IOCUFpgzSX9E",
        "colab_type": "text"
      },
      "cell_type": "markdown",
      "source": [
        "# HW 3\n",
        "\n",
        "The goal of this homework is to learn how to leverage pretrained convnets and to use some visualization techniques.\n",
        "You will work with the data set *cats vs dogs* and use the pretrained convnet VGG19.\n",
        "\n",
        "Experiment with different classifiers, trying to maximize the validation accuracy. You only need to show one classifier.\n",
        "\n",
        "---\n",
        "\n",
        "\n",
        "\n",
        "\n",
        "\n",
        "\n",
        "\n"
      ]
    },
    {
      "metadata": {
        "id": "UNKyKTKQrcft",
        "colab_type": "text"
      },
      "cell_type": "markdown",
      "source": [
        "##Download the data"
      ]
    },
    {
      "metadata": {
        "id": "5Ja05m5_rmad",
        "colab_type": "code",
        "outputId": "65ebacaa-4a81-4dbf-9322-c639ab80ed75",
        "colab": {
          "base_uri": "https://localhost:8080/",
          "height": 204
        }
      },
      "cell_type": "code",
      "source": [
        "!wget --no-check-certificate \\\n",
        "    https://storage.googleapis.com/mledu-datasets/cats_and_dogs_filtered.zip \\\n",
        "    -O /tmp/cats_and_dogs_filtered.zip"
      ],
      "execution_count": 1,
      "outputs": [
        {
          "output_type": "stream",
          "text": [
            "--2019-04-16 19:56:48--  https://storage.googleapis.com/mledu-datasets/cats_and_dogs_filtered.zip\n",
            "Resolving storage.googleapis.com (storage.googleapis.com)... 74.125.141.128, 2607:f8b0:400c:c06::80\n",
            "Connecting to storage.googleapis.com (storage.googleapis.com)|74.125.141.128|:443... connected.\n",
            "HTTP request sent, awaiting response... 200 OK\n",
            "Length: 68606236 (65M) [application/zip]\n",
            "Saving to: ‘/tmp/cats_and_dogs_filtered.zip’\n",
            "\n",
            "\r          /tmp/cats   0%[                    ]       0  --.-KB/s               \r         /tmp/cats_  57%[==========>         ]  37.36M   187MB/s               \r/tmp/cats_and_dogs_ 100%[===================>]  65.43M   232MB/s    in 0.3s    \n",
            "\n",
            "2019-04-16 19:56:48 (232 MB/s) - ‘/tmp/cats_and_dogs_filtered.zip’ saved [68606236/68606236]\n",
            "\n"
          ],
          "name": "stdout"
        }
      ]
    },
    {
      "metadata": {
        "id": "SnVT7SRRrsMm",
        "colab_type": "code",
        "colab": {}
      },
      "cell_type": "code",
      "source": [
        "import os\n",
        "import zipfile\n",
        "\n",
        "local_zip = '/tmp/cats_and_dogs_filtered.zip'\n",
        "zip_ref = zipfile.ZipFile(local_zip, 'r')\n",
        "zip_ref.extractall('/tmp')\n",
        "zip_ref.close()"
      ],
      "execution_count": 0,
      "outputs": []
    },
    {
      "metadata": {
        "id": "1ihtWwyLtnMI",
        "colab_type": "code",
        "colab": {}
      },
      "cell_type": "code",
      "source": [
        "base_dir = '/tmp/cats_and_dogs_filtered'\n",
        "train_dir = os.path.join(base_dir, 'train')\n",
        "validation_dir = os.path.join(base_dir, 'validation')\n",
        "\n",
        "# Directory with our training cat pictures\n",
        "train_cats_dir = os.path.join(train_dir, 'cats')\n",
        "\n",
        "# Directory with our training dog pictures\n",
        "train_dogs_dir = os.path.join(train_dir, 'dogs')\n",
        "\n",
        "# Directory with our validation cat pictures\n",
        "validation_cats_dir = os.path.join(validation_dir, 'cats')\n",
        "\n",
        "# Directory with our validation dog pictures\n",
        "validation_dogs_dir = os.path.join(validation_dir, 'dogs')"
      ],
      "execution_count": 0,
      "outputs": []
    },
    {
      "metadata": {
        "id": "9sSG0XTOvfL0",
        "colab_type": "text"
      },
      "cell_type": "markdown",
      "source": [
        "##Load the convolutional base"
      ]
    },
    {
      "metadata": {
        "id": "ZSpcJo6Dvisb",
        "colab_type": "code",
        "colab": {
          "base_uri": "https://localhost:8080/",
          "height": 51
        },
        "outputId": "e69b2f5b-2643-4563-f62e-d4f4082db7ad"
      },
      "cell_type": "code",
      "source": [
        "from keras.applications import VGG19\n",
        "\n",
        "conv_base = VGG19(\n",
        "    weights='imagenet', \n",
        "    include_top=False, \n",
        "    input_shape=(150, 150, 3))"
      ],
      "execution_count": 5,
      "outputs": [
        {
          "output_type": "stream",
          "text": [
            "Downloading data from https://github.com/fchollet/deep-learning-models/releases/download/v0.1/vgg19_weights_tf_dim_ordering_tf_kernels_notop.h5\n",
            "80142336/80134624 [==============================] - 1s 0us/step\n"
          ],
          "name": "stdout"
        }
      ]
    },
    {
      "metadata": {
        "id": "m43nvNBaS2Vk",
        "colab_type": "text"
      },
      "cell_type": "markdown",
      "source": [
        "## Problem 1\n",
        "\n",
        "Do feature extraction with data augmentation."
      ]
    },
    {
      "metadata": {
        "id": "FEtiCScJwBK0",
        "colab_type": "text"
      },
      "cell_type": "markdown",
      "source": [
        "We need to freeze the convolutional base for Problem 1"
      ]
    },
    {
      "metadata": {
        "id": "c3q-wHgITGfM",
        "colab_type": "code",
        "colab": {}
      },
      "cell_type": "code",
      "source": [
        "conv_base.trainable = False"
      ],
      "execution_count": 0,
      "outputs": []
    },
    {
      "metadata": {
        "id": "ecVnEjWEwSPH",
        "colab_type": "code",
        "colab": {
          "base_uri": "https://localhost:8080/",
          "height": 272
        },
        "outputId": "26ecac68-4405-484c-9d6d-1f3ec2e74365"
      },
      "cell_type": "code",
      "source": [
        "from keras import layers\n",
        "from keras import models\n",
        "from keras import optimizers\n",
        "\n",
        "model = models.Sequential()\n",
        "model.add(conv_base)\n",
        "model.add(layers.Flatten())\n",
        "model.add(layers.Dense(256, activation='relu'))\n",
        "# no dropout\n",
        "model.add(layers.Dense(1, activation='sigmoid'))\n",
        "model.summary()"
      ],
      "execution_count": 13,
      "outputs": [
        {
          "output_type": "stream",
          "text": [
            "_________________________________________________________________\n",
            "Layer (type)                 Output Shape              Param #   \n",
            "=================================================================\n",
            "vgg19 (Model)                (None, 4, 4, 512)         20024384  \n",
            "_________________________________________________________________\n",
            "flatten_3 (Flatten)          (None, 8192)              0         \n",
            "_________________________________________________________________\n",
            "dense_5 (Dense)              (None, 256)               2097408   \n",
            "_________________________________________________________________\n",
            "dense_6 (Dense)              (None, 1)                 257       \n",
            "=================================================================\n",
            "Total params: 22,122,049\n",
            "Trainable params: 2,097,665\n",
            "Non-trainable params: 20,024,384\n",
            "_________________________________________________________________\n"
          ],
          "name": "stdout"
        }
      ]
    },
    {
      "metadata": {
        "id": "_Qxrq5vhwkwl",
        "colab_type": "code",
        "colab": {
          "base_uri": "https://localhost:8080/",
          "height": 3451
        },
        "outputId": "65fbe3df-af22-49b9-ab72-5fe93f399d0d"
      },
      "cell_type": "code",
      "source": [
        "from keras.preprocessing.image import ImageDataGenerator\n",
        "from keras import optimizers\n",
        "\n",
        "# data augmentation\n",
        "\n",
        "train_datagen = ImageDataGenerator(\n",
        "    rescale=1./255, \n",
        "    rotation_range=40,\n",
        "    width_shift_range=0.2,\n",
        "    height_shift_range=0.2,\n",
        "    shear_range=0.2,\n",
        "    zoom_range=0.2,\n",
        "    horizontal_flip=True,\n",
        "    fill_mode='nearest'\n",
        ")\n",
        "\n",
        "train_generator = train_datagen.flow_from_directory(\n",
        "    train_dir,\n",
        "    target_size=(150, 150),\n",
        "    batch_size=20,\n",
        "    class_mode='binary')\n",
        "\n",
        "validation_datagen = ImageDataGenerator(rescale=1./255)\n",
        "\n",
        "validation_generator = validation_datagen.flow_from_directory(\n",
        "    validation_dir,\n",
        "    target_size=(150, 150),\n",
        "    batch_size=20,\n",
        "    class_mode='binary')\n",
        "\n",
        "# compile model\n",
        "\n",
        "model.compile(\n",
        "    loss='binary_crossentropy', \n",
        "    optimizer=optimizers.RMSprop(lr=1e-5), \n",
        "    metrics=['acc'])\n",
        "\n",
        "# train\n",
        "\n",
        "history = model.fit_generator(\n",
        "    train_generator,\n",
        "    steps_per_epoch=100,\n",
        "    epochs=100,\n",
        "    validation_data=validation_generator,\n",
        "    validation_steps=50\n",
        ")"
      ],
      "execution_count": 14,
      "outputs": [
        {
          "output_type": "stream",
          "text": [
            "Found 2000 images belonging to 2 classes.\n",
            "Found 1000 images belonging to 2 classes.\n",
            "Epoch 1/100\n",
            "100/100 [==============================] - 20s 196ms/step - loss: 0.6504 - acc: 0.6340 - val_loss: 0.5745 - val_acc: 0.7160\n",
            "Epoch 2/100\n",
            "100/100 [==============================] - 19s 190ms/step - loss: 0.5821 - acc: 0.7035 - val_loss: 0.4983 - val_acc: 0.7890\n",
            "Epoch 3/100\n",
            "100/100 [==============================] - 18s 182ms/step - loss: 0.5399 - acc: 0.7440 - val_loss: 0.4636 - val_acc: 0.7730\n",
            "Epoch 4/100\n",
            "100/100 [==============================] - 18s 179ms/step - loss: 0.5033 - acc: 0.7755 - val_loss: 0.4162 - val_acc: 0.8160\n",
            "Epoch 5/100\n",
            "100/100 [==============================] - 18s 178ms/step - loss: 0.4787 - acc: 0.7785 - val_loss: 0.4072 - val_acc: 0.8160\n",
            "Epoch 6/100\n",
            "100/100 [==============================] - 19s 193ms/step - loss: 0.4569 - acc: 0.8035 - val_loss: 0.3736 - val_acc: 0.8340\n",
            "Epoch 7/100\n",
            "100/100 [==============================] - 19s 192ms/step - loss: 0.4412 - acc: 0.7965 - val_loss: 0.3747 - val_acc: 0.8370\n",
            "Epoch 8/100\n",
            "100/100 [==============================] - 18s 179ms/step - loss: 0.4343 - acc: 0.8030 - val_loss: 0.3476 - val_acc: 0.8480\n",
            "Epoch 9/100\n",
            "100/100 [==============================] - 18s 185ms/step - loss: 0.4205 - acc: 0.8085 - val_loss: 0.3554 - val_acc: 0.8480\n",
            "Epoch 10/100\n",
            "100/100 [==============================] - 18s 179ms/step - loss: 0.4056 - acc: 0.8290 - val_loss: 0.3317 - val_acc: 0.8600\n",
            "Epoch 11/100\n",
            "100/100 [==============================] - 19s 190ms/step - loss: 0.4098 - acc: 0.8105 - val_loss: 0.3473 - val_acc: 0.8490\n",
            "Epoch 12/100\n",
            "100/100 [==============================] - 18s 179ms/step - loss: 0.4116 - acc: 0.8165 - val_loss: 0.3167 - val_acc: 0.8630\n",
            "Epoch 13/100\n",
            "100/100 [==============================] - 18s 179ms/step - loss: 0.3977 - acc: 0.8165 - val_loss: 0.3116 - val_acc: 0.8650\n",
            "Epoch 14/100\n",
            "100/100 [==============================] - 18s 178ms/step - loss: 0.3870 - acc: 0.8250 - val_loss: 0.3112 - val_acc: 0.8670\n",
            "Epoch 15/100\n",
            "100/100 [==============================] - 18s 179ms/step - loss: 0.3791 - acc: 0.8305 - val_loss: 0.3122 - val_acc: 0.8690\n",
            "Epoch 16/100\n",
            "100/100 [==============================] - 19s 187ms/step - loss: 0.3865 - acc: 0.8255 - val_loss: 0.3016 - val_acc: 0.8660\n",
            "Epoch 17/100\n",
            "100/100 [==============================] - 18s 178ms/step - loss: 0.3877 - acc: 0.8220 - val_loss: 0.3049 - val_acc: 0.8670\n",
            "Epoch 18/100\n",
            "100/100 [==============================] - 18s 178ms/step - loss: 0.3808 - acc: 0.8310 - val_loss: 0.2989 - val_acc: 0.8680\n",
            "Epoch 19/100\n",
            "100/100 [==============================] - 18s 178ms/step - loss: 0.3744 - acc: 0.8385 - val_loss: 0.2930 - val_acc: 0.8650\n",
            "Epoch 20/100\n",
            "100/100 [==============================] - 19s 191ms/step - loss: 0.3722 - acc: 0.8270 - val_loss: 0.2983 - val_acc: 0.8740\n",
            "Epoch 21/100\n",
            "100/100 [==============================] - 18s 178ms/step - loss: 0.3542 - acc: 0.8570 - val_loss: 0.2864 - val_acc: 0.8740\n",
            "Epoch 22/100\n",
            "100/100 [==============================] - 18s 178ms/step - loss: 0.3692 - acc: 0.8320 - val_loss: 0.2843 - val_acc: 0.8770\n",
            "Epoch 23/100\n",
            "100/100 [==============================] - 19s 189ms/step - loss: 0.3595 - acc: 0.8445 - val_loss: 0.2880 - val_acc: 0.8740\n",
            "Epoch 24/100\n",
            "100/100 [==============================] - 18s 182ms/step - loss: 0.3588 - acc: 0.8450 - val_loss: 0.2824 - val_acc: 0.8800\n",
            "Epoch 25/100\n",
            "100/100 [==============================] - 18s 184ms/step - loss: 0.3559 - acc: 0.8490 - val_loss: 0.2808 - val_acc: 0.8780\n",
            "Epoch 26/100\n",
            "100/100 [==============================] - 18s 182ms/step - loss: 0.3491 - acc: 0.8505 - val_loss: 0.2778 - val_acc: 0.8760\n",
            "Epoch 27/100\n",
            "100/100 [==============================] - 18s 178ms/step - loss: 0.3599 - acc: 0.8375 - val_loss: 0.2879 - val_acc: 0.8710\n",
            "Epoch 28/100\n",
            "100/100 [==============================] - 18s 177ms/step - loss: 0.3492 - acc: 0.8500 - val_loss: 0.2750 - val_acc: 0.8840\n",
            "Epoch 29/100\n",
            "100/100 [==============================] - 19s 191ms/step - loss: 0.3422 - acc: 0.8550 - val_loss: 0.2730 - val_acc: 0.8880\n",
            "Epoch 30/100\n",
            "100/100 [==============================] - 18s 178ms/step - loss: 0.3432 - acc: 0.8425 - val_loss: 0.2733 - val_acc: 0.8830\n",
            "Epoch 31/100\n",
            "100/100 [==============================] - 18s 179ms/step - loss: 0.3447 - acc: 0.8495 - val_loss: 0.2719 - val_acc: 0.8870\n",
            "Epoch 32/100\n",
            "100/100 [==============================] - 18s 178ms/step - loss: 0.3439 - acc: 0.8455 - val_loss: 0.2825 - val_acc: 0.8760\n",
            "Epoch 33/100\n",
            "100/100 [==============================] - 18s 184ms/step - loss: 0.3397 - acc: 0.8595 - val_loss: 0.2818 - val_acc: 0.8780\n",
            "Epoch 34/100\n",
            "100/100 [==============================] - 18s 181ms/step - loss: 0.3481 - acc: 0.8420 - val_loss: 0.2752 - val_acc: 0.8820\n",
            "Epoch 35/100\n",
            "100/100 [==============================] - 18s 180ms/step - loss: 0.3368 - acc: 0.8455 - val_loss: 0.2673 - val_acc: 0.8890\n",
            "Epoch 36/100\n",
            "100/100 [==============================] - 18s 178ms/step - loss: 0.3416 - acc: 0.8535 - val_loss: 0.2643 - val_acc: 0.8870\n",
            "Epoch 37/100\n",
            "100/100 [==============================] - 18s 179ms/step - loss: 0.3260 - acc: 0.8635 - val_loss: 0.2614 - val_acc: 0.8860\n",
            "Epoch 38/100\n",
            "100/100 [==============================] - 19s 191ms/step - loss: 0.3280 - acc: 0.8570 - val_loss: 0.2624 - val_acc: 0.8860\n",
            "Epoch 39/100\n",
            "100/100 [==============================] - 18s 179ms/step - loss: 0.3358 - acc: 0.8550 - val_loss: 0.2617 - val_acc: 0.8870\n",
            "Epoch 40/100\n",
            "100/100 [==============================] - 19s 187ms/step - loss: 0.3293 - acc: 0.8525 - val_loss: 0.2616 - val_acc: 0.8870\n",
            "Epoch 41/100\n",
            "100/100 [==============================] - 18s 182ms/step - loss: 0.3302 - acc: 0.8560 - val_loss: 0.2600 - val_acc: 0.8880\n",
            "Epoch 42/100\n",
            "100/100 [==============================] - 19s 189ms/step - loss: 0.3236 - acc: 0.8590 - val_loss: 0.2621 - val_acc: 0.8880\n",
            "Epoch 43/100\n",
            "100/100 [==============================] - 18s 180ms/step - loss: 0.3298 - acc: 0.8555 - val_loss: 0.2595 - val_acc: 0.8890\n",
            "Epoch 44/100\n",
            "100/100 [==============================] - 18s 177ms/step - loss: 0.3288 - acc: 0.8615 - val_loss: 0.2602 - val_acc: 0.8900\n",
            "Epoch 45/100\n",
            "100/100 [==============================] - 18s 179ms/step - loss: 0.3388 - acc: 0.8505 - val_loss: 0.2656 - val_acc: 0.8840\n",
            "Epoch 46/100\n",
            "100/100 [==============================] - 18s 177ms/step - loss: 0.3055 - acc: 0.8765 - val_loss: 0.2570 - val_acc: 0.8880\n",
            "Epoch 47/100\n",
            "100/100 [==============================] - 19s 189ms/step - loss: 0.3258 - acc: 0.8545 - val_loss: 0.2633 - val_acc: 0.8850\n",
            "Epoch 48/100\n",
            "100/100 [==============================] - 18s 178ms/step - loss: 0.3286 - acc: 0.8595 - val_loss: 0.2694 - val_acc: 0.8860\n",
            "Epoch 49/100\n",
            "100/100 [==============================] - 18s 179ms/step - loss: 0.3123 - acc: 0.8685 - val_loss: 0.2585 - val_acc: 0.8870\n",
            "Epoch 50/100\n",
            "100/100 [==============================] - 18s 178ms/step - loss: 0.3313 - acc: 0.8575 - val_loss: 0.2661 - val_acc: 0.8830\n",
            "Epoch 51/100\n",
            "100/100 [==============================] - 19s 191ms/step - loss: 0.3202 - acc: 0.8575 - val_loss: 0.2635 - val_acc: 0.8890\n",
            "Epoch 52/100\n",
            "100/100 [==============================] - 18s 178ms/step - loss: 0.3158 - acc: 0.8565 - val_loss: 0.2846 - val_acc: 0.8770\n",
            "Epoch 53/100\n",
            "100/100 [==============================] - 18s 179ms/step - loss: 0.3225 - acc: 0.8530 - val_loss: 0.2547 - val_acc: 0.8880\n",
            "Epoch 54/100\n",
            "100/100 [==============================] - 18s 178ms/step - loss: 0.3145 - acc: 0.8685 - val_loss: 0.2537 - val_acc: 0.8860\n",
            "Epoch 55/100\n",
            "100/100 [==============================] - 18s 179ms/step - loss: 0.3199 - acc: 0.8625 - val_loss: 0.2627 - val_acc: 0.8840\n",
            "Epoch 56/100\n",
            "100/100 [==============================] - 19s 186ms/step - loss: 0.3112 - acc: 0.8660 - val_loss: 0.2603 - val_acc: 0.8820\n",
            "Epoch 57/100\n",
            "100/100 [==============================] - 18s 184ms/step - loss: 0.3114 - acc: 0.8635 - val_loss: 0.2736 - val_acc: 0.8830\n",
            "Epoch 58/100\n",
            "100/100 [==============================] - 18s 184ms/step - loss: 0.3180 - acc: 0.8575 - val_loss: 0.2714 - val_acc: 0.8870\n",
            "Epoch 59/100\n",
            "100/100 [==============================] - 19s 186ms/step - loss: 0.3182 - acc: 0.8590 - val_loss: 0.2604 - val_acc: 0.8900\n",
            "Epoch 60/100\n",
            "100/100 [==============================] - 19s 191ms/step - loss: 0.3141 - acc: 0.8625 - val_loss: 0.2584 - val_acc: 0.8910\n",
            "Epoch 61/100\n",
            "100/100 [==============================] - 18s 178ms/step - loss: 0.3168 - acc: 0.8610 - val_loss: 0.2524 - val_acc: 0.8870\n",
            "Epoch 62/100\n",
            "100/100 [==============================] - 18s 177ms/step - loss: 0.3150 - acc: 0.8620 - val_loss: 0.2556 - val_acc: 0.8930\n",
            "Epoch 63/100\n",
            "100/100 [==============================] - 18s 177ms/step - loss: 0.3032 - acc: 0.8660 - val_loss: 0.2648 - val_acc: 0.8920\n",
            "Epoch 64/100\n",
            "100/100 [==============================] - 18s 184ms/step - loss: 0.3146 - acc: 0.8540 - val_loss: 0.2524 - val_acc: 0.8880\n",
            "Epoch 65/100\n",
            "100/100 [==============================] - 18s 181ms/step - loss: 0.3095 - acc: 0.8645 - val_loss: 0.2624 - val_acc: 0.8910\n",
            "Epoch 66/100\n",
            "100/100 [==============================] - 18s 177ms/step - loss: 0.3147 - acc: 0.8640 - val_loss: 0.2738 - val_acc: 0.8870\n",
            "Epoch 67/100\n",
            "100/100 [==============================] - 18s 177ms/step - loss: 0.3132 - acc: 0.8695 - val_loss: 0.2544 - val_acc: 0.8880\n",
            "Epoch 68/100\n",
            "100/100 [==============================] - 18s 178ms/step - loss: 0.3115 - acc: 0.8550 - val_loss: 0.2511 - val_acc: 0.8900\n",
            "Epoch 69/100\n",
            "100/100 [==============================] - 19s 191ms/step - loss: 0.3005 - acc: 0.8745 - val_loss: 0.2512 - val_acc: 0.8870\n",
            "Epoch 70/100\n",
            "100/100 [==============================] - 18s 178ms/step - loss: 0.2989 - acc: 0.8665 - val_loss: 0.2528 - val_acc: 0.8890\n",
            "Epoch 71/100\n",
            "100/100 [==============================] - 18s 177ms/step - loss: 0.3140 - acc: 0.8605 - val_loss: 0.2730 - val_acc: 0.8870\n",
            "Epoch 72/100\n",
            "100/100 [==============================] - 18s 177ms/step - loss: 0.3054 - acc: 0.8720 - val_loss: 0.2719 - val_acc: 0.8890\n",
            "Epoch 73/100\n",
            "100/100 [==============================] - 19s 185ms/step - loss: 0.2984 - acc: 0.8715 - val_loss: 0.2518 - val_acc: 0.8820\n",
            "Epoch 74/100\n",
            "100/100 [==============================] - 18s 180ms/step - loss: 0.3036 - acc: 0.8660 - val_loss: 0.2684 - val_acc: 0.8930\n",
            "Epoch 75/100\n",
            "100/100 [==============================] - 19s 187ms/step - loss: 0.3079 - acc: 0.8710 - val_loss: 0.2569 - val_acc: 0.8850\n",
            "Epoch 76/100\n",
            "100/100 [==============================] - 19s 185ms/step - loss: 0.2978 - acc: 0.8705 - val_loss: 0.2570 - val_acc: 0.8880\n",
            "Epoch 77/100\n",
            "100/100 [==============================] - 18s 181ms/step - loss: 0.3037 - acc: 0.8665 - val_loss: 0.2518 - val_acc: 0.8840\n",
            "Epoch 78/100\n",
            "100/100 [==============================] - 19s 188ms/step - loss: 0.3035 - acc: 0.8715 - val_loss: 0.2973 - val_acc: 0.8720\n",
            "Epoch 79/100\n",
            "100/100 [==============================] - 18s 178ms/step - loss: 0.3058 - acc: 0.8645 - val_loss: 0.2485 - val_acc: 0.8820\n",
            "Epoch 80/100\n",
            "100/100 [==============================] - 18s 178ms/step - loss: 0.3050 - acc: 0.8685 - val_loss: 0.2511 - val_acc: 0.8910\n",
            "Epoch 81/100\n",
            "100/100 [==============================] - 18s 177ms/step - loss: 0.2938 - acc: 0.8715 - val_loss: 0.2633 - val_acc: 0.8870\n",
            "Epoch 82/100\n",
            "100/100 [==============================] - 19s 192ms/step - loss: 0.2983 - acc: 0.8730 - val_loss: 0.2512 - val_acc: 0.8830\n",
            "Epoch 83/100\n",
            "100/100 [==============================] - 18s 177ms/step - loss: 0.3001 - acc: 0.8700 - val_loss: 0.2645 - val_acc: 0.8920\n",
            "Epoch 84/100\n",
            "100/100 [==============================] - 18s 178ms/step - loss: 0.3143 - acc: 0.8580 - val_loss: 0.2478 - val_acc: 0.8860\n",
            "Epoch 85/100\n",
            "100/100 [==============================] - 18s 177ms/step - loss: 0.2902 - acc: 0.8675 - val_loss: 0.2685 - val_acc: 0.8890\n",
            "Epoch 86/100\n",
            "100/100 [==============================] - 18s 177ms/step - loss: 0.2933 - acc: 0.8775 - val_loss: 0.2490 - val_acc: 0.8880\n",
            "Epoch 87/100\n",
            "100/100 [==============================] - 19s 187ms/step - loss: 0.3044 - acc: 0.8655 - val_loss: 0.2466 - val_acc: 0.8860\n",
            "Epoch 88/100\n",
            "100/100 [==============================] - 18s 177ms/step - loss: 0.3110 - acc: 0.8645 - val_loss: 0.2471 - val_acc: 0.8850\n",
            "Epoch 89/100\n",
            "100/100 [==============================] - 18s 178ms/step - loss: 0.3029 - acc: 0.8690 - val_loss: 0.2913 - val_acc: 0.8770\n",
            "Epoch 90/100\n",
            "100/100 [==============================] - 18s 178ms/step - loss: 0.3073 - acc: 0.8710 - val_loss: 0.2523 - val_acc: 0.8890\n",
            "Epoch 91/100\n",
            "100/100 [==============================] - 19s 191ms/step - loss: 0.2864 - acc: 0.8745 - val_loss: 0.2476 - val_acc: 0.8860\n",
            "Epoch 92/100\n",
            "100/100 [==============================] - 19s 189ms/step - loss: 0.2958 - acc: 0.8715 - val_loss: 0.2695 - val_acc: 0.8850\n",
            "Epoch 93/100\n",
            "100/100 [==============================] - 19s 185ms/step - loss: 0.3103 - acc: 0.8620 - val_loss: 0.2456 - val_acc: 0.8880\n",
            "Epoch 94/100\n",
            "100/100 [==============================] - 18s 177ms/step - loss: 0.2930 - acc: 0.8745 - val_loss: 0.2563 - val_acc: 0.8880\n",
            "Epoch 95/100\n",
            "100/100 [==============================] - 18s 183ms/step - loss: 0.2868 - acc: 0.8740 - val_loss: 0.2717 - val_acc: 0.8850\n",
            "Epoch 96/100\n",
            "100/100 [==============================] - 18s 181ms/step - loss: 0.2918 - acc: 0.8755 - val_loss: 0.2610 - val_acc: 0.8920\n",
            "Epoch 97/100\n",
            "100/100 [==============================] - 18s 177ms/step - loss: 0.2827 - acc: 0.8770 - val_loss: 0.2455 - val_acc: 0.8880\n",
            "Epoch 98/100\n",
            "100/100 [==============================] - 18s 177ms/step - loss: 0.2904 - acc: 0.8745 - val_loss: 0.2547 - val_acc: 0.8850\n",
            "Epoch 99/100\n",
            "100/100 [==============================] - 18s 177ms/step - loss: 0.3016 - acc: 0.8705 - val_loss: 0.2415 - val_acc: 0.8880\n",
            "Epoch 100/100\n",
            "100/100 [==============================] - 19s 192ms/step - loss: 0.2929 - acc: 0.8725 - val_loss: 0.2484 - val_acc: 0.8880\n"
          ],
          "name": "stdout"
        }
      ]
    },
    {
      "metadata": {
        "id": "pPY-CjjIwW11",
        "colab_type": "code",
        "colab": {
          "base_uri": "https://localhost:8080/",
          "height": 545
        },
        "outputId": "9bf9a81e-aeac-4826-f081-8211e4fdff1e"
      },
      "cell_type": "code",
      "source": [
        "import matplotlib.pyplot as plt\n",
        "\n",
        "acc = history.history['acc']\n",
        "val_acc = history.history['val_acc']\n",
        "\n",
        "loss = history.history['loss']\n",
        "val_loss = history.history['val_loss']\n",
        "\n",
        "epochs = range(1, len(acc) + 1)\n",
        "\n",
        "# training and validation accuracy\n",
        "\n",
        "plt.plot(epochs, acc, 'bo', label='training acc')\n",
        "plt.plot(epochs, val_acc, 'b', label='validation acc')\n",
        "plt.title('training and validation accuracy')\n",
        "plt.legend()\n",
        "\n",
        "plt.figure()\n",
        "\n",
        "# training and validation loss\n",
        "\n",
        "plt.plot(epochs, loss, 'bo', label='training loss')\n",
        "plt.plot(epochs, val_loss, 'b', label='validation loss')\n",
        "plt.title('training and validation loss')\n",
        "plt.legend()\n",
        "\n",
        "plt.show()"
      ],
      "execution_count": 16,
      "outputs": [
        {
          "output_type": "display_data",
          "data": {
            "image/png": "[encoded data removed]",
            "text/plain": [
              "<Figure size 432x288 with 1 Axes>"
            ]
          },
          "metadata": {
            "tags": []
          }
        },
        {
          "output_type": "display_data",
          "data": {
            "image/png": "[encoded data removed]",
            "text/plain": [
              "<Figure size 432x288 with 1 Axes>"
            ]
          },
          "metadata": {
            "tags": []
          }
        }
      ]
    },
    {
      "metadata": {
        "id": "h1aVoQdB8KlZ",
        "colab_type": "code",
        "colab": {}
      },
      "cell_type": "code",
      "source": [
        "val_loss, val_acc = model.evaluate_generator(validation_generator, steps=50)"
      ],
      "execution_count": 0,
      "outputs": []
    },
    {
      "metadata": {
        "id": "A5BEPqyP8N6x",
        "colab_type": "code",
        "colab": {
          "base_uri": "https://localhost:8080/",
          "height": 51
        },
        "outputId": "07023a7d-9248-4bf0-cb46-1880b706cffd"
      },
      "cell_type": "code",
      "source": [
        "print(\"Validation loss:\", val_loss)\n",
        "print(\"Validation accuracy:\", val_acc)"
      ],
      "execution_count": 18,
      "outputs": [
        {
          "output_type": "stream",
          "text": [
            "Validation loss: 0.255029411688447\n",
            "Validation accuracy: 0.8919999945163727\n"
          ],
          "name": "stdout"
        }
      ]
    },
    {
      "metadata": {
        "id": "CjdINE7W8UES",
        "colab_type": "code",
        "colab": {}
      },
      "cell_type": "code",
      "source": [
        "model_fname = 'cats_and_dogs_prob1.h5' \n",
        "model.save(model_fname)"
      ],
      "execution_count": 0,
      "outputs": []
    },
    {
      "metadata": {
        "id": "kkeSp2rI8b9O",
        "colab_type": "code",
        "colab": {}
      },
      "cell_type": "code",
      "source": [
        "from google.colab import files\n",
        "\n",
        "with open(model_fname, 'r') as f:\n",
        "  files.download(model_fname)"
      ],
      "execution_count": 0,
      "outputs": []
    },
    {
      "metadata": {
        "id": "-vXw3eEtS6DL",
        "colab_type": "text"
      },
      "cell_type": "markdown",
      "source": [
        "## Problem 2\n",
        "\n",
        "Do fine-tuning with data augmentation. "
      ]
    },
    {
      "metadata": {
        "id": "SdTURZSnWFIB",
        "colab_type": "code",
        "colab": {}
      },
      "cell_type": "code",
      "source": [
        "conv_base.trainable = True\n",
        "\n",
        "set_trainable = False\n",
        "for layer in conv_base.layers:\n",
        "  if layer.name == 'block5_conv1':\n",
        "    set_trainable = True\n",
        "  if set_trainable:\n",
        "    layer.trainable = True\n",
        "  else:\n",
        "    layer.trainable = False"
      ],
      "execution_count": 0,
      "outputs": []
    },
    {
      "metadata": {
        "id": "KX231I2_9urA",
        "colab_type": "code",
        "colab": {
          "base_uri": "https://localhost:8080/",
          "height": 272
        },
        "outputId": "8e103729-137e-41b2-c996-3a09bc99f7d4"
      },
      "cell_type": "code",
      "source": [
        "from keras import layers\n",
        "from keras import models\n",
        "from keras import optimizers\n",
        "\n",
        "model2 = models.Sequential()\n",
        "model2.add(conv_base)\n",
        "model2.add(layers.Flatten())\n",
        "model2.add(layers.Dense(256, activation='relu'))\n",
        "# no dropout\n",
        "model2.add(layers.Dense(1, activation='sigmoid'))\n",
        "model2.summary()"
      ],
      "execution_count": 29,
      "outputs": [
        {
          "output_type": "stream",
          "text": [
            "_________________________________________________________________\n",
            "Layer (type)                 Output Shape              Param #   \n",
            "=================================================================\n",
            "vgg19 (Model)                (None, 4, 4, 512)         20024384  \n",
            "_________________________________________________________________\n",
            "flatten_4 (Flatten)          (None, 8192)              0         \n",
            "_________________________________________________________________\n",
            "dense_7 (Dense)              (None, 256)               2097408   \n",
            "_________________________________________________________________\n",
            "dense_8 (Dense)              (None, 1)                 257       \n",
            "=================================================================\n",
            "Total params: 22,122,049\n",
            "Trainable params: 11,536,897\n",
            "Non-trainable params: 10,585,152\n",
            "_________________________________________________________________\n"
          ],
          "name": "stdout"
        }
      ]
    },
    {
      "metadata": {
        "id": "LK0g24WNDiXo",
        "colab_type": "code",
        "colab": {
          "base_uri": "https://localhost:8080/",
          "height": 3417
        },
        "outputId": "c7207eb9-9b95-4725-e8e5-8bcfa3f79de4"
      },
      "cell_type": "code",
      "source": [
        "# compile model\n",
        "\n",
        "model2.compile(\n",
        "    loss='binary_crossentropy',\n",
        "    #\n",
        "    # choose a smaller learning rate\n",
        "    #\n",
        "    optimizer=optimizers.RMSprop(lr=1e-5), \n",
        "    metrics=['acc'])\n",
        "\n",
        "# train\n",
        "history = model2.fit_generator(\n",
        "    train_generator,\n",
        "    steps_per_epoch=100,\n",
        "    epochs=100,\n",
        "    validation_data=validation_generator,\n",
        "    validation_steps=50)"
      ],
      "execution_count": 30,
      "outputs": [
        {
          "output_type": "stream",
          "text": [
            "Epoch 1/100\n",
            "100/100 [==============================] - 21s 206ms/step - loss: 0.5409 - acc: 0.7320 - val_loss: 0.3513 - val_acc: 0.8420\n",
            "Epoch 2/100\n",
            "100/100 [==============================] - 19s 189ms/step - loss: 0.3734 - acc: 0.8240 - val_loss: 0.3345 - val_acc: 0.8510\n",
            "Epoch 3/100\n",
            "100/100 [==============================] - 20s 201ms/step - loss: 0.3140 - acc: 0.8615 - val_loss: 0.2767 - val_acc: 0.8810\n",
            "Epoch 4/100\n",
            "100/100 [==============================] - 19s 188ms/step - loss: 0.2991 - acc: 0.8750 - val_loss: 0.2032 - val_acc: 0.9090\n",
            "Epoch 5/100\n",
            "100/100 [==============================] - 19s 195ms/step - loss: 0.2520 - acc: 0.8910 - val_loss: 0.2330 - val_acc: 0.9130\n",
            "Epoch 6/100\n",
            "100/100 [==============================] - 19s 194ms/step - loss: 0.2556 - acc: 0.8915 - val_loss: 0.1871 - val_acc: 0.9220\n",
            "Epoch 7/100\n",
            "100/100 [==============================] - 20s 202ms/step - loss: 0.2288 - acc: 0.9005 - val_loss: 0.2426 - val_acc: 0.9090\n",
            "Epoch 8/100\n",
            "100/100 [==============================] - 19s 188ms/step - loss: 0.2260 - acc: 0.9015 - val_loss: 0.2328 - val_acc: 0.9050\n",
            "Epoch 9/100\n",
            "100/100 [==============================] - 19s 188ms/step - loss: 0.2121 - acc: 0.9150 - val_loss: 0.1854 - val_acc: 0.9210\n",
            "Epoch 10/100\n",
            "100/100 [==============================] - 20s 201ms/step - loss: 0.1940 - acc: 0.9200 - val_loss: 0.1759 - val_acc: 0.9260\n",
            "Epoch 11/100\n",
            "100/100 [==============================] - 20s 202ms/step - loss: 0.2029 - acc: 0.9215 - val_loss: 0.1811 - val_acc: 0.9280\n",
            "Epoch 12/100\n",
            "100/100 [==============================] - 19s 188ms/step - loss: 0.1733 - acc: 0.9315 - val_loss: 0.2129 - val_acc: 0.9200\n",
            "Epoch 13/100\n",
            "100/100 [==============================] - 19s 188ms/step - loss: 0.1743 - acc: 0.9295 - val_loss: 0.2008 - val_acc: 0.9240\n",
            "Epoch 14/100\n",
            "100/100 [==============================] - 19s 189ms/step - loss: 0.1555 - acc: 0.9375 - val_loss: 0.1640 - val_acc: 0.9340\n",
            "Epoch 15/100\n",
            "100/100 [==============================] - 20s 200ms/step - loss: 0.1543 - acc: 0.9355 - val_loss: 0.1883 - val_acc: 0.9330\n",
            "Epoch 16/100\n",
            "100/100 [==============================] - 19s 191ms/step - loss: 0.1541 - acc: 0.9375 - val_loss: 0.1822 - val_acc: 0.9380\n",
            "Epoch 17/100\n",
            "100/100 [==============================] - 19s 190ms/step - loss: 0.1465 - acc: 0.9370 - val_loss: 0.2356 - val_acc: 0.9220\n",
            "Epoch 18/100\n",
            "100/100 [==============================] - 19s 192ms/step - loss: 0.1276 - acc: 0.9465 - val_loss: 0.4106 - val_acc: 0.8730\n",
            "Epoch 19/100\n",
            "100/100 [==============================] - 19s 194ms/step - loss: 0.1359 - acc: 0.9450 - val_loss: 0.1548 - val_acc: 0.9390\n",
            "Epoch 20/100\n",
            "100/100 [==============================] - 20s 195ms/step - loss: 0.1348 - acc: 0.9425 - val_loss: 0.1638 - val_acc: 0.9350\n",
            "Epoch 21/100\n",
            "100/100 [==============================] - 19s 195ms/step - loss: 0.1195 - acc: 0.9565 - val_loss: 0.2846 - val_acc: 0.9130\n",
            "Epoch 22/100\n",
            "100/100 [==============================] - 19s 192ms/step - loss: 0.1114 - acc: 0.9530 - val_loss: 0.1941 - val_acc: 0.9420\n",
            "Epoch 23/100\n",
            "100/100 [==============================] - 19s 190ms/step - loss: 0.1070 - acc: 0.9575 - val_loss: 0.1836 - val_acc: 0.9350\n",
            "Epoch 24/100\n",
            "100/100 [==============================] - 20s 198ms/step - loss: 0.0998 - acc: 0.9630 - val_loss: 0.1863 - val_acc: 0.9420\n",
            "Epoch 25/100\n",
            "100/100 [==============================] - 19s 192ms/step - loss: 0.1074 - acc: 0.9570 - val_loss: 0.1720 - val_acc: 0.9430\n",
            "Epoch 26/100\n",
            "100/100 [==============================] - 20s 204ms/step - loss: 0.0935 - acc: 0.9640 - val_loss: 0.1997 - val_acc: 0.9410\n",
            "Epoch 27/100\n",
            "100/100 [==============================] - 19s 192ms/step - loss: 0.0885 - acc: 0.9655 - val_loss: 0.2369 - val_acc: 0.9200\n",
            "Epoch 28/100\n",
            "100/100 [==============================] - 20s 201ms/step - loss: 0.0955 - acc: 0.9640 - val_loss: 0.1541 - val_acc: 0.9540\n",
            "Epoch 29/100\n",
            "100/100 [==============================] - 19s 193ms/step - loss: 0.0862 - acc: 0.9655 - val_loss: 0.1792 - val_acc: 0.9360\n",
            "Epoch 30/100\n",
            "100/100 [==============================] - 19s 193ms/step - loss: 0.0972 - acc: 0.9615 - val_loss: 0.1907 - val_acc: 0.9410\n",
            "Epoch 31/100\n",
            "100/100 [==============================] - 19s 193ms/step - loss: 0.0906 - acc: 0.9640 - val_loss: 0.1666 - val_acc: 0.9590\n",
            "Epoch 32/100\n",
            "100/100 [==============================] - 20s 203ms/step - loss: 0.0807 - acc: 0.9690 - val_loss: 0.2135 - val_acc: 0.9350\n",
            "Epoch 33/100\n",
            "100/100 [==============================] - 19s 193ms/step - loss: 0.0905 - acc: 0.9660 - val_loss: 0.2185 - val_acc: 0.9360\n",
            "Epoch 34/100\n",
            "100/100 [==============================] - 19s 193ms/step - loss: 0.0846 - acc: 0.9690 - val_loss: 0.2334 - val_acc: 0.9330\n",
            "Epoch 35/100\n",
            "100/100 [==============================] - 19s 191ms/step - loss: 0.0784 - acc: 0.9695 - val_loss: 0.2686 - val_acc: 0.9250\n",
            "Epoch 36/100\n",
            "100/100 [==============================] - 21s 207ms/step - loss: 0.0718 - acc: 0.9700 - val_loss: 0.1656 - val_acc: 0.9550\n",
            "Epoch 37/100\n",
            "100/100 [==============================] - 19s 189ms/step - loss: 0.0775 - acc: 0.9755 - val_loss: 0.2088 - val_acc: 0.9410\n",
            "Epoch 38/100\n",
            "100/100 [==============================] - 19s 191ms/step - loss: 0.0649 - acc: 0.9760 - val_loss: 0.1639 - val_acc: 0.9360\n",
            "Epoch 39/100\n",
            "100/100 [==============================] - 19s 193ms/step - loss: 0.0706 - acc: 0.9745 - val_loss: 0.2185 - val_acc: 0.9430\n",
            "Epoch 40/100\n",
            "100/100 [==============================] - 20s 202ms/step - loss: 0.0625 - acc: 0.9740 - val_loss: 0.1990 - val_acc: 0.9380\n",
            "Epoch 41/100\n",
            "100/100 [==============================] - 19s 190ms/step - loss: 0.0660 - acc: 0.9715 - val_loss: 0.3527 - val_acc: 0.9190\n",
            "Epoch 42/100\n",
            "100/100 [==============================] - 20s 204ms/step - loss: 0.0637 - acc: 0.9745 - val_loss: 0.2150 - val_acc: 0.9430\n",
            "Epoch 43/100\n",
            "100/100 [==============================] - 19s 191ms/step - loss: 0.0670 - acc: 0.9755 - val_loss: 0.2414 - val_acc: 0.9300\n",
            "Epoch 44/100\n",
            "100/100 [==============================] - 20s 200ms/step - loss: 0.0596 - acc: 0.9795 - val_loss: 0.1888 - val_acc: 0.9490\n",
            "Epoch 45/100\n",
            "100/100 [==============================] - 19s 190ms/step - loss: 0.0622 - acc: 0.9760 - val_loss: 0.2198 - val_acc: 0.9480\n",
            "Epoch 46/100\n",
            "100/100 [==============================] - 19s 190ms/step - loss: 0.0448 - acc: 0.9840 - val_loss: 0.2274 - val_acc: 0.9440\n",
            "Epoch 47/100\n",
            "100/100 [==============================] - 19s 190ms/step - loss: 0.0654 - acc: 0.9780 - val_loss: 0.1983 - val_acc: 0.9530\n",
            "Epoch 48/100\n",
            "100/100 [==============================] - 20s 195ms/step - loss: 0.0451 - acc: 0.9825 - val_loss: 0.1687 - val_acc: 0.9530\n",
            "Epoch 49/100\n",
            "100/100 [==============================] - 19s 193ms/step - loss: 0.0470 - acc: 0.9795 - val_loss: 0.2964 - val_acc: 0.9300\n",
            "Epoch 50/100\n",
            "100/100 [==============================] - 19s 189ms/step - loss: 0.0611 - acc: 0.9785 - val_loss: 0.3695 - val_acc: 0.9210\n",
            "Epoch 51/100\n",
            "100/100 [==============================] - 19s 189ms/step - loss: 0.0412 - acc: 0.9860 - val_loss: 0.2800 - val_acc: 0.9370\n",
            "Epoch 52/100\n",
            "100/100 [==============================] - 20s 198ms/step - loss: 0.0476 - acc: 0.9870 - val_loss: 0.3068 - val_acc: 0.9210\n",
            "Epoch 53/100\n",
            "100/100 [==============================] - 20s 196ms/step - loss: 0.0503 - acc: 0.9805 - val_loss: 0.2751 - val_acc: 0.9360\n",
            "Epoch 54/100\n",
            "100/100 [==============================] - 19s 189ms/step - loss: 0.0479 - acc: 0.9790 - val_loss: 0.2604 - val_acc: 0.9430\n",
            "Epoch 55/100\n",
            "100/100 [==============================] - 19s 189ms/step - loss: 0.0400 - acc: 0.9885 - val_loss: 0.3042 - val_acc: 0.9370\n",
            "Epoch 56/100\n",
            "100/100 [==============================] - 19s 189ms/step - loss: 0.0345 - acc: 0.9885 - val_loss: 0.2740 - val_acc: 0.9270\n",
            "Epoch 57/100\n",
            "100/100 [==============================] - 20s 200ms/step - loss: 0.0342 - acc: 0.9845 - val_loss: 0.3311 - val_acc: 0.9300\n",
            "Epoch 58/100\n",
            "100/100 [==============================] - 20s 203ms/step - loss: 0.0392 - acc: 0.9860 - val_loss: 0.3189 - val_acc: 0.9220\n",
            "Epoch 59/100\n",
            "100/100 [==============================] - 19s 190ms/step - loss: 0.0515 - acc: 0.9805 - val_loss: 0.3993 - val_acc: 0.9250\n",
            "Epoch 60/100\n",
            "100/100 [==============================] - 19s 189ms/step - loss: 0.0344 - acc: 0.9865 - val_loss: 0.3192 - val_acc: 0.9240\n",
            "Epoch 61/100\n",
            "100/100 [==============================] - 20s 201ms/step - loss: 0.0387 - acc: 0.9860 - val_loss: 0.3245 - val_acc: 0.9370\n",
            "Epoch 62/100\n",
            "100/100 [==============================] - 19s 189ms/step - loss: 0.0358 - acc: 0.9860 - val_loss: 0.2903 - val_acc: 0.9420\n",
            "Epoch 63/100\n",
            "100/100 [==============================] - 19s 188ms/step - loss: 0.0424 - acc: 0.9835 - val_loss: 0.3987 - val_acc: 0.9230\n",
            "Epoch 64/100\n",
            "100/100 [==============================] - 19s 188ms/step - loss: 0.0330 - acc: 0.9905 - val_loss: 0.2647 - val_acc: 0.9390\n",
            "Epoch 65/100\n",
            "100/100 [==============================] - 20s 201ms/step - loss: 0.0373 - acc: 0.9880 - val_loss: 0.5317 - val_acc: 0.9090\n",
            "Epoch 66/100\n",
            "100/100 [==============================] - 19s 188ms/step - loss: 0.0259 - acc: 0.9910 - val_loss: 0.2967 - val_acc: 0.9320\n",
            "Epoch 67/100\n",
            "100/100 [==============================] - 19s 189ms/step - loss: 0.0348 - acc: 0.9875 - val_loss: 0.3196 - val_acc: 0.9340\n",
            "Epoch 68/100\n",
            "100/100 [==============================] - 20s 195ms/step - loss: 0.0359 - acc: 0.9850 - val_loss: 0.6115 - val_acc: 0.9070\n",
            "Epoch 69/100\n",
            "100/100 [==============================] - 20s 197ms/step - loss: 0.0311 - acc: 0.9870 - val_loss: 0.3766 - val_acc: 0.9370\n",
            "Epoch 70/100\n",
            "100/100 [==============================] - 19s 190ms/step - loss: 0.0244 - acc: 0.9915 - val_loss: 0.2631 - val_acc: 0.9460\n",
            "Epoch 71/100\n",
            "100/100 [==============================] - 19s 188ms/step - loss: 0.0352 - acc: 0.9880 - val_loss: 0.4604 - val_acc: 0.9120\n",
            "Epoch 72/100\n",
            "100/100 [==============================] - 19s 189ms/step - loss: 0.0379 - acc: 0.9845 - val_loss: 0.2376 - val_acc: 0.9450\n",
            "Epoch 73/100\n",
            "100/100 [==============================] - 19s 193ms/step - loss: 0.0374 - acc: 0.9895 - val_loss: 0.2435 - val_acc: 0.9460\n",
            "Epoch 74/100\n",
            "100/100 [==============================] - 20s 204ms/step - loss: 0.0324 - acc: 0.9875 - val_loss: 0.3221 - val_acc: 0.9360\n",
            "Epoch 75/100\n",
            "100/100 [==============================] - 19s 190ms/step - loss: 0.0293 - acc: 0.9875 - val_loss: 0.3406 - val_acc: 0.9310\n",
            "Epoch 76/100\n",
            "100/100 [==============================] - 19s 188ms/step - loss: 0.0318 - acc: 0.9865 - val_loss: 0.4660 - val_acc: 0.9200\n",
            "Epoch 77/100\n",
            "100/100 [==============================] - 19s 188ms/step - loss: 0.0397 - acc: 0.9870 - val_loss: 0.3176 - val_acc: 0.9430\n",
            "Epoch 78/100\n",
            "100/100 [==============================] - 20s 198ms/step - loss: 0.0329 - acc: 0.9870 - val_loss: 0.2679 - val_acc: 0.9360\n",
            "Epoch 79/100\n",
            "100/100 [==============================] - 19s 189ms/step - loss: 0.0251 - acc: 0.9900 - val_loss: 0.3205 - val_acc: 0.9400\n",
            "Epoch 80/100\n",
            "100/100 [==============================] - 19s 190ms/step - loss: 0.0252 - acc: 0.9935 - val_loss: 0.2793 - val_acc: 0.9440\n",
            "Epoch 81/100\n",
            "100/100 [==============================] - 19s 190ms/step - loss: 0.0304 - acc: 0.9885 - val_loss: 0.3158 - val_acc: 0.9400\n",
            "Epoch 82/100\n",
            "100/100 [==============================] - 20s 200ms/step - loss: 0.0267 - acc: 0.9880 - val_loss: 0.5958 - val_acc: 0.9060\n",
            "Epoch 83/100\n",
            "100/100 [==============================] - 19s 189ms/step - loss: 0.0338 - acc: 0.9900 - val_loss: 0.2847 - val_acc: 0.9470\n",
            "Epoch 84/100\n",
            "100/100 [==============================] - 20s 199ms/step - loss: 0.0259 - acc: 0.9920 - val_loss: 0.2546 - val_acc: 0.9480\n",
            "Epoch 85/100\n",
            "100/100 [==============================] - 19s 192ms/step - loss: 0.0168 - acc: 0.9940 - val_loss: 0.3656 - val_acc: 0.9290\n",
            "Epoch 86/100\n",
            "100/100 [==============================] - 20s 203ms/step - loss: 0.0367 - acc: 0.9870 - val_loss: 0.3268 - val_acc: 0.9450\n",
            "Epoch 87/100\n",
            "100/100 [==============================] - 19s 191ms/step - loss: 0.0222 - acc: 0.9925 - val_loss: 0.2864 - val_acc: 0.9450\n",
            "Epoch 88/100\n",
            "100/100 [==============================] - 19s 189ms/step - loss: 0.0268 - acc: 0.9910 - val_loss: 0.2644 - val_acc: 0.9510\n",
            "Epoch 89/100\n",
            "100/100 [==============================] - 19s 190ms/step - loss: 0.0316 - acc: 0.9900 - val_loss: 0.2872 - val_acc: 0.9380\n",
            "Epoch 90/100\n",
            "100/100 [==============================] - 20s 202ms/step - loss: 0.0390 - acc: 0.9915 - val_loss: 0.3184 - val_acc: 0.9400\n",
            "Epoch 91/100\n",
            "100/100 [==============================] - 19s 192ms/step - loss: 0.0280 - acc: 0.9900 - val_loss: 0.2984 - val_acc: 0.9490\n",
            "Epoch 92/100\n",
            "100/100 [==============================] - 19s 190ms/step - loss: 0.0177 - acc: 0.9930 - val_loss: 0.4674 - val_acc: 0.9260\n",
            "Epoch 93/100\n",
            "100/100 [==============================] - 19s 189ms/step - loss: 0.0196 - acc: 0.9910 - val_loss: 0.3410 - val_acc: 0.9440\n",
            "Epoch 94/100\n",
            "100/100 [==============================] - 20s 197ms/step - loss: 0.0222 - acc: 0.9910 - val_loss: 0.3761 - val_acc: 0.9280\n",
            "Epoch 95/100\n",
            "100/100 [==============================] - 19s 192ms/step - loss: 0.0221 - acc: 0.9920 - val_loss: 0.4443 - val_acc: 0.9290\n",
            "Epoch 96/100\n",
            "100/100 [==============================] - 19s 189ms/step - loss: 0.0245 - acc: 0.9925 - val_loss: 0.2733 - val_acc: 0.9430\n",
            "Epoch 97/100\n",
            "100/100 [==============================] - 19s 189ms/step - loss: 0.0121 - acc: 0.9950 - val_loss: 0.3386 - val_acc: 0.9380\n",
            "Epoch 98/100\n",
            "100/100 [==============================] - 19s 193ms/step - loss: 0.0253 - acc: 0.9940 - val_loss: 0.3249 - val_acc: 0.9510\n",
            "Epoch 99/100\n",
            "100/100 [==============================] - 19s 195ms/step - loss: 0.0191 - acc: 0.9935 - val_loss: 0.4062 - val_acc: 0.9330\n",
            "Epoch 100/100\n",
            "100/100 [==============================] - 19s 193ms/step - loss: 0.0272 - acc: 0.9920 - val_loss: 0.3207 - val_acc: 0.9460\n"
          ],
          "name": "stdout"
        }
      ]
    },
    {
      "metadata": {
        "id": "ZyfYL6csN37L",
        "colab_type": "code",
        "colab": {
          "base_uri": "https://localhost:8080/",
          "height": 545
        },
        "outputId": "9694c011-21c1-4d84-e884-c390711072f6"
      },
      "cell_type": "code",
      "source": [
        "import matplotlib.pyplot as plt\n",
        "\n",
        "acc = history.history['acc']\n",
        "val_acc = history.history['val_acc']\n",
        "\n",
        "loss = history.history['loss']\n",
        "val_loss = history.history['val_loss']\n",
        "\n",
        "epochs = range(1, len(acc) + 1)\n",
        "\n",
        "# training and validation accuracy\n",
        "\n",
        "plt.plot(epochs, acc, 'bo', label='training acc')\n",
        "plt.plot(epochs, val_acc, 'b', label='validation acc')\n",
        "plt.title('training and validation accuracy')\n",
        "plt.legend()\n",
        "\n",
        "plt.figure()\n",
        "\n",
        "# training and validation loss\n",
        "\n",
        "plt.plot(epochs, loss, 'bo', label='training loss')\n",
        "plt.plot(epochs, val_loss, 'b', label='validation loss')\n",
        "plt.title('training and validation loss')\n",
        "plt.legend()\n",
        "\n",
        "plt.show()"
      ],
      "execution_count": 31,
      "outputs": [
        {
          "output_type": "display_data",
          "data": {
            "image/png": "[encoded data removed]",
            "text/plain": [
              "<Figure size 432x288 with 1 Axes>"
            ]
          },
          "metadata": {
            "tags": []
          }
        },
        {
          "output_type": "display_data",
          "data": {
            "image/png": "[encoded data removed]",
            "text/plain": [
              "<Figure size 432x288 with 1 Axes>"
            ]
          },
          "metadata": {
            "tags": []
          }
        }
      ]
    },
    {
      "metadata": {
        "id": "H4BX1BmYS6RC",
        "colab_type": "text"
      },
      "cell_type": "markdown",
      "source": [
        "## Problem 3\n",
        "\n",
        "Visualize heatmaps of class activation for the the model obtained in Problem 2.\n"
      ]
    },
    {
      "metadata": {
        "id": "wZWSm1HKS6dc",
        "colab_type": "text"
      },
      "cell_type": "markdown",
      "source": [
        "## Problem 4\n",
        "\n",
        "Build an activation model that takes as input an image and produces as output the activation of the last conv layer of the model obtained in Problem 2. Using this activation model obtain the corresponding activations for the validation images. Apply t-SNE visualization to these activations to see how well the convnet separates cats from dogs."
      ]
    },
    {
      "metadata": {
        "id": "2v5ZtmHOSZCF",
        "colab_type": "code",
        "colab": {}
      },
      "cell_type": "code",
      "source": [
        ""
      ],
      "execution_count": 0,
      "outputs": []
    }
  ]
}